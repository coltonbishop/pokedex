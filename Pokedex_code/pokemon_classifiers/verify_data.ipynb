{
  "nbformat": 4,
  "nbformat_minor": 0,
  "metadata": {
    "colab": {
      "name": "verify_data.ipynb",
      "provenance": [],
      "include_colab_link": true
    },
    "kernelspec": {
      "name": "python3",
      "display_name": "Python 3"
    },
    "accelerator": "GPU"
  },
  "cells": [
    {
      "cell_type": "markdown",
      "metadata": {
        "id": "view-in-github",
        "colab_type": "text"
      },
      "source": [
        "<a href=\"https://colab.research.google.com/github/pulkitsingh/Pokedex/blob/master/verify_data.ipynb\" target=\"_parent\"><img src=\"https://colab.research.google.com/assets/colab-badge.svg\" alt=\"Open In Colab\"/></a>"
      ]
    },
    {
      "cell_type": "code",
      "metadata": {
        "id": "S621NksmcZlQ",
        "colab_type": "code",
        "outputId": "f7e53e5d-62f6-47aa-df73-0612b931bff4",
        "colab": {
          "base_uri": "https://localhost:8080/",
          "height": 122
        }
      },
      "source": [
        "# mounting google drive\n",
        "from google.colab import drive\n",
        "drive.mount('/content/gdrive')"
      ],
      "execution_count": 2,
      "outputs": [
        {
          "output_type": "stream",
          "text": [
            "Go to this URL in a browser: https://accounts.google.com/o/oauth2/auth?client_id=947318989803-6bn6qk8qdgf4n4g3pfee6491hc0brc4i.apps.googleusercontent.com&redirect_uri=urn%3aietf%3awg%3aoauth%3a2.0%3aoob&response_type=code&scope=email%20https%3a%2f%2fwww.googleapis.com%2fauth%2fdocs.test%20https%3a%2f%2fwww.googleapis.com%2fauth%2fdrive%20https%3a%2f%2fwww.googleapis.com%2fauth%2fdrive.photos.readonly%20https%3a%2f%2fwww.googleapis.com%2fauth%2fpeopleapi.readonly\n",
            "\n",
            "Enter your authorization code:\n",
            "··········\n",
            "Mounted at /content/gdrive\n"
          ],
          "name": "stdout"
        }
      ]
    },
    {
      "cell_type": "code",
      "metadata": {
        "id": "bcTUKBfMbo2J",
        "colab_type": "code",
        "outputId": "94959166-4d56-4358-c343-c885a8888b5e",
        "colab": {
          "base_uri": "https://localhost:8080/",
          "height": 34
        }
      },
      "source": [
        "# swtiching to relevant directory\n",
        "cd gdrive/My\\ Drive\n"
      ],
      "execution_count": 3,
      "outputs": [
        {
          "output_type": "stream",
          "text": [
            "/content/gdrive/My Drive\n"
          ],
          "name": "stdout"
        }
      ]
    },
    {
      "cell_type": "code",
      "metadata": {
        "id": "E6KYamK3k2qP",
        "colab_type": "code",
        "colab": {}
      },
      "source": [
        "import os\n",
        "from PIL import Image"
      ],
      "execution_count": 0,
      "outputs": []
    },
    {
      "cell_type": "code",
      "metadata": {
        "id": "WqLlcD4-mRb4",
        "colab_type": "code",
        "colab": {}
      },
      "source": [
        "# function to open image and verify readability\n",
        "def verify_image(file):\n",
        "  try:\n",
        "    image = Image.open(file)\n",
        "    image.verify()\n",
        "    return True\n",
        "  except OSError:\n",
        "    return False"
      ],
      "execution_count": 0,
      "outputs": []
    },
    {
      "cell_type": "code",
      "metadata": {
        "id": "BxVe_D6-leuP",
        "colab_type": "code",
        "colab": {
          "base_uri": "https://localhost:8080/",
          "height": 1000
        },
        "outputId": "9581d70d-aa4f-4a19-8635-c43bc4dd6cc8"
      },
      "source": [
        "to_delete = []\n",
        "counter = 0\n",
        "\n",
        "# for each pokemon in the data\n",
        "dir_path = 'balanced_data_clean/train'\n",
        "for pokemon in os.listdir(dir_path):\n",
        "  if pokemon[0] != '.':\n",
        "\n",
        "    # keeping track of progress\n",
        "    print(\"{}/149: {}\".format(counter, pokemon))\n",
        "    counter += 1\n",
        "\n",
        "    # checking each image file\n",
        "    pokemon_path = os.path.join(path, pokemon)\n",
        "    for image in os.listdir(pokemon_path):\n",
        "\n",
        "      # if the file is not readable\n",
        "      current = os.path.join(pokemon_path, image)\n",
        "      if not verify_image(current):\n",
        "\n",
        "        # adding it to deletion list\n",
        "        to_delete.append(current)\n"
      ],
      "execution_count": 27,
      "outputs": [
        {
          "output_type": "stream",
          "text": [
            "0/149: Charizard\n",
            "1/149: Nidoqueen\n",
            "2/149: Farfetchd\n",
            "3/149: Nidorina\n",
            "4/149: Poliwhirl\n",
            "5/149: Lickitung\n",
            "6/149: Rhydon\n",
            "7/149: Venomoth\n",
            "8/149: Nidorino\n",
            "9/149: Dragonite\n",
            "10/149: Dratini\n",
            "11/149: Cubone\n",
            "12/149: Exeggcute\n",
            "13/149: Hitmonlee\n",
            "14/149: Arbok\n",
            "15/149: Paras\n",
            "16/149: Kakuna\n",
            "17/149: Golem\n",
            "18/149: MrMime\n",
            "19/149: Ekans\n",
            "20/149: Jynx\n",
            "21/149: Caterpie\n",
            "22/149: Tangela\n",
            "23/149: Slowbro\n",
            "24/149: Mew\n",
            "25/149: Grimer\n",
            "26/149: Persian\n",
            "27/149: Psyduck\n",
            "28/149: Nidoking\n",
            "29/149: Pidgey\n",
            "30/149: Dewgong\n",
            "31/149: Electabuzz\n",
            "32/149: Exeggutor\n",
            "33/149: Tauros\n",
            "34/149: Wartortle\n",
            "35/149: Dodrio\n",
            "36/149: Meowth\n",
            "37/149: Omastar\n",
            "38/149: Parasect\n",
            "39/149: Ponyta\n",
            "40/149: Growlithe\n",
            "41/149: Bulbasaur\n",
            "42/149: Poliwrath\n",
            "43/149: Slowpoke\n",
            "44/149: Oddish\n",
            "45/149: Horsea\n",
            "46/149: Lapras\n",
            "47/149: Dugtrio\n",
            "48/149: Ditto\n",
            "49/149: Tentacool\n",
            "50/149: Geodude\n",
            "51/149: Machoke\n",
            "52/149: Raticate\n",
            "53/149: Vulpix\n",
            "54/149: Porygon\n",
            "55/149: Machop\n",
            "56/149: Moltres\n",
            "57/149: Koffing\n",
            "58/149: Pidgeot\n",
            "59/149: Kabutops\n",
            "60/149: Golduck\n",
            "61/149: Aerodactyl\n",
            "62/149: Haunter\n",
            "63/149: Wigglytuff\n",
            "64/149: Rhyhorn\n",
            "65/149: Seadra\n",
            "66/149: Weezing\n",
            "67/149: Blastoise\n",
            "68/149: Golbat\n",
            "69/149: Mewtwo\n",
            "70/149: Hitmonchan\n",
            "71/149: Kabuto\n",
            "72/149: Fearow\n",
            "73/149: Pidgeotto\n",
            "74/149: Raichu\n",
            "75/149: Electrode\n",
            "76/149: Metapod\n",
            "77/149: Kangaskhan\n",
            "78/149: Magmar\n",
            "79/149: Beedrill\n",
            "80/149: Magnemite\n",
            "81/149: Ninetales\n",
            "82/149: Sandslash\n",
            "83/149: Starmie\n",
            "84/149: Butterfree\n",
            "85/149: Chansey\n",
            "86/149: Drowzee\n",
            "87/149: Krabby\n",
            "88/149: Ivysaur\n",
            "89/149: Venonat\n",
            "90/149: Victreebel\n",
            "91/149: Squirtle\n",
            "92/149: Weepinbell\n",
            "93/149: Charmander\n",
            "94/149: Staryu\n",
            "95/149: Dragonair\n",
            "96/149: Vaporeon\n",
            "97/149: Pikachu\n",
            "98/149: Voltorb\n",
            "99/149: Mankey\n",
            "100/149: Onix\n",
            "101/149: Gengar\n",
            "102/149: Diglett\n",
            "103/149: Primeape\n",
            "104/149: Gastly\n",
            "105/149: Rattata\n",
            "106/149: Cloyster\n",
            "107/149: Scyther\n",
            "108/149: Snorlax\n",
            "109/149: Charmeleon\n",
            "110/149: Articuno\n",
            "111/149: Arcanine\n",
            "112/149: Sandshrew\n",
            "113/149: Tentacruel\n",
            "114/149: Marowak\n",
            "115/149: Clefairy\n",
            "116/149: Gloom\n",
            "117/149: Spearow\n",
            "118/149: Vileplume\n",
            "119/149: Weedle\n",
            "120/149: Doduo\n",
            "121/149: Machamp\n",
            "122/149: Magikarp\n",
            "123/149: Muk\n",
            "124/149: Venusaur\n",
            "125/149: Seaking\n",
            "126/149: Jigglypuff\n",
            "127/149: Goldeen\n",
            "128/149: Flareon\n",
            "129/149: Pinsir\n",
            "130/149: Rapidash\n",
            "131/149: Poliwag\n",
            "132/149: Magneton\n",
            "133/149: Kingler\n",
            "134/149: Zubat\n",
            "135/149: Alakazam\n",
            "136/149: Graveler\n",
            "137/149: Abra\n",
            "138/149: Clefable\n",
            "139/149: Seel\n",
            "140/149: Gyarados\n",
            "141/149: Hypno\n",
            "142/149: Jolteon\n",
            "143/149: Shellder\n",
            "144/149: Zapdos\n",
            "145/149: Eevee\n",
            "146/149: Omanyte\n",
            "147/149: Bellsprout\n",
            "148/149: Kadabra\n"
          ],
          "name": "stdout"
        }
      ]
    },
    {
      "cell_type": "code",
      "metadata": {
        "id": "sWHWdXCIqYpH",
        "colab_type": "code",
        "colab": {
          "base_uri": "https://localhost:8080/",
          "height": 496
        },
        "outputId": "35331d6a-6810-4e15-f0a9-e3afffa7583d"
      },
      "source": [
        "for path in to_delete:\n",
        "  print(\"Removing {}\".format(path))\n",
        "  os.remove(path)"
      ],
      "execution_count": 30,
      "outputs": [
        {
          "output_type": "stream",
          "text": [
            "Removing ['balanced_data_clean/train/Nidoqueen/Nidoqueen_002.jpg', 'balanced_data_clean/train/Venomoth/Venomoth_074.jpg', 'balanced_data_clean/train/Dewgong/Dewgong_051.jpg', 'balanced_data_clean/train/Electabuzz/Electabuzz_012.jpg', 'balanced_data_clean/train/Exeggutor/Exeggutor_055.jpg', 'balanced_data_clean/train/Exeggutor/Exeggutor_087.jpg', 'balanced_data_clean/train/Omastar/Omastar_047.jpg', 'balanced_data_clean/train/Omastar/Omastar_043.jpg', 'balanced_data_clean/train/Growlithe/Growlithe_094.jpg', 'balanced_data_clean/train/Dugtrio/Dugtrio_021.jpg', 'balanced_data_clean/train/Kabutops/Kabutops_002.jpg', 'balanced_data_clean/train/Golduck/Golduck_068.jpg', 'balanced_data_clean/train/Haunter/Haunter_095.jpg', 'balanced_data_clean/train/Mewtwo/Mewtwo_067.jpg', 'balanced_data_clean/train/Fearow/Fearow_033.jpg', 'balanced_data_clean/train/Fearow/Fearow_063.jpg', 'balanced_data_clean/train/Pidgeotto/Pidgeotto_024.jpg', 'balanced_data_clean/train/Ninetales/.DS_Store', 'balanced_data_clean/train/Scyther/Scyther_043.jpg', 'balanced_data_clean/train/Machamp/Machamp_031.jpg', 'balanced_data_clean/train/Magneton/Magneton_025.jpg', 'balanced_data_clean/train/Kingler/Kingler_039.jpg', 'balanced_data_clean/train/Graveler/Graveler_077.jpg', 'balanced_data_clean/train/Clefable/Clefable_008.jpg', 'balanced_data_clean/train/Gyarados/Gyarados_045.jpg', 'balanced_data_clean/train/Hypno/Hypno_025.jpg', 'balanced_data_clean/train/Zapdos/Zapdos_069.jpg']\n",
            "Removing ['balanced_data_clean/train/Nidoqueen/Nidoqueen_002.jpg', 'balanced_data_clean/train/Venomoth/Venomoth_074.jpg', 'balanced_data_clean/train/Dewgong/Dewgong_051.jpg', 'balanced_data_clean/train/Electabuzz/Electabuzz_012.jpg', 'balanced_data_clean/train/Exeggutor/Exeggutor_055.jpg', 'balanced_data_clean/train/Exeggutor/Exeggutor_087.jpg', 'balanced_data_clean/train/Omastar/Omastar_047.jpg', 'balanced_data_clean/train/Omastar/Omastar_043.jpg', 'balanced_data_clean/train/Growlithe/Growlithe_094.jpg', 'balanced_data_clean/train/Dugtrio/Dugtrio_021.jpg', 'balanced_data_clean/train/Kabutops/Kabutops_002.jpg', 'balanced_data_clean/train/Golduck/Golduck_068.jpg', 'balanced_data_clean/train/Haunter/Haunter_095.jpg', 'balanced_data_clean/train/Mewtwo/Mewtwo_067.jpg', 'balanced_data_clean/train/Fearow/Fearow_033.jpg', 'balanced_data_clean/train/Fearow/Fearow_063.jpg', 'balanced_data_clean/train/Pidgeotto/Pidgeotto_024.jpg', 'balanced_data_clean/train/Ninetales/.DS_Store', 'balanced_data_clean/train/Scyther/Scyther_043.jpg', 'balanced_data_clean/train/Machamp/Machamp_031.jpg', 'balanced_data_clean/train/Magneton/Magneton_025.jpg', 'balanced_data_clean/train/Kingler/Kingler_039.jpg', 'balanced_data_clean/train/Graveler/Graveler_077.jpg', 'balanced_data_clean/train/Clefable/Clefable_008.jpg', 'balanced_data_clean/train/Gyarados/Gyarados_045.jpg', 'balanced_data_clean/train/Hypno/Hypno_025.jpg', 'balanced_data_clean/train/Zapdos/Zapdos_069.jpg']\n",
            "Removing ['balanced_data_clean/train/Nidoqueen/Nidoqueen_002.jpg', 'balanced_data_clean/train/Venomoth/Venomoth_074.jpg', 'balanced_data_clean/train/Dewgong/Dewgong_051.jpg', 'balanced_data_clean/train/Electabuzz/Electabuzz_012.jpg', 'balanced_data_clean/train/Exeggutor/Exeggutor_055.jpg', 'balanced_data_clean/train/Exeggutor/Exeggutor_087.jpg', 'balanced_data_clean/train/Omastar/Omastar_047.jpg', 'balanced_data_clean/train/Omastar/Omastar_043.jpg', 'balanced_data_clean/train/Growlithe/Growlithe_094.jpg', 'balanced_data_clean/train/Dugtrio/Dugtrio_021.jpg', 'balanced_data_clean/train/Kabutops/Kabutops_002.jpg', 'balanced_data_clean/train/Golduck/Golduck_068.jpg', 'balanced_data_clean/train/Haunter/Haunter_095.jpg', 'balanced_data_clean/train/Mewtwo/Mewtwo_067.jpg', 'balanced_data_clean/train/Fearow/Fearow_033.jpg', 'balanced_data_clean/train/Fearow/Fearow_063.jpg', 'balanced_data_clean/train/Pidgeotto/Pidgeotto_024.jpg', 'balanced_data_clean/train/Ninetales/.DS_Store', 'balanced_data_clean/train/Scyther/Scyther_043.jpg', 'balanced_data_clean/train/Machamp/Machamp_031.jpg', 'balanced_data_clean/train/Magneton/Magneton_025.jpg', 'balanced_data_clean/train/Kingler/Kingler_039.jpg', 'balanced_data_clean/train/Graveler/Graveler_077.jpg', 'balanced_data_clean/train/Clefable/Clefable_008.jpg', 'balanced_data_clean/train/Gyarados/Gyarados_045.jpg', 'balanced_data_clean/train/Hypno/Hypno_025.jpg', 'balanced_data_clean/train/Zapdos/Zapdos_069.jpg']\n",
            "Removing ['balanced_data_clean/train/Nidoqueen/Nidoqueen_002.jpg', 'balanced_data_clean/train/Venomoth/Venomoth_074.jpg', 'balanced_data_clean/train/Dewgong/Dewgong_051.jpg', 'balanced_data_clean/train/Electabuzz/Electabuzz_012.jpg', 'balanced_data_clean/train/Exeggutor/Exeggutor_055.jpg', 'balanced_data_clean/train/Exeggutor/Exeggutor_087.jpg', 'balanced_data_clean/train/Omastar/Omastar_047.jpg', 'balanced_data_clean/train/Omastar/Omastar_043.jpg', 'balanced_data_clean/train/Growlithe/Growlithe_094.jpg', 'balanced_data_clean/train/Dugtrio/Dugtrio_021.jpg', 'balanced_data_clean/train/Kabutops/Kabutops_002.jpg', 'balanced_data_clean/train/Golduck/Golduck_068.jpg', 'balanced_data_clean/train/Haunter/Haunter_095.jpg', 'balanced_data_clean/train/Mewtwo/Mewtwo_067.jpg', 'balanced_data_clean/train/Fearow/Fearow_033.jpg', 'balanced_data_clean/train/Fearow/Fearow_063.jpg', 'balanced_data_clean/train/Pidgeotto/Pidgeotto_024.jpg', 'balanced_data_clean/train/Ninetales/.DS_Store', 'balanced_data_clean/train/Scyther/Scyther_043.jpg', 'balanced_data_clean/train/Machamp/Machamp_031.jpg', 'balanced_data_clean/train/Magneton/Magneton_025.jpg', 'balanced_data_clean/train/Kingler/Kingler_039.jpg', 'balanced_data_clean/train/Graveler/Graveler_077.jpg', 'balanced_data_clean/train/Clefable/Clefable_008.jpg', 'balanced_data_clean/train/Gyarados/Gyarados_045.jpg', 'balanced_data_clean/train/Hypno/Hypno_025.jpg', 'balanced_data_clean/train/Zapdos/Zapdos_069.jpg']\n",
            "Removing ['balanced_data_clean/train/Nidoqueen/Nidoqueen_002.jpg', 'balanced_data_clean/train/Venomoth/Venomoth_074.jpg', 'balanced_data_clean/train/Dewgong/Dewgong_051.jpg', 'balanced_data_clean/train/Electabuzz/Electabuzz_012.jpg', 'balanced_data_clean/train/Exeggutor/Exeggutor_055.jpg', 'balanced_data_clean/train/Exeggutor/Exeggutor_087.jpg', 'balanced_data_clean/train/Omastar/Omastar_047.jpg', 'balanced_data_clean/train/Omastar/Omastar_043.jpg', 'balanced_data_clean/train/Growlithe/Growlithe_094.jpg', 'balanced_data_clean/train/Dugtrio/Dugtrio_021.jpg', 'balanced_data_clean/train/Kabutops/Kabutops_002.jpg', 'balanced_data_clean/train/Golduck/Golduck_068.jpg', 'balanced_data_clean/train/Haunter/Haunter_095.jpg', 'balanced_data_clean/train/Mewtwo/Mewtwo_067.jpg', 'balanced_data_clean/train/Fearow/Fearow_033.jpg', 'balanced_data_clean/train/Fearow/Fearow_063.jpg', 'balanced_data_clean/train/Pidgeotto/Pidgeotto_024.jpg', 'balanced_data_clean/train/Ninetales/.DS_Store', 'balanced_data_clean/train/Scyther/Scyther_043.jpg', 'balanced_data_clean/train/Machamp/Machamp_031.jpg', 'balanced_data_clean/train/Magneton/Magneton_025.jpg', 'balanced_data_clean/train/Kingler/Kingler_039.jpg', 'balanced_data_clean/train/Graveler/Graveler_077.jpg', 'balanced_data_clean/train/Clefable/Clefable_008.jpg', 'balanced_data_clean/train/Gyarados/Gyarados_045.jpg', 'balanced_data_clean/train/Hypno/Hypno_025.jpg', 'balanced_data_clean/train/Zapdos/Zapdos_069.jpg']\n",
            "Removing ['balanced_data_clean/train/Nidoqueen/Nidoqueen_002.jpg', 'balanced_data_clean/train/Venomoth/Venomoth_074.jpg', 'balanced_data_clean/train/Dewgong/Dewgong_051.jpg', 'balanced_data_clean/train/Electabuzz/Electabuzz_012.jpg', 'balanced_data_clean/train/Exeggutor/Exeggutor_055.jpg', 'balanced_data_clean/train/Exeggutor/Exeggutor_087.jpg', 'balanced_data_clean/train/Omastar/Omastar_047.jpg', 'balanced_data_clean/train/Omastar/Omastar_043.jpg', 'balanced_data_clean/train/Growlithe/Growlithe_094.jpg', 'balanced_data_clean/train/Dugtrio/Dugtrio_021.jpg', 'balanced_data_clean/train/Kabutops/Kabutops_002.jpg', 'balanced_data_clean/train/Golduck/Golduck_068.jpg', 'balanced_data_clean/train/Haunter/Haunter_095.jpg', 'balanced_data_clean/train/Mewtwo/Mewtwo_067.jpg', 'balanced_data_clean/train/Fearow/Fearow_033.jpg', 'balanced_data_clean/train/Fearow/Fearow_063.jpg', 'balanced_data_clean/train/Pidgeotto/Pidgeotto_024.jpg', 'balanced_data_clean/train/Ninetales/.DS_Store', 'balanced_data_clean/train/Scyther/Scyther_043.jpg', 'balanced_data_clean/train/Machamp/Machamp_031.jpg', 'balanced_data_clean/train/Magneton/Magneton_025.jpg', 'balanced_data_clean/train/Kingler/Kingler_039.jpg', 'balanced_data_clean/train/Graveler/Graveler_077.jpg', 'balanced_data_clean/train/Clefable/Clefable_008.jpg', 'balanced_data_clean/train/Gyarados/Gyarados_045.jpg', 'balanced_data_clean/train/Hypno/Hypno_025.jpg', 'balanced_data_clean/train/Zapdos/Zapdos_069.jpg']\n",
            "Removing ['balanced_data_clean/train/Nidoqueen/Nidoqueen_002.jpg', 'balanced_data_clean/train/Venomoth/Venomoth_074.jpg', 'balanced_data_clean/train/Dewgong/Dewgong_051.jpg', 'balanced_data_clean/train/Electabuzz/Electabuzz_012.jpg', 'balanced_data_clean/train/Exeggutor/Exeggutor_055.jpg', 'balanced_data_clean/train/Exeggutor/Exeggutor_087.jpg', 'balanced_data_clean/train/Omastar/Omastar_047.jpg', 'balanced_data_clean/train/Omastar/Omastar_043.jpg', 'balanced_data_clean/train/Growlithe/Growlithe_094.jpg', 'balanced_data_clean/train/Dugtrio/Dugtrio_021.jpg', 'balanced_data_clean/train/Kabutops/Kabutops_002.jpg', 'balanced_data_clean/train/Golduck/Golduck_068.jpg', 'balanced_data_clean/train/Haunter/Haunter_095.jpg', 'balanced_data_clean/train/Mewtwo/Mewtwo_067.jpg', 'balanced_data_clean/train/Fearow/Fearow_033.jpg', 'balanced_data_clean/train/Fearow/Fearow_063.jpg', 'balanced_data_clean/train/Pidgeotto/Pidgeotto_024.jpg', 'balanced_data_clean/train/Ninetales/.DS_Store', 'balanced_data_clean/train/Scyther/Scyther_043.jpg', 'balanced_data_clean/train/Machamp/Machamp_031.jpg', 'balanced_data_clean/train/Magneton/Magneton_025.jpg', 'balanced_data_clean/train/Kingler/Kingler_039.jpg', 'balanced_data_clean/train/Graveler/Graveler_077.jpg', 'balanced_data_clean/train/Clefable/Clefable_008.jpg', 'balanced_data_clean/train/Gyarados/Gyarados_045.jpg', 'balanced_data_clean/train/Hypno/Hypno_025.jpg', 'balanced_data_clean/train/Zapdos/Zapdos_069.jpg']\n",
            "Removing ['balanced_data_clean/train/Nidoqueen/Nidoqueen_002.jpg', 'balanced_data_clean/train/Venomoth/Venomoth_074.jpg', 'balanced_data_clean/train/Dewgong/Dewgong_051.jpg', 'balanced_data_clean/train/Electabuzz/Electabuzz_012.jpg', 'balanced_data_clean/train/Exeggutor/Exeggutor_055.jpg', 'balanced_data_clean/train/Exeggutor/Exeggutor_087.jpg', 'balanced_data_clean/train/Omastar/Omastar_047.jpg', 'balanced_data_clean/train/Omastar/Omastar_043.jpg', 'balanced_data_clean/train/Growlithe/Growlithe_094.jpg', 'balanced_data_clean/train/Dugtrio/Dugtrio_021.jpg', 'balanced_data_clean/train/Kabutops/Kabutops_002.jpg', 'balanced_data_clean/train/Golduck/Golduck_068.jpg', 'balanced_data_clean/train/Haunter/Haunter_095.jpg', 'balanced_data_clean/train/Mewtwo/Mewtwo_067.jpg', 'balanced_data_clean/train/Fearow/Fearow_033.jpg', 'balanced_data_clean/train/Fearow/Fearow_063.jpg', 'balanced_data_clean/train/Pidgeotto/Pidgeotto_024.jpg', 'balanced_data_clean/train/Ninetales/.DS_Store', 'balanced_data_clean/train/Scyther/Scyther_043.jpg', 'balanced_data_clean/train/Machamp/Machamp_031.jpg', 'balanced_data_clean/train/Magneton/Magneton_025.jpg', 'balanced_data_clean/train/Kingler/Kingler_039.jpg', 'balanced_data_clean/train/Graveler/Graveler_077.jpg', 'balanced_data_clean/train/Clefable/Clefable_008.jpg', 'balanced_data_clean/train/Gyarados/Gyarados_045.jpg', 'balanced_data_clean/train/Hypno/Hypno_025.jpg', 'balanced_data_clean/train/Zapdos/Zapdos_069.jpg']\n",
            "Removing ['balanced_data_clean/train/Nidoqueen/Nidoqueen_002.jpg', 'balanced_data_clean/train/Venomoth/Venomoth_074.jpg', 'balanced_data_clean/train/Dewgong/Dewgong_051.jpg', 'balanced_data_clean/train/Electabuzz/Electabuzz_012.jpg', 'balanced_data_clean/train/Exeggutor/Exeggutor_055.jpg', 'balanced_data_clean/train/Exeggutor/Exeggutor_087.jpg', 'balanced_data_clean/train/Omastar/Omastar_047.jpg', 'balanced_data_clean/train/Omastar/Omastar_043.jpg', 'balanced_data_clean/train/Growlithe/Growlithe_094.jpg', 'balanced_data_clean/train/Dugtrio/Dugtrio_021.jpg', 'balanced_data_clean/train/Kabutops/Kabutops_002.jpg', 'balanced_data_clean/train/Golduck/Golduck_068.jpg', 'balanced_data_clean/train/Haunter/Haunter_095.jpg', 'balanced_data_clean/train/Mewtwo/Mewtwo_067.jpg', 'balanced_data_clean/train/Fearow/Fearow_033.jpg', 'balanced_data_clean/train/Fearow/Fearow_063.jpg', 'balanced_data_clean/train/Pidgeotto/Pidgeotto_024.jpg', 'balanced_data_clean/train/Ninetales/.DS_Store', 'balanced_data_clean/train/Scyther/Scyther_043.jpg', 'balanced_data_clean/train/Machamp/Machamp_031.jpg', 'balanced_data_clean/train/Magneton/Magneton_025.jpg', 'balanced_data_clean/train/Kingler/Kingler_039.jpg', 'balanced_data_clean/train/Graveler/Graveler_077.jpg', 'balanced_data_clean/train/Clefable/Clefable_008.jpg', 'balanced_data_clean/train/Gyarados/Gyarados_045.jpg', 'balanced_data_clean/train/Hypno/Hypno_025.jpg', 'balanced_data_clean/train/Zapdos/Zapdos_069.jpg']\n",
            "Removing ['balanced_data_clean/train/Nidoqueen/Nidoqueen_002.jpg', 'balanced_data_clean/train/Venomoth/Venomoth_074.jpg', 'balanced_data_clean/train/Dewgong/Dewgong_051.jpg', 'balanced_data_clean/train/Electabuzz/Electabuzz_012.jpg', 'balanced_data_clean/train/Exeggutor/Exeggutor_055.jpg', 'balanced_data_clean/train/Exeggutor/Exeggutor_087.jpg', 'balanced_data_clean/train/Omastar/Omastar_047.jpg', 'balanced_data_clean/train/Omastar/Omastar_043.jpg', 'balanced_data_clean/train/Growlithe/Growlithe_094.jpg', 'balanced_data_clean/train/Dugtrio/Dugtrio_021.jpg', 'balanced_data_clean/train/Kabutops/Kabutops_002.jpg', 'balanced_data_clean/train/Golduck/Golduck_068.jpg', 'balanced_data_clean/train/Haunter/Haunter_095.jpg', 'balanced_data_clean/train/Mewtwo/Mewtwo_067.jpg', 'balanced_data_clean/train/Fearow/Fearow_033.jpg', 'balanced_data_clean/train/Fearow/Fearow_063.jpg', 'balanced_data_clean/train/Pidgeotto/Pidgeotto_024.jpg', 'balanced_data_clean/train/Ninetales/.DS_Store', 'balanced_data_clean/train/Scyther/Scyther_043.jpg', 'balanced_data_clean/train/Machamp/Machamp_031.jpg', 'balanced_data_clean/train/Magneton/Magneton_025.jpg', 'balanced_data_clean/train/Kingler/Kingler_039.jpg', 'balanced_data_clean/train/Graveler/Graveler_077.jpg', 'balanced_data_clean/train/Clefable/Clefable_008.jpg', 'balanced_data_clean/train/Gyarados/Gyarados_045.jpg', 'balanced_data_clean/train/Hypno/Hypno_025.jpg', 'balanced_data_clean/train/Zapdos/Zapdos_069.jpg']\n",
            "Removing ['balanced_data_clean/train/Nidoqueen/Nidoqueen_002.jpg', 'balanced_data_clean/train/Venomoth/Venomoth_074.jpg', 'balanced_data_clean/train/Dewgong/Dewgong_051.jpg', 'balanced_data_clean/train/Electabuzz/Electabuzz_012.jpg', 'balanced_data_clean/train/Exeggutor/Exeggutor_055.jpg', 'balanced_data_clean/train/Exeggutor/Exeggutor_087.jpg', 'balanced_data_clean/train/Omastar/Omastar_047.jpg', 'balanced_data_clean/train/Omastar/Omastar_043.jpg', 'balanced_data_clean/train/Growlithe/Growlithe_094.jpg', 'balanced_data_clean/train/Dugtrio/Dugtrio_021.jpg', 'balanced_data_clean/train/Kabutops/Kabutops_002.jpg', 'balanced_data_clean/train/Golduck/Golduck_068.jpg', 'balanced_data_clean/train/Haunter/Haunter_095.jpg', 'balanced_data_clean/train/Mewtwo/Mewtwo_067.jpg', 'balanced_data_clean/train/Fearow/Fearow_033.jpg', 'balanced_data_clean/train/Fearow/Fearow_063.jpg', 'balanced_data_clean/train/Pidgeotto/Pidgeotto_024.jpg', 'balanced_data_clean/train/Ninetales/.DS_Store', 'balanced_data_clean/train/Scyther/Scyther_043.jpg', 'balanced_data_clean/train/Machamp/Machamp_031.jpg', 'balanced_data_clean/train/Magneton/Magneton_025.jpg', 'balanced_data_clean/train/Kingler/Kingler_039.jpg', 'balanced_data_clean/train/Graveler/Graveler_077.jpg', 'balanced_data_clean/train/Clefable/Clefable_008.jpg', 'balanced_data_clean/train/Gyarados/Gyarados_045.jpg', 'balanced_data_clean/train/Hypno/Hypno_025.jpg', 'balanced_data_clean/train/Zapdos/Zapdos_069.jpg']\n",
            "Removing ['balanced_data_clean/train/Nidoqueen/Nidoqueen_002.jpg', 'balanced_data_clean/train/Venomoth/Venomoth_074.jpg', 'balanced_data_clean/train/Dewgong/Dewgong_051.jpg', 'balanced_data_clean/train/Electabuzz/Electabuzz_012.jpg', 'balanced_data_clean/train/Exeggutor/Exeggutor_055.jpg', 'balanced_data_clean/train/Exeggutor/Exeggutor_087.jpg', 'balanced_data_clean/train/Omastar/Omastar_047.jpg', 'balanced_data_clean/train/Omastar/Omastar_043.jpg', 'balanced_data_clean/train/Growlithe/Growlithe_094.jpg', 'balanced_data_clean/train/Dugtrio/Dugtrio_021.jpg', 'balanced_data_clean/train/Kabutops/Kabutops_002.jpg', 'balanced_data_clean/train/Golduck/Golduck_068.jpg', 'balanced_data_clean/train/Haunter/Haunter_095.jpg', 'balanced_data_clean/train/Mewtwo/Mewtwo_067.jpg', 'balanced_data_clean/train/Fearow/Fearow_033.jpg', 'balanced_data_clean/train/Fearow/Fearow_063.jpg', 'balanced_data_clean/train/Pidgeotto/Pidgeotto_024.jpg', 'balanced_data_clean/train/Ninetales/.DS_Store', 'balanced_data_clean/train/Scyther/Scyther_043.jpg', 'balanced_data_clean/train/Machamp/Machamp_031.jpg', 'balanced_data_clean/train/Magneton/Magneton_025.jpg', 'balanced_data_clean/train/Kingler/Kingler_039.jpg', 'balanced_data_clean/train/Graveler/Graveler_077.jpg', 'balanced_data_clean/train/Clefable/Clefable_008.jpg', 'balanced_data_clean/train/Gyarados/Gyarados_045.jpg', 'balanced_data_clean/train/Hypno/Hypno_025.jpg', 'balanced_data_clean/train/Zapdos/Zapdos_069.jpg']\n",
            "Removing ['balanced_data_clean/train/Nidoqueen/Nidoqueen_002.jpg', 'balanced_data_clean/train/Venomoth/Venomoth_074.jpg', 'balanced_data_clean/train/Dewgong/Dewgong_051.jpg', 'balanced_data_clean/train/Electabuzz/Electabuzz_012.jpg', 'balanced_data_clean/train/Exeggutor/Exeggutor_055.jpg', 'balanced_data_clean/train/Exeggutor/Exeggutor_087.jpg', 'balanced_data_clean/train/Omastar/Omastar_047.jpg', 'balanced_data_clean/train/Omastar/Omastar_043.jpg', 'balanced_data_clean/train/Growlithe/Growlithe_094.jpg', 'balanced_data_clean/train/Dugtrio/Dugtrio_021.jpg', 'balanced_data_clean/train/Kabutops/Kabutops_002.jpg', 'balanced_data_clean/train/Golduck/Golduck_068.jpg', 'balanced_data_clean/train/Haunter/Haunter_095.jpg', 'balanced_data_clean/train/Mewtwo/Mewtwo_067.jpg', 'balanced_data_clean/train/Fearow/Fearow_033.jpg', 'balanced_data_clean/train/Fearow/Fearow_063.jpg', 'balanced_data_clean/train/Pidgeotto/Pidgeotto_024.jpg', 'balanced_data_clean/train/Ninetales/.DS_Store', 'balanced_data_clean/train/Scyther/Scyther_043.jpg', 'balanced_data_clean/train/Machamp/Machamp_031.jpg', 'balanced_data_clean/train/Magneton/Magneton_025.jpg', 'balanced_data_clean/train/Kingler/Kingler_039.jpg', 'balanced_data_clean/train/Graveler/Graveler_077.jpg', 'balanced_data_clean/train/Clefable/Clefable_008.jpg', 'balanced_data_clean/train/Gyarados/Gyarados_045.jpg', 'balanced_data_clean/train/Hypno/Hypno_025.jpg', 'balanced_data_clean/train/Zapdos/Zapdos_069.jpg']\n",
            "Removing ['balanced_data_clean/train/Nidoqueen/Nidoqueen_002.jpg', 'balanced_data_clean/train/Venomoth/Venomoth_074.jpg', 'balanced_data_clean/train/Dewgong/Dewgong_051.jpg', 'balanced_data_clean/train/Electabuzz/Electabuzz_012.jpg', 'balanced_data_clean/train/Exeggutor/Exeggutor_055.jpg', 'balanced_data_clean/train/Exeggutor/Exeggutor_087.jpg', 'balanced_data_clean/train/Omastar/Omastar_047.jpg', 'balanced_data_clean/train/Omastar/Omastar_043.jpg', 'balanced_data_clean/train/Growlithe/Growlithe_094.jpg', 'balanced_data_clean/train/Dugtrio/Dugtrio_021.jpg', 'balanced_data_clean/train/Kabutops/Kabutops_002.jpg', 'balanced_data_clean/train/Golduck/Golduck_068.jpg', 'balanced_data_clean/train/Haunter/Haunter_095.jpg', 'balanced_data_clean/train/Mewtwo/Mewtwo_067.jpg', 'balanced_data_clean/train/Fearow/Fearow_033.jpg', 'balanced_data_clean/train/Fearow/Fearow_063.jpg', 'balanced_data_clean/train/Pidgeotto/Pidgeotto_024.jpg', 'balanced_data_clean/train/Ninetales/.DS_Store', 'balanced_data_clean/train/Scyther/Scyther_043.jpg', 'balanced_data_clean/train/Machamp/Machamp_031.jpg', 'balanced_data_clean/train/Magneton/Magneton_025.jpg', 'balanced_data_clean/train/Kingler/Kingler_039.jpg', 'balanced_data_clean/train/Graveler/Graveler_077.jpg', 'balanced_data_clean/train/Clefable/Clefable_008.jpg', 'balanced_data_clean/train/Gyarados/Gyarados_045.jpg', 'balanced_data_clean/train/Hypno/Hypno_025.jpg', 'balanced_data_clean/train/Zapdos/Zapdos_069.jpg']\n",
            "Removing ['balanced_data_clean/train/Nidoqueen/Nidoqueen_002.jpg', 'balanced_data_clean/train/Venomoth/Venomoth_074.jpg', 'balanced_data_clean/train/Dewgong/Dewgong_051.jpg', 'balanced_data_clean/train/Electabuzz/Electabuzz_012.jpg', 'balanced_data_clean/train/Exeggutor/Exeggutor_055.jpg', 'balanced_data_clean/train/Exeggutor/Exeggutor_087.jpg', 'balanced_data_clean/train/Omastar/Omastar_047.jpg', 'balanced_data_clean/train/Omastar/Omastar_043.jpg', 'balanced_data_clean/train/Growlithe/Growlithe_094.jpg', 'balanced_data_clean/train/Dugtrio/Dugtrio_021.jpg', 'balanced_data_clean/train/Kabutops/Kabutops_002.jpg', 'balanced_data_clean/train/Golduck/Golduck_068.jpg', 'balanced_data_clean/train/Haunter/Haunter_095.jpg', 'balanced_data_clean/train/Mewtwo/Mewtwo_067.jpg', 'balanced_data_clean/train/Fearow/Fearow_033.jpg', 'balanced_data_clean/train/Fearow/Fearow_063.jpg', 'balanced_data_clean/train/Pidgeotto/Pidgeotto_024.jpg', 'balanced_data_clean/train/Ninetales/.DS_Store', 'balanced_data_clean/train/Scyther/Scyther_043.jpg', 'balanced_data_clean/train/Machamp/Machamp_031.jpg', 'balanced_data_clean/train/Magneton/Magneton_025.jpg', 'balanced_data_clean/train/Kingler/Kingler_039.jpg', 'balanced_data_clean/train/Graveler/Graveler_077.jpg', 'balanced_data_clean/train/Clefable/Clefable_008.jpg', 'balanced_data_clean/train/Gyarados/Gyarados_045.jpg', 'balanced_data_clean/train/Hypno/Hypno_025.jpg', 'balanced_data_clean/train/Zapdos/Zapdos_069.jpg']\n",
            "Removing ['balanced_data_clean/train/Nidoqueen/Nidoqueen_002.jpg', 'balanced_data_clean/train/Venomoth/Venomoth_074.jpg', 'balanced_data_clean/train/Dewgong/Dewgong_051.jpg', 'balanced_data_clean/train/Electabuzz/Electabuzz_012.jpg', 'balanced_data_clean/train/Exeggutor/Exeggutor_055.jpg', 'balanced_data_clean/train/Exeggutor/Exeggutor_087.jpg', 'balanced_data_clean/train/Omastar/Omastar_047.jpg', 'balanced_data_clean/train/Omastar/Omastar_043.jpg', 'balanced_data_clean/train/Growlithe/Growlithe_094.jpg', 'balanced_data_clean/train/Dugtrio/Dugtrio_021.jpg', 'balanced_data_clean/train/Kabutops/Kabutops_002.jpg', 'balanced_data_clean/train/Golduck/Golduck_068.jpg', 'balanced_data_clean/train/Haunter/Haunter_095.jpg', 'balanced_data_clean/train/Mewtwo/Mewtwo_067.jpg', 'balanced_data_clean/train/Fearow/Fearow_033.jpg', 'balanced_data_clean/train/Fearow/Fearow_063.jpg', 'balanced_data_clean/train/Pidgeotto/Pidgeotto_024.jpg', 'balanced_data_clean/train/Ninetales/.DS_Store', 'balanced_data_clean/train/Scyther/Scyther_043.jpg', 'balanced_data_clean/train/Machamp/Machamp_031.jpg', 'balanced_data_clean/train/Magneton/Magneton_025.jpg', 'balanced_data_clean/train/Kingler/Kingler_039.jpg', 'balanced_data_clean/train/Graveler/Graveler_077.jpg', 'balanced_data_clean/train/Clefable/Clefable_008.jpg', 'balanced_data_clean/train/Gyarados/Gyarados_045.jpg', 'balanced_data_clean/train/Hypno/Hypno_025.jpg', 'balanced_data_clean/train/Zapdos/Zapdos_069.jpg']\n",
            "Removing ['balanced_data_clean/train/Nidoqueen/Nidoqueen_002.jpg', 'balanced_data_clean/train/Venomoth/Venomoth_074.jpg', 'balanced_data_clean/train/Dewgong/Dewgong_051.jpg', 'balanced_data_clean/train/Electabuzz/Electabuzz_012.jpg', 'balanced_data_clean/train/Exeggutor/Exeggutor_055.jpg', 'balanced_data_clean/train/Exeggutor/Exeggutor_087.jpg', 'balanced_data_clean/train/Omastar/Omastar_047.jpg', 'balanced_data_clean/train/Omastar/Omastar_043.jpg', 'balanced_data_clean/train/Growlithe/Growlithe_094.jpg', 'balanced_data_clean/train/Dugtrio/Dugtrio_021.jpg', 'balanced_data_clean/train/Kabutops/Kabutops_002.jpg', 'balanced_data_clean/train/Golduck/Golduck_068.jpg', 'balanced_data_clean/train/Haunter/Haunter_095.jpg', 'balanced_data_clean/train/Mewtwo/Mewtwo_067.jpg', 'balanced_data_clean/train/Fearow/Fearow_033.jpg', 'balanced_data_clean/train/Fearow/Fearow_063.jpg', 'balanced_data_clean/train/Pidgeotto/Pidgeotto_024.jpg', 'balanced_data_clean/train/Ninetales/.DS_Store', 'balanced_data_clean/train/Scyther/Scyther_043.jpg', 'balanced_data_clean/train/Machamp/Machamp_031.jpg', 'balanced_data_clean/train/Magneton/Magneton_025.jpg', 'balanced_data_clean/train/Kingler/Kingler_039.jpg', 'balanced_data_clean/train/Graveler/Graveler_077.jpg', 'balanced_data_clean/train/Clefable/Clefable_008.jpg', 'balanced_data_clean/train/Gyarados/Gyarados_045.jpg', 'balanced_data_clean/train/Hypno/Hypno_025.jpg', 'balanced_data_clean/train/Zapdos/Zapdos_069.jpg']\n",
            "Removing ['balanced_data_clean/train/Nidoqueen/Nidoqueen_002.jpg', 'balanced_data_clean/train/Venomoth/Venomoth_074.jpg', 'balanced_data_clean/train/Dewgong/Dewgong_051.jpg', 'balanced_data_clean/train/Electabuzz/Electabuzz_012.jpg', 'balanced_data_clean/train/Exeggutor/Exeggutor_055.jpg', 'balanced_data_clean/train/Exeggutor/Exeggutor_087.jpg', 'balanced_data_clean/train/Omastar/Omastar_047.jpg', 'balanced_data_clean/train/Omastar/Omastar_043.jpg', 'balanced_data_clean/train/Growlithe/Growlithe_094.jpg', 'balanced_data_clean/train/Dugtrio/Dugtrio_021.jpg', 'balanced_data_clean/train/Kabutops/Kabutops_002.jpg', 'balanced_data_clean/train/Golduck/Golduck_068.jpg', 'balanced_data_clean/train/Haunter/Haunter_095.jpg', 'balanced_data_clean/train/Mewtwo/Mewtwo_067.jpg', 'balanced_data_clean/train/Fearow/Fearow_033.jpg', 'balanced_data_clean/train/Fearow/Fearow_063.jpg', 'balanced_data_clean/train/Pidgeotto/Pidgeotto_024.jpg', 'balanced_data_clean/train/Ninetales/.DS_Store', 'balanced_data_clean/train/Scyther/Scyther_043.jpg', 'balanced_data_clean/train/Machamp/Machamp_031.jpg', 'balanced_data_clean/train/Magneton/Magneton_025.jpg', 'balanced_data_clean/train/Kingler/Kingler_039.jpg', 'balanced_data_clean/train/Graveler/Graveler_077.jpg', 'balanced_data_clean/train/Clefable/Clefable_008.jpg', 'balanced_data_clean/train/Gyarados/Gyarados_045.jpg', 'balanced_data_clean/train/Hypno/Hypno_025.jpg', 'balanced_data_clean/train/Zapdos/Zapdos_069.jpg']\n",
            "Removing ['balanced_data_clean/train/Nidoqueen/Nidoqueen_002.jpg', 'balanced_data_clean/train/Venomoth/Venomoth_074.jpg', 'balanced_data_clean/train/Dewgong/Dewgong_051.jpg', 'balanced_data_clean/train/Electabuzz/Electabuzz_012.jpg', 'balanced_data_clean/train/Exeggutor/Exeggutor_055.jpg', 'balanced_data_clean/train/Exeggutor/Exeggutor_087.jpg', 'balanced_data_clean/train/Omastar/Omastar_047.jpg', 'balanced_data_clean/train/Omastar/Omastar_043.jpg', 'balanced_data_clean/train/Growlithe/Growlithe_094.jpg', 'balanced_data_clean/train/Dugtrio/Dugtrio_021.jpg', 'balanced_data_clean/train/Kabutops/Kabutops_002.jpg', 'balanced_data_clean/train/Golduck/Golduck_068.jpg', 'balanced_data_clean/train/Haunter/Haunter_095.jpg', 'balanced_data_clean/train/Mewtwo/Mewtwo_067.jpg', 'balanced_data_clean/train/Fearow/Fearow_033.jpg', 'balanced_data_clean/train/Fearow/Fearow_063.jpg', 'balanced_data_clean/train/Pidgeotto/Pidgeotto_024.jpg', 'balanced_data_clean/train/Ninetales/.DS_Store', 'balanced_data_clean/train/Scyther/Scyther_043.jpg', 'balanced_data_clean/train/Machamp/Machamp_031.jpg', 'balanced_data_clean/train/Magneton/Magneton_025.jpg', 'balanced_data_clean/train/Kingler/Kingler_039.jpg', 'balanced_data_clean/train/Graveler/Graveler_077.jpg', 'balanced_data_clean/train/Clefable/Clefable_008.jpg', 'balanced_data_clean/train/Gyarados/Gyarados_045.jpg', 'balanced_data_clean/train/Hypno/Hypno_025.jpg', 'balanced_data_clean/train/Zapdos/Zapdos_069.jpg']\n",
            "Removing ['balanced_data_clean/train/Nidoqueen/Nidoqueen_002.jpg', 'balanced_data_clean/train/Venomoth/Venomoth_074.jpg', 'balanced_data_clean/train/Dewgong/Dewgong_051.jpg', 'balanced_data_clean/train/Electabuzz/Electabuzz_012.jpg', 'balanced_data_clean/train/Exeggutor/Exeggutor_055.jpg', 'balanced_data_clean/train/Exeggutor/Exeggutor_087.jpg', 'balanced_data_clean/train/Omastar/Omastar_047.jpg', 'balanced_data_clean/train/Omastar/Omastar_043.jpg', 'balanced_data_clean/train/Growlithe/Growlithe_094.jpg', 'balanced_data_clean/train/Dugtrio/Dugtrio_021.jpg', 'balanced_data_clean/train/Kabutops/Kabutops_002.jpg', 'balanced_data_clean/train/Golduck/Golduck_068.jpg', 'balanced_data_clean/train/Haunter/Haunter_095.jpg', 'balanced_data_clean/train/Mewtwo/Mewtwo_067.jpg', 'balanced_data_clean/train/Fearow/Fearow_033.jpg', 'balanced_data_clean/train/Fearow/Fearow_063.jpg', 'balanced_data_clean/train/Pidgeotto/Pidgeotto_024.jpg', 'balanced_data_clean/train/Ninetales/.DS_Store', 'balanced_data_clean/train/Scyther/Scyther_043.jpg', 'balanced_data_clean/train/Machamp/Machamp_031.jpg', 'balanced_data_clean/train/Magneton/Magneton_025.jpg', 'balanced_data_clean/train/Kingler/Kingler_039.jpg', 'balanced_data_clean/train/Graveler/Graveler_077.jpg', 'balanced_data_clean/train/Clefable/Clefable_008.jpg', 'balanced_data_clean/train/Gyarados/Gyarados_045.jpg', 'balanced_data_clean/train/Hypno/Hypno_025.jpg', 'balanced_data_clean/train/Zapdos/Zapdos_069.jpg']\n",
            "Removing ['balanced_data_clean/train/Nidoqueen/Nidoqueen_002.jpg', 'balanced_data_clean/train/Venomoth/Venomoth_074.jpg', 'balanced_data_clean/train/Dewgong/Dewgong_051.jpg', 'balanced_data_clean/train/Electabuzz/Electabuzz_012.jpg', 'balanced_data_clean/train/Exeggutor/Exeggutor_055.jpg', 'balanced_data_clean/train/Exeggutor/Exeggutor_087.jpg', 'balanced_data_clean/train/Omastar/Omastar_047.jpg', 'balanced_data_clean/train/Omastar/Omastar_043.jpg', 'balanced_data_clean/train/Growlithe/Growlithe_094.jpg', 'balanced_data_clean/train/Dugtrio/Dugtrio_021.jpg', 'balanced_data_clean/train/Kabutops/Kabutops_002.jpg', 'balanced_data_clean/train/Golduck/Golduck_068.jpg', 'balanced_data_clean/train/Haunter/Haunter_095.jpg', 'balanced_data_clean/train/Mewtwo/Mewtwo_067.jpg', 'balanced_data_clean/train/Fearow/Fearow_033.jpg', 'balanced_data_clean/train/Fearow/Fearow_063.jpg', 'balanced_data_clean/train/Pidgeotto/Pidgeotto_024.jpg', 'balanced_data_clean/train/Ninetales/.DS_Store', 'balanced_data_clean/train/Scyther/Scyther_043.jpg', 'balanced_data_clean/train/Machamp/Machamp_031.jpg', 'balanced_data_clean/train/Magneton/Magneton_025.jpg', 'balanced_data_clean/train/Kingler/Kingler_039.jpg', 'balanced_data_clean/train/Graveler/Graveler_077.jpg', 'balanced_data_clean/train/Clefable/Clefable_008.jpg', 'balanced_data_clean/train/Gyarados/Gyarados_045.jpg', 'balanced_data_clean/train/Hypno/Hypno_025.jpg', 'balanced_data_clean/train/Zapdos/Zapdos_069.jpg']\n",
            "Removing ['balanced_data_clean/train/Nidoqueen/Nidoqueen_002.jpg', 'balanced_data_clean/train/Venomoth/Venomoth_074.jpg', 'balanced_data_clean/train/Dewgong/Dewgong_051.jpg', 'balanced_data_clean/train/Electabuzz/Electabuzz_012.jpg', 'balanced_data_clean/train/Exeggutor/Exeggutor_055.jpg', 'balanced_data_clean/train/Exeggutor/Exeggutor_087.jpg', 'balanced_data_clean/train/Omastar/Omastar_047.jpg', 'balanced_data_clean/train/Omastar/Omastar_043.jpg', 'balanced_data_clean/train/Growlithe/Growlithe_094.jpg', 'balanced_data_clean/train/Dugtrio/Dugtrio_021.jpg', 'balanced_data_clean/train/Kabutops/Kabutops_002.jpg', 'balanced_data_clean/train/Golduck/Golduck_068.jpg', 'balanced_data_clean/train/Haunter/Haunter_095.jpg', 'balanced_data_clean/train/Mewtwo/Mewtwo_067.jpg', 'balanced_data_clean/train/Fearow/Fearow_033.jpg', 'balanced_data_clean/train/Fearow/Fearow_063.jpg', 'balanced_data_clean/train/Pidgeotto/Pidgeotto_024.jpg', 'balanced_data_clean/train/Ninetales/.DS_Store', 'balanced_data_clean/train/Scyther/Scyther_043.jpg', 'balanced_data_clean/train/Machamp/Machamp_031.jpg', 'balanced_data_clean/train/Magneton/Magneton_025.jpg', 'balanced_data_clean/train/Kingler/Kingler_039.jpg', 'balanced_data_clean/train/Graveler/Graveler_077.jpg', 'balanced_data_clean/train/Clefable/Clefable_008.jpg', 'balanced_data_clean/train/Gyarados/Gyarados_045.jpg', 'balanced_data_clean/train/Hypno/Hypno_025.jpg', 'balanced_data_clean/train/Zapdos/Zapdos_069.jpg']\n",
            "Removing ['balanced_data_clean/train/Nidoqueen/Nidoqueen_002.jpg', 'balanced_data_clean/train/Venomoth/Venomoth_074.jpg', 'balanced_data_clean/train/Dewgong/Dewgong_051.jpg', 'balanced_data_clean/train/Electabuzz/Electabuzz_012.jpg', 'balanced_data_clean/train/Exeggutor/Exeggutor_055.jpg', 'balanced_data_clean/train/Exeggutor/Exeggutor_087.jpg', 'balanced_data_clean/train/Omastar/Omastar_047.jpg', 'balanced_data_clean/train/Omastar/Omastar_043.jpg', 'balanced_data_clean/train/Growlithe/Growlithe_094.jpg', 'balanced_data_clean/train/Dugtrio/Dugtrio_021.jpg', 'balanced_data_clean/train/Kabutops/Kabutops_002.jpg', 'balanced_data_clean/train/Golduck/Golduck_068.jpg', 'balanced_data_clean/train/Haunter/Haunter_095.jpg', 'balanced_data_clean/train/Mewtwo/Mewtwo_067.jpg', 'balanced_data_clean/train/Fearow/Fearow_033.jpg', 'balanced_data_clean/train/Fearow/Fearow_063.jpg', 'balanced_data_clean/train/Pidgeotto/Pidgeotto_024.jpg', 'balanced_data_clean/train/Ninetales/.DS_Store', 'balanced_data_clean/train/Scyther/Scyther_043.jpg', 'balanced_data_clean/train/Machamp/Machamp_031.jpg', 'balanced_data_clean/train/Magneton/Magneton_025.jpg', 'balanced_data_clean/train/Kingler/Kingler_039.jpg', 'balanced_data_clean/train/Graveler/Graveler_077.jpg', 'balanced_data_clean/train/Clefable/Clefable_008.jpg', 'balanced_data_clean/train/Gyarados/Gyarados_045.jpg', 'balanced_data_clean/train/Hypno/Hypno_025.jpg', 'balanced_data_clean/train/Zapdos/Zapdos_069.jpg']\n",
            "Removing ['balanced_data_clean/train/Nidoqueen/Nidoqueen_002.jpg', 'balanced_data_clean/train/Venomoth/Venomoth_074.jpg', 'balanced_data_clean/train/Dewgong/Dewgong_051.jpg', 'balanced_data_clean/train/Electabuzz/Electabuzz_012.jpg', 'balanced_data_clean/train/Exeggutor/Exeggutor_055.jpg', 'balanced_data_clean/train/Exeggutor/Exeggutor_087.jpg', 'balanced_data_clean/train/Omastar/Omastar_047.jpg', 'balanced_data_clean/train/Omastar/Omastar_043.jpg', 'balanced_data_clean/train/Growlithe/Growlithe_094.jpg', 'balanced_data_clean/train/Dugtrio/Dugtrio_021.jpg', 'balanced_data_clean/train/Kabutops/Kabutops_002.jpg', 'balanced_data_clean/train/Golduck/Golduck_068.jpg', 'balanced_data_clean/train/Haunter/Haunter_095.jpg', 'balanced_data_clean/train/Mewtwo/Mewtwo_067.jpg', 'balanced_data_clean/train/Fearow/Fearow_033.jpg', 'balanced_data_clean/train/Fearow/Fearow_063.jpg', 'balanced_data_clean/train/Pidgeotto/Pidgeotto_024.jpg', 'balanced_data_clean/train/Ninetales/.DS_Store', 'balanced_data_clean/train/Scyther/Scyther_043.jpg', 'balanced_data_clean/train/Machamp/Machamp_031.jpg', 'balanced_data_clean/train/Magneton/Magneton_025.jpg', 'balanced_data_clean/train/Kingler/Kingler_039.jpg', 'balanced_data_clean/train/Graveler/Graveler_077.jpg', 'balanced_data_clean/train/Clefable/Clefable_008.jpg', 'balanced_data_clean/train/Gyarados/Gyarados_045.jpg', 'balanced_data_clean/train/Hypno/Hypno_025.jpg', 'balanced_data_clean/train/Zapdos/Zapdos_069.jpg']\n",
            "Removing ['balanced_data_clean/train/Nidoqueen/Nidoqueen_002.jpg', 'balanced_data_clean/train/Venomoth/Venomoth_074.jpg', 'balanced_data_clean/train/Dewgong/Dewgong_051.jpg', 'balanced_data_clean/train/Electabuzz/Electabuzz_012.jpg', 'balanced_data_clean/train/Exeggutor/Exeggutor_055.jpg', 'balanced_data_clean/train/Exeggutor/Exeggutor_087.jpg', 'balanced_data_clean/train/Omastar/Omastar_047.jpg', 'balanced_data_clean/train/Omastar/Omastar_043.jpg', 'balanced_data_clean/train/Growlithe/Growlithe_094.jpg', 'balanced_data_clean/train/Dugtrio/Dugtrio_021.jpg', 'balanced_data_clean/train/Kabutops/Kabutops_002.jpg', 'balanced_data_clean/train/Golduck/Golduck_068.jpg', 'balanced_data_clean/train/Haunter/Haunter_095.jpg', 'balanced_data_clean/train/Mewtwo/Mewtwo_067.jpg', 'balanced_data_clean/train/Fearow/Fearow_033.jpg', 'balanced_data_clean/train/Fearow/Fearow_063.jpg', 'balanced_data_clean/train/Pidgeotto/Pidgeotto_024.jpg', 'balanced_data_clean/train/Ninetales/.DS_Store', 'balanced_data_clean/train/Scyther/Scyther_043.jpg', 'balanced_data_clean/train/Machamp/Machamp_031.jpg', 'balanced_data_clean/train/Magneton/Magneton_025.jpg', 'balanced_data_clean/train/Kingler/Kingler_039.jpg', 'balanced_data_clean/train/Graveler/Graveler_077.jpg', 'balanced_data_clean/train/Clefable/Clefable_008.jpg', 'balanced_data_clean/train/Gyarados/Gyarados_045.jpg', 'balanced_data_clean/train/Hypno/Hypno_025.jpg', 'balanced_data_clean/train/Zapdos/Zapdos_069.jpg']\n",
            "Removing ['balanced_data_clean/train/Nidoqueen/Nidoqueen_002.jpg', 'balanced_data_clean/train/Venomoth/Venomoth_074.jpg', 'balanced_data_clean/train/Dewgong/Dewgong_051.jpg', 'balanced_data_clean/train/Electabuzz/Electabuzz_012.jpg', 'balanced_data_clean/train/Exeggutor/Exeggutor_055.jpg', 'balanced_data_clean/train/Exeggutor/Exeggutor_087.jpg', 'balanced_data_clean/train/Omastar/Omastar_047.jpg', 'balanced_data_clean/train/Omastar/Omastar_043.jpg', 'balanced_data_clean/train/Growlithe/Growlithe_094.jpg', 'balanced_data_clean/train/Dugtrio/Dugtrio_021.jpg', 'balanced_data_clean/train/Kabutops/Kabutops_002.jpg', 'balanced_data_clean/train/Golduck/Golduck_068.jpg', 'balanced_data_clean/train/Haunter/Haunter_095.jpg', 'balanced_data_clean/train/Mewtwo/Mewtwo_067.jpg', 'balanced_data_clean/train/Fearow/Fearow_033.jpg', 'balanced_data_clean/train/Fearow/Fearow_063.jpg', 'balanced_data_clean/train/Pidgeotto/Pidgeotto_024.jpg', 'balanced_data_clean/train/Ninetales/.DS_Store', 'balanced_data_clean/train/Scyther/Scyther_043.jpg', 'balanced_data_clean/train/Machamp/Machamp_031.jpg', 'balanced_data_clean/train/Magneton/Magneton_025.jpg', 'balanced_data_clean/train/Kingler/Kingler_039.jpg', 'balanced_data_clean/train/Graveler/Graveler_077.jpg', 'balanced_data_clean/train/Clefable/Clefable_008.jpg', 'balanced_data_clean/train/Gyarados/Gyarados_045.jpg', 'balanced_data_clean/train/Hypno/Hypno_025.jpg', 'balanced_data_clean/train/Zapdos/Zapdos_069.jpg']\n",
            "Removing ['balanced_data_clean/train/Nidoqueen/Nidoqueen_002.jpg', 'balanced_data_clean/train/Venomoth/Venomoth_074.jpg', 'balanced_data_clean/train/Dewgong/Dewgong_051.jpg', 'balanced_data_clean/train/Electabuzz/Electabuzz_012.jpg', 'balanced_data_clean/train/Exeggutor/Exeggutor_055.jpg', 'balanced_data_clean/train/Exeggutor/Exeggutor_087.jpg', 'balanced_data_clean/train/Omastar/Omastar_047.jpg', 'balanced_data_clean/train/Omastar/Omastar_043.jpg', 'balanced_data_clean/train/Growlithe/Growlithe_094.jpg', 'balanced_data_clean/train/Dugtrio/Dugtrio_021.jpg', 'balanced_data_clean/train/Kabutops/Kabutops_002.jpg', 'balanced_data_clean/train/Golduck/Golduck_068.jpg', 'balanced_data_clean/train/Haunter/Haunter_095.jpg', 'balanced_data_clean/train/Mewtwo/Mewtwo_067.jpg', 'balanced_data_clean/train/Fearow/Fearow_033.jpg', 'balanced_data_clean/train/Fearow/Fearow_063.jpg', 'balanced_data_clean/train/Pidgeotto/Pidgeotto_024.jpg', 'balanced_data_clean/train/Ninetales/.DS_Store', 'balanced_data_clean/train/Scyther/Scyther_043.jpg', 'balanced_data_clean/train/Machamp/Machamp_031.jpg', 'balanced_data_clean/train/Magneton/Magneton_025.jpg', 'balanced_data_clean/train/Kingler/Kingler_039.jpg', 'balanced_data_clean/train/Graveler/Graveler_077.jpg', 'balanced_data_clean/train/Clefable/Clefable_008.jpg', 'balanced_data_clean/train/Gyarados/Gyarados_045.jpg', 'balanced_data_clean/train/Hypno/Hypno_025.jpg', 'balanced_data_clean/train/Zapdos/Zapdos_069.jpg']\n"
          ],
          "name": "stdout"
        }
      ]
    },
    {
      "cell_type": "code",
      "metadata": {
        "id": "fYaqtRE8Hnik",
        "colab_type": "code",
        "colab": {
          "base_uri": "https://localhost:8080/",
          "height": 476
        },
        "outputId": "b8ad62eb-51e2-46c8-a39f-ea83ab7f126b"
      },
      "source": [
        "# List of training files deleted\n",
        "for path in to_delete:\n",
        "  print(path)"
      ],
      "execution_count": 31,
      "outputs": [
        {
          "output_type": "stream",
          "text": [
            "balanced_data_clean/train/Nidoqueen/Nidoqueen_002.jpg\n",
            "balanced_data_clean/train/Venomoth/Venomoth_074.jpg\n",
            "balanced_data_clean/train/Dewgong/Dewgong_051.jpg\n",
            "balanced_data_clean/train/Electabuzz/Electabuzz_012.jpg\n",
            "balanced_data_clean/train/Exeggutor/Exeggutor_055.jpg\n",
            "balanced_data_clean/train/Exeggutor/Exeggutor_087.jpg\n",
            "balanced_data_clean/train/Omastar/Omastar_047.jpg\n",
            "balanced_data_clean/train/Omastar/Omastar_043.jpg\n",
            "balanced_data_clean/train/Growlithe/Growlithe_094.jpg\n",
            "balanced_data_clean/train/Dugtrio/Dugtrio_021.jpg\n",
            "balanced_data_clean/train/Kabutops/Kabutops_002.jpg\n",
            "balanced_data_clean/train/Golduck/Golduck_068.jpg\n",
            "balanced_data_clean/train/Haunter/Haunter_095.jpg\n",
            "balanced_data_clean/train/Mewtwo/Mewtwo_067.jpg\n",
            "balanced_data_clean/train/Fearow/Fearow_033.jpg\n",
            "balanced_data_clean/train/Fearow/Fearow_063.jpg\n",
            "balanced_data_clean/train/Pidgeotto/Pidgeotto_024.jpg\n",
            "balanced_data_clean/train/Ninetales/.DS_Store\n",
            "balanced_data_clean/train/Scyther/Scyther_043.jpg\n",
            "balanced_data_clean/train/Machamp/Machamp_031.jpg\n",
            "balanced_data_clean/train/Magneton/Magneton_025.jpg\n",
            "balanced_data_clean/train/Kingler/Kingler_039.jpg\n",
            "balanced_data_clean/train/Graveler/Graveler_077.jpg\n",
            "balanced_data_clean/train/Clefable/Clefable_008.jpg\n",
            "balanced_data_clean/train/Gyarados/Gyarados_045.jpg\n",
            "balanced_data_clean/train/Hypno/Hypno_025.jpg\n",
            "balanced_data_clean/train/Zapdos/Zapdos_069.jpg\n"
          ],
          "name": "stdout"
        }
      ]
    },
    {
      "cell_type": "code",
      "metadata": {
        "id": "tZIDcIyHIHC9",
        "colab_type": "code",
        "colab": {}
      },
      "source": [
        ""
      ],
      "execution_count": 0,
      "outputs": []
    }
  ]
}