{
  "nbformat": 4,
  "nbformat_minor": 0,
  "metadata": {
    "colab": {
      "name": "subset.ipynb",
      "provenance": [],
      "collapsed_sections": [],
      "toc_visible": true,
      "machine_shape": "hm",
      "include_colab_link": true
    },
    "kernelspec": {
      "name": "python3",
      "display_name": "Python 3"
    },
    "accelerator": "GPU"
  },
  "cells": [
    {
      "cell_type": "markdown",
      "metadata": {
        "id": "view-in-github",
        "colab_type": "text"
      },
      "source": [
        "<a href=\"https://colab.research.google.com/github/pulkitsingh/Pokedex/blob/master/subset.ipynb\" target=\"_parent\"><img src=\"https://colab.research.google.com/assets/colab-badge.svg\" alt=\"Open In Colab\"/></a>"
      ]
    },
    {
      "cell_type": "markdown",
      "metadata": {
        "id": "8TKrJRlUqyjz",
        "colab_type": "text"
      },
      "source": [
        "### Mounting Google Drive"
      ]
    },
    {
      "cell_type": "code",
      "metadata": {
        "id": "S621NksmcZlQ",
        "colab_type": "code",
        "outputId": "69fc54d0-9287-464d-d033-ee160370f65d",
        "colab": {
          "base_uri": "https://localhost:8080/",
          "height": 122
        }
      },
      "source": [
        "# mounting google drive\n",
        "from google.colab import drive\n",
        "drive.mount('/content/gdrive')"
      ],
      "execution_count": 0,
      "outputs": [
        {
          "output_type": "stream",
          "text": [
            "Go to this URL in a browser: https://accounts.google.com/o/oauth2/auth?client_id=947318989803-6bn6qk8qdgf4n4g3pfee6491hc0brc4i.apps.googleusercontent.com&redirect_uri=urn%3aietf%3awg%3aoauth%3a2.0%3aoob&response_type=code&scope=email%20https%3a%2f%2fwww.googleapis.com%2fauth%2fdocs.test%20https%3a%2f%2fwww.googleapis.com%2fauth%2fdrive%20https%3a%2f%2fwww.googleapis.com%2fauth%2fdrive.photos.readonly%20https%3a%2f%2fwww.googleapis.com%2fauth%2fpeopleapi.readonly\n",
            "\n",
            "Enter your authorization code:\n",
            "··········\n",
            "Mounted at /content/gdrive\n"
          ],
          "name": "stdout"
        }
      ]
    },
    {
      "cell_type": "code",
      "metadata": {
        "id": "bcTUKBfMbo2J",
        "colab_type": "code",
        "outputId": "f053bfa1-bfc2-4e38-b8a1-92dc68350629",
        "colab": {
          "base_uri": "https://localhost:8080/",
          "height": 34
        }
      },
      "source": [
        "cd gdrive/My\\ Drive"
      ],
      "execution_count": 0,
      "outputs": [
        {
          "output_type": "stream",
          "text": [
            "/content/gdrive/My Drive\n"
          ],
          "name": "stdout"
        }
      ]
    },
    {
      "cell_type": "markdown",
      "metadata": {
        "id": "MDurK1mBq1-i",
        "colab_type": "text"
      },
      "source": [
        "### Importing Libraries "
      ]
    },
    {
      "cell_type": "code",
      "metadata": {
        "id": "2wGBTYGmdkCH",
        "colab_type": "code",
        "outputId": "9625bef5-88d2-4dfd-80f3-cfdc1f580b8f",
        "colab": {
          "base_uri": "https://localhost:8080/",
          "height": 80
        }
      },
      "source": [
        "from keras.preprocessing.image import ImageDataGenerator\n",
        "from keras.models import Sequential\n",
        "from keras.layers import Convolution2D, GlobalAveragePooling2D, BatchNormalization, Input, Conv2D, MaxPooling2D, Dropout, Flatten\n",
        "from keras.layers import Activation, Dropout, Flatten, Dense\n",
        "from keras.optimizers import SGD, Adam, RMSprop\n",
        "from keras import backend as K\n",
        "from keras.applications.vgg16 import VGG16\n",
        "from keras.losses import categorical_crossentropy\n",
        "from keras.callbacks import ModelCheckpoint\n",
        "from keras.models import load_model\n",
        "import os\n",
        "import numpy as np"
      ],
      "execution_count": 0,
      "outputs": [
        {
          "output_type": "stream",
          "text": [
            "Using TensorFlow backend.\n"
          ],
          "name": "stderr"
        },
        {
          "output_type": "display_data",
          "data": {
            "text/html": [
              "<p style=\"color: red;\">\n",
              "The default version of TensorFlow in Colab will soon switch to TensorFlow 2.x.<br>\n",
              "We recommend you <a href=\"https://www.tensorflow.org/guide/migrate\" target=\"_blank\">upgrade</a> now \n",
              "or ensure your notebook will continue to use TensorFlow 1.x via the <code>%tensorflow_version 1.x</code> magic:\n",
              "<a href=\"https://colab.research.google.com/notebooks/tensorflow_version.ipynb\" target=\"_blank\">more info</a>.</p>\n"
            ],
            "text/plain": [
              "<IPython.core.display.HTML object>"
            ]
          },
          "metadata": {
            "tags": []
          }
        }
      ]
    },
    {
      "cell_type": "markdown",
      "metadata": {
        "id": "aQstzZLbq50l",
        "colab_type": "text"
      },
      "source": [
        "### Loading Data"
      ]
    },
    {
      "cell_type": "code",
      "metadata": {
        "id": "fIRzIGWTdytP",
        "colab_type": "code",
        "colab": {}
      },
      "source": [
        "# directories for training and validation data\n",
        "train_directory = 'balanced_data_clean/small_train'\n",
        "validation_directory = 'balanced_data_clean/small_test'"
      ],
      "execution_count": 0,
      "outputs": []
    },
    {
      "cell_type": "code",
      "metadata": {
        "id": "Zaref9b8d1oO",
        "colab_type": "code",
        "colab": {}
      },
      "source": [
        "# making ImageDataGenerator instances for training and test data\n",
        "train_datagen = ImageDataGenerator(rescale=1./255, shear_range=0.2, \n",
        "                                   zoom_range=0.2, horizontal_flip=True)\n",
        "\n",
        "test_datagen = ImageDataGenerator(rescale=1./255)"
      ],
      "execution_count": 0,
      "outputs": []
    },
    {
      "cell_type": "code",
      "metadata": {
        "id": "is2nABHMt6GV",
        "colab_type": "code",
        "outputId": "e82d54ac-2a76-4e89-ce7b-f05b675ce807",
        "colab": {
          "base_uri": "https://localhost:8080/",
          "height": 51
        }
      },
      "source": [
        "# loading the train and validation data\n",
        "train_gen = train_datagen.flow_from_directory('balanced_data_clean/small_train',\n",
        "                                              target_size=(224, 224),\n",
        "                                              batch_size=32,\n",
        "                                              color_mode=\"rgb\",                                            \n",
        "                                              class_mode='categorical', \n",
        "                                              shuffle=True, seed=333)\n",
        "\n",
        "test_gen = test_datagen.flow_from_directory('balanced_data_clean/small_test',\n",
        "                                            target_size=(224, 224),\n",
        "                                            color_mode = \"rgb\",\n",
        "                                            batch_size=32,\n",
        "                                            class_mode='categorical', \n",
        "                                            shuffle=True, seed=333)\n"
      ],
      "execution_count": 0,
      "outputs": [
        {
          "output_type": "stream",
          "text": [
            "Found 1844 images belonging to 20 classes.\n",
            "Found 469 images belonging to 20 classes.\n"
          ],
          "name": "stdout"
        }
      ]
    },
    {
      "cell_type": "markdown",
      "metadata": {
        "id": "0mAUrGGS5oyM",
        "colab_type": "text"
      },
      "source": [
        "### Specifying the model"
      ]
    },
    {
      "cell_type": "code",
      "metadata": {
        "id": "yg4TfXI3qkO6",
        "colab_type": "code",
        "colab": {}
      },
      "source": [
        "# specifying parameters\n",
        "batch_size = 10\n",
        "input_shape = (10, 224, 224, 3)\n",
        "num_training_samples = 12903\n",
        "num_test_samples = 3317"
      ],
      "execution_count": 0,
      "outputs": []
    },
    {
      "cell_type": "code",
      "metadata": {
        "id": "3JJu8mq4LbWz",
        "colab_type": "code",
        "outputId": "143e5fd4-4dd9-46fa-fd02-0a913ff63334",
        "colab": {
          "base_uri": "https://localhost:8080/",
          "height": 258
        }
      },
      "source": [
        "# specifying the model\n",
        "\n",
        "model = Sequential()\n",
        "\n",
        "model.add(Conv2D(32, (3, 3), padding='same',\n",
        "                 input_shape=(224, 224, 3)))\n",
        "model.add(Activation('relu'))\n",
        "model.add(Conv2D(32, (3, 3)))\n",
        "model.add(Activation('relu'))\n",
        "model.add(MaxPooling2D(pool_size=(2, 2)))\n",
        "model.add(Dropout(0.25))\n",
        "\n",
        "model.add(Conv2D(64, (3, 3), padding='same'))\n",
        "model.add(Activation('relu'))\n",
        "model.add(Conv2D(64, (3, 3)))\n",
        "model.add(Activation('relu'))\n",
        "model.add(MaxPooling2D(pool_size=(2, 2)))\n",
        "model.add(Dropout(0.25))\n",
        "\n",
        "model.add(Flatten())\n",
        "model.add(Dense(512))\n",
        "model.add(Activation('relu'))\n",
        "model.add(Dropout(0.5))\n",
        "model.add(Dense(20))\n",
        "model.add(Activation('softmax'))\n"
      ],
      "execution_count": 0,
      "outputs": [
        {
          "output_type": "stream",
          "text": [
            "WARNING:tensorflow:From /usr/local/lib/python3.6/dist-packages/keras/backend/tensorflow_backend.py:66: The name tf.get_default_graph is deprecated. Please use tf.compat.v1.get_default_graph instead.\n",
            "\n",
            "WARNING:tensorflow:From /usr/local/lib/python3.6/dist-packages/keras/backend/tensorflow_backend.py:541: The name tf.placeholder is deprecated. Please use tf.compat.v1.placeholder instead.\n",
            "\n",
            "WARNING:tensorflow:From /usr/local/lib/python3.6/dist-packages/keras/backend/tensorflow_backend.py:4432: The name tf.random_uniform is deprecated. Please use tf.random.uniform instead.\n",
            "\n",
            "WARNING:tensorflow:From /usr/local/lib/python3.6/dist-packages/keras/backend/tensorflow_backend.py:4267: The name tf.nn.max_pool is deprecated. Please use tf.nn.max_pool2d instead.\n",
            "\n",
            "WARNING:tensorflow:From /usr/local/lib/python3.6/dist-packages/keras/backend/tensorflow_backend.py:148: The name tf.placeholder_with_default is deprecated. Please use tf.compat.v1.placeholder_with_default instead.\n",
            "\n",
            "WARNING:tensorflow:From /usr/local/lib/python3.6/dist-packages/keras/backend/tensorflow_backend.py:3733: calling dropout (from tensorflow.python.ops.nn_ops) with keep_prob is deprecated and will be removed in a future version.\n",
            "Instructions for updating:\n",
            "Please use `rate` instead of `keep_prob`. Rate should be set to `rate = 1 - keep_prob`.\n"
          ],
          "name": "stdout"
        }
      ]
    },
    {
      "cell_type": "code",
      "metadata": {
        "id": "b2TXw4wQLbsG",
        "colab_type": "code",
        "outputId": "f91f65a5-8df4-44ca-8afc-ea5875e5f28d",
        "colab": {
          "base_uri": "https://localhost:8080/",
          "height": 870
        }
      },
      "source": [
        "adam = Adam(lr=0.001, beta_1=0.9, beta_2=0.999, amsgrad=False)\n",
        "model.compile(loss=categorical_crossentropy, optimizer=adam, metrics=['accuracy'])\n",
        "print(model.summary())"
      ],
      "execution_count": 0,
      "outputs": [
        {
          "output_type": "stream",
          "text": [
            "WARNING:tensorflow:From /usr/local/lib/python3.6/dist-packages/keras/optimizers.py:793: The name tf.train.Optimizer is deprecated. Please use tf.compat.v1.train.Optimizer instead.\n",
            "\n",
            "WARNING:tensorflow:From /usr/local/lib/python3.6/dist-packages/keras/backend/tensorflow_backend.py:3576: The name tf.log is deprecated. Please use tf.math.log instead.\n",
            "\n",
            "Model: \"sequential_1\"\n",
            "_________________________________________________________________\n",
            "Layer (type)                 Output Shape              Param #   \n",
            "=================================================================\n",
            "conv2d_1 (Conv2D)            (None, 224, 224, 32)      896       \n",
            "_________________________________________________________________\n",
            "activation_1 (Activation)    (None, 224, 224, 32)      0         \n",
            "_________________________________________________________________\n",
            "conv2d_2 (Conv2D)            (None, 222, 222, 32)      9248      \n",
            "_________________________________________________________________\n",
            "activation_2 (Activation)    (None, 222, 222, 32)      0         \n",
            "_________________________________________________________________\n",
            "max_pooling2d_1 (MaxPooling2 (None, 111, 111, 32)      0         \n",
            "_________________________________________________________________\n",
            "dropout_1 (Dropout)          (None, 111, 111, 32)      0         \n",
            "_________________________________________________________________\n",
            "conv2d_3 (Conv2D)            (None, 111, 111, 64)      18496     \n",
            "_________________________________________________________________\n",
            "activation_3 (Activation)    (None, 111, 111, 64)      0         \n",
            "_________________________________________________________________\n",
            "conv2d_4 (Conv2D)            (None, 109, 109, 64)      36928     \n",
            "_________________________________________________________________\n",
            "activation_4 (Activation)    (None, 109, 109, 64)      0         \n",
            "_________________________________________________________________\n",
            "max_pooling2d_2 (MaxPooling2 (None, 54, 54, 64)        0         \n",
            "_________________________________________________________________\n",
            "dropout_2 (Dropout)          (None, 54, 54, 64)        0         \n",
            "_________________________________________________________________\n",
            "flatten_1 (Flatten)          (None, 186624)            0         \n",
            "_________________________________________________________________\n",
            "dense_1 (Dense)              (None, 512)               95552000  \n",
            "_________________________________________________________________\n",
            "activation_5 (Activation)    (None, 512)               0         \n",
            "_________________________________________________________________\n",
            "dropout_3 (Dropout)          (None, 512)               0         \n",
            "_________________________________________________________________\n",
            "dense_2 (Dense)              (None, 20)                10260     \n",
            "_________________________________________________________________\n",
            "activation_6 (Activation)    (None, 20)                0         \n",
            "=================================================================\n",
            "Total params: 95,627,828\n",
            "Trainable params: 95,627,828\n",
            "Non-trainable params: 0\n",
            "_________________________________________________________________\n",
            "None\n"
          ],
          "name": "stdout"
        }
      ]
    },
    {
      "cell_type": "markdown",
      "metadata": {
        "id": "2S8-I2rY3waz",
        "colab_type": "text"
      },
      "source": [
        "### Training the Model"
      ]
    },
    {
      "cell_type": "code",
      "metadata": {
        "id": "pkZFSp3l38Di",
        "colab_type": "code",
        "outputId": "ed33adc9-3224-48ff-a232-b9393ebde358",
        "colab": {
          "base_uri": "https://localhost:8080/",
          "height": 34
        }
      },
      "source": [
        "# making a directory to save weights\n",
        "import os\n",
        "dir_name = 'pokemon_weights/subset'\n",
        "#os.mkdir(dir_name)\n",
        "path = os.path.join(os.getcwd(), dir_name)\n",
        "print(path)"
      ],
      "execution_count": 0,
      "outputs": [
        {
          "output_type": "stream",
          "text": [
            "/content/gdrive/My Drive/pokemon_weights/subset\n"
          ],
          "name": "stdout"
        }
      ]
    },
    {
      "cell_type": "code",
      "metadata": {
        "id": "x_WE653E52ie",
        "colab_type": "code",
        "colab": {}
      },
      "source": [
        "filepath = os.path.join(path, \"model-{epoch:02d}.hdf5\")\n",
        "checkpoint = ModelCheckpoint(filepath, monitor='accuracy', verbose=1, \n",
        "                             save_best_only=False, save_weights_only=True, \n",
        "                             mode='auto', period=1)"
      ],
      "execution_count": 0,
      "outputs": []
    },
    {
      "cell_type": "code",
      "metadata": {
        "id": "MYrp7gOmDH5P",
        "colab_type": "code",
        "outputId": "93e01b83-c015-4baf-ceb8-a9b852113a62",
        "colab": {
          "base_uri": "https://localhost:8080/",
          "height": 1000
        }
      },
      "source": [
        "history = model.fit_generator(train_gen, \n",
        "                    epochs=50,\n",
        "                    workers=10,\n",
        "                    use_multiprocessing=True,\n",
        "                    shuffle=True,\n",
        "                    callbacks=[checkpoint],\n",
        "                    validation_data=test_gen,\n",
        "                    validation_steps=1, \n",
        "                    verbose=1)"
      ],
      "execution_count": 0,
      "outputs": [
        {
          "output_type": "stream",
          "text": [
            "WARNING:tensorflow:From /usr/local/lib/python3.6/dist-packages/tensorflow_core/python/ops/math_grad.py:1424: where (from tensorflow.python.ops.array_ops) is deprecated and will be removed in a future version.\n",
            "Instructions for updating:\n",
            "Use tf.where in 2.0, which has the same broadcast rule as np.where\n",
            "WARNING:tensorflow:From /usr/local/lib/python3.6/dist-packages/keras/backend/tensorflow_backend.py:1033: The name tf.assign_add is deprecated. Please use tf.compat.v1.assign_add instead.\n",
            "\n",
            "WARNING:tensorflow:From /usr/local/lib/python3.6/dist-packages/keras/backend/tensorflow_backend.py:1020: The name tf.assign is deprecated. Please use tf.compat.v1.assign instead.\n",
            "\n",
            "WARNING:tensorflow:From /usr/local/lib/python3.6/dist-packages/keras/backend/tensorflow_backend.py:3005: The name tf.Session is deprecated. Please use tf.compat.v1.Session instead.\n",
            "\n",
            "Epoch 1/50\n"
          ],
          "name": "stdout"
        },
        {
          "output_type": "stream",
          "text": [
            "/usr/local/lib/python3.6/dist-packages/PIL/Image.py:989: UserWarning: Palette images with Transparency expressed in bytes should be converted to RGBA images\n",
            "  \"Palette images with Transparency expressed in bytes should be \"\n"
          ],
          "name": "stderr"
        },
        {
          "output_type": "stream",
          "text": [
            "WARNING:tensorflow:From /usr/local/lib/python3.6/dist-packages/keras/backend/tensorflow_backend.py:190: The name tf.get_default_session is deprecated. Please use tf.compat.v1.get_default_session instead.\n",
            "\n",
            "WARNING:tensorflow:From /usr/local/lib/python3.6/dist-packages/keras/backend/tensorflow_backend.py:197: The name tf.ConfigProto is deprecated. Please use tf.compat.v1.ConfigProto instead.\n",
            "\n",
            "WARNING:tensorflow:From /usr/local/lib/python3.6/dist-packages/keras/backend/tensorflow_backend.py:207: The name tf.global_variables is deprecated. Please use tf.compat.v1.global_variables instead.\n",
            "\n",
            "WARNING:tensorflow:From /usr/local/lib/python3.6/dist-packages/keras/backend/tensorflow_backend.py:216: The name tf.is_variable_initialized is deprecated. Please use tf.compat.v1.is_variable_initialized instead.\n",
            "\n",
            "WARNING:tensorflow:From /usr/local/lib/python3.6/dist-packages/keras/backend/tensorflow_backend.py:223: The name tf.variables_initializer is deprecated. Please use tf.compat.v1.variables_initializer instead.\n",
            "\n"
          ],
          "name": "stdout"
        },
        {
          "output_type": "stream",
          "text": [
            "/usr/local/lib/python3.6/dist-packages/PIL/Image.py:989: UserWarning: Palette images with Transparency expressed in bytes should be converted to RGBA images\n",
            "  \"Palette images with Transparency expressed in bytes should be \"\n"
          ],
          "name": "stderr"
        },
        {
          "output_type": "stream",
          "text": [
            "53/58 [==========================>...] - ETA: 8s - loss: 3.7042 - acc: 0.0599 "
          ],
          "name": "stdout"
        },
        {
          "output_type": "stream",
          "text": [
            "/usr/local/lib/python3.6/dist-packages/PIL/Image.py:989: UserWarning: Palette images with Transparency expressed in bytes should be converted to RGBA images\n",
            "  \"Palette images with Transparency expressed in bytes should be \"\n"
          ],
          "name": "stderr"
        },
        {
          "output_type": "stream",
          "text": [
            "58/58 [==============================] - 94s 2s/step - loss: 3.6431 - acc: 0.0601 - val_loss: 2.9879 - val_acc: 0.1250\n",
            "\n",
            "Epoch 00001: saving model to /content/gdrive/My Drive/pokemon_weights/subset/model-01.hdf5\n",
            "Epoch 2/50\n",
            "22/58 [==========>...................] - ETA: 8s - loss: 2.9928 - acc: 0.0696"
          ],
          "name": "stdout"
        },
        {
          "output_type": "stream",
          "text": [
            "/usr/local/lib/python3.6/dist-packages/PIL/Image.py:989: UserWarning: Palette images with Transparency expressed in bytes should be converted to RGBA images\n",
            "  \"Palette images with Transparency expressed in bytes should be \"\n"
          ],
          "name": "stderr"
        },
        {
          "output_type": "stream",
          "text": [
            "53/58 [==========================>...] - ETA: 1s - loss: 2.9915 - acc: 0.0682"
          ],
          "name": "stdout"
        },
        {
          "output_type": "stream",
          "text": [
            "/usr/local/lib/python3.6/dist-packages/PIL/Image.py:989: UserWarning: Palette images with Transparency expressed in bytes should be converted to RGBA images\n",
            "  \"Palette images with Transparency expressed in bytes should be \"\n"
          ],
          "name": "stderr"
        },
        {
          "output_type": "stream",
          "text": [
            "58/58 [==============================] - 16s 284ms/step - loss: 2.9911 - acc: 0.0688 - val_loss: 2.9898 - val_acc: 0.0625\n",
            "\n",
            "Epoch 00002: saving model to /content/gdrive/My Drive/pokemon_weights/subset/model-02.hdf5\n",
            "Epoch 3/50\n",
            "12/58 [=====>........................] - ETA: 19s - loss: 2.9773 - acc: 0.0510"
          ],
          "name": "stdout"
        },
        {
          "output_type": "stream",
          "text": [
            "/usr/local/lib/python3.6/dist-packages/PIL/Image.py:989: UserWarning: Palette images with Transparency expressed in bytes should be converted to RGBA images\n",
            "  \"Palette images with Transparency expressed in bytes should be \"\n"
          ],
          "name": "stderr"
        },
        {
          "output_type": "stream",
          "text": [
            "24/58 [===========>..................] - ETA: 13s - loss: 2.9711 - acc: 0.0607"
          ],
          "name": "stdout"
        },
        {
          "output_type": "stream",
          "text": [
            "/usr/local/lib/python3.6/dist-packages/PIL/Image.py:989: UserWarning: Palette images with Transparency expressed in bytes should be converted to RGBA images\n",
            "  \"Palette images with Transparency expressed in bytes should be \"\n"
          ],
          "name": "stderr"
        },
        {
          "output_type": "stream",
          "text": [
            "57/58 [============================>.] - ETA: 0s - loss: 2.9665 - acc: 0.0727\n",
            "Epoch 00002: saving model to /content/gdrive/My Drive/pokemon_weights/subset/model-02.hdf5\n",
            "58/58 [==============================] - 20s 342ms/step - loss: 2.9664 - acc: 0.0725 - val_loss: 2.9032 - val_acc: 0.1875\n",
            "\n",
            "Epoch 00003: saving model to /content/gdrive/My Drive/pokemon_weights/subset/model-03.hdf5\n",
            "Epoch 4/50\n",
            "36/58 [=================>............] - ETA: 8s - loss: 2.8883 - acc: 0.1087"
          ],
          "name": "stdout"
        },
        {
          "output_type": "stream",
          "text": [
            "/usr/local/lib/python3.6/dist-packages/PIL/Image.py:989: UserWarning: Palette images with Transparency expressed in bytes should be converted to RGBA images\n",
            "  \"Palette images with Transparency expressed in bytes should be \"\n"
          ],
          "name": "stderr"
        },
        {
          "output_type": "stream",
          "text": [
            "53/58 [==========================>...] - ETA: 1s - loss: 2.8776 - acc: 0.1192"
          ],
          "name": "stdout"
        },
        {
          "output_type": "stream",
          "text": [
            "/usr/local/lib/python3.6/dist-packages/PIL/Image.py:989: UserWarning: Palette images with Transparency expressed in bytes should be converted to RGBA images\n",
            "  \"Palette images with Transparency expressed in bytes should be \"\n"
          ],
          "name": "stderr"
        },
        {
          "output_type": "stream",
          "text": [
            "58/58 [==============================] - 20s 345ms/step - loss: 2.8667 - acc: 0.1262 - val_loss: 2.8752 - val_acc: 0.1562\n",
            "\n",
            "Epoch 00004: saving model to /content/gdrive/My Drive/pokemon_weights/subset/model-04.hdf5\n",
            "Epoch 5/50\n",
            "14/58 [======>.......................] - ETA: 16s - loss: 2.7337 - acc: 0.1562"
          ],
          "name": "stdout"
        },
        {
          "output_type": "stream",
          "text": [
            "/usr/local/lib/python3.6/dist-packages/PIL/Image.py:989: UserWarning: Palette images with Transparency expressed in bytes should be converted to RGBA images\n",
            "  \"Palette images with Transparency expressed in bytes should be \"\n"
          ],
          "name": "stderr"
        },
        {
          "output_type": "stream",
          "text": [
            "40/58 [===================>..........] - ETA: 5s - loss: 2.6990 - acc: 0.1900"
          ],
          "name": "stdout"
        },
        {
          "output_type": "stream",
          "text": [
            "/usr/local/lib/python3.6/dist-packages/PIL/Image.py:989: UserWarning: Palette images with Transparency expressed in bytes should be converted to RGBA images\n",
            "  \"Palette images with Transparency expressed in bytes should be \"\n"
          ],
          "name": "stderr"
        },
        {
          "output_type": "stream",
          "text": [
            "58/58 [==============================] - 18s 316ms/step - loss: 2.6648 - acc: 0.2129 - val_loss: 2.7198 - val_acc: 0.2188\n",
            "\n",
            "Epoch 00005: saving model to /content/gdrive/My Drive/pokemon_weights/subset/model-05.hdf5\n",
            "Epoch 6/50\n",
            "15/58 [======>.......................] - ETA: 19s - loss: 2.4908 - acc: 0.2958"
          ],
          "name": "stdout"
        },
        {
          "output_type": "stream",
          "text": [
            "/usr/local/lib/python3.6/dist-packages/PIL/Image.py:989: UserWarning: Palette images with Transparency expressed in bytes should be converted to RGBA images\n",
            "  \"Palette images with Transparency expressed in bytes should be \"\n"
          ],
          "name": "stderr"
        },
        {
          "output_type": "stream",
          "text": [
            "50/58 [========================>.....] - ETA: 2s - loss: 2.4658 - acc: 0.2919"
          ],
          "name": "stdout"
        },
        {
          "output_type": "stream",
          "text": [
            "/usr/local/lib/python3.6/dist-packages/PIL/Image.py:989: UserWarning: Palette images with Transparency expressed in bytes should be converted to RGBA images\n",
            "  \"Palette images with Transparency expressed in bytes should be \"\n"
          ],
          "name": "stderr"
        },
        {
          "output_type": "stream",
          "text": [
            "57/58 [============================>.] - ETA: 0s - loss: 2.4578 - acc: 0.2922\n",
            "Epoch 00005: saving model to /content/gdrive/My Drive/pokemon_weights/subset/model-05.hdf5\n",
            "58/58 [==============================] - 20s 342ms/step - loss: 2.4510 - acc: 0.2947 - val_loss: 2.3255 - val_acc: 0.3125\n",
            "\n",
            "Epoch 00006: saving model to /content/gdrive/My Drive/pokemon_weights/subset/model-06.hdf5\n",
            "Epoch 7/50\n",
            "10/58 [====>.........................] - ETA: 16s - loss: 2.1995 - acc: 0.3594"
          ],
          "name": "stdout"
        },
        {
          "output_type": "stream",
          "text": [
            "/usr/local/lib/python3.6/dist-packages/PIL/Image.py:989: UserWarning: Palette images with Transparency expressed in bytes should be converted to RGBA images\n",
            "  \"Palette images with Transparency expressed in bytes should be \"\n"
          ],
          "name": "stderr"
        },
        {
          "output_type": "stream",
          "text": [
            "36/58 [=================>............] - ETA: 7s - loss: 2.1975 - acc: 0.3464"
          ],
          "name": "stdout"
        },
        {
          "output_type": "stream",
          "text": [
            "/usr/local/lib/python3.6/dist-packages/PIL/Image.py:989: UserWarning: Palette images with Transparency expressed in bytes should be converted to RGBA images\n",
            "  \"Palette images with Transparency expressed in bytes should be \"\n"
          ],
          "name": "stderr"
        },
        {
          "output_type": "stream",
          "text": [
            "58/58 [==============================] - 18s 313ms/step - loss: 2.2000 - acc: 0.3594 - val_loss: 2.1651 - val_acc: 0.3750\n",
            "\n",
            "Epoch 00007: saving model to /content/gdrive/My Drive/pokemon_weights/subset/model-07.hdf5\n",
            "Epoch 8/50\n",
            "39/58 [===================>..........] - ETA: 7s - loss: 1.9965 - acc: 0.4127"
          ],
          "name": "stdout"
        },
        {
          "output_type": "stream",
          "text": [
            "/usr/local/lib/python3.6/dist-packages/PIL/Image.py:989: UserWarning: Palette images with Transparency expressed in bytes should be converted to RGBA images\n",
            "  \"Palette images with Transparency expressed in bytes should be \"\n"
          ],
          "name": "stderr"
        },
        {
          "output_type": "stream",
          "text": [
            "43/58 [=====================>........] - ETA: 5s - loss: 1.9919 - acc: 0.4113"
          ],
          "name": "stdout"
        },
        {
          "output_type": "stream",
          "text": [
            "/usr/local/lib/python3.6/dist-packages/PIL/Image.py:989: UserWarning: Palette images with Transparency expressed in bytes should be converted to RGBA images\n",
            "  \"Palette images with Transparency expressed in bytes should be \"\n"
          ],
          "name": "stderr"
        },
        {
          "output_type": "stream",
          "text": [
            "58/58 [==============================] - 20s 340ms/step - loss: 1.9558 - acc: 0.4187 - val_loss: 2.2361 - val_acc: 0.3125\n",
            "\n",
            "Epoch 00008: saving model to /content/gdrive/My Drive/pokemon_weights/subset/model-08.hdf5\n",
            "Epoch 9/50\n",
            " 4/58 [=>............................] - ETA: 49s - loss: 1.7513 - acc: 0.4844 "
          ],
          "name": "stdout"
        },
        {
          "output_type": "stream",
          "text": [
            "/usr/local/lib/python3.6/dist-packages/PIL/Image.py:989: UserWarning: Palette images with Transparency expressed in bytes should be converted to RGBA images\n",
            "  \"Palette images with Transparency expressed in bytes should be \"\n"
          ],
          "name": "stderr"
        },
        {
          "output_type": "stream",
          "text": [
            "24/58 [===========>..................] - ETA: 13s - loss: 1.7364 - acc: 0.5026"
          ],
          "name": "stdout"
        },
        {
          "output_type": "stream",
          "text": [
            "/usr/local/lib/python3.6/dist-packages/PIL/Image.py:989: UserWarning: Palette images with Transparency expressed in bytes should be converted to RGBA images\n",
            "  \"Palette images with Transparency expressed in bytes should be \"\n"
          ],
          "name": "stderr"
        },
        {
          "output_type": "stream",
          "text": [
            "\n",
            "Epoch 00008: saving model to /content/gdrive/My Drive/pokemon_weights/subset/model-08.hdf5\n",
            "58/58 [==============================] - 20s 341ms/step - loss: 1.7250 - acc: 0.4911 - val_loss: 2.6149 - val_acc: 0.2812\n",
            "\n",
            "Epoch 00009: saving model to /content/gdrive/My Drive/pokemon_weights/subset/model-09.hdf5\n",
            "Epoch 10/50\n",
            "19/58 [========>.....................] - ETA: 15s - loss: 1.6542 - acc: 0.5263"
          ],
          "name": "stdout"
        },
        {
          "output_type": "stream",
          "text": [
            "/usr/local/lib/python3.6/dist-packages/PIL/Image.py:989: UserWarning: Palette images with Transparency expressed in bytes should be converted to RGBA images\n",
            "  \"Palette images with Transparency expressed in bytes should be \"\n"
          ],
          "name": "stderr"
        },
        {
          "output_type": "stream",
          "text": [
            "53/58 [==========================>...] - ETA: 1s - loss: 1.6119 - acc: 0.5295"
          ],
          "name": "stdout"
        },
        {
          "output_type": "stream",
          "text": [
            "/usr/local/lib/python3.6/dist-packages/PIL/Image.py:989: UserWarning: Palette images with Transparency expressed in bytes should be converted to RGBA images\n",
            "  \"Palette images with Transparency expressed in bytes should be \"\n"
          ],
          "name": "stderr"
        },
        {
          "output_type": "stream",
          "text": [
            "57/58 [============================>.] - ETA: 0s - loss: 1.6001 - acc: 0.5312\n",
            "58/58 [==============================] - 20s 339ms/step - loss: 1.6010 - acc: 0.5302 - val_loss: 1.4200 - val_acc: 0.6562\n",
            "\n",
            "Epoch 00010: saving model to /content/gdrive/My Drive/pokemon_weights/subset/model-10.hdf5\n",
            "Epoch 11/50\n"
          ],
          "name": "stdout"
        },
        {
          "output_type": "stream",
          "text": [
            "/usr/local/lib/python3.6/dist-packages/PIL/Image.py:989: UserWarning: Palette images with Transparency expressed in bytes should be converted to RGBA images\n",
            "  \"Palette images with Transparency expressed in bytes should be \"\n"
          ],
          "name": "stderr"
        },
        {
          "output_type": "stream",
          "text": [
            "24/58 [===========>..................] - ETA: 12s - loss: 1.4123 - acc: 0.5815"
          ],
          "name": "stdout"
        },
        {
          "output_type": "stream",
          "text": [
            "/usr/local/lib/python3.6/dist-packages/PIL/Image.py:989: UserWarning: Palette images with Transparency expressed in bytes should be converted to RGBA images\n",
            "  \"Palette images with Transparency expressed in bytes should be \"\n"
          ],
          "name": "stderr"
        },
        {
          "output_type": "stream",
          "text": [
            "57/58 [============================>.] - ETA: 0s - loss: 1.4846 - acc: 0.5634\n",
            "Epoch 00010: saving model to /content/gdrive/My Drive/pokemon_weights/subset/model-10.hdf5\n",
            "58/58 [==============================] - 20s 348ms/step - loss: 1.4842 - acc: 0.5650 - val_loss: 1.6923 - val_acc: 0.5625\n",
            "\n",
            "Epoch 00011: saving model to /content/gdrive/My Drive/pokemon_weights/subset/model-11.hdf5\n",
            "Epoch 12/50\n",
            " 1/58 [..............................] - ETA: 2:53 - loss: 1.6443 - acc: 0.4688"
          ],
          "name": "stdout"
        },
        {
          "output_type": "stream",
          "text": [
            "/usr/local/lib/python3.6/dist-packages/PIL/Image.py:989: UserWarning: Palette images with Transparency expressed in bytes should be converted to RGBA images\n",
            "  \"Palette images with Transparency expressed in bytes should be \"\n"
          ],
          "name": "stderr"
        },
        {
          "output_type": "stream",
          "text": [
            "35/58 [=================>............] - ETA: 8s - loss: 1.3987 - acc: 0.5941"
          ],
          "name": "stdout"
        },
        {
          "output_type": "stream",
          "text": [
            "/usr/local/lib/python3.6/dist-packages/PIL/Image.py:989: UserWarning: Palette images with Transparency expressed in bytes should be converted to RGBA images\n",
            "  \"Palette images with Transparency expressed in bytes should be \"\n"
          ],
          "name": "stderr"
        },
        {
          "output_type": "stream",
          "text": [
            "58/58 [==============================] - 20s 336ms/step - loss: 1.3793 - acc: 0.5956 - val_loss: 1.7356 - val_acc: 0.4688\n",
            "\n",
            "Epoch 00012: saving model to /content/gdrive/My Drive/pokemon_weights/subset/model-12.hdf5\n",
            "Epoch 13/50\n"
          ],
          "name": "stdout"
        },
        {
          "output_type": "stream",
          "text": [
            "/usr/local/lib/python3.6/dist-packages/PIL/Image.py:989: UserWarning: Palette images with Transparency expressed in bytes should be converted to RGBA images\n",
            "  \"Palette images with Transparency expressed in bytes should be \"\n"
          ],
          "name": "stderr"
        },
        {
          "output_type": "stream",
          "text": [
            "24/58 [===========>..................] - ETA: 13s - loss: 1.2173 - acc: 0.6333"
          ],
          "name": "stdout"
        },
        {
          "output_type": "stream",
          "text": [
            "/usr/local/lib/python3.6/dist-packages/PIL/Image.py:989: UserWarning: Palette images with Transparency expressed in bytes should be converted to RGBA images\n",
            "  \"Palette images with Transparency expressed in bytes should be \"\n"
          ],
          "name": "stderr"
        },
        {
          "output_type": "stream",
          "text": [
            "57/58 [============================>.] - ETA: 0s - loss: 1.2431 - acc: 0.6247Epoch 13/50\n",
            "58/58 [==============================] - 20s 342ms/step - loss: 1.2398 - acc: 0.6247 - val_loss: 1.3157 - val_acc: 0.6562\n",
            "\n",
            "Epoch 00013: saving model to /content/gdrive/My Drive/pokemon_weights/subset/model-13.hdf5\n",
            "Epoch 14/50\n",
            "14/58 [======>.......................] - ETA: 19s - loss: 1.1277 - acc: 0.6210"
          ],
          "name": "stdout"
        },
        {
          "output_type": "stream",
          "text": [
            "/usr/local/lib/python3.6/dist-packages/PIL/Image.py:989: UserWarning: Palette images with Transparency expressed in bytes should be converted to RGBA images\n",
            "  \"Palette images with Transparency expressed in bytes should be \"\n"
          ],
          "name": "stderr"
        },
        {
          "output_type": "stream",
          "text": [
            "57/58 [============================>.] - ETA: 0s - loss: 1.1694 - acc: 0.6273\n",
            "Epoch 00013: saving model to /content/gdrive/My Drive/pokemon_weights/subset/model-13.hdf5\n",
            "58/58 [==============================] - 20s 343ms/step - loss: 1.1711 - acc: 0.6283 - val_loss: 2.0669 - val_acc: 0.4062\n",
            "\n",
            "Epoch 00014: saving model to /content/gdrive/My Drive/pokemon_weights/subset/model-14.hdf5\n",
            "Epoch 15/50\n",
            "38/58 [==================>...........] - ETA: 6s - loss: 1.1161 - acc: 0.6515"
          ],
          "name": "stdout"
        },
        {
          "output_type": "stream",
          "text": [
            "/usr/local/lib/python3.6/dist-packages/PIL/Image.py:989: UserWarning: Palette images with Transparency expressed in bytes should be converted to RGBA images\n",
            "  \"Palette images with Transparency expressed in bytes should be \"\n"
          ],
          "name": "stderr"
        },
        {
          "output_type": "stream",
          "text": [
            "49/58 [========================>.....] - ETA: 2s - loss: 1.0977 - acc: 0.6583"
          ],
          "name": "stdout"
        },
        {
          "output_type": "stream",
          "text": [
            "/usr/local/lib/python3.6/dist-packages/PIL/Image.py:989: UserWarning: Palette images with Transparency expressed in bytes should be converted to RGBA images\n",
            "  \"Palette images with Transparency expressed in bytes should be \"\n"
          ],
          "name": "stderr"
        },
        {
          "output_type": "stream",
          "text": [
            "57/58 [============================>.] - ETA: 0s - loss: 1.0967 - acc: 0.6624\n",
            "58/58 [==============================] - 20s 343ms/step - loss: 1.1711 - acc: 0.6283 - val_loss: 2.0669 - val_acc: 0.4062\n",
            "58/58 [==============================] - 19s 320ms/step - loss: 1.0910 - acc: 0.6639 - val_loss: 0.8062 - val_acc: 0.6667\n",
            "\n",
            "Epoch 00015: saving model to /content/gdrive/My Drive/pokemon_weights/subset/model-15.hdf5\n",
            "Epoch 16/50\n",
            "19/58 [========>.....................] - ETA: 13s - loss: 0.9926 - acc: 0.7000"
          ],
          "name": "stdout"
        },
        {
          "output_type": "stream",
          "text": [
            "/usr/local/lib/python3.6/dist-packages/PIL/Image.py:989: UserWarning: Palette images with Transparency expressed in bytes should be converted to RGBA images\n",
            "  \"Palette images with Transparency expressed in bytes should be \"\n"
          ],
          "name": "stderr"
        },
        {
          "output_type": "stream",
          "text": [
            "48/58 [=======================>......] - ETA: 3s - loss: 0.9576 - acc: 0.7009"
          ],
          "name": "stdout"
        },
        {
          "output_type": "stream",
          "text": [
            "/usr/local/lib/python3.6/dist-packages/PIL/Image.py:989: UserWarning: Palette images with Transparency expressed in bytes should be converted to RGBA images\n",
            "  \"Palette images with Transparency expressed in bytes should be \"\n"
          ],
          "name": "stderr"
        },
        {
          "output_type": "stream",
          "text": [
            "58/58 [==============================] - 18s 317ms/step - loss: 0.9554 - acc: 0.7007 - val_loss: 1.7862 - val_acc: 0.6250\n",
            "\n",
            "Epoch 00016: saving model to /content/gdrive/My Drive/pokemon_weights/subset/model-16.hdf5\n"
          ],
          "name": "stdout"
        },
        {
          "output_type": "stream",
          "text": [
            "/usr/local/lib/python3.6/dist-packages/PIL/Image.py:989: UserWarning: Palette images with Transparency expressed in bytes should be converted to RGBA images\n",
            "  \"Palette images with Transparency expressed in bytes should be \"\n"
          ],
          "name": "stderr"
        },
        {
          "output_type": "stream",
          "text": [
            "Epoch 17/50\n",
            "20/58 [=========>....................] - ETA: 15s - loss: 0.8381 - acc: 0.7453"
          ],
          "name": "stdout"
        },
        {
          "output_type": "stream",
          "text": [
            "/usr/local/lib/python3.6/dist-packages/PIL/Image.py:989: UserWarning: Palette images with Transparency expressed in bytes should be converted to RGBA images\n",
            "  \"Palette images with Transparency expressed in bytes should be \"\n",
            "/usr/local/lib/python3.6/dist-packages/PIL/Image.py:989: UserWarning: Palette images with Transparency expressed in bytes should be converted to RGBA images\n",
            "  \"Palette images with Transparency expressed in bytes should be \"\n"
          ],
          "name": "stderr"
        },
        {
          "output_type": "stream",
          "text": [
            "57/58 [============================>.] - ETA: 0s - loss: 0.9028 - acc: 0.7225\b\b\b\b\b\b\b\b\b\b\b\b\b\b\b\b\b\b\b\b\b\b\b\b\b\b\b\b\b\b\b\b\b\b\b\b\b\b\b\b\b\b\b\b\b\b\b\b\b\b\b\b\b\b\b\b\b\b\b\b\b\b\b\b\b\b\b\b\b\b\b\b\b\b\b\b\b\n",
            "Epoch 00016: saving model to /content/gdrive/My Drive/pokemon_weights/subset/model-16.hdf5\n",
            "58/58 [==============================] - 20s 342ms/step - loss: 0.9052 - acc: 0.7208 - val_loss: 1.9192 - val_acc: 0.5000\n",
            "\n",
            "Epoch 00017: saving model to /content/gdrive/My Drive/pokemon_weights/subset/model-17.hdf5\n",
            "Epoch 18/50\n",
            "16/58 [=======>......................] - ETA: 19s - loss: 0.8827 - acc: 0.7090"
          ],
          "name": "stdout"
        },
        {
          "output_type": "stream",
          "text": [
            "/usr/local/lib/python3.6/dist-packages/PIL/Image.py:989: UserWarning: Palette images with Transparency expressed in bytes should be converted to RGBA images\n",
            "  \"Palette images with Transparency expressed in bytes should be \"\n"
          ],
          "name": "stderr"
        },
        {
          "output_type": "stream",
          "text": [
            "33/58 [================>.............] - ETA: 9s - loss: 0.8733 - acc: 0.7295"
          ],
          "name": "stdout"
        },
        {
          "output_type": "stream",
          "text": [
            "/usr/local/lib/python3.6/dist-packages/PIL/Image.py:989: UserWarning: Palette images with Transparency expressed in bytes should be converted to RGBA images\n",
            "  \"Palette images with Transparency expressed in bytes should be \"\n"
          ],
          "name": "stderr"
        },
        {
          "output_type": "stream",
          "text": [
            "57/58 [============================>.] - ETA: 0s - loss: 0.8429 - acc: 0.7458\n",
            "58/58 [==============================] - 20s 351ms/step - loss: 0.8377 - acc: 0.7470 - val_loss: 2.2527 - val_acc: 0.5312\n",
            "\n",
            "Epoch 00018: saving model to /content/gdrive/My Drive/pokemon_weights/subset/model-18.hdf5\n",
            "Epoch 19/50\n",
            "16/58 [=======>......................] - ETA: 13s - loss: 0.9163 - acc: 0.7363"
          ],
          "name": "stdout"
        },
        {
          "output_type": "stream",
          "text": [
            "/usr/local/lib/python3.6/dist-packages/PIL/Image.py:989: UserWarning: Palette images with Transparency expressed in bytes should be converted to RGBA images\n",
            "  \"Palette images with Transparency expressed in bytes should be \"\n",
            "/usr/local/lib/python3.6/dist-packages/PIL/Image.py:989: UserWarning: Palette images with Transparency expressed in bytes should be converted to RGBA images\n",
            "  \"Palette images with Transparency expressed in bytes should be \"\n"
          ],
          "name": "stderr"
        },
        {
          "output_type": "stream",
          "text": [
            "57/58 [============================>.] - ETA: 0s - loss: 0.8225 - acc: 0.7485\n",
            "Epoch 00018: saving model to /content/gdrive/My Drive/pokemon_weights/subset/model-18.hdf5\n",
            "58/58 [==============================] - 19s 323ms/step - loss: 0.8220 - acc: 0.7474 - val_loss: 1.4390 - val_acc: 0.6562\n",
            "\n",
            "Epoch 00019: saving model to /content/gdrive/My Drive/pokemon_weights/subset/model-19.hdf5\n",
            "Epoch 20/50\n",
            " 8/58 [===>..........................] - ETA: 20s - loss: 0.8106 - acc: 0.7891"
          ],
          "name": "stdout"
        },
        {
          "output_type": "stream",
          "text": [
            "/usr/local/lib/python3.6/dist-packages/PIL/Image.py:989: UserWarning: Palette images with Transparency expressed in bytes should be converted to RGBA images\n",
            "  \"Palette images with Transparency expressed in bytes should be \"\n"
          ],
          "name": "stderr"
        },
        {
          "output_type": "stream",
          "text": [
            "31/58 [===============>..............] - ETA: 9s - loss: 0.7488 - acc: 0.7833 "
          ],
          "name": "stdout"
        },
        {
          "output_type": "stream",
          "text": [
            "/usr/local/lib/python3.6/dist-packages/PIL/Image.py:989: UserWarning: Palette images with Transparency expressed in bytes should be converted to RGBA images\n",
            "  \"Palette images with Transparency expressed in bytes should be \"\n"
          ],
          "name": "stderr"
        },
        {
          "output_type": "stream",
          "text": [
            "57/58 [============================>.] - ETA: 0s - loss: 0.7397 - acc: 0.7822\n",
            "Epoch 00019: saving model to /content/gdrive/My Drive/pokemon_weights/subset/model-19.hdf5\n",
            "58/58 [==============================] - 19s 319ms/step - loss: 0.7350 - acc: 0.7828 - val_loss: 1.8292 - val_acc: 0.5625\n",
            "\n",
            "Epoch 00020: saving model to /content/gdrive/My Drive/pokemon_weights/subset/model-20.hdf5\n",
            "Epoch 21/50\n",
            "17/58 [=======>......................] - ETA: 16s - loss: 0.5797 - acc: 0.8290"
          ],
          "name": "stdout"
        },
        {
          "output_type": "stream",
          "text": [
            "/usr/local/lib/python3.6/dist-packages/PIL/Image.py:989: UserWarning: Palette images with Transparency expressed in bytes should be converted to RGBA images\n",
            "  \"Palette images with Transparency expressed in bytes should be \"\n"
          ],
          "name": "stderr"
        },
        {
          "output_type": "stream",
          "text": [
            "38/58 [==================>...........] - ETA: 6s - loss: 0.6891 - acc: 0.7985"
          ],
          "name": "stdout"
        },
        {
          "output_type": "stream",
          "text": [
            "/usr/local/lib/python3.6/dist-packages/PIL/Image.py:989: UserWarning: Palette images with Transparency expressed in bytes should be converted to RGBA images\n",
            "  \"Palette images with Transparency expressed in bytes should be \"\n"
          ],
          "name": "stderr"
        },
        {
          "output_type": "stream",
          "text": [
            "58/58 [==============================] - 18s 314ms/step - loss: 0.6700 - acc: 0.8009 - val_loss: 1.6634 - val_acc: 0.5000\n",
            "\n",
            "Epoch 00021: saving model to /content/gdrive/My Drive/pokemon_weights/subset/model-21.hdf5\n",
            "Epoch 22/50\n",
            "21/58 [=========>....................] - ETA: 12s - loss: 0.7550 - acc: 0.7929"
          ],
          "name": "stdout"
        },
        {
          "output_type": "stream",
          "text": [
            "/usr/local/lib/python3.6/dist-packages/PIL/Image.py:989: UserWarning: Palette images with Transparency expressed in bytes should be converted to RGBA images\n",
            "  \"Palette images with Transparency expressed in bytes should be \"\n"
          ],
          "name": "stderr"
        },
        {
          "output_type": "stream",
          "text": [
            "45/58 [======================>.......] - ETA: 4s - loss: 0.7162 - acc: 0.7950"
          ],
          "name": "stdout"
        },
        {
          "output_type": "stream",
          "text": [
            "/usr/local/lib/python3.6/dist-packages/PIL/Image.py:989: UserWarning: Palette images with Transparency expressed in bytes should be converted to RGBA images\n",
            "  \"Palette images with Transparency expressed in bytes should be \"\n"
          ],
          "name": "stderr"
        },
        {
          "output_type": "stream",
          "text": [
            "57/58 [============================>.] - ETA: 0s - loss: 0.6879 - acc: 0.7981\n",
            "Epoch 00021: saving model to /content/gdrive/My Drive/pokemon_weights/subset/model-21.hdf5\n",
            "58/58 [==============================] - 18s 312ms/step - loss: 0.6855 - acc: 0.7984 - val_loss: 1.4208 - val_acc: 0.6562\n",
            "\n",
            "Epoch 00022: saving model to /content/gdrive/My Drive/pokemon_weights/subset/model-22.hdf5\n",
            "Epoch 23/50\n",
            "15/58 [======>.......................] - ETA: 21s - loss: 0.6277 - acc: 0.8333"
          ],
          "name": "stdout"
        },
        {
          "output_type": "stream",
          "text": [
            "/usr/local/lib/python3.6/dist-packages/PIL/Image.py:989: UserWarning: Palette images with Transparency expressed in bytes should be converted to RGBA images\n",
            "  \"Palette images with Transparency expressed in bytes should be \"\n"
          ],
          "name": "stderr"
        },
        {
          "output_type": "stream",
          "text": [
            "27/58 [============>.................] - ETA: 12s - loss: 0.5939 - acc: 0.8356"
          ],
          "name": "stdout"
        },
        {
          "output_type": "stream",
          "text": [
            "/usr/local/lib/python3.6/dist-packages/PIL/Image.py:989: UserWarning: Palette images with Transparency expressed in bytes should be converted to RGBA images\n",
            "  \"Palette images with Transparency expressed in bytes should be \"\n"
          ],
          "name": "stderr"
        },
        {
          "output_type": "stream",
          "text": [
            "58/58 [==============================] - 20s 343ms/step - loss: 0.6216 - acc: 0.8211 - val_loss: 1.7300 - val_acc: 0.5938\n",
            "\n",
            "Epoch 00023: saving model to /content/gdrive/My Drive/pokemon_weights/subset/model-23.hdf5\n",
            "Epoch 24/50\n",
            "38/58 [==================>...........] - ETA: 7s - loss: 0.5576 - acc: 0.8265"
          ],
          "name": "stdout"
        },
        {
          "output_type": "stream",
          "text": [
            "/usr/local/lib/python3.6/dist-packages/PIL/Image.py:989: UserWarning: Palette images with Transparency expressed in bytes should be converted to RGBA images\n",
            "  \"Palette images with Transparency expressed in bytes should be \"\n"
          ],
          "name": "stderr"
        },
        {
          "output_type": "stream",
          "text": [
            "\b\b\b\b\b\b\b\b\b\b\b\b\b\b\b\b\b\b\b\b\b\b\b\b\b\b\b\b\b\b\b\b\b\b\b\b\b\b\b\b\b\b\b\b\b\b\b\b\b\b\b\b\b\b\b\b\b\b\b\b\b\b\b\b\b\b\b\b\b\b\b\b\b\b\b\b\b\r39/58 [===================>..........] - ETA: 7s - loss: 0.5519 - acc: 0.8285"
          ],
          "name": "stdout"
        },
        {
          "output_type": "stream",
          "text": [
            "/usr/local/lib/python3.6/dist-packages/PIL/Image.py:989: UserWarning: Palette images with Transparency expressed in bytes should be converted to RGBA images\n",
            "  \"Palette images with Transparency expressed in bytes should be \"\n"
          ],
          "name": "stderr"
        },
        {
          "output_type": "stream",
          "text": [
            "57/58 [============================>.] - ETA: 0s - loss: 0.5750 - acc: 0.8212\n",
            "58/58 [==============================] - 20s 339ms/step - loss: 0.5752 - acc: 0.8215 - val_loss: 2.4122 - val_acc: 0.5312\n",
            "\n",
            "Epoch 00024: saving model to /content/gdrive/My Drive/pokemon_weights/subset/model-24.hdf5\n",
            "Epoch 25/50\n",
            " 1/58 [..............................] - ETA: 58s - loss: 0.5914 - acc: 0.8125"
          ],
          "name": "stdout"
        },
        {
          "output_type": "stream",
          "text": [
            "/usr/local/lib/python3.6/dist-packages/PIL/Image.py:989: UserWarning: Palette images with Transparency expressed in bytes should be converted to RGBA images\n",
            "  \"Palette images with Transparency expressed in bytes should be \"\n"
          ],
          "name": "stderr"
        },
        {
          "output_type": "stream",
          "text": [
            "15/58 [======>.......................] - ETA: 14s - loss: 0.4974 - acc: 0.8558"
          ],
          "name": "stdout"
        },
        {
          "output_type": "stream",
          "text": [
            "/usr/local/lib/python3.6/dist-packages/PIL/Image.py:989: UserWarning: Palette images with Transparency expressed in bytes should be converted to RGBA images\n",
            "  \"Palette images with Transparency expressed in bytes should be \"\n"
          ],
          "name": "stderr"
        },
        {
          "output_type": "stream",
          "text": [
            "58/58 [==============================] - 18s 315ms/step - loss: 0.5374 - acc: 0.8318 - val_loss: 1.1511 - val_acc: 0.6875\n",
            "\n",
            "Epoch 00025: saving model to /content/gdrive/My Drive/pokemon_weights/subset/model-25.hdf5\n",
            "Epoch 26/50\n",
            " 7/58 [==>...........................] - ETA: 17s - loss: 0.4815 - acc: 0.8705"
          ],
          "name": "stdout"
        },
        {
          "output_type": "stream",
          "text": [
            "/usr/local/lib/python3.6/dist-packages/PIL/Image.py:989: UserWarning: Palette images with Transparency expressed in bytes should be converted to RGBA images\n",
            "  \"Palette images with Transparency expressed in bytes should be \"\n"
          ],
          "name": "stderr"
        },
        {
          "output_type": "stream",
          "text": [
            "22/58 [==========>...................] - ETA: 11s - loss: 0.5174 - acc: 0.8509"
          ],
          "name": "stdout"
        },
        {
          "output_type": "stream",
          "text": [
            "/usr/local/lib/python3.6/dist-packages/PIL/Image.py:989: UserWarning: Palette images with Transparency expressed in bytes should be converted to RGBA images\n",
            "  \"Palette images with Transparency expressed in bytes should be \"\n"
          ],
          "name": "stderr"
        },
        {
          "output_type": "stream",
          "text": [
            "58/58 [==============================] - 18s 317ms/step - loss: 0.5009 - acc: 0.8497 - val_loss: 1.3850 - val_acc: 0.6250\n",
            "\n",
            "Epoch 00026: saving model to /content/gdrive/My Drive/pokemon_weights/subset/model-26.hdf5\n",
            "Epoch 27/50\n"
          ],
          "name": "stdout"
        },
        {
          "output_type": "stream",
          "text": [
            "/usr/local/lib/python3.6/dist-packages/PIL/Image.py:989: UserWarning: Palette images with Transparency expressed in bytes should be converted to RGBA images\n",
            "  \"Palette images with Transparency expressed in bytes should be \"\n"
          ],
          "name": "stderr"
        },
        {
          "output_type": "stream",
          "text": [
            " 7/58 [==>...........................] - ETA: 30s - loss: 0.4364 - acc: 0.8661"
          ],
          "name": "stdout"
        },
        {
          "output_type": "stream",
          "text": [
            "/usr/local/lib/python3.6/dist-packages/PIL/Image.py:989: UserWarning: Palette images with Transparency expressed in bytes should be converted to RGBA images\n",
            "  \"Palette images with Transparency expressed in bytes should be \"\n"
          ],
          "name": "stderr"
        },
        {
          "output_type": "stream",
          "text": [
            "57/58 [============================>.] - ETA: 0s - loss: 0.4645 - acc: 0.8609\n",
            "Epoch 00026: saving model to /content/gdrive/My Drive/pokemon_weights/subset/model-26.hdf5\n",
            "58/58 [==============================] - 20s 340ms/step - loss: 0.4599 - acc: 0.8622 - val_loss: 1.6145 - val_acc: 0.6250\n",
            "\n",
            "Epoch 00027: saving model to /content/gdrive/My Drive/pokemon_weights/subset/model-27.hdf5\n",
            "Epoch 28/50\n",
            "16/58 [=======>......................] - ETA: 19s - loss: 0.4600 - acc: 0.8691"
          ],
          "name": "stdout"
        },
        {
          "output_type": "stream",
          "text": [
            "/usr/local/lib/python3.6/dist-packages/PIL/Image.py:989: UserWarning: Palette images with Transparency expressed in bytes should be converted to RGBA images\n",
            "  \"Palette images with Transparency expressed in bytes should be \"\n"
          ],
          "name": "stderr"
        },
        {
          "output_type": "stream",
          "text": [
            "41/58 [====================>.........] - ETA: 6s - loss: 0.3995 - acc: 0.8736"
          ],
          "name": "stdout"
        },
        {
          "output_type": "stream",
          "text": [
            "/usr/local/lib/python3.6/dist-packages/PIL/Image.py:989: UserWarning: Palette images with Transparency expressed in bytes should be converted to RGBA images\n",
            "  \"Palette images with Transparency expressed in bytes should be \"\n"
          ],
          "name": "stderr"
        },
        {
          "output_type": "stream",
          "text": [
            "57/58 [============================>.] - ETA: 0s - loss: 0.4311 - acc: 0.8641Epoch 28/50\n",
            "Epoch 00027: saving model to /content/gdrive/My Drive/pokemon_weights/subset/model-27.hdf5\n",
            "58/58 [==============================] - 20s 341ms/step - loss: 0.4337 - acc: 0.8627 - val_loss: 1.5768 - val_acc: 0.6250\n",
            "\n",
            "Epoch 00028: saving model to /content/gdrive/My Drive/pokemon_weights/subset/model-28.hdf5\n",
            "Epoch 29/50\n"
          ],
          "name": "stdout"
        },
        {
          "output_type": "stream",
          "text": [
            "/usr/local/lib/python3.6/dist-packages/PIL/Image.py:989: UserWarning: Palette images with Transparency expressed in bytes should be converted to RGBA images\n",
            "  \"Palette images with Transparency expressed in bytes should be \"\n"
          ],
          "name": "stderr"
        },
        {
          "output_type": "stream",
          "text": [
            " 5/58 [=>............................] - ETA: 44s - loss: 0.4949 - acc: 0.8688"
          ],
          "name": "stdout"
        },
        {
          "output_type": "stream",
          "text": [
            "/usr/local/lib/python3.6/dist-packages/PIL/Image.py:989: UserWarning: Palette images with Transparency expressed in bytes should be converted to RGBA images\n",
            "  \"Palette images with Transparency expressed in bytes should be \"\n"
          ],
          "name": "stderr"
        },
        {
          "output_type": "stream",
          "text": [
            "57/58 [============================>.] - ETA: 0s - loss: 0.4070 - acc: 0.8685Epoch 29/50\n",
            "58/58 [==============================] - 20s 349ms/step - loss: 0.4153 - acc: 0.8665 - val_loss: 1.2938 - val_acc: 0.6875\n",
            "\n",
            "Epoch 00029: saving model to /content/gdrive/My Drive/pokemon_weights/subset/model-29.hdf5\n",
            "Epoch 30/50\n"
          ],
          "name": "stdout"
        },
        {
          "output_type": "stream",
          "text": [
            "/usr/local/lib/python3.6/dist-packages/PIL/Image.py:989: UserWarning: Palette images with Transparency expressed in bytes should be converted to RGBA images\n",
            "  \"Palette images with Transparency expressed in bytes should be \"\n"
          ],
          "name": "stderr"
        },
        {
          "output_type": "stream",
          "text": [
            "15/58 [======>.......................] - ETA: 19s - loss: 0.3933 - acc: 0.8625"
          ],
          "name": "stdout"
        },
        {
          "output_type": "stream",
          "text": [
            "/usr/local/lib/python3.6/dist-packages/PIL/Image.py:989: UserWarning: Palette images with Transparency expressed in bytes should be converted to RGBA images\n",
            "  \"Palette images with Transparency expressed in bytes should be \"\n"
          ],
          "name": "stderr"
        },
        {
          "output_type": "stream",
          "text": [
            "57/58 [============================>.] - ETA: 0s - loss: 0.3838 - acc: 0.8828Epoch 30/50\n",
            "\n",
            "58/58 [==============================] - 20s 352ms/step - loss: 0.3807 - acc: 0.8837 - val_loss: 1.8397 - val_acc: 0.7619\n",
            "\n",
            "Epoch 00030: saving model to /content/gdrive/My Drive/pokemon_weights/subset/model-30.hdf5\n",
            "Epoch 31/50\n"
          ],
          "name": "stdout"
        },
        {
          "output_type": "stream",
          "text": [
            "/usr/local/lib/python3.6/dist-packages/PIL/Image.py:989: UserWarning: Palette images with Transparency expressed in bytes should be converted to RGBA images\n",
            "  \"Palette images with Transparency expressed in bytes should be \"\n"
          ],
          "name": "stderr"
        },
        {
          "output_type": "stream",
          "text": [
            " 2/58 [>.............................] - ETA: 3:01 - loss: 0.3985 - acc: 0.8438"
          ],
          "name": "stdout"
        },
        {
          "output_type": "stream",
          "text": [
            "/usr/local/lib/python3.6/dist-packages/PIL/Image.py:989: UserWarning: Palette images with Transparency expressed in bytes should be converted to RGBA images\n",
            "  \"Palette images with Transparency expressed in bytes should be \"\n"
          ],
          "name": "stderr"
        },
        {
          "output_type": "stream",
          "text": [
            "26/58 [============>.................] - ETA: 16s - loss: 0.3888 - acc: 0.8798"
          ],
          "name": "stdout"
        },
        {
          "output_type": "stream",
          "text": [
            "/usr/local/lib/python3.6/dist-packages/PIL/Image.py:989: UserWarning: Palette images with Transparency expressed in bytes should be converted to RGBA images\n",
            "  \"Palette images with Transparency expressed in bytes should be \"\n"
          ],
          "name": "stderr"
        },
        {
          "output_type": "stream",
          "text": [
            "58/58 [==============================] - 22s 383ms/step - loss: 0.3662 - acc: 0.8870 - val_loss: 1.6931 - val_acc: 0.6562\n",
            "\n",
            "\n",
            "Epoch 00031: saving model to /content/gdrive/My Drive/pokemon_weights/subset/model-31.hdf5\n",
            "Epoch 32/50\n",
            "37/58 [==================>...........] - ETA: 7s - loss: 0.3462 - acc: 0.8919"
          ],
          "name": "stdout"
        },
        {
          "output_type": "stream",
          "text": [
            "/usr/local/lib/python3.6/dist-packages/PIL/Image.py:989: UserWarning: Palette images with Transparency expressed in bytes should be converted to RGBA images\n",
            "  \"Palette images with Transparency expressed in bytes should be \"\n"
          ],
          "name": "stderr"
        },
        {
          "output_type": "stream",
          "text": [
            "39/58 [===================>..........] - ETA: 7s - loss: 0.3382 - acc: 0.8950"
          ],
          "name": "stdout"
        },
        {
          "output_type": "stream",
          "text": [
            "/usr/local/lib/python3.6/dist-packages/PIL/Image.py:989: UserWarning: Palette images with Transparency expressed in bytes should be converted to RGBA images\n",
            "  \"Palette images with Transparency expressed in bytes should be \"\n"
          ],
          "name": "stderr"
        },
        {
          "output_type": "stream",
          "text": [
            "57/58 [============================>.] - ETA: 0s - loss: 0.3422 - acc: 0.8968\n",
            "Epoch 00031: saving model to /content/gdrive/My Drive/pokemon_weights/subset/model-31.hdf5\n",
            "58/58 [==============================] - 21s 357ms/step - loss: 0.3390 - acc: 0.8975 - val_loss: 1.3864 - val_acc: 0.6562\n",
            "\n",
            "Epoch 00032: saving model to /content/gdrive/My Drive/pokemon_weights/subset/model-32.hdf5\n",
            "Epoch 33/50\n"
          ],
          "name": "stdout"
        },
        {
          "output_type": "stream",
          "text": [
            "/usr/local/lib/python3.6/dist-packages/PIL/Image.py:989: UserWarning: Palette images with Transparency expressed in bytes should be converted to RGBA images\n",
            "  \"Palette images with Transparency expressed in bytes should be \"\n"
          ],
          "name": "stderr"
        },
        {
          "output_type": "stream",
          "text": [
            "37/58 [==================>...........] - ETA: 7s - loss: 0.3903 - acc: 0.8875"
          ],
          "name": "stdout"
        },
        {
          "output_type": "stream",
          "text": [
            "/usr/local/lib/python3.6/dist-packages/PIL/Image.py:989: UserWarning: Palette images with Transparency expressed in bytes should be converted to RGBA images\n",
            "  \"Palette images with Transparency expressed in bytes should be \"\n"
          ],
          "name": "stderr"
        },
        {
          "output_type": "stream",
          "text": [
            "57/58 [============================>.] - ETA: 0s - loss: 0.3793 - acc: 0.8875\n",
            "Epoch 00032: saving model to /content/gdrive/My Drive/pokemon_weights/subset/model-32.hdf5\n",
            "58/58 [==============================] - 18s 312ms/step - loss: 0.3818 - acc: 0.8867 - val_loss: 2.2586 - val_acc: 0.6562\n",
            "\n",
            "Epoch 00033: saving model to /content/gdrive/My Drive/pokemon_weights/subset/model-33.hdf5\n",
            "Epoch 34/50\n"
          ],
          "name": "stdout"
        },
        {
          "output_type": "stream",
          "text": [
            "/usr/local/lib/python3.6/dist-packages/PIL/Image.py:989: UserWarning: Palette images with Transparency expressed in bytes should be converted to RGBA images\n",
            "  \"Palette images with Transparency expressed in bytes should be \"\n"
          ],
          "name": "stderr"
        },
        {
          "output_type": "stream",
          "text": [
            "38/58 [==================>...........] - ETA: 7s - loss: 0.3867 - acc: 0.8898"
          ],
          "name": "stdout"
        },
        {
          "output_type": "stream",
          "text": [
            "/usr/local/lib/python3.6/dist-packages/PIL/Image.py:989: UserWarning: Palette images with Transparency expressed in bytes should be converted to RGBA images\n",
            "  \"Palette images with Transparency expressed in bytes should be \"\n"
          ],
          "name": "stderr"
        },
        {
          "output_type": "stream",
          "text": [
            "58/58 [==============================] - 20s 342ms/step - loss: 0.3922 - acc: 0.8914 - val_loss: 1.5756 - val_acc: 0.5938\n",
            "\n",
            "Epoch 00034: saving model to /content/gdrive/My Drive/pokemon_weights/subset/model-34.hdf5\n",
            "Epoch 35/50\n",
            "22/58 [==========>...................] - ETA: 14s - loss: 0.3144 - acc: 0.9105"
          ],
          "name": "stdout"
        },
        {
          "output_type": "stream",
          "text": [
            "/usr/local/lib/python3.6/dist-packages/PIL/Image.py:989: UserWarning: Palette images with Transparency expressed in bytes should be converted to RGBA images\n",
            "  \"Palette images with Transparency expressed in bytes should be \"\n"
          ],
          "name": "stderr"
        },
        {
          "output_type": "stream",
          "text": [
            "41/58 [====================>.........] - ETA: 6s - loss: 0.2981 - acc: 0.9163"
          ],
          "name": "stdout"
        },
        {
          "output_type": "stream",
          "text": [
            "/usr/local/lib/python3.6/dist-packages/PIL/Image.py:989: UserWarning: Palette images with Transparency expressed in bytes should be converted to RGBA images\n",
            "  \"Palette images with Transparency expressed in bytes should be \"\n"
          ],
          "name": "stderr"
        },
        {
          "output_type": "stream",
          "text": [
            "58/58 [==============================] - 20s 352ms/step - loss: 0.3197 - acc: 0.9118 - val_loss: 1.8452 - val_acc: 0.6562\n",
            "\n",
            "Epoch 00035: saving model to /content/gdrive/My Drive/pokemon_weights/subset/model-35.hdf5\n",
            "Epoch 36/50\n",
            " 8/58 [===>..........................] - ETA: 26s - loss: 0.3096 - acc: 0.8984"
          ],
          "name": "stdout"
        },
        {
          "output_type": "stream",
          "text": [
            "/usr/local/lib/python3.6/dist-packages/PIL/Image.py:989: UserWarning: Palette images with Transparency expressed in bytes should be converted to RGBA images\n",
            "  \"Palette images with Transparency expressed in bytes should be \"\n"
          ],
          "name": "stderr"
        },
        {
          "output_type": "stream",
          "text": [
            "57/58 [============================>.] - ETA: 0s - loss: 0.2947 - acc: 0.9103\n",
            "Epoch 00035: saving model to /content/gdrive/My Drive/pokemon_weights/subset/model-35.hdf5\n",
            "58/58 [==============================] - 20s 340ms/step - loss: 0.2928 - acc: 0.9113 - val_loss: 1.4781 - val_acc: 0.6250\n",
            "\n",
            "Epoch 00036: saving model to /content/gdrive/My Drive/pokemon_weights/subset/model-36.hdf5\n",
            "Epoch 37/50\n",
            "13/58 [=====>........................] - ETA: 19s - loss: 0.4153 - acc: 0.8659"
          ],
          "name": "stdout"
        },
        {
          "output_type": "stream",
          "text": [
            "/usr/local/lib/python3.6/dist-packages/PIL/Image.py:989: UserWarning: Palette images with Transparency expressed in bytes should be converted to RGBA images\n",
            "  \"Palette images with Transparency expressed in bytes should be \"\n"
          ],
          "name": "stderr"
        },
        {
          "output_type": "stream",
          "text": [
            "35/58 [=================>............] - ETA: 9s - loss: 0.3284 - acc: 0.8948 "
          ],
          "name": "stdout"
        },
        {
          "output_type": "stream",
          "text": [
            "/usr/local/lib/python3.6/dist-packages/PIL/Image.py:989: UserWarning: Palette images with Transparency expressed in bytes should be converted to RGBA images\n",
            "  \"Palette images with Transparency expressed in bytes should be \"\n"
          ],
          "name": "stderr"
        },
        {
          "output_type": "stream",
          "text": [
            "57/58 [============================>.] - ETA: 0s - loss: 0.3034 - acc: 0.8981\n",
            "58/58 [==============================] - 20s 342ms/step - loss: 0.3079 - acc: 0.8972 - val_loss: 3.4153 - val_acc: 0.5625\n",
            "\n",
            "Epoch 00037: saving model to /content/gdrive/My Drive/pokemon_weights/subset/model-37.hdf5\n",
            "Epoch 38/50\n"
          ],
          "name": "stdout"
        },
        {
          "output_type": "stream",
          "text": [
            "/usr/local/lib/python3.6/dist-packages/PIL/Image.py:989: UserWarning: Palette images with Transparency expressed in bytes should be converted to RGBA images\n",
            "  \"Palette images with Transparency expressed in bytes should be \"\n"
          ],
          "name": "stderr"
        },
        {
          "output_type": "stream",
          "text": [
            "13/58 [=====>........................] - ETA: 20s - loss: 0.3458 - acc: 0.9034"
          ],
          "name": "stdout"
        },
        {
          "output_type": "stream",
          "text": [
            "/usr/local/lib/python3.6/dist-packages/PIL/Image.py:989: UserWarning: Palette images with Transparency expressed in bytes should be converted to RGBA images\n",
            "  \"Palette images with Transparency expressed in bytes should be \"\n"
          ],
          "name": "stderr"
        },
        {
          "output_type": "stream",
          "text": [
            "58/58 [==============================] - 20s 342ms/step - loss: 0.3079 - acc: 0.8972 - val_loss: 3.4153 - val_acc: 0.5625\n",
            "Epoch 38/50\n",
            "58/58 [==============================] - 20s 349ms/step - loss: 0.3053 - acc: 0.9126 - val_loss: 1.8029 - val_acc: 0.7188\n",
            "\n",
            "Epoch 00038: saving model to /content/gdrive/My Drive/pokemon_weights/subset/model-38.hdf5\n",
            "Epoch 39/50\n"
          ],
          "name": "stdout"
        },
        {
          "output_type": "stream",
          "text": [
            "/usr/local/lib/python3.6/dist-packages/PIL/Image.py:989: UserWarning: Palette images with Transparency expressed in bytes should be converted to RGBA images\n",
            "  \"Palette images with Transparency expressed in bytes should be \"\n"
          ],
          "name": "stderr"
        },
        {
          "output_type": "stream",
          "text": [
            "25/58 [===========>..................] - ETA: 15s - loss: 0.3131 - acc: 0.9175"
          ],
          "name": "stdout"
        },
        {
          "output_type": "stream",
          "text": [
            "/usr/local/lib/python3.6/dist-packages/PIL/Image.py:989: UserWarning: Palette images with Transparency expressed in bytes should be converted to RGBA images\n",
            "  \"Palette images with Transparency expressed in bytes should be \"\n"
          ],
          "name": "stderr"
        },
        {
          "output_type": "stream",
          "text": [
            "57/58 [============================>.] - ETA: 0s - loss: 0.3192 - acc: 0.9089\n",
            "Epoch 00038: saving model to /content/gdrive/My Drive/pokemon_weights/subset/model-38.hdf5\n",
            "58/58 [==============================] - 21s 367ms/step - loss: 0.3165 - acc: 0.9094 - val_loss: 1.5280 - val_acc: 0.6875\n",
            "\n",
            "Epoch 00039: saving model to /content/gdrive/My Drive/pokemon_weights/subset/model-39.hdf5\n"
          ],
          "name": "stdout"
        },
        {
          "output_type": "stream",
          "text": [
            "/usr/local/lib/python3.6/dist-packages/PIL/Image.py:989: UserWarning: Palette images with Transparency expressed in bytes should be converted to RGBA images\n",
            "  \"Palette images with Transparency expressed in bytes should be \"\n"
          ],
          "name": "stderr"
        },
        {
          "output_type": "stream",
          "text": [
            "Epoch 40/50\n",
            "24/58 [===========>..................] - ETA: 10s - loss: 0.2512 - acc: 0.9128"
          ],
          "name": "stdout"
        },
        {
          "output_type": "stream",
          "text": [
            "/usr/local/lib/python3.6/dist-packages/PIL/Image.py:989: UserWarning: Palette images with Transparency expressed in bytes should be converted to RGBA images\n",
            "  \"Palette images with Transparency expressed in bytes should be \"\n"
          ],
          "name": "stderr"
        },
        {
          "output_type": "stream",
          "text": [
            "58/58 [==============================] - 19s 321ms/step - loss: 0.2512 - acc: 0.9206 - val_loss: 2.2611 - val_acc: 0.5938\n",
            "\n",
            "Epoch 00040: saving model to /content/gdrive/My Drive/pokemon_weights/subset/model-40.hdf5\n",
            "Epoch 41/50\n",
            " 9/58 [===>..........................] - ETA: 25s - loss: 0.2501 - acc: 0.9062"
          ],
          "name": "stdout"
        },
        {
          "output_type": "stream",
          "text": [
            "/usr/local/lib/python3.6/dist-packages/PIL/Image.py:989: UserWarning: Palette images with Transparency expressed in bytes should be converted to RGBA images\n",
            "  \"Palette images with Transparency expressed in bytes should be \"\n"
          ],
          "name": "stderr"
        },
        {
          "output_type": "stream",
          "text": [
            "11/58 [====>.........................] - ETA: 21s - loss: 0.2376 - acc: 0.9148"
          ],
          "name": "stdout"
        },
        {
          "output_type": "stream",
          "text": [
            "/usr/local/lib/python3.6/dist-packages/PIL/Image.py:989: UserWarning: Palette images with Transparency expressed in bytes should be converted to RGBA images\n",
            "  \"Palette images with Transparency expressed in bytes should be \"\n"
          ],
          "name": "stderr"
        },
        {
          "output_type": "stream",
          "text": [
            "57/58 [============================>.] - ETA: 0s - loss: 0.2655 - acc: 0.9238\n",
            "Epoch 41/50\n",
            "58/58 [==============================] - 20s 346ms/step - loss: 0.2646 - acc: 0.9235 - val_loss: 2.2385 - val_acc: 0.6562\n",
            "\n",
            "Epoch 00041: saving model to /content/gdrive/My Drive/pokemon_weights/subset/model-41.hdf5\n",
            "Epoch 42/50\n",
            " 4/58 [=>............................] - ETA: 59s - loss: 0.2582 - acc: 0.9062 "
          ],
          "name": "stdout"
        },
        {
          "output_type": "stream",
          "text": [
            "/usr/local/lib/python3.6/dist-packages/PIL/Image.py:989: UserWarning: Palette images with Transparency expressed in bytes should be converted to RGBA images\n",
            "  \"Palette images with Transparency expressed in bytes should be \"\n"
          ],
          "name": "stderr"
        },
        {
          "output_type": "stream",
          "text": [
            "14/58 [======>.......................] - ETA: 21s - loss: 0.2737 - acc: 0.9040"
          ],
          "name": "stdout"
        },
        {
          "output_type": "stream",
          "text": [
            "/usr/local/lib/python3.6/dist-packages/PIL/Image.py:989: UserWarning: Palette images with Transparency expressed in bytes should be converted to RGBA images\n",
            "  \"Palette images with Transparency expressed in bytes should be \"\n"
          ],
          "name": "stderr"
        },
        {
          "output_type": "stream",
          "text": [
            "57/58 [============================>.] - ETA: 0s - loss: 0.2517 - acc: 0.9218\n",
            "58/58 [==============================] - 20s 347ms/step - loss: 0.2538 - acc: 0.9226 - val_loss: 1.9577 - val_acc: 0.5938\n",
            "\n",
            "Epoch 00042: saving model to /content/gdrive/My Drive/pokemon_weights/subset/model-42.hdf5\n",
            "Epoch 43/50\n"
          ],
          "name": "stdout"
        },
        {
          "output_type": "stream",
          "text": [
            "/usr/local/lib/python3.6/dist-packages/PIL/Image.py:989: UserWarning: Palette images with Transparency expressed in bytes should be converted to RGBA images\n",
            "  \"Palette images with Transparency expressed in bytes should be \"\n"
          ],
          "name": "stderr"
        },
        {
          "output_type": "stream",
          "text": [
            "58/58 [==============================] - 19s 324ms/step - loss: 0.2585 - acc: 0.9186 - val_loss: 1.1709 - val_acc: 0.6875\n",
            "\n",
            "Epoch 00043: saving model to /content/gdrive/My Drive/pokemon_weights/subset/model-43.hdf5\n",
            "Epoch 44/50\n",
            "46/58 [======================>.......] - ETA: 3s - loss: 0.2426 - acc: 0.9317"
          ],
          "name": "stdout"
        },
        {
          "output_type": "stream",
          "text": [
            "/usr/local/lib/python3.6/dist-packages/PIL/Image.py:989: UserWarning: Palette images with Transparency expressed in bytes should be converted to RGBA images\n",
            "  \"Palette images with Transparency expressed in bytes should be \"\n"
          ],
          "name": "stderr"
        },
        {
          "output_type": "stream",
          "text": [
            "53/58 [==========================>...] - ETA: 1s - loss: 0.2391 - acc: 0.9348"
          ],
          "name": "stdout"
        },
        {
          "output_type": "stream",
          "text": [
            "/usr/local/lib/python3.6/dist-packages/PIL/Image.py:989: UserWarning: Palette images with Transparency expressed in bytes should be converted to RGBA images\n",
            "  \"Palette images with Transparency expressed in bytes should be \"\n"
          ],
          "name": "stderr"
        },
        {
          "output_type": "stream",
          "text": [
            "58/58 [==============================] - 18s 314ms/step - loss: 0.2340 - acc: 0.9356 - val_loss: 1.1071 - val_acc: 0.6562\n",
            "\n",
            "Epoch 00044: saving model to /content/gdrive/My Drive/pokemon_weights/subset/model-44.hdf5\n"
          ],
          "name": "stdout"
        },
        {
          "output_type": "stream",
          "text": [
            "/usr/local/lib/python3.6/dist-packages/PIL/Image.py:989: UserWarning: Palette images with Transparency expressed in bytes should be converted to RGBA images\n",
            "  \"Palette images with Transparency expressed in bytes should be \"\n"
          ],
          "name": "stderr"
        },
        {
          "output_type": "stream",
          "text": [
            "Epoch 45/50\n",
            "57/58 [============================>.] - ETA: 0s - loss: 0.2294 - acc: 0.9265\n",
            "\n",
            "58/58 [==============================] - 18s 317ms/step - loss: 0.2322 - acc: 0.9256 - val_loss: 3.0123 - val_acc: 0.5714\n",
            "\n",
            "Epoch 00045: saving model to /content/gdrive/My Drive/pokemon_weights/subset/model-45.hdf5\n",
            "Epoch 46/50\n",
            "25/58 [===========>..................] - ETA: 16s - loss: 0.2209 - acc: 0.9400"
          ],
          "name": "stdout"
        },
        {
          "output_type": "stream",
          "text": [
            "/usr/local/lib/python3.6/dist-packages/PIL/Image.py:989: UserWarning: Palette images with Transparency expressed in bytes should be converted to RGBA images\n",
            "  \"Palette images with Transparency expressed in bytes should be \"\n"
          ],
          "name": "stderr"
        },
        {
          "output_type": "stream",
          "text": [
            "46/58 [======================>.......] - ETA: 5s - loss: 0.2336 - acc: 0.9357"
          ],
          "name": "stdout"
        },
        {
          "output_type": "stream",
          "text": [
            "/usr/local/lib/python3.6/dist-packages/PIL/Image.py:989: UserWarning: Palette images with Transparency expressed in bytes should be converted to RGBA images\n",
            "  \"Palette images with Transparency expressed in bytes should be \"\n"
          ],
          "name": "stderr"
        },
        {
          "output_type": "stream",
          "text": [
            "57/58 [============================>.] - ETA: 0s - loss: 0.2420 - acc: 0.9344\n",
            "Epoch 46/50\n",
            "58/58 [==============================] - 23s 393ms/step - loss: 0.2396 - acc: 0.9350 - val_loss: 0.7528 - val_acc: 0.7812\n",
            "\n",
            "Epoch 00046: saving model to /content/gdrive/My Drive/pokemon_weights/subset/model-46.hdf5\n",
            "Epoch 47/50\n",
            " 4/58 [=>............................] - ETA: 49s - loss: 0.3330 - acc: 0.9219 "
          ],
          "name": "stdout"
        },
        {
          "output_type": "stream",
          "text": [
            "/usr/local/lib/python3.6/dist-packages/PIL/Image.py:989: UserWarning: Palette images with Transparency expressed in bytes should be converted to RGBA images\n",
            "  \"Palette images with Transparency expressed in bytes should be \"\n"
          ],
          "name": "stderr"
        },
        {
          "output_type": "stream",
          "text": [
            "42/58 [====================>.........] - ETA: 6s - loss: 0.2024 - acc: 0.9482"
          ],
          "name": "stdout"
        },
        {
          "output_type": "stream",
          "text": [
            "/usr/local/lib/python3.6/dist-packages/PIL/Image.py:989: UserWarning: Palette images with Transparency expressed in bytes should be converted to RGBA images\n",
            "  \"Palette images with Transparency expressed in bytes should be \"\n"
          ],
          "name": "stderr"
        },
        {
          "output_type": "stream",
          "text": [
            "58/58 [==============================] - 20s 344ms/step - loss: 0.1936 - acc: 0.9485 - val_loss: 1.5779 - val_acc: 0.7500\n",
            "\n",
            "Epoch 00047: saving model to /content/gdrive/My Drive/pokemon_weights/subset/model-47.hdf5\b\b\b\b\b\b\b\b\b\b\b\b\b\b\b\b\b\b\b\b\b\b\b\b\b\b\b\b\b\b\b\b\b\b\b\b\b\b\b\b\b\b\b\b\b\b\b\b\b\b\b\b\b\b\b\b\b\b\b\b\b\b\b\b\b\b\b\b\b\b\b\b\b\b\b\b\b\n",
            "\n",
            "Epoch 48/50\n",
            "36/58 [=================>............] - ETA: 8s - loss: 0.2164 - acc: 0.9427"
          ],
          "name": "stdout"
        },
        {
          "output_type": "stream",
          "text": [
            "/usr/local/lib/python3.6/dist-packages/PIL/Image.py:989: UserWarning: Palette images with Transparency expressed in bytes should be converted to RGBA images\n",
            "  \"Palette images with Transparency expressed in bytes should be \"\n"
          ],
          "name": "stderr"
        },
        {
          "output_type": "stream",
          "text": [
            "48/58 [=======================>......] - ETA: 3s - loss: 0.2290 - acc: 0.9447"
          ],
          "name": "stdout"
        },
        {
          "output_type": "stream",
          "text": [
            "/usr/local/lib/python3.6/dist-packages/PIL/Image.py:989: UserWarning: Palette images with Transparency expressed in bytes should be converted to RGBA images\n",
            "  \"Palette images with Transparency expressed in bytes should be \"\n"
          ],
          "name": "stderr"
        },
        {
          "output_type": "stream",
          "text": [
            "57/58 [============================>.] - ETA: 0s - loss: 0.2282 - acc: 0.9419\n",
            "\n",
            "58/58 [==============================] - 20s 348ms/step - loss: 0.2274 - acc: 0.9418 - val_loss: 1.9013 - val_acc: 0.6875\n",
            "\n",
            "Epoch 00048: saving model to /content/gdrive/My Drive/pokemon_weights/subset/model-48.hdf5\n",
            "Epoch 49/50\n",
            "34/58 [================>.............] - ETA: 9s - loss: 0.1773 - acc: 0.9421"
          ],
          "name": "stdout"
        },
        {
          "output_type": "stream",
          "text": [
            "/usr/local/lib/python3.6/dist-packages/PIL/Image.py:989: UserWarning: Palette images with Transparency expressed in bytes should be converted to RGBA images\n",
            "  \"Palette images with Transparency expressed in bytes should be \"\n"
          ],
          "name": "stderr"
        },
        {
          "output_type": "stream",
          "text": [
            "57/58 [============================>.] - ETA: 0s - loss: 0.1986 - acc: 0.9390\n",
            "Epoch 00048: saving model to /content/gdrive/My Drive/pokemon_weights/subset/model-48.hdf5\n",
            "58/58 [==============================] - 20s 346ms/step - loss: 0.1995 - acc: 0.9390 - val_loss: 1.9676 - val_acc: 0.6875\n",
            "\n",
            "Epoch 00049: saving model to /content/gdrive/My Drive/pokemon_weights/subset/model-49.hdf5\n"
          ],
          "name": "stdout"
        },
        {
          "output_type": "stream",
          "text": [
            "/usr/local/lib/python3.6/dist-packages/PIL/Image.py:989: UserWarning: Palette images with Transparency expressed in bytes should be converted to RGBA images\n",
            "  \"Palette images with Transparency expressed in bytes should be \"\n"
          ],
          "name": "stderr"
        },
        {
          "output_type": "stream",
          "text": [
            "Epoch 50/50\n"
          ],
          "name": "stdout"
        },
        {
          "output_type": "stream",
          "text": [
            "/usr/local/lib/python3.6/dist-packages/PIL/Image.py:989: UserWarning: Palette images with Transparency expressed in bytes should be converted to RGBA images\n",
            "  \"Palette images with Transparency expressed in bytes should be \"\n"
          ],
          "name": "stderr"
        },
        {
          "output_type": "stream",
          "text": [
            "13/58 [=====>........................] - ETA: 25s - loss: 0.2330 - acc: 0.9327"
          ],
          "name": "stdout"
        },
        {
          "output_type": "stream",
          "text": [
            "/usr/local/lib/python3.6/dist-packages/PIL/Image.py:989: UserWarning: Palette images with Transparency expressed in bytes should be converted to RGBA images\n",
            "  \"Palette images with Transparency expressed in bytes should be \"\n"
          ],
          "name": "stderr"
        },
        {
          "output_type": "stream",
          "text": [
            "58/58 [==============================] - 20s 347ms/step - loss: 0.1605 - acc: 0.9499 - val_loss: 1.3164 - val_acc: 0.6562\n",
            "\n",
            "Epoch 00050: saving model to /content/gdrive/My Drive/pokemon_weights/subset/model-50.hdf5\n",
            "\n",
            "Epoch 00050: saving model to /content/gdrive/My Drive/pokemon_weights/subset/model-50.hdf5\n"
          ],
          "name": "stdout"
        }
      ]
    },
    {
      "cell_type": "code",
      "metadata": {
        "id": "KLFWMcxhGXtY",
        "colab_type": "code",
        "outputId": "13b51f34-d4b7-4d48-c506-bcc02c19321f",
        "colab": {
          "base_uri": "https://localhost:8080/",
          "height": 51
        }
      },
      "source": [
        "print(np.argmax(history.history['val_acc']))\n",
        "print(np.max(history.history['val_acc']))"
      ],
      "execution_count": 0,
      "outputs": [
        {
          "output_type": "stream",
          "text": [
            "45\n",
            "0.78125\n"
          ],
          "name": "stdout"
        }
      ]
    },
    {
      "cell_type": "code",
      "metadata": {
        "id": "1wLlnvQYJiQI",
        "colab_type": "code",
        "outputId": "e0dd1ac7-b201-47a5-c3ff-6c6ffb89742d",
        "colab": {
          "base_uri": "https://localhost:8080/",
          "height": 312
        }
      },
      "source": [
        "import matplotlib.pyplot as plt\n",
        "plt.plot(history.history['acc'], label=\"Training\")\n",
        "plt.plot(history.history['val_acc'], label=\"Validation\", c='purple')\n",
        "plt.ylim((0, 1))\n",
        "plt.ylabel(\"Accuracy (percentage)\")\n",
        "plt.xlabel(\"Epoch\")\n",
        "plt.title(\"Classifier Accuracy for Subset of Balanced Dataset\")\n",
        "plt.legend()\n"
      ],
      "execution_count": 0,
      "outputs": [
        {
          "output_type": "execute_result",
          "data": {
            "text/plain": [
              "<matplotlib.legend.Legend at 0x7f876d8b9550>"
            ]
          },
          "metadata": {
            "tags": []
          },
          "execution_count": 15
        },
        {
          "output_type": "display_data",
          "data": {
            "image/png": "[encoded data removed]",
            "text/plain": [
              "<Figure size 432x288 with 1 Axes>"
            ]
          },
          "metadata": {
            "tags": []
          }
        }
      ]
    },
    {
      "cell_type": "code",
      "metadata": {
        "id": "KRNy1C_Ir_kb",
        "colab_type": "code",
        "outputId": "4ed5e460-0641-4d85-f763-d0caafc49fed",
        "colab": {
          "base_uri": "https://localhost:8080/",
          "height": 312
        }
      },
      "source": [
        "import matplotlib.pyplot as plt\n",
        "plt.plot(history.history['loss'], label=\"Training\")\n",
        "plt.plot(history.history['val_loss'], label=\"Validation\", c='purple')\n",
        "plt.ylabel(\"Loss (Cross-Entropy)\")\n",
        "plt.xlabel(\"Epoch\")\n",
        "plt.title(\"Classifier Loss for Subset of Balanced Dataset\")\n",
        "plt.legend()"
      ],
      "execution_count": 0,
      "outputs": [
        {
          "output_type": "execute_result",
          "data": {
            "text/plain": [
              "<matplotlib.legend.Legend at 0x7f876d17edd8>"
            ]
          },
          "metadata": {
            "tags": []
          },
          "execution_count": 16
        },
        {
          "output_type": "display_data",
          "data": {
            "image/png": "[encoded data removed]",
            "text/plain": [
              "<Figure size 432x288 with 1 Axes>"
            ]
          },
          "metadata": {
            "tags": []
          }
        }
      ]
    },
    {
      "cell_type": "code",
      "metadata": {
        "id": "AaR7MgIQsimR",
        "colab_type": "code",
        "outputId": "a742343c-0e68-4e59-9064-fcd9290c9c23",
        "colab": {
          "base_uri": "https://localhost:8080/",
          "height": 54
        }
      },
      "source": [
        "print(history.history)"
      ],
      "execution_count": 0,
      "outputs": [
        {
          "output_type": "stream",
          "text": [
            "{'val_loss': [3.8122141361236572, 3.860191822052002, 3.3222291469573975, 3.5263752937316895, 3.7408523559570312, 3.2110774517059326, 3.2849197387695312, 3.3840787410736084, 3.2399888038635254, 2.7523226737976074, 3.9328255653381348, 3.3875255584716797, 3.7173752784729004, 2.3088693618774414, 2.9514031410217285, 2.965082883834839, 3.218356132507324, 3.2856030464172363, 2.5234341621398926, 2.8770627975463867, 2.6191389560699463, 3.125389814376831, 3.543398380279541, 2.8423361778259277, 2.0446979999542236, 2.702136516571045, 3.4541993141174316, 2.947829246520996, 3.3966031074523926, 2.7653698921203613, 3.795637607574463, 3.3281092643737793, 3.7443575859069824, 2.878854513168335, 3.820699691772461, 2.878758430480957, 3.2802932262420654, 4.285663604736328, 2.563904285430908, 4.110161781311035, 4.485726356506348, 3.3735647201538086, 2.6641268730163574, 3.220952033996582, 3.400418758392334, 3.22044038772583, 3.3324215412139893, 3.229726791381836, 4.124174118041992, 2.6323513984680176, 3.976719379425049, 4.277213096618652, 4.025479793548584, 3.959846258163452, 3.3607027530670166, 3.3026084899902344, 3.229508399963379, 3.423197031021118, 3.3978018760681152, 4.81397819519043, 2.2121152877807617, 2.5806827545166016, 2.980447292327881, 4.007701873779297, 5.214282989501953, 3.837810516357422, 4.686253547668457, 3.690242290496826, 3.7757272720336914, 3.5215654373168945, 2.951328992843628, 4.229669570922852, 3.9195210933685303, 4.317777633666992, 3.2801284790039062, 2.1458511352539062, 3.4444565773010254, 4.210400104522705, 3.548710346221924, 3.283576488494873, 3.8546106815338135, 3.1948041915893555, 4.062207221984863, 4.429303169250488, 2.7225871086120605, 4.202062606811523, 5.5866594314575195, 4.0868754386901855, 4.770808219909668, 4.441376686096191, 5.832900047302246, 6.123888969421387, 5.042385101318359, 3.4883439540863037, 5.646781921386719, 3.881054162979126, 3.5732789039611816, 2.675900936126709, 4.474611282348633, 3.393949270248413], 'val_acc': [0.1875, 0.1875, 0.3125, 0.25, 0.1875, 0.4375, 0.21875, 0.34375, 0.25, 0.375, 0.25, 0.3125, 0.21875, 0.53125, 0.40625, 0.5, 0.4375, 0.3125, 0.4375, 0.375, 0.4375, 0.3125, 0.3125, 0.46875, 0.46875, 0.4375, 0.34375, 0.28125, 0.34375, 0.375, 0.25, 0.4375, 0.40625, 0.40625, 0.25, 0.59375, 0.4375, 0.375, 0.4375, 0.34375, 0.40625, 0.3125, 0.40625, 0.375, 0.375, 0.375, 0.375, 0.40625, 0.375, 0.5625, 0.34375, 0.375, 0.34375, 0.4375, 0.5, 0.4375, 0.4375, 0.53125, 0.40625, 0.34375, 0.4375, 0.46875, 0.375, 0.375, 0.21875, 0.40625, 0.21875, 0.28125, 0.6153846383094788, 0.375, 0.46875, 0.40625, 0.46875, 0.375, 0.3125, 0.5625, 0.34375, 0.34375, 0.375, 0.59375, 0.40625, 0.4375, 0.46875, 0.21875, 0.5, 0.375, 0.28125, 0.375, 0.4375, 0.34375, 0.25, 0.15625, 0.1875, 0.53125, 0.40625, 0.53125, 0.4375, 0.59375, 0.34375, 0.34375], 'loss': [4.043189524704343, 3.904949864229804, 3.728587940296606, 3.585475546370477, 3.3961831896224655, 3.1846000522227467, 3.0087670270888753, 2.829178373271999, 2.6724904582983595, 2.551819732206614, 2.416864870628902, 2.3232247698951034, 2.179589454338612, 2.144047665410403, 2.020427248449251, 1.9292288083292228, 1.8571064441264251, 1.7760577147567742, 1.7049942009852275, 1.6805645768781348, 1.6096283525024615, 1.5292109889954884, 1.518817827087946, 1.4426144723988952, 1.4136361089847256, 1.381827161035945, 1.3467683070784162, 1.2834543052161744, 1.2432164687766138, 1.2431322029947982, 1.2385965192843844, 1.1894650732354473, 1.1338859984097995, 1.1040223708521733, 1.102327008943677, 1.064406594315574, 1.0719712957173875, 1.0586057386889889, 1.0019630416436813, 0.9775675097904444, 0.997928144881736, 0.9423311316874208, 0.9206998820123765, 0.9370765673942683, 0.8680855691447014, 0.9013137496510438, 0.8306775537125484, 0.8520551498106669, 0.841640803717757, 0.8168713435808368, 0.7994242843014644, 0.8042006565028976, 0.8086708903622025, 0.795676726810098, 0.7670031299172608, 0.7751499540008838, 0.7304322067986515, 0.7438420846963384, 0.7086906430293266, 0.7267062669375168, 0.6989375321081602, 0.669125519951269, 0.6614433903968624, 0.6721076307768641, 0.6807035537760447, 0.6618476880836892, 0.6759665742829375, 0.6544587264985626, 0.6446653783293259, 0.6132978363879645, 0.6664776462348854, 0.6388033609270459, 0.6218370443302721, 0.6244635203166456, 0.5775490741834912, 0.5818770272351008, 0.5829437677380498, 0.6068892578494861, 0.5787711765552979, 0.575637280434813, 0.565372576597418, 0.5763417080934106, 0.5843262563732666, 0.573249950340599, 0.544568855168685, 0.5870598361834684, 0.5436081021187524, 0.5385011408893701, 0.5285024402571276, 0.5465881076166162, 0.5412527061656107, 0.5104807784820846, 0.5349528586268284, 0.5669763877049289, 0.5198862692479621, 0.5170029906288411, 0.5033786970999872, 0.5230075817789832, 0.5016691014153071, 0.5199945199163378], 'acc': [0.14012738855260812, 0.1547534796188507, 0.188016041529772, 0.20842179759728738, 0.24593064406902954, 0.28155225293904607, 0.30702995991026294, 0.3438310922668576, 0.3730832743852817, 0.39384288757188785, 0.41873083277872414, 0.4457419202923353, 0.4721632460696879, 0.47617362587624606, 0.5054258079806092, 0.5224109459637639, 0.5359754659117717, 0.5450577967204584, 0.5714791223923534, 0.5764331211034743, 0.5881104033689055, 0.6039160178865738, 0.6108752063884857, 0.6246756310169358, 0.6322245812691673, 0.6455531966070376, 0.6468506723986844, 0.66489738144383, 0.677518282599763, 0.6736258552388836, 0.6769285209197485, 0.6837697570744087, 0.6915546119086555, 0.7029959895780103, 0.7062986553854244, 0.7147912243453645, 0.7172682235954674, 0.7179759377774048, 0.72965322009908, 0.7311866005992912, 0.7298891248779494, 0.7401509789904211, 0.754069355938001, 0.7485255957015367, 0.7609105920645391, 0.7502948809243734, 0.7735314933048383, 0.7645671148293421, 0.7704647322903548, 0.7773059683184659, 0.777659825388343, 0.7768341590278861, 0.7767162066946954, 0.7809624910973298, 0.7903986790040158, 0.7915782024624719, 0.7970040104219897, 0.794762915711719, 0.8016041519788674, 0.7966501533802345, 0.8044350082847863, 0.8168200046477888, 0.8187072422038162, 0.8137532437176714, 0.8135173389528629, 0.8165840999392244, 0.8112762443269584, 0.8244869073316381, 0.8224817173158709, 0.835102618570231, 0.8170559093282312, 0.8196508609677688, 0.8271998113184275, 0.8254305261096518, 0.8406463787785733, 0.838759141349095, 0.8360462373341837, 0.8343949045148428, 0.8417079499319607, 0.841589997570648, 0.8446567586976196, 0.8368719036665185, 0.8366359990985642, 0.8418259023635785, 0.8461901391978308, 0.8373437131820746, 0.8467799009340893, 0.8504364237129534, 0.8560981363810355, 0.8468978531829139, 0.8503184712532135, 0.8557442793252193, 0.8486671384901167, 0.8460721867521519, 0.857867421463262, 0.8570417550606221, 0.8569238027977364, 0.847723519726164, 0.8611700872144319, 0.8577494692425593]}\n"
          ],
          "name": "stdout"
        }
      ]
    },
    {
      "cell_type": "markdown",
      "metadata": {
        "id": "4O-Tr7zwz_9a",
        "colab_type": "text"
      },
      "source": [
        "### Visualizing Class-Wise Accuracy"
      ]
    },
    {
      "cell_type": "code",
      "metadata": {
        "id": "kb3WFgKczO1y",
        "colab_type": "code",
        "colab": {}
      },
      "source": [
        "# getting the class labels for the model\n",
        "classes = train_gen.class_indices"
      ],
      "execution_count": 0,
      "outputs": []
    },
    {
      "cell_type": "code",
      "metadata": {
        "id": "1DIvGliF4qts",
        "colab_type": "code",
        "colab": {}
      },
      "source": [
        "# making wrapper folders in order to evaluate class-wise accuracy\n",
        "# for each pokemon in the dataset\n",
        "path = 'balanced_data_clean/small_test'\n",
        "for pokemon in os.listdir(path):\n",
        "  if pokemon[0] != '.':\n",
        "\n",
        "    # creating a wrapper folder in the directory\n",
        "    wrapper_dir = os.path.join(path, \"wrapper_{}\".format(pokemon))\n",
        "    os.mkdir(wrapper_dir)\n",
        "\n",
        "    # moving the current folder to inside the wrapper folder\n",
        "    cur_dir = os.path.join(path, pokemon)\n",
        "    new_dir = os.path.join(wrapper_dir, pokemon)\n",
        "    os.rename(cur_dir, new_dir)"
      ],
      "execution_count": 0,
      "outputs": []
    },
    {
      "cell_type": "code",
      "metadata": {
        "id": "SsVUz3n1tHPB",
        "colab_type": "code",
        "outputId": "a6dba422-ce6a-429e-e61c-64821b84903a",
        "colab": {
          "base_uri": "https://localhost:8080/",
          "height": 1000
        }
      },
      "source": [
        "# evaluating class-wise accuracy\n",
        "accuracy = {}\n",
        "\n",
        "# for each pokemon in the directory\n",
        "for pokemon in os.listdir(path):\n",
        "  if pokemon[0] != '.':\n",
        "\n",
        "    # creating a data generator for just that class\n",
        "    test_gen = test_datagen.flow_from_directory(path + '/{}'.format(pokemon),\n",
        "                                            target_size=(224, 224),\n",
        "                                            color_mode = \"rgb\",\n",
        "                                            batch_size=32,\n",
        "                                            class_mode='categorical', \n",
        "                                            shuffle=True, seed=333)\n",
        "    \n",
        "    # getting the output of the model on that class\n",
        "    output = model.predict_generator(test_gen, workers=4, \n",
        "                                     use_multiprocessing=True, verbose=1)\n",
        "    \n",
        "    # getting prediction from class outputs\n",
        "    preds = np.argmax(output, axis=1)\n",
        "\n",
        "    # computing number of correct predictions\n",
        "    pokemon_name = pokemon.replace(\"wrapper_\", \"\")\n",
        "    correct = np.count_nonzero(preds == classes[pokemon_name])\n",
        "\n",
        "    # calculating accuracy as number of correct predictions/ total predictions\n",
        "    acc = correct / np.size(preds)\n",
        "\n",
        "    # saving accuracy in the dictionary\n",
        "    accuracy[pokemon] = acc\n",
        "\n",
        "    # printing results\n",
        "    print(\"{}: {}. Correct = {}, Total = {}\".format(pokemon, acc, correct, \n",
        "                                                    np.size(preds)))\n",
        "\n",
        "    \n",
        "\n"
      ],
      "execution_count": 0,
      "outputs": [
        {
          "output_type": "stream",
          "text": [
            "Found 18 images belonging to 1 classes.\n",
            "1/1 [==============================] - 1s 799ms/step\n",
            "wrapper_Zubat: 0.7222222222222222. Correct = 13, Total = 18\n",
            "Found 22 images belonging to 1 classes.\n",
            "1/1 [==============================] - 1s 710ms/step\n",
            "wrapper_Machamp: 0.6363636363636364. Correct = 14, Total = 22\n",
            "Found 20 images belonging to 1 classes.\n",
            "1/1 [==============================] - 0s 429ms/step\n",
            "wrapper_Doduo: 0.5. Correct = 10, Total = 20\n",
            "Found 24 images belonging to 1 classes.\n",
            "1/1 [==============================] - 1s 687ms/step\n",
            "wrapper_Gloom: 0.6666666666666666. Correct = 16, Total = 24\n",
            "Found 19 images belonging to 1 classes.\n",
            "1/1 [==============================] - 1s 672ms/step\n",
            "wrapper_Tentacruel: 0.8421052631578947. Correct = 16, Total = 19\n",
            "Found 21 images belonging to 1 classes.\n",
            "1/1 [==============================] - 0s 408ms/step\n",
            "wrapper_Sandshrew: 0.38095238095238093. Correct = 8, Total = 21\n",
            "Found 21 images belonging to 1 classes.\n",
            "1/1 [==============================] - 0s 383ms/step\n",
            "wrapper_Vileplume: 0.38095238095238093. Correct = 8, Total = 21\n",
            "Found 22 images belonging to 1 classes.\n",
            "1/1 [==============================] - 0s 492ms/step\n",
            "wrapper_Snorlax: 0.6363636363636364. Correct = 14, Total = 22\n",
            "Found 22 images belonging to 1 classes.\n",
            "1/1 [==============================] - 1s 557ms/step\n",
            "wrapper_Voltorb: 0.7727272727272727. Correct = 17, Total = 22\n",
            "Found 31 images belonging to 1 classes.\n",
            "1/1 [==============================] - 2s 2s/step\n",
            "wrapper_Charmander: 0.8709677419354839. Correct = 27, Total = 31\n",
            "Found 32 images belonging to 1 classes.\n"
          ],
          "name": "stdout"
        },
        {
          "output_type": "stream",
          "text": [
            "/usr/local/lib/python3.6/dist-packages/PIL/Image.py:989: UserWarning: Palette images with Transparency expressed in bytes should be converted to RGBA images\n",
            "  \"Palette images with Transparency expressed in bytes should be \"\n"
          ],
          "name": "stderr"
        },
        {
          "output_type": "stream",
          "text": [
            "\r1/1 [==============================] - 1s 1s/step\n",
            "wrapper_Pikachu: 0.71875. Correct = 23, Total = 32\n",
            "Found 30 images belonging to 1 classes.\n",
            "1/1 [==============================] - 1s 1s/step\n",
            "wrapper_Squirtle: 0.8333333333333334. Correct = 25, Total = 30\n",
            "Found 28 images belonging to 1 classes.\n",
            "1/1 [==============================] - 1s 1s/step\n",
            "wrapper_Mewtwo: 0.6785714285714286. Correct = 19, Total = 28\n",
            "Found 22 images belonging to 1 classes.\n",
            "1/1 [==============================] - 0s 414ms/step\n",
            "wrapper_Geodude: 0.5909090909090909. Correct = 13, Total = 22\n",
            "Found 22 images belonging to 1 classes.\n",
            "1/1 [==============================] - 1s 501ms/step\n",
            "wrapper_Koffing: 0.7727272727272727. Correct = 17, Total = 22\n",
            "Found 24 images belonging to 1 classes.\n",
            "1/1 [==============================] - 0s 468ms/step\n",
            "wrapper_Pidgey: 0.625. Correct = 15, Total = 24\n",
            "Found 24 images belonging to 1 classes.\n",
            "1/1 [==============================] - 0s 426ms/step\n",
            "wrapper_Psyduck: 0.5833333333333334. Correct = 14, Total = 24\n",
            "Found 24 images belonging to 1 classes.\n",
            "1/1 [==============================] - 0s 484ms/step\n",
            "wrapper_Arbok: 0.75. Correct = 18, Total = 24\n",
            "Found 22 images belonging to 1 classes.\n",
            "1/1 [==============================] - 1s 565ms/step\n",
            "wrapper_Exeggcute: 0.6818181818181818. Correct = 15, Total = 22\n",
            "Found 21 images belonging to 1 classes.\n",
            "1/1 [==============================] - 1s 598ms/step\n",
            "wrapper_Dragonite: 0.47619047619047616. Correct = 10, Total = 21\n"
          ],
          "name": "stdout"
        }
      ]
    },
    {
      "cell_type": "code",
      "metadata": {
        "id": "7aplv16mIOxk",
        "colab_type": "code",
        "outputId": "ebb2e26f-9537-4728-a4b4-641f5ca95729",
        "colab": {
          "base_uri": "https://localhost:8080/",
          "height": 54
        }
      },
      "source": [
        "print(accuracy.items())"
      ],
      "execution_count": 0,
      "outputs": [
        {
          "output_type": "stream",
          "text": [
            "dict_items([('wrapper_Zubat', 0.7222222222222222), ('wrapper_Machamp', 0.6363636363636364), ('wrapper_Doduo', 0.5), ('wrapper_Gloom', 0.6666666666666666), ('wrapper_Tentacruel', 0.8421052631578947), ('wrapper_Sandshrew', 0.38095238095238093), ('wrapper_Vileplume', 0.38095238095238093), ('wrapper_Snorlax', 0.6363636363636364), ('wrapper_Voltorb', 0.7727272727272727), ('wrapper_Charmander', 0.8709677419354839), ('wrapper_Pikachu', 0.71875), ('wrapper_Squirtle', 0.8333333333333334), ('wrapper_Mewtwo', 0.6785714285714286), ('wrapper_Geodude', 0.5909090909090909), ('wrapper_Koffing', 0.7727272727272727), ('wrapper_Pidgey', 0.625), ('wrapper_Psyduck', 0.5833333333333334), ('wrapper_Arbok', 0.75), ('wrapper_Exeggcute', 0.6818181818181818), ('wrapper_Dragonite', 0.47619047619047616)])\n"
          ],
          "name": "stdout"
        }
      ]
    },
    {
      "cell_type": "code",
      "metadata": {
        "id": "ALuRqfDkvHPN",
        "colab_type": "code",
        "outputId": "467d82e6-b542-4f97-9769-d45e605ba22e",
        "colab": {
          "base_uri": "https://localhost:8080/",
          "height": 85
        }
      },
      "source": [
        "np.histogram(list(accuracy.values()))"
      ],
      "execution_count": 0,
      "outputs": [
        {
          "output_type": "execute_result",
          "data": {
            "text/plain": [
              "(array([2, 1, 1, 0, 3, 3, 4, 3, 0, 3]),\n",
              " array([0.38095238, 0.42995392, 0.47895545, 0.52795699, 0.57695853,\n",
              "        0.62596006, 0.6749616 , 0.72396313, 0.77296467, 0.82196621,\n",
              "        0.87096774]))"
            ]
          },
          "metadata": {
            "tags": []
          },
          "execution_count": 21
        }
      ]
    },
    {
      "cell_type": "code",
      "metadata": {
        "id": "8BnLGpZSv-Qd",
        "colab_type": "code",
        "outputId": "a5ed3742-4cd4-40c8-c523-cbcf1d456c96",
        "colab": {
          "base_uri": "https://localhost:8080/",
          "height": 312
        }
      },
      "source": [
        "plt.hist(list(accuracy.values()), bins=10, histtype='bar')\n",
        "plt.xlabel(\"Class-Wise Test Accuracy Ranges\")\n",
        "plt.ylabel(\"Number of Pokemon\")\n",
        "plt.title(\"Class-Wise Test Accuracy for Subset of Data\")"
      ],
      "execution_count": 0,
      "outputs": [
        {
          "output_type": "execute_result",
          "data": {
            "text/plain": [
              "Text(0.5, 1.0, 'Class-Wise Test Accuracy for Subset of Data')"
            ]
          },
          "metadata": {
            "tags": []
          },
          "execution_count": 25
        },
        {
          "output_type": "display_data",
          "data": {
            "image/png": "[encoded data removed]",
            "text/plain": [
              "<Figure size 432x288 with 1 Axes>"
            ]
          },
          "metadata": {
            "tags": []
          }
        }
      ]
    },
    {
      "cell_type": "markdown",
      "metadata": {
        "id": "mMIY5teEH1uv",
        "colab_type": "text"
      },
      "source": [
        "### Exploring link Between Number of Training Image and Test Accuracy"
      ]
    },
    {
      "cell_type": "code",
      "metadata": {
        "id": "lvoKVYKjC4sx",
        "colab_type": "code",
        "colab": {}
      },
      "source": [
        "# creating a dictionary with number of training examples per pokemon\n",
        "counts = {}\n",
        "for pokemon in os.listdir('balanced_data_clean/small_train'):\n",
        "    if pokemon[0] != '.':\n",
        "      name = pokemon.replace(\"wrapper_\", \"\")\n",
        "      counts[name] = len(os.listdir('balanced_data_clean/small_train/{}'.format(pokemon)))"
      ],
      "execution_count": 0,
      "outputs": []
    },
    {
      "cell_type": "code",
      "metadata": {
        "id": "qUrYNSmODmeA",
        "colab_type": "code",
        "outputId": "baba847d-0c27-48f9-badd-40556374c621",
        "colab": {
          "base_uri": "https://localhost:8080/",
          "height": 54
        }
      },
      "source": [
        "print(counts.items())"
      ],
      "execution_count": 0,
      "outputs": [
        {
          "output_type": "stream",
          "text": [
            "dict_items([('Dragonite', 84), ('Exeggcute', 88), ('Arbok', 93), ('Psyduck', 94), ('Pidgey', 95), ('Geodude', 84), ('Koffing', 85), ('Mewtwo', 110), ('Squirtle', 119), ('Charmander', 122), ('Pikachu', 126), ('Voltorb', 86), ('Snorlax', 88), ('Sandshrew', 80), ('Tentacruel', 79), ('Gloom', 94), ('Vileplume', 84), ('Doduo', 78), ('Machamp', 85), ('Zubat', 70)])\n"
          ],
          "name": "stdout"
        }
      ]
    },
    {
      "cell_type": "code",
      "metadata": {
        "id": "O3bPiFKfszwL",
        "colab_type": "code",
        "outputId": "6db54c07-736b-43b6-fbb2-ea25478fa709",
        "colab": {
          "base_uri": "https://localhost:8080/",
          "height": 312
        }
      },
      "source": [
        "# plotting number of training examples vs accuracy\n",
        "acc, freq = [], []\n",
        "\n",
        "for pokemon in os.listdir('balanced_data_clean/small_test'):\n",
        "  if pokemon[0] != '.':\n",
        "    name = pokemon.replace(\"wrapper_\", \"\")\n",
        "    freq.append(counts[name])\n",
        "    acc.append(accuracy[pokemon] * 100)\n",
        "\n",
        "plt.scatter(freq, acc, c='purple')\n",
        "plt.xlabel(\"Number of Training Examples\")\n",
        "plt.ylabel(\"Test Accuracy (percentage)\")\n",
        "plt.title(\"Number of Training Examples vs. Test Accuracy\")"
      ],
      "execution_count": 0,
      "outputs": [
        {
          "output_type": "execute_result",
          "data": {
            "text/plain": [
              "Text(0.5, 1.0, 'Number of Training Examples vs. Test Accuracy')"
            ]
          },
          "metadata": {
            "tags": []
          },
          "execution_count": 29
        },
        {
          "output_type": "display_data",
          "data": {
            "image/png": "[encoded data removed]",
            "text/plain": [
              "<Figure size 432x288 with 1 Axes>"
            ]
          },
          "metadata": {
            "tags": []
          }
        }
      ]
    }
  ]
}