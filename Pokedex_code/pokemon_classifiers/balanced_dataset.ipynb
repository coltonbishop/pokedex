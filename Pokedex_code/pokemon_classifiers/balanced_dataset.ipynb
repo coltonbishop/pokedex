{
  "nbformat": 4,
  "nbformat_minor": 0,
  "metadata": {
    "colab": {
      "name": "balanced_dataset.ipynb",
      "provenance": [],
      "collapsed_sections": [],
      "toc_visible": true,
      "machine_shape": "hm",
      "include_colab_link": true
    },
    "kernelspec": {
      "name": "python3",
      "display_name": "Python 3"
    },
    "accelerator": "GPU"
  },
  "cells": [
    {
      "cell_type": "markdown",
      "metadata": {
        "id": "view-in-github",
        "colab_type": "text"
      },
      "source": [
        "<a href=\"https://colab.research.google.com/github/pulkitsingh/Pokedex/blob/master/balanced_dataset.ipynb\" target=\"_parent\"><img src=\"https://colab.research.google.com/assets/colab-badge.svg\" alt=\"Open In Colab\"/></a>"
      ]
    },
    {
      "cell_type": "markdown",
      "metadata": {
        "id": "8TKrJRlUqyjz",
        "colab_type": "text"
      },
      "source": [
        "### Mounting Google Drive"
      ]
    },
    {
      "cell_type": "code",
      "metadata": {
        "id": "S621NksmcZlQ",
        "colab_type": "code",
        "outputId": "d696ae3f-df8e-44c5-c6c5-d5992b744733",
        "colab": {
          "base_uri": "https://localhost:8080/",
          "height": 388
        }
      },
      "source": [
        "# mounting google drive\n",
        "from google.colab import drive\n",
        "drive.mount('/content/gdrive')"
      ],
      "execution_count": 0,
      "outputs": [
        {
          "output_type": "stream",
          "text": [
            "Go to this URL in a browser: https://accounts.google.com/o/oauth2/auth?client_id=947318989803-6bn6qk8qdgf4n4g3pfee6491hc0brc4i.apps.googleusercontent.com&redirect_uri=urn%3aietf%3awg%3aoauth%3a2.0%3aoob&response_type=code&scope=email%20https%3a%2f%2fwww.googleapis.com%2fauth%2fdocs.test%20https%3a%2f%2fwww.googleapis.com%2fauth%2fdrive%20https%3a%2f%2fwww.googleapis.com%2fauth%2fdrive.photos.readonly%20https%3a%2f%2fwww.googleapis.com%2fauth%2fpeopleapi.readonly\n",
            "\n",
            "Enter your authorization code:\n",
            "··········\n"
          ],
          "name": "stdout"
        },
        {
          "output_type": "error",
          "ename": "ValueError",
          "evalue": "ignored",
          "traceback": [
            "\u001b[0;31m---------------------------------------------------------------------------\u001b[0m",
            "\u001b[0;31mValueError\u001b[0m                                Traceback (most recent call last)",
            "\u001b[0;32m<ipython-input-1-4996ee3d8d09>\u001b[0m in \u001b[0;36m<module>\u001b[0;34m()\u001b[0m\n\u001b[1;32m      1\u001b[0m \u001b[0;32mfrom\u001b[0m \u001b[0mgoogle\u001b[0m\u001b[0;34m.\u001b[0m\u001b[0mcolab\u001b[0m \u001b[0;32mimport\u001b[0m \u001b[0mdrive\u001b[0m\u001b[0;34m\u001b[0m\u001b[0;34m\u001b[0m\u001b[0m\n\u001b[0;32m----> 2\u001b[0;31m \u001b[0mdrive\u001b[0m\u001b[0;34m.\u001b[0m\u001b[0mmount\u001b[0m\u001b[0;34m(\u001b[0m\u001b[0;34m'/content/gdrive'\u001b[0m\u001b[0;34m)\u001b[0m\u001b[0;34m\u001b[0m\u001b[0;34m\u001b[0m\u001b[0m\n\u001b[0m",
            "\u001b[0;32m/usr/local/lib/python3.6/dist-packages/google/colab/drive.py\u001b[0m in \u001b[0;36mmount\u001b[0;34m(mountpoint, force_remount, timeout_ms, use_metadata_server)\u001b[0m\n\u001b[1;32m    227\u001b[0m             \u001b[0;34m': timeout during initial read of root folder; for more info: '\u001b[0m\u001b[0;34m\u001b[0m\u001b[0;34m\u001b[0m\u001b[0m\n\u001b[1;32m    228\u001b[0m             'https://research.google.com/colaboratory/faq.html#drive-timeout')\n\u001b[0;32m--> 229\u001b[0;31m       \u001b[0;32mraise\u001b[0m \u001b[0mValueError\u001b[0m\u001b[0;34m(\u001b[0m\u001b[0;34m'mount failed'\u001b[0m \u001b[0;34m+\u001b[0m \u001b[0mextra_reason\u001b[0m\u001b[0;34m)\u001b[0m\u001b[0;34m\u001b[0m\u001b[0;34m\u001b[0m\u001b[0m\n\u001b[0m\u001b[1;32m    230\u001b[0m     \u001b[0;32melif\u001b[0m \u001b[0mcase\u001b[0m \u001b[0;34m==\u001b[0m \u001b[0;36m2\u001b[0m\u001b[0;34m:\u001b[0m\u001b[0;34m\u001b[0m\u001b[0;34m\u001b[0m\u001b[0m\n\u001b[1;32m    231\u001b[0m       \u001b[0;31m# Not already authorized, so do the authorization dance.\u001b[0m\u001b[0;34m\u001b[0m\u001b[0;34m\u001b[0m\u001b[0;34m\u001b[0m\u001b[0m\n",
            "\u001b[0;31mValueError\u001b[0m: mount failed"
          ]
        }
      ]
    },
    {
      "cell_type": "code",
      "metadata": {
        "id": "bcTUKBfMbo2J",
        "colab_type": "code",
        "outputId": "acf1e62e-1573-44b3-acaa-bc00f3f5e365",
        "colab": {
          "base_uri": "https://localhost:8080/",
          "height": 34
        }
      },
      "source": [
        "cd gdrive/My\\ Drive"
      ],
      "execution_count": 0,
      "outputs": [
        {
          "output_type": "stream",
          "text": [
            "/content/gdrive/My Drive\n"
          ],
          "name": "stdout"
        }
      ]
    },
    {
      "cell_type": "markdown",
      "metadata": {
        "id": "MDurK1mBq1-i",
        "colab_type": "text"
      },
      "source": [
        "### Importing Libraries "
      ]
    },
    {
      "cell_type": "code",
      "metadata": {
        "id": "2wGBTYGmdkCH",
        "colab_type": "code",
        "outputId": "94be1682-a557-436e-ba0a-a375b25ef514",
        "colab": {
          "base_uri": "https://localhost:8080/",
          "height": 80
        }
      },
      "source": [
        "from keras.preprocessing.image import ImageDataGenerator\n",
        "from keras.models import Sequential\n",
        "from keras.layers import Convolution2D, GlobalAveragePooling2D, BatchNormalization, Input, Conv2D, MaxPooling2D, Dropout, Flatten\n",
        "from keras.layers import Activation, Dropout, Flatten, Dense\n",
        "from keras.optimizers import SGD, Adam, RMSprop\n",
        "from keras import backend as K\n",
        "from keras.applications.vgg16 import VGG16\n",
        "from keras.losses import categorical_crossentropy\n",
        "from keras.callbacks import ModelCheckpoint\n",
        "import os\n",
        "from keras.models import load_model"
      ],
      "execution_count": 0,
      "outputs": [
        {
          "output_type": "stream",
          "text": [
            "Using TensorFlow backend.\n"
          ],
          "name": "stderr"
        },
        {
          "output_type": "display_data",
          "data": {
            "text/html": [
              "<p style=\"color: red;\">\n",
              "The default version of TensorFlow in Colab will soon switch to TensorFlow 2.x.<br>\n",
              "We recommend you <a href=\"https://www.tensorflow.org/guide/migrate\" target=\"_blank\">upgrade</a> now \n",
              "or ensure your notebook will continue to use TensorFlow 1.x via the <code>%tensorflow_version 1.x</code> magic:\n",
              "<a href=\"https://colab.research.google.com/notebooks/tensorflow_version.ipynb\" target=\"_blank\">more info</a>.</p>\n"
            ],
            "text/plain": [
              "<IPython.core.display.HTML object>"
            ]
          },
          "metadata": {
            "tags": []
          }
        }
      ]
    },
    {
      "cell_type": "markdown",
      "metadata": {
        "id": "aQstzZLbq50l",
        "colab_type": "text"
      },
      "source": [
        "### Loading Data"
      ]
    },
    {
      "cell_type": "code",
      "metadata": {
        "id": "fIRzIGWTdytP",
        "colab_type": "code",
        "colab": {}
      },
      "source": [
        "# directories for training and validation data\n",
        "train_directory = 'balanced_data_clean/train'\n",
        "validation_directory = 'balanced_data_clean/validation'"
      ],
      "execution_count": 0,
      "outputs": []
    },
    {
      "cell_type": "code",
      "metadata": {
        "id": "Zaref9b8d1oO",
        "colab_type": "code",
        "colab": {}
      },
      "source": [
        "# making ImageDataGenerator instances for training and test data\n",
        "train_datagen = ImageDataGenerator(rescale=1./255, shear_range=0.2, \n",
        "                                   zoom_range=0.2, horizontal_flip=True)\n",
        "\n",
        "test_datagen = ImageDataGenerator(rescale=1./255)"
      ],
      "execution_count": 0,
      "outputs": []
    },
    {
      "cell_type": "code",
      "metadata": {
        "id": "is2nABHMt6GV",
        "colab_type": "code",
        "outputId": "e4b74879-ba6a-4a0c-c67b-377fe788468b",
        "colab": {
          "base_uri": "https://localhost:8080/",
          "height": 51
        }
      },
      "source": [
        "# loading the train and validation data\n",
        "train_gen = train_datagen.flow_from_directory('balanced_data_clean/train',\n",
        "                                              target_size=(224, 224),\n",
        "                                              batch_size=32,\n",
        "                                              color_mode=\"rgb\",                                            \n",
        "                                              class_mode='categorical', \n",
        "                                              shuffle=True, seed=333)\n",
        "\n",
        "test_gen = test_datagen.flow_from_directory('balanced_data_clean/validation',\n",
        "                                            target_size=(224, 224),\n",
        "                                            color_mode = \"rgb\",\n",
        "                                            batch_size=32,\n",
        "                                            class_mode='categorical', \n",
        "                                            shuffle=True, seed=333)\n"
      ],
      "execution_count": 0,
      "outputs": [
        {
          "output_type": "stream",
          "text": [
            "Found 12903 images belonging to 149 classes.\n",
            "Found 3317 images belonging to 149 classes.\n"
          ],
          "name": "stdout"
        }
      ]
    },
    {
      "cell_type": "markdown",
      "metadata": {
        "id": "0mAUrGGS5oyM",
        "colab_type": "text"
      },
      "source": [
        "### Specifying the model"
      ]
    },
    {
      "cell_type": "code",
      "metadata": {
        "id": "yg4TfXI3qkO6",
        "colab_type": "code",
        "colab": {}
      },
      "source": [
        "# specifying parameters\n",
        "batch_size = 10\n",
        "input_shape = (10, 224, 224, 3)\n",
        "num_training_samples = 12903\n",
        "num_test_samples = 3317"
      ],
      "execution_count": 0,
      "outputs": []
    },
    {
      "cell_type": "code",
      "metadata": {
        "id": "3JJu8mq4LbWz",
        "colab_type": "code",
        "colab": {}
      },
      "source": [
        "# specifying the model\n",
        "\n",
        "model = Sequential()\n",
        "model.add(Conv2D(32, (3, 3), padding='same',\n",
        "                 input_shape=(224, 224, 3)))\n",
        "model.add(Activation('relu'))\n",
        "model.add(Conv2D(32, (3, 3)))\n",
        "model.add(Activation('relu'))\n",
        "model.add(MaxPooling2D(pool_size=(2, 2)))\n",
        "model.add(Dropout(0.25))\n",
        "\n",
        "model.add(Conv2D(64, (3, 3), padding='same'))\n",
        "model.add(Activation('relu'))\n",
        "model.add(Conv2D(64, (3, 3)))\n",
        "model.add(Activation('relu'))\n",
        "model.add(MaxPooling2D(pool_size=(2, 2)))\n",
        "model.add(Dropout(0.25))\n",
        "\n",
        "model.add(Flatten())\n",
        "model.add(Dense(512))\n",
        "model.add(Activation('relu'))\n",
        "model.add(Dropout(0.5))\n",
        "model.add(Dense(149))\n",
        "model.add(Activation('softmax'))\n"
      ],
      "execution_count": 0,
      "outputs": []
    },
    {
      "cell_type": "code",
      "metadata": {
        "id": "b2TXw4wQLbsG",
        "colab_type": "code",
        "outputId": "1b2c0997-f5a4-473d-e350-e28edcc63097",
        "colab": {
          "base_uri": "https://localhost:8080/",
          "height": 870
        }
      },
      "source": [
        "adam = Adam(lr=0.001, beta_1=0.9, beta_2=0.999, amsgrad=False)\n",
        "model.compile(loss=categorical_crossentropy, optimizer=adam, metrics=['accuracy'])\n",
        "print(model.summary())"
      ],
      "execution_count": 0,
      "outputs": [
        {
          "output_type": "stream",
          "text": [
            "WARNING:tensorflow:From /usr/local/lib/python3.6/dist-packages/keras/optimizers.py:793: The name tf.train.Optimizer is deprecated. Please use tf.compat.v1.train.Optimizer instead.\n",
            "\n",
            "WARNING:tensorflow:From /usr/local/lib/python3.6/dist-packages/keras/backend/tensorflow_backend.py:3576: The name tf.log is deprecated. Please use tf.math.log instead.\n",
            "\n",
            "Model: \"sequential_1\"\n",
            "_________________________________________________________________\n",
            "Layer (type)                 Output Shape              Param #   \n",
            "=================================================================\n",
            "conv2d_1 (Conv2D)            (None, 224, 224, 32)      896       \n",
            "_________________________________________________________________\n",
            "activation_1 (Activation)    (None, 224, 224, 32)      0         \n",
            "_________________________________________________________________\n",
            "conv2d_2 (Conv2D)            (None, 222, 222, 32)      9248      \n",
            "_________________________________________________________________\n",
            "activation_2 (Activation)    (None, 222, 222, 32)      0         \n",
            "_________________________________________________________________\n",
            "max_pooling2d_1 (MaxPooling2 (None, 111, 111, 32)      0         \n",
            "_________________________________________________________________\n",
            "dropout_1 (Dropout)          (None, 111, 111, 32)      0         \n",
            "_________________________________________________________________\n",
            "conv2d_3 (Conv2D)            (None, 111, 111, 64)      18496     \n",
            "_________________________________________________________________\n",
            "activation_3 (Activation)    (None, 111, 111, 64)      0         \n",
            "_________________________________________________________________\n",
            "conv2d_4 (Conv2D)            (None, 109, 109, 64)      36928     \n",
            "_________________________________________________________________\n",
            "activation_4 (Activation)    (None, 109, 109, 64)      0         \n",
            "_________________________________________________________________\n",
            "max_pooling2d_2 (MaxPooling2 (None, 54, 54, 64)        0         \n",
            "_________________________________________________________________\n",
            "dropout_2 (Dropout)          (None, 54, 54, 64)        0         \n",
            "_________________________________________________________________\n",
            "flatten_1 (Flatten)          (None, 186624)            0         \n",
            "_________________________________________________________________\n",
            "dense_1 (Dense)              (None, 512)               95552000  \n",
            "_________________________________________________________________\n",
            "activation_5 (Activation)    (None, 512)               0         \n",
            "_________________________________________________________________\n",
            "dropout_3 (Dropout)          (None, 512)               0         \n",
            "_________________________________________________________________\n",
            "dense_2 (Dense)              (None, 149)               76437     \n",
            "_________________________________________________________________\n",
            "activation_6 (Activation)    (None, 149)               0         \n",
            "=================================================================\n",
            "Total params: 95,694,005\n",
            "Trainable params: 95,694,005\n",
            "Non-trainable params: 0\n",
            "_________________________________________________________________\n",
            "None\n"
          ],
          "name": "stdout"
        }
      ]
    },
    {
      "cell_type": "markdown",
      "metadata": {
        "id": "2S8-I2rY3waz",
        "colab_type": "text"
      },
      "source": [
        "### Training the Model"
      ]
    },
    {
      "cell_type": "code",
      "metadata": {
        "id": "pkZFSp3l38Di",
        "colab_type": "code",
        "outputId": "cfdf928f-d417-4c6d-dbd6-a7fea531b587",
        "colab": {
          "base_uri": "https://localhost:8080/",
          "height": 34
        }
      },
      "source": [
        "# making a directory to save weights\n",
        "import os\n",
        "dir_name = 'pokemon_weights/train2'\n",
        "#os.mkdir(dir_name)\n",
        "path = os.path.join(os.getcwd(), dir_name)\n",
        "print(path)"
      ],
      "execution_count": 0,
      "outputs": [
        {
          "output_type": "stream",
          "text": [
            "/content/gdrive/My Drive/pokemon_weights/train2\n"
          ],
          "name": "stdout"
        }
      ]
    },
    {
      "cell_type": "code",
      "metadata": {
        "id": "jkBgvUw1GGRT",
        "colab_type": "code",
        "colab": {}
      },
      "source": [
        ""
      ],
      "execution_count": 0,
      "outputs": []
    },
    {
      "cell_type": "code",
      "metadata": {
        "id": "x_WE653E52ie",
        "colab_type": "code",
        "colab": {}
      },
      "source": [
        "filepath = os.path.join(path, \"model-{epoch:02d}.hdf5\")\n",
        "checkpoint = ModelCheckpoint(filepath, monitor='accuracy', verbose=1, \n",
        "                             save_best_only=False, save_weights_only=True, \n",
        "                             mode='auto', period=1)"
      ],
      "execution_count": 0,
      "outputs": []
    },
    {
      "cell_type": "code",
      "metadata": {
        "id": "MYrp7gOmDH5P",
        "colab_type": "code",
        "colab": {}
      },
      "source": [
        "history = model.fit_generator(train_gen, \n",
        "                    epochs=100,\n",
        "                    workers=10,\n",
        "                    use_multiprocessing=True,\n",
        "                    shuffle=True,\n",
        "                    callbacks=[checkpoint],\n",
        "                    validation_data=test_gen,\n",
        "                    validation_steps=1, \n",
        "                    verbose=1,\n",
        "                    initial_epoch=86)"
      ],
      "execution_count": 0,
      "outputs": []
    },
    {
      "cell_type": "code",
      "metadata": {
        "id": "fpYdyPFV-nF2",
        "colab_type": "code",
        "colab": {}
      },
      "source": [
        "last_train = []\n",
        "last_test = []\n",
        "for i in range(86, 101):\n",
        "  model.load_weights('/content/gdrive/My Drive/pokemon_weights/train2/model-{:02d}.hdf5'.format(i))\n",
        "  train = model.evaluate_generator(train_gen, workers=10, \n",
        "                                   use_multiprocessing=True, verbose=1)\n",
        "  test  = model.evaluate_generator(train_gen, workers=10, \n",
        "                                   use_multiprocessing=True, verbose=1)\n",
        "  print(\"Train: {}, Test: {}\")\n",
        "  last_train.append(train)\n",
        "  last_test.append(test)\n",
        "\n",
        "  "
      ],
      "execution_count": 0,
      "outputs": []
    },
    {
      "cell_type": "code",
      "metadata": {
        "id": "KLFWMcxhGXtY",
        "colab_type": "code",
        "colab": {}
      },
      "source": [
        "np.argmax(history.history['val_acc'])\n",
        "np.max(history.history['val_acc'])"
      ],
      "execution_count": 0,
      "outputs": []
    },
    {
      "cell_type": "code",
      "metadata": {
        "id": "1wLlnvQYJiQI",
        "colab_type": "code",
        "colab": {}
      },
      "source": [
        "import matplotlib.pyplot as plt\n",
        "plt.plot(history.history['acc'], label=\"Training\")\n",
        "plt.plot(history.history['val_acc'], label=\"Validation\", c='purple')\n",
        "plt.ylim((0, 1))\n",
        "plt.ylabel(\"Accuracy (percentage)\")\n",
        "plt.xlabel(\"Epoch\")\n",
        "plt.title(\"Classifier Accuracy for Original Dataset\")\n",
        "plt.legend()\n"
      ],
      "execution_count": 0,
      "outputs": []
    },
    {
      "cell_type": "code",
      "metadata": {
        "id": "KRNy1C_Ir_kb",
        "colab_type": "code",
        "outputId": "a7bd9d90-e4ff-4065-8371-358d555309e9",
        "colab": {
          "base_uri": "https://localhost:8080/",
          "height": 232
        }
      },
      "source": [
        "import matplotlib.pyplot as plt\n",
        "plt.plot(history.history['loss'], label=\"Training\")\n",
        "plt.plot(history.history['val_loss'], label=\"Validation\", c='purple')\n",
        "plt.ylabel(\"Loss (Cross-Entropy)\")\n",
        "plt.xlabel(\"Epoch\")\n",
        "plt.title(\"Classifier Loss for Original Dataset\")\n",
        "plt.legend()"
      ],
      "execution_count": 1,
      "outputs": [
        {
          "output_type": "error",
          "ename": "NameError",
          "evalue": "ignored",
          "traceback": [
            "\u001b[0;31m---------------------------------------------------------------------------\u001b[0m",
            "\u001b[0;31mNameError\u001b[0m                                 Traceback (most recent call last)",
            "\u001b[0;32m<ipython-input-1-17c95ca1a340>\u001b[0m in \u001b[0;36m<module>\u001b[0;34m()\u001b[0m\n\u001b[1;32m      1\u001b[0m \u001b[0;32mimport\u001b[0m \u001b[0mmatplotlib\u001b[0m\u001b[0;34m.\u001b[0m\u001b[0mpyplot\u001b[0m \u001b[0;32mas\u001b[0m \u001b[0mplt\u001b[0m\u001b[0;34m\u001b[0m\u001b[0;34m\u001b[0m\u001b[0m\n\u001b[0;32m----> 2\u001b[0;31m \u001b[0mplt\u001b[0m\u001b[0;34m.\u001b[0m\u001b[0mplot\u001b[0m\u001b[0;34m(\u001b[0m\u001b[0mhistory\u001b[0m\u001b[0;34m.\u001b[0m\u001b[0mhistory\u001b[0m\u001b[0;34m[\u001b[0m\u001b[0;34m'loss'\u001b[0m\u001b[0;34m]\u001b[0m\u001b[0;34m,\u001b[0m \u001b[0mlabel\u001b[0m\u001b[0;34m=\u001b[0m\u001b[0;34m\"Training\"\u001b[0m\u001b[0;34m)\u001b[0m\u001b[0;34m\u001b[0m\u001b[0;34m\u001b[0m\u001b[0m\n\u001b[0m\u001b[1;32m      3\u001b[0m \u001b[0mplt\u001b[0m\u001b[0;34m.\u001b[0m\u001b[0mplot\u001b[0m\u001b[0;34m(\u001b[0m\u001b[0mhistory\u001b[0m\u001b[0;34m.\u001b[0m\u001b[0mhistory\u001b[0m\u001b[0;34m[\u001b[0m\u001b[0;34m'val_loss'\u001b[0m\u001b[0;34m]\u001b[0m\u001b[0;34m,\u001b[0m \u001b[0mlabel\u001b[0m\u001b[0;34m=\u001b[0m\u001b[0;34m\"Validation\"\u001b[0m\u001b[0;34m,\u001b[0m \u001b[0mc\u001b[0m\u001b[0;34m=\u001b[0m\u001b[0;34m'purple'\u001b[0m\u001b[0;34m)\u001b[0m\u001b[0;34m\u001b[0m\u001b[0;34m\u001b[0m\u001b[0m\n\u001b[1;32m      4\u001b[0m \u001b[0mplt\u001b[0m\u001b[0;34m.\u001b[0m\u001b[0mylabel\u001b[0m\u001b[0;34m(\u001b[0m\u001b[0;34m\"Loss (Cross-Entropy)\"\u001b[0m\u001b[0;34m)\u001b[0m\u001b[0;34m\u001b[0m\u001b[0;34m\u001b[0m\u001b[0m\n\u001b[1;32m      5\u001b[0m \u001b[0mplt\u001b[0m\u001b[0;34m.\u001b[0m\u001b[0mxlabel\u001b[0m\u001b[0;34m(\u001b[0m\u001b[0;34m\"Epoch\"\u001b[0m\u001b[0;34m)\u001b[0m\u001b[0;34m\u001b[0m\u001b[0;34m\u001b[0m\u001b[0m\n",
            "\u001b[0;31mNameError\u001b[0m: name 'history' is not defined"
          ]
        }
      ]
    },
    {
      "cell_type": "code",
      "metadata": {
        "id": "AaR7MgIQsimR",
        "colab_type": "code",
        "colab": {}
      },
      "source": [
        "print(history.history)"
      ],
      "execution_count": 0,
      "outputs": []
    },
    {
      "cell_type": "markdown",
      "metadata": {
        "id": "4O-Tr7zwz_9a",
        "colab_type": "text"
      },
      "source": [
        "### Visualizing Class-Wise Accuracy"
      ]
    },
    {
      "cell_type": "code",
      "metadata": {
        "id": "1cWPy2m2NJRp",
        "colab_type": "code",
        "colab": {}
      },
      "source": [
        "import numpy as np"
      ],
      "execution_count": 0,
      "outputs": []
    },
    {
      "cell_type": "code",
      "metadata": {
        "id": "NUF1GvV5MW4U",
        "colab_type": "code",
        "colab": {}
      },
      "source": [
        "model.load_weights('/content/gdrive/My Drive/pokemon_weights/train2/model-90.hdf5')"
      ],
      "execution_count": 0,
      "outputs": []
    },
    {
      "cell_type": "code",
      "metadata": {
        "id": "kb3WFgKczO1y",
        "colab_type": "code",
        "colab": {}
      },
      "source": [
        "# getting the class labels for the model\n",
        "classes = train_gen.class_indices"
      ],
      "execution_count": 0,
      "outputs": []
    },
    {
      "cell_type": "code",
      "metadata": {
        "id": "1DIvGliF4qts",
        "colab_type": "code",
        "colab": {}
      },
      "source": [
        "# making wrapper folders in order to evaluate class-wise accuracy\n",
        "# for each pokemon in the dataset\n",
        "path = 'balanced_data_clean/validation'\n",
        "for pokemon in os.listdir(path):\n",
        "  if pokemon[0] != '.':\n",
        "\n",
        "    # creating a wrapper folder in the directory\n",
        "    wrapper_dir = os.path.join(path, \"wrapper_{}\".format(pokemon))\n",
        "    os.mkdir(wrapper_dir)\n",
        "\n",
        "    # moving the current folder to inside the wrapper folder\n",
        "    cur_dir = os.path.join(path, pokemon)\n",
        "    new_dir = os.path.join(wrapper_dir, pokemon)\n",
        "    os.rename(cur_dir, new_dir)"
      ],
      "execution_count": 0,
      "outputs": []
    },
    {
      "cell_type": "code",
      "metadata": {
        "id": "SsVUz3n1tHPB",
        "colab_type": "code",
        "colab": {}
      },
      "source": [
        "# evaluating class-wise accuracy\n",
        "accuracy = {}\n",
        "counter = 0\n",
        "\n",
        "# for each pokemon in the directory\n",
        "for pokemon in os.listdir(path):\n",
        "  if pokemon[0] != '.':\n",
        "\n",
        "    # creating a data generator for just that class\n",
        "    test_gen = test_datagen.flow_from_directory(path + '/{}'.format(pokemon),\n",
        "                                            target_size=(224, 224),\n",
        "                                            color_mode = \"rgb\",\n",
        "                                            batch_size=32,\n",
        "                                            class_mode='categorical', \n",
        "                                            shuffle=True, seed=333)\n",
        "    \n",
        "    # getting the output of the model on that class\n",
        "    output = model.predict_generator(test_gen, workers=4, \n",
        "                                     use_multiprocessing=True, verbose=1)\n",
        "    \n",
        "    # getting prediction from class outputs\n",
        "    preds = np.argmax(output, axis=1)\n",
        "\n",
        "    # computing number of correct predictions\n",
        "    pokemon_name = pokemon.replace(\"wrapper_\", \"\")\n",
        "    correct = np.count_nonzero(preds == classes[pokemon_name])\n",
        "\n",
        "    # calculating accuracy as number of correct predictions/ total predictions\n",
        "    acc = correct / np.size(preds)\n",
        "\n",
        "    # saving accuracy in the dictionary\n",
        "    accuracy[pokemon] = acc\n",
        "\n",
        "    # printing results\n",
        "    print(counter)\n",
        "    counter += 1\n",
        "    print(\"{}: {}. Correct = {}, Total = {}\".format(pokemon, acc, correct, \n",
        "                                                    np.size(preds)))\n",
        "\n",
        "    \n",
        "\n"
      ],
      "execution_count": 0,
      "outputs": []
    },
    {
      "cell_type": "code",
      "metadata": {
        "id": "7aplv16mIOxk",
        "colab_type": "code",
        "outputId": "01049412-c13b-4d05-a8d1-0a251c0083fd",
        "colab": {
          "base_uri": "https://localhost:8080/",
          "height": 54
        }
      },
      "source": [
        "print(accuracy.items())"
      ],
      "execution_count": 0,
      "outputs": [
        {
          "output_type": "stream",
          "text": [
            "dict_items([('wrapper_Rhydon', 0.42857142857142855), ('wrapper_Nidorina', 0.5652173913043478), ('wrapper_Lickitung', 0.68), ('wrapper_Farfetchd', 0.4), ('wrapper_Poliwhirl', 0.6363636363636364), ('wrapper_Charizard', 0.55), ('wrapper_Dragonite', 0.5714285714285714), ('wrapper_Nidoqueen', 0.3684210526315789), ('wrapper_Nidorino', 0.6363636363636364), ('wrapper_Cubone', 0.44), ('wrapper_MrMime', 0.5882352941176471), ('wrapper_Venomoth', 0.6086956521739131), ('wrapper_Exeggcute', 0.4090909090909091), ('wrapper_Paras', 0.3157894736842105), ('wrapper_Jynx', 0.8421052631578947), ('wrapper_Dratini', 0.6785714285714286), ('wrapper_Hitmonlee', 0.43333333333333335), ('wrapper_Mew', 0.43478260869565216), ('wrapper_Arbok', 0.7083333333333334), ('wrapper_Slowbro', 0.5238095238095238), ('wrapper_Grimer', 0.2857142857142857), ('wrapper_Caterpie', 0.85), ('wrapper_Kakuna', 0.6363636363636364), ('wrapper_Golem', 0.3888888888888889), ('wrapper_Nidoking', 0.45454545454545453), ('wrapper_Wartortle', 0.5909090909090909), ('wrapper_Ekans', 0.47368421052631576), ('wrapper_Tangela', 0.4), ('wrapper_Dewgong', 0.5384615384615384), ('wrapper_Electabuzz', 0.6190476190476191), ('wrapper_Exeggutor', 0.8695652173913043), ('wrapper_Pidgey', 0.4166666666666667), ('wrapper_Dodrio', 0.5909090909090909), ('wrapper_Ponyta', 0.15789473684210525), ('wrapper_Parasect', 0.5555555555555556), ('wrapper_Persian', 0.5714285714285714), ('wrapper_Tauros', 0.43478260869565216), ('wrapper_Meowth', 0.6521739130434783), ('wrapper_Psyduck', 0.5), ('wrapper_Growlithe', 0.6923076923076923), ('wrapper_Bulbasaur', 0.6551724137931034), ('wrapper_Slowpoke', 0.2857142857142857), ('wrapper_Omastar', 0.3684210526315789), ('wrapper_Poliwrath', 0.631578947368421), ('wrapper_Oddish', 0.5909090909090909), ('wrapper_Machoke', 0.3157894736842105), ('wrapper_Lapras', 0.5652173913043478), ('wrapper_Horsea', 0.6666666666666666), ('wrapper_Raticate', 0.45454545454545453), ('wrapper_Dugtrio', 0.6785714285714286), ('wrapper_Ditto', 0.6470588235294118), ('wrapper_Tentacool', 0.6), ('wrapper_Geodude', 0.5), ('wrapper_Vulpix', 0.55), ('wrapper_Porygon', 0.6111111111111112), ('wrapper_Wigglytuff', 0.6190476190476191), ('wrapper_Pidgeot', 0.4090909090909091), ('wrapper_Golduck', 0.6818181818181818), ('wrapper_Aerodactyl', 0.6206896551724138), ('wrapper_Kabutops', 0.38095238095238093), ('wrapper_Haunter', 0.48), ('wrapper_Machop', 0.3333333333333333), ('wrapper_Moltres', 0.47619047619047616), ('wrapper_Koffing', 0.5909090909090909), ('wrapper_Rhyhorn', 0.4), ('wrapper_Seadra', 0.38095238095238093), ('wrapper_Electrode', 0.5769230769230769), ('wrapper_Fearow', 0.8666666666666667), ('wrapper_Mewtwo', 0.6428571428571429), ('wrapper_Kabuto', 0.47058823529411764), ('wrapper_Raichu', 0.7727272727272727), ('wrapper_Blastoise', 0.7916666666666666), ('wrapper_Pidgeotto', 0.2), ('wrapper_Weezing', 0.3888888888888889), ('wrapper_Hitmonchan', 0.6), ('wrapper_Golbat', 0.782608695652174), ('wrapper_Metapod', 0.5), ('wrapper_Sandslash', 0.38095238095238093), ('wrapper_Ninetales', 0.5217391304347826), ('wrapper_Kangaskhan', 0.4838709677419355), ('wrapper_Beedrill', 0.7727272727272727), ('wrapper_Magnemite', 0.5714285714285714), ('wrapper_Butterfree', 0.8333333333333334), ('wrapper_Starmie', 0.6111111111111112), ('wrapper_Chansey', 0.5652173913043478), ('wrapper_Magmar', 0.4), ('wrapper_Drowzee', 0.6818181818181818), ('wrapper_Staryu', 0.7727272727272727), ('wrapper_Vaporeon', 0.6), ('wrapper_Venonat', 0.5263157894736842), ('wrapper_Ivysaur', 0.9523809523809523), ('wrapper_Pikachu', 0.8125), ('wrapper_Squirtle', 0.8), ('wrapper_Krabby', 0.43478260869565216), ('wrapper_Charmander', 0.8064516129032258), ('wrapper_Victreebel', 0.45), ('wrapper_Dragonair', 0.6), ('wrapper_Weepinbell', 0.5263157894736842), ('wrapper_Cloyster', 0.631578947368421), ('wrapper_Gastly', 0.5263157894736842), ('wrapper_Snorlax', 0.5454545454545454), ('wrapper_Scyther', 0.6956521739130435), ('wrapper_Gengar', 0.7916666666666666), ('wrapper_Diglett', 0.6190476190476191), ('wrapper_Mankey', 0.6086956521739131), ('wrapper_Voltorb', 0.5454545454545454), ('wrapper_Rattata', 0.5238095238095238), ('wrapper_Onix', 0.45454545454545453), ('wrapper_Primeape', 0.38095238095238093), ('wrapper_Clefairy', 0.5833333333333334), ('wrapper_Tentacruel', 0.5789473684210527), ('wrapper_Vileplume', 0.47619047619047616), ('wrapper_Marowak', 0.30434782608695654), ('wrapper_Spearow', 0.8), ('wrapper_Articuno', 0.5714285714285714), ('wrapper_Arcanine', 0.375), ('wrapper_Charmeleon', 0.7083333333333334), ('wrapper_Sandshrew', 0.38095238095238093), ('wrapper_Gloom', 0.7083333333333334), ('wrapper_Weedle', 0.45), ('wrapper_Doduo', 0.5), ('wrapper_Jigglypuff', 0.6), ('wrapper_Flareon', 0.56), ('wrapper_Magikarp', 0.2857142857142857), ('wrapper_Seaking', 0.7272727272727273), ('wrapper_Muk', 0.43478260869565216), ('wrapper_Venusaur', 0.6363636363636364), ('wrapper_Machamp', 0.5), ('wrapper_Goldeen', 0.36363636363636365), ('wrapper_Pinsir', 0.5909090909090909), ('wrapper_Rapidash', 0.5652173913043478), ('wrapper_Poliwag', 0.36363636363636365), ('wrapper_Gyarados', 0.5714285714285714), ('wrapper_Zubat', 0.6111111111111112), ('wrapper_Clefable', 0.6666666666666666), ('wrapper_Graveler', 0.5), ('wrapper_Alakazam', 0.5263157894736842), ('wrapper_Hypno', 0.35), ('wrapper_Seel', 0.3333333333333333), ('wrapper_Magneton', 0.45), ('wrapper_Abra', 0.42105263157894735), ('wrapper_Kingler', 0.6086956521739131), ('wrapper_Jolteon', 0.391304347826087), ('wrapper_Eevee', 0.6470588235294118), ('wrapper_Bellsprout', 0.5263157894736842), ('wrapper_Omanyte', 0.6666666666666666), ('wrapper_Shellder', 0.4782608695652174), ('wrapper_Kadabra', 0.36), ('wrapper_Zapdos', 0.6666666666666666)])\n"
          ],
          "name": "stdout"
        }
      ]
    },
    {
      "cell_type": "code",
      "metadata": {
        "id": "ALuRqfDkvHPN",
        "colab_type": "code",
        "colab": {}
      },
      "source": [
        "np.histogram(list(accuracy.values()))\n",
        "import matplotlib.pyplot as plt"
      ],
      "execution_count": 0,
      "outputs": []
    },
    {
      "cell_type": "code",
      "metadata": {
        "id": "8BnLGpZSv-Qd",
        "colab_type": "code",
        "colab": {}
      },
      "source": [
        "plt.hist(list(accuracy.values()), bins=10, histtype='bar')\n",
        "plt.xlabel(\"Class-Wise Test Accuracy Ranges\")\n",
        "plt.ylabel(\"Number of Pokemon\")\n",
        "plt.title(\"Distribution of Class-Wise Test Accuracy\")"
      ],
      "execution_count": 0,
      "outputs": []
    },
    {
      "cell_type": "markdown",
      "metadata": {
        "id": "mMIY5teEH1uv",
        "colab_type": "text"
      },
      "source": [
        "### Exploring link Between Number of Training Image and Test Accuracy"
      ]
    },
    {
      "cell_type": "code",
      "metadata": {
        "id": "lvoKVYKjC4sx",
        "colab_type": "code",
        "colab": {}
      },
      "source": [
        "# creating a dictionary with number of training examples per pokemon\n",
        "counts = {}\n",
        "for pokemon in os.listdir('balanced_data_clean/train'):\n",
        "    if pokemon[0] != '.':\n",
        "      name = pokemon.replace(\"wrapper_\", \"\")\n",
        "      counts[name] = len(os.listdir('balanced_data_clean/train/{}'.format(pokemon)))"
      ],
      "execution_count": 0,
      "outputs": []
    },
    {
      "cell_type": "code",
      "metadata": {
        "id": "qUrYNSmODmeA",
        "colab_type": "code",
        "colab": {}
      },
      "source": [
        "print(counts.items())"
      ],
      "execution_count": 0,
      "outputs": []
    },
    {
      "cell_type": "code",
      "metadata": {
        "id": "O3bPiFKfszwL",
        "colab_type": "code",
        "colab": {}
      },
      "source": [
        "# plotting number of training examples vs accuracy\n",
        "acc, freq = [], []\n",
        "\n",
        "for pokemon in os.listdir('balanced_data_clean/validation'):\n",
        "  if pokemon[0] != '.':\n",
        "    name = pokemon.replace(\"wrapper_\", \"\")\n",
        "    freq.append(counts[name])\n",
        "    acc.append(accuracy[pokemon] * 100)\n",
        "\n",
        "plt.scatter(freq, acc, c='purple')\n",
        "plt.xlabel(\"Number of Training Examples\")\n",
        "plt.ylabel(\"Test Accuracy (percentage)\")\n",
        "plt.title(\"Number of Training Examples vs. Test Accuracy\")"
      ],
      "execution_count": 0,
      "outputs": []
    }
  ]
}