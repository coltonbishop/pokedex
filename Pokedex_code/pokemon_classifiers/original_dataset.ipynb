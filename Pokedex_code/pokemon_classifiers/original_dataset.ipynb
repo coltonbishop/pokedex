{
  "nbformat": 4,
  "nbformat_minor": 0,
  "metadata": {
    "colab": {
      "name": "original_dataset.ipynb",
      "provenance": [],
      "collapsed_sections": [],
      "toc_visible": true,
      "machine_shape": "hm",
      "include_colab_link": true
    },
    "kernelspec": {
      "name": "python3",
      "display_name": "Python 3"
    },
    "accelerator": "GPU"
  },
  "cells": [
    {
      "cell_type": "markdown",
      "metadata": {
        "id": "view-in-github",
        "colab_type": "text"
      },
      "source": [
        "<a href=\"https://colab.research.google.com/github/pulkitsingh/Pokedex/blob/master/original_dataset.ipynb\" target=\"_parent\"><img src=\"https://colab.research.google.com/assets/colab-badge.svg\" alt=\"Open In Colab\"/></a>"
      ]
    },
    {
      "cell_type": "markdown",
      "metadata": {
        "id": "8TKrJRlUqyjz",
        "colab_type": "text"
      },
      "source": [
        "### Mounting Google Drive"
      ]
    },
    {
      "cell_type": "code",
      "metadata": {
        "id": "S621NksmcZlQ",
        "colab_type": "code",
        "outputId": "987beef5-85eb-4f9d-8981-644c94b41066",
        "colab": {
          "base_uri": "https://localhost:8080/",
          "height": 122
        }
      },
      "source": [
        "# mounting google drive\n",
        "from google.colab import drive\n",
        "drive.mount('/content/gdrive')"
      ],
      "execution_count": 0,
      "outputs": [
        {
          "output_type": "stream",
          "text": [
            "Go to this URL in a browser: https://accounts.google.com/o/oauth2/auth?client_id=947318989803-6bn6qk8qdgf4n4g3pfee6491hc0brc4i.apps.googleusercontent.com&redirect_uri=urn%3aietf%3awg%3aoauth%3a2.0%3aoob&response_type=code&scope=email%20https%3a%2f%2fwww.googleapis.com%2fauth%2fdocs.test%20https%3a%2f%2fwww.googleapis.com%2fauth%2fdrive%20https%3a%2f%2fwww.googleapis.com%2fauth%2fdrive.photos.readonly%20https%3a%2f%2fwww.googleapis.com%2fauth%2fpeopleapi.readonly\n",
            "\n",
            "Enter your authorization code:\n",
            "··········\n",
            "Mounted at /content/gdrive\n"
          ],
          "name": "stdout"
        }
      ]
    },
    {
      "cell_type": "code",
      "metadata": {
        "id": "bcTUKBfMbo2J",
        "colab_type": "code",
        "outputId": "778eb691-3e7b-4dad-ecde-bf50fc6ee561",
        "colab": {
          "base_uri": "https://localhost:8080/",
          "height": 34
        }
      },
      "source": [
        "cd gdrive/My\\ Drive"
      ],
      "execution_count": 0,
      "outputs": [
        {
          "output_type": "stream",
          "text": [
            "/content/gdrive/My Drive\n"
          ],
          "name": "stdout"
        }
      ]
    },
    {
      "cell_type": "markdown",
      "metadata": {
        "id": "MDurK1mBq1-i",
        "colab_type": "text"
      },
      "source": [
        "### Importing Libraries "
      ]
    },
    {
      "cell_type": "code",
      "metadata": {
        "id": "2wGBTYGmdkCH",
        "colab_type": "code",
        "outputId": "3e7d3f21-1ab7-4423-d7c2-376a0cade30a",
        "colab": {
          "base_uri": "https://localhost:8080/",
          "height": 80
        }
      },
      "source": [
        "from keras.preprocessing.image import ImageDataGenerator\n",
        "from keras.models import Sequential\n",
        "from keras.layers import Convolution2D, GlobalAveragePooling2D, BatchNormalization, Input, Conv2D, MaxPooling2D, Dropout, Flatten\n",
        "from keras.layers import Activation, Dropout, Flatten, Dense\n",
        "from keras.optimizers import SGD, Adam, RMSprop\n",
        "from keras import backend as K\n",
        "from keras.applications.vgg16 import VGG16\n",
        "from keras.losses import categorical_crossentropy\n",
        "from keras.callbacks import ModelCheckpoint\n",
        "import os\n",
        "from keras.models import load_model"
      ],
      "execution_count": 0,
      "outputs": [
        {
          "output_type": "stream",
          "text": [
            "Using TensorFlow backend.\n"
          ],
          "name": "stderr"
        },
        {
          "output_type": "display_data",
          "data": {
            "text/html": [
              "<p style=\"color: red;\">\n",
              "The default version of TensorFlow in Colab will soon switch to TensorFlow 2.x.<br>\n",
              "We recommend you <a href=\"https://www.tensorflow.org/guide/migrate\" target=\"_blank\">upgrade</a> now \n",
              "or ensure your notebook will continue to use TensorFlow 1.x via the <code>%tensorflow_version 1.x</code> magic:\n",
              "<a href=\"https://colab.research.google.com/notebooks/tensorflow_version.ipynb\" target=\"_blank\">more info</a>.</p>\n"
            ],
            "text/plain": [
              "<IPython.core.display.HTML object>"
            ]
          },
          "metadata": {
            "tags": []
          }
        }
      ]
    },
    {
      "cell_type": "markdown",
      "metadata": {
        "id": "aQstzZLbq50l",
        "colab_type": "text"
      },
      "source": [
        "### Loading Data"
      ]
    },
    {
      "cell_type": "code",
      "metadata": {
        "id": "fIRzIGWTdytP",
        "colab_type": "code",
        "colab": {}
      },
      "source": [
        "# directories for training and validation data\n",
        "train_directory = 'original_data_clean/train'\n",
        "validation_directory = 'original_data_clean/validation'"
      ],
      "execution_count": 0,
      "outputs": []
    },
    {
      "cell_type": "code",
      "metadata": {
        "id": "Zaref9b8d1oO",
        "colab_type": "code",
        "colab": {}
      },
      "source": [
        "# making ImageDataGenerator instances for training and test data\n",
        "train_datagen = ImageDataGenerator(rescale=1./255, shear_range=0.2, \n",
        "                                   zoom_range=0.2, horizontal_flip=True)\n",
        "\n",
        "test_datagen = ImageDataGenerator(rescale=1./255)"
      ],
      "execution_count": 0,
      "outputs": []
    },
    {
      "cell_type": "code",
      "metadata": {
        "id": "is2nABHMt6GV",
        "colab_type": "code",
        "outputId": "4a1e8e5a-d0d6-423e-d421-1a8f1bdf388a",
        "colab": {
          "base_uri": "https://localhost:8080/",
          "height": 51
        }
      },
      "source": [
        "# loading the train and validation data\n",
        "train_gen = train_datagen.flow_from_directory('original_data_clean/train',\n",
        "                                              target_size=(224, 224),\n",
        "                                              batch_size=32,\n",
        "                                              color_mode=\"rgb\",                                            \n",
        "                                              class_mode='categorical', \n",
        "                                              shuffle=True, seed=333)\n",
        "\n",
        "test_gen = test_datagen.flow_from_directory('original_data_clean/validation',\n",
        "                                            target_size=(224, 224),\n",
        "                                            color_mode = \"rgb\",\n",
        "                                            batch_size=32,\n",
        "                                            class_mode='categorical', \n",
        "                                            shuffle=True, seed=333)\n"
      ],
      "execution_count": 0,
      "outputs": [
        {
          "output_type": "stream",
          "text": [
            "Found 8478 images belonging to 149 classes.\n",
            "Found 2189 images belonging to 149 classes.\n"
          ],
          "name": "stdout"
        }
      ]
    },
    {
      "cell_type": "markdown",
      "metadata": {
        "id": "0mAUrGGS5oyM",
        "colab_type": "text"
      },
      "source": [
        "### Specifying the model"
      ]
    },
    {
      "cell_type": "code",
      "metadata": {
        "id": "yg4TfXI3qkO6",
        "colab_type": "code",
        "colab": {}
      },
      "source": [
        "# specifying parameters\n",
        "batch_size = 10\n",
        "input_shape = (10, 224, 224, 3)\n",
        "num_training_samples = 12903\n",
        "num_test_samples = 3317"
      ],
      "execution_count": 0,
      "outputs": []
    },
    {
      "cell_type": "code",
      "metadata": {
        "id": "3JJu8mq4LbWz",
        "colab_type": "code",
        "outputId": "c89de73b-30f1-4b11-b02c-520940e29102",
        "colab": {
          "base_uri": "https://localhost:8080/",
          "height": 258
        }
      },
      "source": [
        "# specifying the model\n",
        "\n",
        "model = Sequential()\n",
        "\n",
        "model.add(Conv2D(32, (3, 3), padding='same',\n",
        "                 input_shape=(224, 224, 3)))\n",
        "model.add(Activation('relu'))\n",
        "model.add(Conv2D(32, (3, 3)))\n",
        "model.add(Activation('relu'))\n",
        "model.add(MaxPooling2D(pool_size=(2, 2)))\n",
        "model.add(Dropout(0.25))\n",
        "\n",
        "model.add(Conv2D(64, (3, 3), padding='same'))\n",
        "model.add(Activation('relu'))\n",
        "model.add(Conv2D(64, (3, 3)))\n",
        "model.add(Activation('relu'))\n",
        "model.add(MaxPooling2D(pool_size=(2, 2)))\n",
        "model.add(Dropout(0.25))\n",
        "\n",
        "model.add(Flatten())\n",
        "model.add(Dense(512))\n",
        "model.add(Activation('relu'))\n",
        "model.add(Dropout(0.5))\n",
        "model.add(Dense(149))\n",
        "model.add(Activation('softmax'))\n"
      ],
      "execution_count": 0,
      "outputs": [
        {
          "output_type": "stream",
          "text": [
            "WARNING:tensorflow:From /usr/local/lib/python3.6/dist-packages/keras/backend/tensorflow_backend.py:66: The name tf.get_default_graph is deprecated. Please use tf.compat.v1.get_default_graph instead.\n",
            "\n",
            "WARNING:tensorflow:From /usr/local/lib/python3.6/dist-packages/keras/backend/tensorflow_backend.py:541: The name tf.placeholder is deprecated. Please use tf.compat.v1.placeholder instead.\n",
            "\n",
            "WARNING:tensorflow:From /usr/local/lib/python3.6/dist-packages/keras/backend/tensorflow_backend.py:4432: The name tf.random_uniform is deprecated. Please use tf.random.uniform instead.\n",
            "\n",
            "WARNING:tensorflow:From /usr/local/lib/python3.6/dist-packages/keras/backend/tensorflow_backend.py:4267: The name tf.nn.max_pool is deprecated. Please use tf.nn.max_pool2d instead.\n",
            "\n",
            "WARNING:tensorflow:From /usr/local/lib/python3.6/dist-packages/keras/backend/tensorflow_backend.py:148: The name tf.placeholder_with_default is deprecated. Please use tf.compat.v1.placeholder_with_default instead.\n",
            "\n",
            "WARNING:tensorflow:From /usr/local/lib/python3.6/dist-packages/keras/backend/tensorflow_backend.py:3733: calling dropout (from tensorflow.python.ops.nn_ops) with keep_prob is deprecated and will be removed in a future version.\n",
            "Instructions for updating:\n",
            "Please use `rate` instead of `keep_prob`. Rate should be set to `rate = 1 - keep_prob`.\n"
          ],
          "name": "stdout"
        }
      ]
    },
    {
      "cell_type": "code",
      "metadata": {
        "id": "b2TXw4wQLbsG",
        "colab_type": "code",
        "outputId": "e7a60f01-b024-4a65-dc5e-a513af565b0c",
        "colab": {
          "base_uri": "https://localhost:8080/",
          "height": 870
        }
      },
      "source": [
        "adam = Adam(lr=0.001, beta_1=0.9, beta_2=0.999, amsgrad=False)\n",
        "model.compile(loss=categorical_crossentropy, optimizer=adam, metrics=['accuracy'])\n",
        "print(model.summary())"
      ],
      "execution_count": 0,
      "outputs": [
        {
          "output_type": "stream",
          "text": [
            "WARNING:tensorflow:From /usr/local/lib/python3.6/dist-packages/keras/optimizers.py:793: The name tf.train.Optimizer is deprecated. Please use tf.compat.v1.train.Optimizer instead.\n",
            "\n",
            "WARNING:tensorflow:From /usr/local/lib/python3.6/dist-packages/keras/backend/tensorflow_backend.py:3576: The name tf.log is deprecated. Please use tf.math.log instead.\n",
            "\n",
            "Model: \"sequential_1\"\n",
            "_________________________________________________________________\n",
            "Layer (type)                 Output Shape              Param #   \n",
            "=================================================================\n",
            "conv2d_1 (Conv2D)            (None, 224, 224, 32)      896       \n",
            "_________________________________________________________________\n",
            "activation_1 (Activation)    (None, 224, 224, 32)      0         \n",
            "_________________________________________________________________\n",
            "conv2d_2 (Conv2D)            (None, 222, 222, 32)      9248      \n",
            "_________________________________________________________________\n",
            "activation_2 (Activation)    (None, 222, 222, 32)      0         \n",
            "_________________________________________________________________\n",
            "max_pooling2d_1 (MaxPooling2 (None, 111, 111, 32)      0         \n",
            "_________________________________________________________________\n",
            "dropout_1 (Dropout)          (None, 111, 111, 32)      0         \n",
            "_________________________________________________________________\n",
            "conv2d_3 (Conv2D)            (None, 111, 111, 64)      18496     \n",
            "_________________________________________________________________\n",
            "activation_3 (Activation)    (None, 111, 111, 64)      0         \n",
            "_________________________________________________________________\n",
            "conv2d_4 (Conv2D)            (None, 109, 109, 64)      36928     \n",
            "_________________________________________________________________\n",
            "activation_4 (Activation)    (None, 109, 109, 64)      0         \n",
            "_________________________________________________________________\n",
            "max_pooling2d_2 (MaxPooling2 (None, 54, 54, 64)        0         \n",
            "_________________________________________________________________\n",
            "dropout_2 (Dropout)          (None, 54, 54, 64)        0         \n",
            "_________________________________________________________________\n",
            "flatten_1 (Flatten)          (None, 186624)            0         \n",
            "_________________________________________________________________\n",
            "dense_1 (Dense)              (None, 512)               95552000  \n",
            "_________________________________________________________________\n",
            "activation_5 (Activation)    (None, 512)               0         \n",
            "_________________________________________________________________\n",
            "dropout_3 (Dropout)          (None, 512)               0         \n",
            "_________________________________________________________________\n",
            "dense_2 (Dense)              (None, 149)               76437     \n",
            "_________________________________________________________________\n",
            "activation_6 (Activation)    (None, 149)               0         \n",
            "=================================================================\n",
            "Total params: 95,694,005\n",
            "Trainable params: 95,694,005\n",
            "Non-trainable params: 0\n",
            "_________________________________________________________________\n",
            "None\n"
          ],
          "name": "stdout"
        }
      ]
    },
    {
      "cell_type": "markdown",
      "metadata": {
        "id": "2S8-I2rY3waz",
        "colab_type": "text"
      },
      "source": [
        "### Training the Model"
      ]
    },
    {
      "cell_type": "code",
      "metadata": {
        "id": "pkZFSp3l38Di",
        "colab_type": "code",
        "outputId": "d2b5485b-39f7-4eed-94a3-84c601c79918",
        "colab": {
          "base_uri": "https://localhost:8080/",
          "height": 34
        }
      },
      "source": [
        "# making a directory to save weights\n",
        "import os\n",
        "dir_name = 'pokemon_weights/original2'\n",
        "#os.mkdir(dir_name)\n",
        "path = os.path.join(os.getcwd(), dir_name)\n",
        "print(path)"
      ],
      "execution_count": 0,
      "outputs": [
        {
          "output_type": "stream",
          "text": [
            "/content/gdrive/My Drive/pokemon_weights/original2\n"
          ],
          "name": "stdout"
        }
      ]
    },
    {
      "cell_type": "code",
      "metadata": {
        "id": "x_WE653E52ie",
        "colab_type": "code",
        "colab": {}
      },
      "source": [
        "filepath = os.path.join(path, \"model-{epoch:02d}.hdf5\")\n",
        "checkpoint = ModelCheckpoint(filepath, monitor='accuracy', verbose=1, \n",
        "                             save_best_only=False, save_weights_only=True, \n",
        "                             mode='auto', period=1)"
      ],
      "execution_count": 0,
      "outputs": []
    },
    {
      "cell_type": "code",
      "metadata": {
        "id": "MYrp7gOmDH5P",
        "colab_type": "code",
        "outputId": "6c9ee45f-5d4e-4cab-cc02-72d3d8eae05c",
        "colab": {
          "base_uri": "https://localhost:8080/",
          "height": 1000
        }
      },
      "source": [
        "history = model.fit_generator(train_gen, \n",
        "                    epochs=100,\n",
        "                    workers=10,\n",
        "                    use_multiprocessing=True,\n",
        "                    shuffle=True,\n",
        "                    callbacks=[checkpoint],\n",
        "                    validation_data=test_gen,\n",
        "                    validation_steps=1, \n",
        "                    verbose=1)"
      ],
      "execution_count": 0,
      "outputs": [
        {
          "output_type": "stream",
          "text": [
            "Epoch 1/100\n",
            " 77/265 [=======>......................] - ETA: 5:05 - loss: 4.0600 - acc: 0.1404"
          ],
          "name": "stdout"
        },
        {
          "output_type": "stream",
          "text": [
            "/usr/local/lib/python3.6/dist-packages/PIL/Image.py:989: UserWarning: Palette images with Transparency expressed in bytes should be converted to RGBA images\n",
            "  \"Palette images with Transparency expressed in bytes should be \"\n"
          ],
          "name": "stderr"
        },
        {
          "output_type": "stream",
          "text": [
            "175/265 [==================>...........] - ETA: 2:19 - loss: 4.0320 - acc: 0.1438"
          ],
          "name": "stdout"
        },
        {
          "output_type": "stream",
          "text": [
            "/usr/local/lib/python3.6/dist-packages/PIL/Image.py:989: UserWarning: Palette images with Transparency expressed in bytes should be converted to RGBA images\n",
            "  \"Palette images with Transparency expressed in bytes should be \"\n"
          ],
          "name": "stderr"
        },
        {
          "output_type": "stream",
          "text": [
            "264/265 [============================>.] - ETA: 1s - loss: 4.0431 - acc: 0.1401\n",
            "265/265 [==============================] - 398s 2s/step - loss: 4.0431 - acc: 0.1401 - val_loss: 3.8122 - val_acc: 0.1875\n",
            "\n",
            "Epoch 00001: saving model to /content/gdrive/My Drive/pokemon_weights/original2/model-01.hdf5\n"
          ],
          "name": "stdout"
        },
        {
          "output_type": "stream",
          "text": [
            "/usr/local/lib/python3.6/dist-packages/PIL/Image.py:989: UserWarning: Palette images with Transparency expressed in bytes should be converted to RGBA images\n",
            "  \"Palette images with Transparency expressed in bytes should be \"\n"
          ],
          "name": "stderr"
        },
        {
          "output_type": "stream",
          "text": [
            "Epoch 2/100\n",
            "202/265 [=====================>........] - ETA: 18s - loss: 3.9162 - acc: 0.1556"
          ],
          "name": "stdout"
        },
        {
          "output_type": "stream",
          "text": [
            "/usr/local/lib/python3.6/dist-packages/PIL/Image.py:989: UserWarning: Palette images with Transparency expressed in bytes should be converted to RGBA images\n",
            "  \"Palette images with Transparency expressed in bytes should be \"\n"
          ],
          "name": "stderr"
        },
        {
          "output_type": "stream",
          "text": [
            "265/265 [==============================] - 75s 282ms/step - loss: 3.9049 - acc: 0.1547 - val_loss: 3.8602 - val_acc: 0.1875\n",
            "\n",
            "Epoch 00002: saving model to /content/gdrive/My Drive/pokemon_weights/original2/model-02.hdf5\n",
            "Epoch 3/100\n",
            " 86/265 [========>.....................] - ETA: 56s - loss: 3.7508 - acc: 0.1781"
          ],
          "name": "stdout"
        },
        {
          "output_type": "stream",
          "text": [
            "/usr/local/lib/python3.6/dist-packages/PIL/Image.py:989: UserWarning: Palette images with Transparency expressed in bytes should be converted to RGBA images\n",
            "  \"Palette images with Transparency expressed in bytes should be \"\n"
          ],
          "name": "stderr"
        },
        {
          "output_type": "stream",
          "text": [
            "223/265 [========================>.....] - ETA: 12s - loss: 3.7364 - acc: 0.1836"
          ],
          "name": "stdout"
        },
        {
          "output_type": "stream",
          "text": [
            "/usr/local/lib/python3.6/dist-packages/PIL/Image.py:989: UserWarning: Palette images with Transparency expressed in bytes should be converted to RGBA images\n",
            "  \"Palette images with Transparency expressed in bytes should be \"\n"
          ],
          "name": "stderr"
        },
        {
          "output_type": "stream",
          "text": [
            "264/265 [============================>.] - ETA: 0s - loss: 3.7287 - acc: 0.1878Epoch 3/100\n",
            "265/265 [==============================] - 77s 291ms/step - loss: 3.7285 - acc: 0.1880 - val_loss: 3.3222 - val_acc: 0.3125\n",
            "\n",
            "Epoch 00003: saving model to /content/gdrive/My Drive/pokemon_weights/original2/model-03.hdf5\n",
            "Epoch 4/100\n",
            " 27/265 [==>...........................] - ETA: 1:27 - loss: 3.6682 - acc: 0.1898"
          ],
          "name": "stdout"
        },
        {
          "output_type": "stream",
          "text": [
            "/usr/local/lib/python3.6/dist-packages/PIL/Image.py:989: UserWarning: Palette images with Transparency expressed in bytes should be converted to RGBA images\n",
            "  \"Palette images with Transparency expressed in bytes should be \"\n"
          ],
          "name": "stderr"
        },
        {
          "output_type": "stream",
          "text": [
            "143/265 [===============>..............] - ETA: 35s - loss: 3.6117 - acc: 0.2022"
          ],
          "name": "stdout"
        },
        {
          "output_type": "stream",
          "text": [
            "/usr/local/lib/python3.6/dist-packages/PIL/Image.py:989: UserWarning: Palette images with Transparency expressed in bytes should be converted to RGBA images\n",
            "  \"Palette images with Transparency expressed in bytes should be \"\n"
          ],
          "name": "stderr"
        },
        {
          "output_type": "stream",
          "text": [
            "179/265 [===================>..........] - ETA: 25s - loss: 3.5986 - acc: 0.2042"
          ],
          "name": "stdout"
        },
        {
          "output_type": "stream",
          "text": [
            "/usr/local/lib/python3.6/dist-packages/PIL/Image.py:989: UserWarning: Palette images with Transparency expressed in bytes should be converted to RGBA images\n",
            "  \"Palette images with Transparency expressed in bytes should be \"\n"
          ],
          "name": "stderr"
        },
        {
          "output_type": "stream",
          "text": [
            "264/265 [============================>.] - ETA: 0s - loss: 3.5857 - acc: 0.2083\n",
            "265/265 [==============================] - 77s 290ms/step - loss: 3.5854 - acc: 0.2084 - val_loss: 3.5264 - val_acc: 0.2500\n",
            "\n",
            "Epoch 00004: saving model to /content/gdrive/My Drive/pokemon_weights/original2/model-04.hdf5\n",
            "Epoch 5/100\n",
            " 45/265 [====>.........................] - ETA: 1:07 - loss: 3.5484 - acc: 0.2174"
          ],
          "name": "stdout"
        },
        {
          "output_type": "stream",
          "text": [
            "/usr/local/lib/python3.6/dist-packages/PIL/Image.py:989: UserWarning: Palette images with Transparency expressed in bytes should be converted to RGBA images\n",
            "  \"Palette images with Transparency expressed in bytes should be \"\n"
          ],
          "name": "stderr"
        },
        {
          "output_type": "stream",
          "text": [
            "112/265 [===========>..................] - ETA: 46s - loss: 3.4656 - acc: 0.2344"
          ],
          "name": "stdout"
        },
        {
          "output_type": "stream",
          "text": [
            "/usr/local/lib/python3.6/dist-packages/PIL/Image.py:989: UserWarning: Palette images with Transparency expressed in bytes should be converted to RGBA images\n",
            "  \"Palette images with Transparency expressed in bytes should be \"\n"
          ],
          "name": "stderr"
        },
        {
          "output_type": "stream",
          "text": [
            "265/265 [==============================] - 76s 288ms/step - loss: 3.3962 - acc: 0.2459 - val_loss: 3.7409 - val_acc: 0.1875\n",
            "\n",
            "Epoch 00005: saving model to /content/gdrive/My Drive/pokemon_weights/original2/model-05.hdf5\n",
            "Epoch 6/100\n",
            " 35/265 [==>...........................] - ETA: 1:29 - loss: 3.2279 - acc: 0.2598"
          ],
          "name": "stdout"
        },
        {
          "output_type": "stream",
          "text": [
            "/usr/local/lib/python3.6/dist-packages/PIL/Image.py:989: UserWarning: Palette images with Transparency expressed in bytes should be converted to RGBA images\n",
            "  \"Palette images with Transparency expressed in bytes should be \"\n"
          ],
          "name": "stderr"
        },
        {
          "output_type": "stream",
          "text": [
            "215/265 [=======================>......] - ETA: 14s - loss: 3.1995 - acc: 0.2768"
          ],
          "name": "stdout"
        },
        {
          "output_type": "stream",
          "text": [
            "/usr/local/lib/python3.6/dist-packages/PIL/Image.py:989: UserWarning: Palette images with Transparency expressed in bytes should be converted to RGBA images\n",
            "  \"Palette images with Transparency expressed in bytes should be \"\n"
          ],
          "name": "stderr"
        },
        {
          "output_type": "stream",
          "text": [
            "264/265 [============================>.] - ETA: 0s - loss: 3.1857 - acc: 0.2817\n",
            "265/265 [==============================] - 77s 291ms/step - loss: 3.1846 - acc: 0.2815 - val_loss: 3.2111 - val_acc: 0.4375\n",
            "\n",
            "Epoch 00006: saving model to /content/gdrive/My Drive/pokemon_weights/original2/model-06.hdf5\n",
            "Epoch 7/100\n",
            " 57/265 [=====>........................] - ETA: 1:06 - loss: 2.9721 - acc: 0.3103"
          ],
          "name": "stdout"
        },
        {
          "output_type": "stream",
          "text": [
            "/usr/local/lib/python3.6/dist-packages/PIL/Image.py:989: UserWarning: Palette images with Transparency expressed in bytes should be converted to RGBA images\n",
            "  \"Palette images with Transparency expressed in bytes should be \"\n"
          ],
          "name": "stderr"
        },
        {
          "output_type": "stream",
          "text": [
            "192/265 [====================>.........] - ETA: 21s - loss: 3.0036 - acc: 0.3050"
          ],
          "name": "stdout"
        },
        {
          "output_type": "stream",
          "text": [
            "/usr/local/lib/python3.6/dist-packages/PIL/Image.py:989: UserWarning: Palette images with Transparency expressed in bytes should be converted to RGBA images\n",
            "  \"Palette images with Transparency expressed in bytes should be \"\n"
          ],
          "name": "stderr"
        },
        {
          "output_type": "stream",
          "text": [
            "265/265 [==============================] - 77s 291ms/step - loss: 3.1846 - acc: 0.2815 - val_loss: 3.2111 - val_acc: 0.4375\n",
            "Epoch 7/100\n",
            "265/265 [==============================] - 75s 285ms/step - loss: 3.0087 - acc: 0.3071 - val_loss: 3.2849 - val_acc: 0.2188\n",
            "\n",
            "Epoch 00007: saving model to /content/gdrive/My Drive/pokemon_weights/original2/model-07.hdf5\n",
            "Epoch 8/100\n",
            " 29/265 [==>...........................] - ETA: 1:23 - loss: 2.7342 - acc: 0.3502"
          ],
          "name": "stdout"
        },
        {
          "output_type": "stream",
          "text": [
            "/usr/local/lib/python3.6/dist-packages/PIL/Image.py:989: UserWarning: Palette images with Transparency expressed in bytes should be converted to RGBA images\n",
            "  \"Palette images with Transparency expressed in bytes should be \"\n"
          ],
          "name": "stderr"
        },
        {
          "output_type": "stream",
          "text": [
            "157/265 [================>.............] - ETA: 31s - loss: 2.8346 - acc: 0.3419"
          ],
          "name": "stdout"
        },
        {
          "output_type": "stream",
          "text": [
            "/usr/local/lib/python3.6/dist-packages/PIL/Image.py:989: UserWarning: Palette images with Transparency expressed in bytes should be converted to RGBA images\n",
            "  \"Palette images with Transparency expressed in bytes should be \"\n"
          ],
          "name": "stderr"
        },
        {
          "output_type": "stream",
          "text": [
            "265/265 [==============================] - 75s 285ms/step - loss: 2.8291 - acc: 0.3438 - val_loss: 3.3841 - val_acc: 0.3438\n",
            "\n",
            "Epoch 00008: saving model to /content/gdrive/My Drive/pokemon_weights/original2/model-08.hdf5\n",
            "Epoch 9/100\n",
            " 14/265 [>.............................] - ETA: 1:42 - loss: 2.5885 - acc: 0.4040"
          ],
          "name": "stdout"
        },
        {
          "output_type": "stream",
          "text": [
            "/usr/local/lib/python3.6/dist-packages/PIL/Image.py:989: UserWarning: Palette images with Transparency expressed in bytes should be converted to RGBA images\n",
            "  \"Palette images with Transparency expressed in bytes should be \"\n"
          ],
          "name": "stderr"
        },
        {
          "output_type": "stream",
          "text": [
            " 92/265 [=========>....................] - ETA: 52s - loss: 2.6591 - acc: 0.3835"
          ],
          "name": "stdout"
        },
        {
          "output_type": "stream",
          "text": [
            "/usr/local/lib/python3.6/dist-packages/PIL/Image.py:989: UserWarning: Palette images with Transparency expressed in bytes should be converted to RGBA images\n",
            "  \"Palette images with Transparency expressed in bytes should be \"\n"
          ],
          "name": "stderr"
        },
        {
          "output_type": "stream",
          "text": [
            "265/265 [==============================] - 75s 283ms/step - loss: 2.6725 - acc: 0.3731 - val_loss: 3.2400 - val_acc: 0.2500\n",
            "\n",
            "Epoch 00009: saving model to /content/gdrive/My Drive/pokemon_weights/original2/model-09.hdf5\n",
            "Epoch 10/100\n",
            "218/265 [=======================>......] - ETA: 13s - loss: 2.5557 - acc: 0.3925"
          ],
          "name": "stdout"
        },
        {
          "output_type": "stream",
          "text": [
            "/usr/local/lib/python3.6/dist-packages/PIL/Image.py:989: UserWarning: Palette images with Transparency expressed in bytes should be converted to RGBA images\n",
            "  \"Palette images with Transparency expressed in bytes should be \"\n"
          ],
          "name": "stderr"
        },
        {
          "output_type": "stream",
          "text": [
            "227/265 [========================>.....] - ETA: 10s - loss: 2.5595 - acc: 0.3915"
          ],
          "name": "stdout"
        },
        {
          "output_type": "stream",
          "text": [
            "/usr/local/lib/python3.6/dist-packages/PIL/Image.py:989: UserWarning: Palette images with Transparency expressed in bytes should be converted to RGBA images\n",
            "  \"Palette images with Transparency expressed in bytes should be \"\n"
          ],
          "name": "stderr"
        },
        {
          "output_type": "stream",
          "text": [
            "265/265 [==============================] - 74s 279ms/step - loss: 2.5518 - acc: 0.3939 - val_loss: 2.7523 - val_acc: 0.3750\n",
            "\n",
            "Epoch 00010: saving model to /content/gdrive/My Drive/pokemon_weights/original2/model-10.hdf5\n",
            "Epoch 11/100\n",
            "249/265 [===========================>..] - ETA: 4s - loss: 2.4172 - acc: 0.4179"
          ],
          "name": "stdout"
        },
        {
          "output_type": "stream",
          "text": [
            "/usr/local/lib/python3.6/dist-packages/PIL/Image.py:989: UserWarning: Palette images with Transparency expressed in bytes should be converted to RGBA images\n",
            "  \"Palette images with Transparency expressed in bytes should be \"\n",
            "/usr/local/lib/python3.6/dist-packages/PIL/Image.py:989: UserWarning: Palette images with Transparency expressed in bytes should be converted to RGBA images\n",
            "  \"Palette images with Transparency expressed in bytes should be \"\n"
          ],
          "name": "stderr"
        },
        {
          "output_type": "stream",
          "text": [
            "264/265 [============================>.] - ETA: 0s - loss: 2.4150 - acc: 0.4190\n",
            "Epoch 00010: saving model to /content/gdrive/My Drive/pokemon_weights/original2/model-10.hdf5\n",
            "265/265 [==============================] - 78s 294ms/step - loss: 2.4170 - acc: 0.4187 - val_loss: 3.9328 - val_acc: 0.2500\n",
            "\n",
            "Epoch 00011: saving model to /content/gdrive/My Drive/pokemon_weights/original2/model-11.hdf5\n",
            "Epoch 12/100\n",
            " 89/265 [=========>....................] - ETA: 51s - loss: 2.3222 - acc: 0.4463"
          ],
          "name": "stdout"
        },
        {
          "output_type": "stream",
          "text": [
            "/usr/local/lib/python3.6/dist-packages/PIL/Image.py:989: UserWarning: Palette images with Transparency expressed in bytes should be converted to RGBA images\n",
            "  \"Palette images with Transparency expressed in bytes should be \"\n"
          ],
          "name": "stderr"
        },
        {
          "output_type": "stream",
          "text": [
            "235/265 [=========================>....] - ETA: 8s - loss: 2.3135 - acc: 0.4485"
          ],
          "name": "stdout"
        },
        {
          "output_type": "stream",
          "text": [
            "/usr/local/lib/python3.6/dist-packages/PIL/Image.py:989: UserWarning: Palette images with Transparency expressed in bytes should be converted to RGBA images\n",
            "  \"Palette images with Transparency expressed in bytes should be \"\n"
          ],
          "name": "stderr"
        },
        {
          "output_type": "stream",
          "text": [
            "265/265 [==============================] - 74s 280ms/step - loss: 2.3234 - acc: 0.4457 - val_loss: 3.3875 - val_acc: 0.3125\n",
            "\n",
            "Epoch 00012: saving model to /content/gdrive/My Drive/pokemon_weights/original2/model-12.hdf5\n",
            "Epoch 13/100\n",
            " 65/265 [======>.......................] - ETA: 56s - loss: 2.1677 - acc: 0.4749"
          ],
          "name": "stdout"
        },
        {
          "output_type": "stream",
          "text": [
            "/usr/local/lib/python3.6/dist-packages/PIL/Image.py:989: UserWarning: Palette images with Transparency expressed in bytes should be converted to RGBA images\n",
            "  \"Palette images with Transparency expressed in bytes should be \"\n"
          ],
          "name": "stderr"
        },
        {
          "output_type": "stream",
          "text": [
            "162/265 [=================>............] - ETA: 29s - loss: 2.1507 - acc: 0.4758"
          ],
          "name": "stdout"
        },
        {
          "output_type": "stream",
          "text": [
            "/usr/local/lib/python3.6/dist-packages/PIL/Image.py:989: UserWarning: Palette images with Transparency expressed in bytes should be converted to RGBA images\n",
            "  \"Palette images with Transparency expressed in bytes should be \"\n"
          ],
          "name": "stderr"
        },
        {
          "output_type": "stream",
          "text": [
            "265/265 [==============================] - 74s 278ms/step - loss: 2.1796 - acc: 0.4721 - val_loss: 3.7174 - val_acc: 0.2188\n",
            "\n",
            "Epoch 00013: saving model to /content/gdrive/My Drive/pokemon_weights/original2/model-13.hdf5\n",
            "Epoch 14/100\n",
            "180/265 [===================>..........] - ETA: 24s - loss: 2.0916 - acc: 0.4876"
          ],
          "name": "stdout"
        },
        {
          "output_type": "stream",
          "text": [
            "/usr/local/lib/python3.6/dist-packages/PIL/Image.py:989: UserWarning: Palette images with Transparency expressed in bytes should be converted to RGBA images\n",
            "  \"Palette images with Transparency expressed in bytes should be \"\n"
          ],
          "name": "stderr"
        },
        {
          "output_type": "stream",
          "text": [
            "196/265 [=====================>........] - ETA: 19s - loss: 2.1022 - acc: 0.4863"
          ],
          "name": "stdout"
        },
        {
          "output_type": "stream",
          "text": [
            "/usr/local/lib/python3.6/dist-packages/PIL/Image.py:989: UserWarning: Palette images with Transparency expressed in bytes should be converted to RGBA images\n",
            "  \"Palette images with Transparency expressed in bytes should be \"\n"
          ],
          "name": "stderr"
        },
        {
          "output_type": "stream",
          "text": [
            "264/265 [============================>.] - ETA: 0s - loss: 2.1436 - acc: 0.4763\b\b\b\b\b\b\b\b\b\b\b\b\b\b\b\b\b\b\b\b\b\b\b\b\b\b\b\b\b\b\b\b\b\b\b\b\b\b\b\b\b\b\b\b\b\b\b\b\b\b\b\b\b\b\b\b\b\b\b\b\b\b\b\b\b\b\b\b\b\b\b\b\b\b\b\b\b\b\b\n",
            "265/265 [==============================] - 74s 280ms/step - loss: 2.1440 - acc: 0.4762 - val_loss: 2.3089 - val_acc: 0.5312\n",
            "\n",
            "Epoch 00014: saving model to /content/gdrive/My Drive/pokemon_weights/original2/model-14.hdf5\n",
            "Epoch 15/100\n",
            " 53/265 [=====>........................] - ETA: 1:03 - loss: 1.9026 - acc: 0.5342"
          ],
          "name": "stdout"
        },
        {
          "output_type": "stream",
          "text": [
            "/usr/local/lib/python3.6/dist-packages/PIL/Image.py:989: UserWarning: Palette images with Transparency expressed in bytes should be converted to RGBA images\n",
            "  \"Palette images with Transparency expressed in bytes should be \"\n"
          ],
          "name": "stderr"
        },
        {
          "output_type": "stream",
          "text": [
            "265/265 [==============================] - 74s 279ms/step - loss: 2.0205 - acc: 0.5054 - val_loss: 2.9514 - val_acc: 0.4062\n",
            "\n",
            "Epoch 00015: saving model to /content/gdrive/My Drive/pokemon_weights/original2/model-15.hdf5\n",
            "Epoch 16/100\n",
            "143/265 [===============>..............] - ETA: 34s - loss: 1.9132 - acc: 0.5332"
          ],
          "name": "stdout"
        },
        {
          "output_type": "stream",
          "text": [
            "/usr/local/lib/python3.6/dist-packages/PIL/Image.py:989: UserWarning: Palette images with Transparency expressed in bytes should be converted to RGBA images\n",
            "  \"Palette images with Transparency expressed in bytes should be \"\n"
          ],
          "name": "stderr"
        },
        {
          "output_type": "stream",
          "text": [
            "235/265 [=========================>....] - ETA: 8s - loss: 1.9208 - acc: 0.5248"
          ],
          "name": "stdout"
        },
        {
          "output_type": "stream",
          "text": [
            "/usr/local/lib/python3.6/dist-packages/PIL/Image.py:989: UserWarning: Palette images with Transparency expressed in bytes should be converted to RGBA images\n",
            "  \"Palette images with Transparency expressed in bytes should be \"\n"
          ],
          "name": "stderr"
        },
        {
          "output_type": "stream",
          "text": [
            "264/265 [============================>.] - ETA: 0s - loss: 1.9283 - acc: 0.5230\n",
            "265/265 [==============================] - 74s 278ms/step - loss: 1.9292 - acc: 0.5224 - val_loss: 2.9651 - val_acc: 0.5000\n",
            "\n",
            "Epoch 00016: saving model to /content/gdrive/My Drive/pokemon_weights/original2/model-16.hdf5\n",
            "Epoch 17/100\n",
            " 55/265 [=====>........................] - ETA: 1:06 - loss: 1.8531 - acc: 0.5364"
          ],
          "name": "stdout"
        },
        {
          "output_type": "stream",
          "text": [
            "/usr/local/lib/python3.6/dist-packages/PIL/Image.py:989: UserWarning: Palette images with Transparency expressed in bytes should be converted to RGBA images\n",
            "  \"Palette images with Transparency expressed in bytes should be \"\n"
          ],
          "name": "stderr"
        },
        {
          "output_type": "stream",
          "text": [
            " 73/265 [=======>......................] - ETA: 59s - loss: 1.8542 - acc: 0.5312"
          ],
          "name": "stdout"
        },
        {
          "output_type": "stream",
          "text": [
            "/usr/local/lib/python3.6/dist-packages/PIL/Image.py:989: UserWarning: Palette images with Transparency expressed in bytes should be converted to RGBA images\n",
            "  \"Palette images with Transparency expressed in bytes should be \"\n"
          ],
          "name": "stderr"
        },
        {
          "output_type": "stream",
          "text": [
            "265/265 [==============================] - 75s 281ms/step - loss: 1.8571 - acc: 0.5360 - val_loss: 3.2184 - val_acc: 0.4375\n",
            "\n",
            "Epoch 00017: saving model to /content/gdrive/My Drive/pokemon_weights/original2/model-17.hdf5\n",
            "Epoch 18/100\n"
          ],
          "name": "stdout"
        },
        {
          "output_type": "stream",
          "text": [
            "/usr/local/lib/python3.6/dist-packages/PIL/Image.py:989: UserWarning: Palette images with Transparency expressed in bytes should be converted to RGBA images\n",
            "  \"Palette images with Transparency expressed in bytes should be \"\n"
          ],
          "name": "stderr"
        },
        {
          "output_type": "stream",
          "text": [
            "117/265 [============>.................] - ETA: 43s - loss: 1.7307 - acc: 0.5562"
          ],
          "name": "stdout"
        },
        {
          "output_type": "stream",
          "text": [
            "/usr/local/lib/python3.6/dist-packages/PIL/Image.py:989: UserWarning: Palette images with Transparency expressed in bytes should be converted to RGBA images\n",
            "  \"Palette images with Transparency expressed in bytes should be \"\n"
          ],
          "name": "stderr"
        },
        {
          "output_type": "stream",
          "text": [
            "265/265 [==============================] - 74s 280ms/step - loss: 1.7760 - acc: 0.5451 - val_loss: 3.2856 - val_acc: 0.3125\n",
            "\n",
            "Epoch 00018: saving model to /content/gdrive/My Drive/pokemon_weights/original2/model-18.hdf5\n",
            "Epoch 19/100\n",
            "105/265 [==========>...................] - ETA: 48s - loss: 1.6943 - acc: 0.5829"
          ],
          "name": "stdout"
        },
        {
          "output_type": "stream",
          "text": [
            "/usr/local/lib/python3.6/dist-packages/PIL/Image.py:989: UserWarning: Palette images with Transparency expressed in bytes should be converted to RGBA images\n",
            "  \"Palette images with Transparency expressed in bytes should be \"\n"
          ],
          "name": "stderr"
        },
        {
          "output_type": "stream",
          "text": [
            "110/265 [===========>..................] - ETA: 47s - loss: 1.6824 - acc: 0.5868"
          ],
          "name": "stdout"
        },
        {
          "output_type": "stream",
          "text": [
            "/usr/local/lib/python3.6/dist-packages/PIL/Image.py:989: UserWarning: Palette images with Transparency expressed in bytes should be converted to RGBA images\n",
            "  \"Palette images with Transparency expressed in bytes should be \"\n"
          ],
          "name": "stderr"
        },
        {
          "output_type": "stream",
          "text": [
            "264/265 [============================>.] - ETA: 0s - loss: 1.7043 - acc: 0.5717\n",
            "265/265 [==============================] - 75s 284ms/step - loss: 1.7049 - acc: 0.5715 - val_loss: 2.5234 - val_acc: 0.4375\n",
            "\n",
            "Epoch 00019: saving model to /content/gdrive/My Drive/pokemon_weights/original2/model-19.hdf5\n",
            "Epoch 20/100\n",
            " 92/265 [=========>....................] - ETA: 51s - loss: 1.6870 - acc: 0.5751"
          ],
          "name": "stdout"
        },
        {
          "output_type": "stream",
          "text": [
            "/usr/local/lib/python3.6/dist-packages/PIL/Image.py:989: UserWarning: Palette images with Transparency expressed in bytes should be converted to RGBA images\n",
            "  \"Palette images with Transparency expressed in bytes should be \"\n"
          ],
          "name": "stderr"
        },
        {
          "output_type": "stream",
          "text": [
            "116/265 [============>.................] - ETA: 43s - loss: 1.6777 - acc: 0.5795"
          ],
          "name": "stdout"
        },
        {
          "output_type": "stream",
          "text": [
            "/usr/local/lib/python3.6/dist-packages/PIL/Image.py:989: UserWarning: Palette images with Transparency expressed in bytes should be converted to RGBA images\n",
            "  \"Palette images with Transparency expressed in bytes should be \"\n"
          ],
          "name": "stderr"
        },
        {
          "output_type": "stream",
          "text": [
            "265/265 [==============================] - 75s 282ms/step - loss: 1.6806 - acc: 0.5764 - val_loss: 2.8771 - val_acc: 0.3750\n",
            "\n",
            "Epoch 00020: saving model to /content/gdrive/My Drive/pokemon_weights/original2/model-20.hdf5\n",
            "Epoch 21/100\n",
            " 53/265 [=====>........................] - ETA: 1:09 - loss: 1.5257 - acc: 0.6240"
          ],
          "name": "stdout"
        },
        {
          "output_type": "stream",
          "text": [
            "/usr/local/lib/python3.6/dist-packages/PIL/Image.py:989: UserWarning: Palette images with Transparency expressed in bytes should be converted to RGBA images\n",
            "  \"Palette images with Transparency expressed in bytes should be \"\n"
          ],
          "name": "stderr"
        },
        {
          "output_type": "stream",
          "text": [
            "194/265 [====================>.........] - ETA: 21s - loss: 1.6125 - acc: 0.5869"
          ],
          "name": "stdout"
        },
        {
          "output_type": "stream",
          "text": [
            "/usr/local/lib/python3.6/dist-packages/PIL/Image.py:989: UserWarning: Palette images with Transparency expressed in bytes should be converted to RGBA images\n",
            "  \"Palette images with Transparency expressed in bytes should be \"\n"
          ],
          "name": "stderr"
        },
        {
          "output_type": "stream",
          "text": [
            "264/265 [============================>.] - ETA: 0s - loss: 1.6095 - acc: 0.5882\n",
            "Epoch 00020: saving model to /content/gdrive/My Drive/pokemon_weights/original2/model-20.hdf5\n",
            "265/265 [==============================] - 75s 284ms/step - loss: 1.6096 - acc: 0.5881 - val_loss: 2.6191 - val_acc: 0.4375\n",
            "\n",
            "Epoch 00021: saving model to /content/gdrive/My Drive/pokemon_weights/original2/model-21.hdf5\n",
            "Epoch 22/100\n",
            "203/265 [=====================>........] - ETA: 18s - loss: 1.5065 - acc: 0.6102"
          ],
          "name": "stdout"
        },
        {
          "output_type": "stream",
          "text": [
            "/usr/local/lib/python3.6/dist-packages/PIL/Image.py:989: UserWarning: Palette images with Transparency expressed in bytes should be converted to RGBA images\n",
            "  \"Palette images with Transparency expressed in bytes should be \"\n"
          ],
          "name": "stderr"
        },
        {
          "output_type": "stream",
          "text": [
            "222/265 [========================>.....] - ETA: 12s - loss: 1.5237 - acc: 0.6073"
          ],
          "name": "stdout"
        },
        {
          "output_type": "stream",
          "text": [
            "/usr/local/lib/python3.6/dist-packages/PIL/Image.py:989: UserWarning: Palette images with Transparency expressed in bytes should be converted to RGBA images\n",
            "  \"Palette images with Transparency expressed in bytes should be \"\n"
          ],
          "name": "stderr"
        },
        {
          "output_type": "stream",
          "text": [
            "265/265 [==============================] - 75s 283ms/step - loss: 1.5292 - acc: 0.6039 - val_loss: 3.1254 - val_acc: 0.3125\n",
            "\n",
            "Epoch 00022: saving model to /content/gdrive/My Drive/pokemon_weights/original2/model-22.hdf5\n",
            "Epoch 23/100\n",
            " 29/265 [==>...........................] - ETA: 1:16 - loss: 1.5137 - acc: 0.6261"
          ],
          "name": "stdout"
        },
        {
          "output_type": "stream",
          "text": [
            "/usr/local/lib/python3.6/dist-packages/PIL/Image.py:989: UserWarning: Palette images with Transparency expressed in bytes should be converted to RGBA images\n",
            "  \"Palette images with Transparency expressed in bytes should be \"\n"
          ],
          "name": "stderr"
        },
        {
          "output_type": "stream",
          "text": [
            " 62/265 [======>.......................] - ETA: 1:00 - loss: 1.4847 - acc: 0.6265"
          ],
          "name": "stdout"
        },
        {
          "output_type": "stream",
          "text": [
            "/usr/local/lib/python3.6/dist-packages/PIL/Image.py:989: UserWarning: Palette images with Transparency expressed in bytes should be converted to RGBA images\n",
            "  \"Palette images with Transparency expressed in bytes should be \"\n"
          ],
          "name": "stderr"
        },
        {
          "output_type": "stream",
          "text": [
            "265/265 [==============================] - 75s 281ms/step - loss: 1.5187 - acc: 0.6109 - val_loss: 3.5434 - val_acc: 0.3125\n",
            "\n",
            "Epoch 00023: saving model to /content/gdrive/My Drive/pokemon_weights/original2/model-23.hdf5\n",
            "Epoch 24/100\n"
          ],
          "name": "stdout"
        },
        {
          "output_type": "stream",
          "text": [
            "/usr/local/lib/python3.6/dist-packages/PIL/Image.py:989: UserWarning: Palette images with Transparency expressed in bytes should be converted to RGBA images\n",
            "  \"Palette images with Transparency expressed in bytes should be \"\n"
          ],
          "name": "stderr"
        },
        {
          "output_type": "stream",
          "text": [
            "108/265 [===========>..................] - ETA: 46s - loss: 1.3994 - acc: 0.6383"
          ],
          "name": "stdout"
        },
        {
          "output_type": "stream",
          "text": [
            "/usr/local/lib/python3.6/dist-packages/PIL/Image.py:989: UserWarning: Palette images with Transparency expressed in bytes should be converted to RGBA images\n",
            "  \"Palette images with Transparency expressed in bytes should be \"\n"
          ],
          "name": "stderr"
        },
        {
          "output_type": "stream",
          "text": [
            "265/265 [==============================] - 76s 285ms/step - loss: 1.4426 - acc: 0.6247 - val_loss: 2.8423 - val_acc: 0.4688\n",
            "\n",
            "Epoch 00024: saving model to /content/gdrive/My Drive/pokemon_weights/original2/model-24.hdf5\n",
            "Epoch 25/100\n",
            "187/265 [====================>.........] - ETA: 22s - loss: 1.3873 - acc: 0.6372"
          ],
          "name": "stdout"
        },
        {
          "output_type": "stream",
          "text": [
            "/usr/local/lib/python3.6/dist-packages/PIL/Image.py:989: UserWarning: Palette images with Transparency expressed in bytes should be converted to RGBA images\n",
            "  \"Palette images with Transparency expressed in bytes should be \"\n"
          ],
          "name": "stderr"
        },
        {
          "output_type": "stream",
          "text": [
            "245/265 [==========================>...] - ETA: 5s - loss: 1.4146 - acc: 0.6316"
          ],
          "name": "stdout"
        },
        {
          "output_type": "stream",
          "text": [
            "/usr/local/lib/python3.6/dist-packages/PIL/Image.py:989: UserWarning: Palette images with Transparency expressed in bytes should be converted to RGBA images\n",
            "  \"Palette images with Transparency expressed in bytes should be \"\n"
          ],
          "name": "stderr"
        },
        {
          "output_type": "stream",
          "text": [
            "264/265 [============================>.] - ETA: 0s - loss: 1.4145 - acc: 0.6321\n",
            "Epoch 00024: saving model to /content/gdrive/My Drive/pokemon_weights/original2/model-24.hdf5\n",
            "265/265 [==============================] - 75s 282ms/step - loss: 1.4137 - acc: 0.6322 - val_loss: 2.0447 - val_acc: 0.4688\n",
            "\n",
            "Epoch 00025: saving model to /content/gdrive/My Drive/pokemon_weights/original2/model-25.hdf5\n",
            "Epoch 26/100\n",
            " 24/265 [=>............................] - ETA: 1:20 - loss: 1.3903 - acc: 0.6341"
          ],
          "name": "stdout"
        },
        {
          "output_type": "stream",
          "text": [
            "/usr/local/lib/python3.6/dist-packages/PIL/Image.py:989: UserWarning: Palette images with Transparency expressed in bytes should be converted to RGBA images\n",
            "  \"Palette images with Transparency expressed in bytes should be \"\n"
          ],
          "name": "stderr"
        },
        {
          "output_type": "stream",
          "text": [
            "256/265 [===========================>..] - ETA: 2s - loss: 1.3757 - acc: 0.6466"
          ],
          "name": "stdout"
        },
        {
          "output_type": "stream",
          "text": [
            "/usr/local/lib/python3.6/dist-packages/PIL/Image.py:989: UserWarning: Palette images with Transparency expressed in bytes should be converted to RGBA images\n",
            "  \"Palette images with Transparency expressed in bytes should be \"\n"
          ],
          "name": "stderr"
        },
        {
          "output_type": "stream",
          "text": [
            "264/265 [============================>.] - ETA: 0s - loss: 1.3829 - acc: 0.6451\n",
            "265/265 [==============================] - 75s 283ms/step - loss: 1.3819 - acc: 0.6455 - val_loss: 2.7021 - val_acc: 0.4375\n",
            "\n",
            "Epoch 00026: saving model to /content/gdrive/My Drive/pokemon_weights/original2/model-26.hdf5\n",
            "Epoch 27/100\n",
            " 68/265 [======>.......................] - ETA: 59s - loss: 1.2760 - acc: 0.6618 "
          ],
          "name": "stdout"
        },
        {
          "output_type": "stream",
          "text": [
            "/usr/local/lib/python3.6/dist-packages/PIL/Image.py:989: UserWarning: Palette images with Transparency expressed in bytes should be converted to RGBA images\n",
            "  \"Palette images with Transparency expressed in bytes should be \"\n"
          ],
          "name": "stderr"
        },
        {
          "output_type": "stream",
          "text": [
            "135/265 [==============>...............] - ETA: 37s - loss: 1.3219 - acc: 0.6512"
          ],
          "name": "stdout"
        },
        {
          "output_type": "stream",
          "text": [
            "/usr/local/lib/python3.6/dist-packages/PIL/Image.py:989: UserWarning: Palette images with Transparency expressed in bytes should be converted to RGBA images\n",
            "  \"Palette images with Transparency expressed in bytes should be \"\n"
          ],
          "name": "stderr"
        },
        {
          "output_type": "stream",
          "text": [
            "265/265 [==============================] - 75s 283ms/step - loss: 1.3468 - acc: 0.6469 - val_loss: 3.4542 - val_acc: 0.3438\n",
            "\n",
            "\n",
            "Epoch 00027: saving model to /content/gdrive/My Drive/pokemon_weights/original2/model-27.hdf5\n",
            "Epoch 28/100\n",
            " 78/265 [=======>......................] - ETA: 58s - loss: 1.2556 - acc: 0.6651"
          ],
          "name": "stdout"
        },
        {
          "output_type": "stream",
          "text": [
            "/usr/local/lib/python3.6/dist-packages/PIL/Image.py:989: UserWarning: Palette images with Transparency expressed in bytes should be converted to RGBA images\n",
            "  \"Palette images with Transparency expressed in bytes should be \"\n"
          ],
          "name": "stderr"
        },
        {
          "output_type": "stream",
          "text": [
            "135/265 [==============>...............] - ETA: 38s - loss: 1.2732 - acc: 0.6595"
          ],
          "name": "stdout"
        },
        {
          "output_type": "stream",
          "text": [
            "/usr/local/lib/python3.6/dist-packages/PIL/Image.py:989: UserWarning: Palette images with Transparency expressed in bytes should be converted to RGBA images\n",
            "  \"Palette images with Transparency expressed in bytes should be \"\n"
          ],
          "name": "stderr"
        },
        {
          "output_type": "stream",
          "text": [
            "264/265 [============================>.] - ETA: 0s - loss: 1.2842 - acc: 0.6648Epoch 28/100\n",
            "265/265 [==============================] - 75s 285ms/step - loss: 1.2835 - acc: 0.6649 - val_loss: 2.9478 - val_acc: 0.2812\n",
            "\n",
            "Epoch 00028: saving model to /content/gdrive/My Drive/pokemon_weights/original2/model-28.hdf5\n",
            "Epoch 29/100\n",
            " 12/265 [>.............................] - ETA: 1:11 - loss: 1.1973 - acc: 0.6745"
          ],
          "name": "stdout"
        },
        {
          "output_type": "stream",
          "text": [
            "/usr/local/lib/python3.6/dist-packages/PIL/Image.py:989: UserWarning: Palette images with Transparency expressed in bytes should be converted to RGBA images\n",
            "  \"Palette images with Transparency expressed in bytes should be \"\n"
          ],
          "name": "stderr"
        },
        {
          "output_type": "stream",
          "text": [
            " 28/265 [==>...........................] - ETA: 1:10 - loss: 1.2249 - acc: 0.6741"
          ],
          "name": "stdout"
        },
        {
          "output_type": "stream",
          "text": [
            "/usr/local/lib/python3.6/dist-packages/PIL/Image.py:989: UserWarning: Palette images with Transparency expressed in bytes should be converted to RGBA images\n",
            "  \"Palette images with Transparency expressed in bytes should be \"\n"
          ],
          "name": "stderr"
        },
        {
          "output_type": "stream",
          "text": [
            "264/265 [============================>.] - ETA: 0s - loss: 1.2427 - acc: 0.6776\n",
            "Epoch 00028: saving model to /content/gdrive/My Drive/pokemon_weights/original2/model-28.hdf5\n",
            "265/265 [==============================] - 75s 282ms/step - loss: 1.2434 - acc: 0.6775 - val_loss: 3.3966 - val_acc: 0.3438\n",
            "\n",
            "Epoch 00029: saving model to /content/gdrive/My Drive/pokemon_weights/original2/model-29.hdf5\n",
            "Epoch 30/100\n",
            " 81/265 [========>.....................] - ETA: 56s - loss: 1.1717 - acc: 0.6979"
          ],
          "name": "stdout"
        },
        {
          "output_type": "stream",
          "text": [
            "/usr/local/lib/python3.6/dist-packages/PIL/Image.py:989: UserWarning: Palette images with Transparency expressed in bytes should be converted to RGBA images\n",
            "  \"Palette images with Transparency expressed in bytes should be \"\n"
          ],
          "name": "stderr"
        },
        {
          "output_type": "stream",
          "text": [
            "264/265 [============================>.] - ETA: 0s - loss: 1.2442 - acc: 0.6733\n",
            "Epoch 00029: saving model to /content/gdrive/My Drive/pokemon_weights/original2/model-29.hdf5\n",
            "265/265 [==============================] - 75s 285ms/step - loss: 1.2432 - acc: 0.6736 - val_loss: 2.7654 - val_acc: 0.3750\n",
            "\n",
            "Epoch 00030: saving model to /content/gdrive/My Drive/pokemon_weights/original2/model-30.hdf5\n",
            "Epoch 31/100\n"
          ],
          "name": "stdout"
        },
        {
          "output_type": "stream",
          "text": [
            "/usr/local/lib/python3.6/dist-packages/PIL/Image.py:989: UserWarning: Palette images with Transparency expressed in bytes should be converted to RGBA images\n",
            "  \"Palette images with Transparency expressed in bytes should be \"\n",
            "/usr/local/lib/python3.6/dist-packages/PIL/Image.py:989: UserWarning: Palette images with Transparency expressed in bytes should be converted to RGBA images\n",
            "  \"Palette images with Transparency expressed in bytes should be \"\n"
          ],
          "name": "stderr"
        },
        {
          "output_type": "stream",
          "text": [
            "265/265 [==============================] - 74s 280ms/step - loss: 1.2385 - acc: 0.6770 - val_loss: 3.7956 - val_acc: 0.2500\n",
            "\n",
            "Epoch 00031: saving model to /content/gdrive/My Drive/pokemon_weights/original2/model-31.hdf5\n",
            "Epoch 32/100\n",
            "121/265 [============>.................] - ETA: 43s - loss: 1.1853 - acc: 0.6836"
          ],
          "name": "stdout"
        },
        {
          "output_type": "stream",
          "text": [
            "/usr/local/lib/python3.6/dist-packages/PIL/Image.py:989: UserWarning: Palette images with Transparency expressed in bytes should be converted to RGBA images\n",
            "  \"Palette images with Transparency expressed in bytes should be \"\n"
          ],
          "name": "stderr"
        },
        {
          "output_type": "stream",
          "text": [
            "176/265 [==================>...........] - ETA: 26s - loss: 1.1620 - acc: 0.6907"
          ],
          "name": "stdout"
        },
        {
          "output_type": "stream",
          "text": [
            "/usr/local/lib/python3.6/dist-packages/PIL/Image.py:989: UserWarning: Palette images with Transparency expressed in bytes should be converted to RGBA images\n",
            "  \"Palette images with Transparency expressed in bytes should be \"\n"
          ],
          "name": "stderr"
        },
        {
          "output_type": "stream",
          "text": [
            "264/265 [============================>.] - ETA: 0s - loss: 1.1872 - acc: 0.6839\n",
            "265/265 [==============================] - 76s 285ms/step - loss: 1.1894 - acc: 0.6838 - val_loss: 3.3281 - val_acc: 0.4375\n",
            "\n",
            "Epoch 00032: saving model to /content/gdrive/My Drive/pokemon_weights/original2/model-32.hdf5\n",
            "Epoch 33/100\n",
            "150/265 [===============>..............] - ETA: 33s - loss: 1.0767 - acc: 0.7094"
          ],
          "name": "stdout"
        },
        {
          "output_type": "stream",
          "text": [
            "/usr/local/lib/python3.6/dist-packages/PIL/Image.py:989: UserWarning: Palette images with Transparency expressed in bytes should be converted to RGBA images\n",
            "  \"Palette images with Transparency expressed in bytes should be \"\n"
          ],
          "name": "stderr"
        },
        {
          "output_type": "stream",
          "text": [
            "188/265 [====================>.........] - ETA: 22s - loss: 1.0733 - acc: 0.7070"
          ],
          "name": "stdout"
        },
        {
          "output_type": "stream",
          "text": [
            "/usr/local/lib/python3.6/dist-packages/PIL/Image.py:989: UserWarning: Palette images with Transparency expressed in bytes should be converted to RGBA images\n",
            "  \"Palette images with Transparency expressed in bytes should be \"\n"
          ],
          "name": "stderr"
        },
        {
          "output_type": "stream",
          "text": [
            "265/265 [==============================] - 74s 280ms/step - loss: 1.1339 - acc: 0.6915 - val_loss: 3.7444 - val_acc: 0.4062\n",
            "\n",
            "Epoch 00033: saving model to /content/gdrive/My Drive/pokemon_weights/original2/model-33.hdf5\n",
            "Epoch 34/100\n",
            " 23/265 [=>............................] - ETA: 1:15 - loss: 1.0876 - acc: 0.7038"
          ],
          "name": "stdout"
        },
        {
          "output_type": "stream",
          "text": [
            "/usr/local/lib/python3.6/dist-packages/PIL/Image.py:989: UserWarning: Palette images with Transparency expressed in bytes should be converted to RGBA images\n",
            "  \"Palette images with Transparency expressed in bytes should be \"\n"
          ],
          "name": "stderr"
        },
        {
          "output_type": "stream",
          "text": [
            " 55/265 [=====>........................] - ETA: 1:03 - loss: 1.0836 - acc: 0.7034"
          ],
          "name": "stdout"
        },
        {
          "output_type": "stream",
          "text": [
            "/usr/local/lib/python3.6/dist-packages/PIL/Image.py:989: UserWarning: Palette images with Transparency expressed in bytes should be converted to RGBA images\n",
            "  \"Palette images with Transparency expressed in bytes should be \"\n"
          ],
          "name": "stderr"
        },
        {
          "output_type": "stream",
          "text": [
            "264/265 [============================>.] - ETA: 0s - loss: 1.1054 - acc: 0.7027\n",
            "265/265 [==============================] - 74s 280ms/step - loss: 1.1040 - acc: 0.7030 - val_loss: 2.8789 - val_acc: 0.4062\n",
            "\n",
            "Epoch 00034: saving model to /content/gdrive/My Drive/pokemon_weights/original2/model-34.hdf5\n",
            "Epoch 35/100\n",
            "217/265 [=======================>......] - ETA: 13s - loss: 1.0927 - acc: 0.7085"
          ],
          "name": "stdout"
        },
        {
          "output_type": "stream",
          "text": [
            "/usr/local/lib/python3.6/dist-packages/PIL/Image.py:989: UserWarning: Palette images with Transparency expressed in bytes should be converted to RGBA images\n",
            "  \"Palette images with Transparency expressed in bytes should be \"\n"
          ],
          "name": "stderr"
        },
        {
          "output_type": "stream",
          "text": [
            "251/265 [===========================>..] - ETA: 3s - loss: 1.1003 - acc: 0.7071"
          ],
          "name": "stdout"
        },
        {
          "output_type": "stream",
          "text": [
            "/usr/local/lib/python3.6/dist-packages/PIL/Image.py:989: UserWarning: Palette images with Transparency expressed in bytes should be converted to RGBA images\n",
            "  \"Palette images with Transparency expressed in bytes should be \"\n"
          ],
          "name": "stderr"
        },
        {
          "output_type": "stream",
          "text": [
            "265/265 [==============================] - 74s 280ms/step - loss: 1.1023 - acc: 0.7063 - val_loss: 3.8207 - val_acc: 0.2500\n",
            "\n",
            "Epoch 00035: saving model to /content/gdrive/My Drive/pokemon_weights/original2/model-35.hdf5\n",
            "Epoch 36/100\n",
            " 33/265 [==>...........................] - ETA: 1:06 - loss: 1.0188 - acc: 0.7216"
          ],
          "name": "stdout"
        },
        {
          "output_type": "stream",
          "text": [
            "/usr/local/lib/python3.6/dist-packages/PIL/Image.py:989: UserWarning: Palette images with Transparency expressed in bytes should be converted to RGBA images\n",
            "  \"Palette images with Transparency expressed in bytes should be \"\n"
          ],
          "name": "stderr"
        },
        {
          "output_type": "stream",
          "text": [
            "168/265 [==================>...........] - ETA: 27s - loss: 1.0255 - acc: 0.7251"
          ],
          "name": "stdout"
        },
        {
          "output_type": "stream",
          "text": [
            "/usr/local/lib/python3.6/dist-packages/PIL/Image.py:989: UserWarning: Palette images with Transparency expressed in bytes should be converted to RGBA images\n",
            "  \"Palette images with Transparency expressed in bytes should be \"\n"
          ],
          "name": "stderr"
        },
        {
          "output_type": "stream",
          "text": [
            "265/265 [==============================] - 74s 280ms/step - loss: 1.0645 - acc: 0.7147 - val_loss: 2.8788 - val_acc: 0.5938\n",
            "\n",
            "Epoch 00036: saving model to /content/gdrive/My Drive/pokemon_weights/original2/model-36.hdf5\n",
            "Epoch 37/100\n",
            " 53/265 [=====>........................] - ETA: 1:07 - loss: 1.1264 - acc: 0.7152"
          ],
          "name": "stdout"
        },
        {
          "output_type": "stream",
          "text": [
            "/usr/local/lib/python3.6/dist-packages/PIL/Image.py:989: UserWarning: Palette images with Transparency expressed in bytes should be converted to RGBA images\n",
            "  \"Palette images with Transparency expressed in bytes should be \"\n"
          ],
          "name": "stderr"
        },
        {
          "output_type": "stream",
          "text": [
            "242/265 [==========================>...] - ETA: 6s - loss: 1.0763 - acc: 0.7175"
          ],
          "name": "stdout"
        },
        {
          "output_type": "stream",
          "text": [
            "/usr/local/lib/python3.6/dist-packages/PIL/Image.py:989: UserWarning: Palette images with Transparency expressed in bytes should be converted to RGBA images\n",
            "  \"Palette images with Transparency expressed in bytes should be \"\n"
          ],
          "name": "stderr"
        },
        {
          "output_type": "stream",
          "text": [
            "264/265 [============================>.] - ETA: 0s - loss: 1.0732 - acc: 0.7171\n",
            "Epoch 00036: saving model to /content/gdrive/My Drive/pokemon_weights/original2/model-36.hdf5\n",
            "265/265 [==============================] - 76s 288ms/step - loss: 1.0720 - acc: 0.7173 - val_loss: 3.2803 - val_acc: 0.4375\n",
            "\n",
            "Epoch 00037: saving model to /content/gdrive/My Drive/pokemon_weights/original2/model-37.hdf5\n",
            "Epoch 38/100\n",
            " 13/265 [>.............................] - ETA: 1:48 - loss: 0.9881 - acc: 0.7548"
          ],
          "name": "stdout"
        },
        {
          "output_type": "stream",
          "text": [
            "/usr/local/lib/python3.6/dist-packages/PIL/Image.py:989: UserWarning: Palette images with Transparency expressed in bytes should be converted to RGBA images\n",
            "  \"Palette images with Transparency expressed in bytes should be \"\n"
          ],
          "name": "stderr"
        },
        {
          "output_type": "stream",
          "text": [
            " 69/265 [======>.......................] - ETA: 1:00 - loss: 0.9935 - acc: 0.7360"
          ],
          "name": "stdout"
        },
        {
          "output_type": "stream",
          "text": [
            "/usr/local/lib/python3.6/dist-packages/PIL/Image.py:989: UserWarning: Palette images with Transparency expressed in bytes should be converted to RGBA images\n",
            "  \"Palette images with Transparency expressed in bytes should be \"\n"
          ],
          "name": "stderr"
        },
        {
          "output_type": "stream",
          "text": [
            "265/265 [==============================] - 76s 285ms/step - loss: 1.0586 - acc: 0.7180 - val_loss: 4.2857 - val_acc: 0.3750\n",
            "\n",
            "Epoch 00038: saving model to /content/gdrive/My Drive/pokemon_weights/original2/model-38.hdf5\n",
            "Epoch 39/100\n",
            "114/265 [===========>..................] - ETA: 45s - loss: 1.0051 - acc: 0.7300"
          ],
          "name": "stdout"
        },
        {
          "output_type": "stream",
          "text": [
            "/usr/local/lib/python3.6/dist-packages/PIL/Image.py:989: UserWarning: Palette images with Transparency expressed in bytes should be converted to RGBA images\n",
            "  \"Palette images with Transparency expressed in bytes should be \"\n"
          ],
          "name": "stderr"
        },
        {
          "output_type": "stream",
          "text": [
            "264/265 [============================>.] - ETA: 0s - loss: 1.0008 - acc: 0.7299\n",
            "265/265 [==============================] - 75s 283ms/step - loss: 1.0021 - acc: 0.7296 - val_loss: 2.5639 - val_acc: 0.4375\n",
            "\n",
            "Epoch 00039: saving model to /content/gdrive/My Drive/pokemon_weights/original2/model-39.hdf5\n",
            "Epoch 40/100\n",
            " 51/265 [====>.........................] - ETA: 1:04 - loss: 1.0169 - acc: 0.7279"
          ],
          "name": "stdout"
        },
        {
          "output_type": "stream",
          "text": [
            "/usr/local/lib/python3.6/dist-packages/PIL/Image.py:989: UserWarning: Palette images with Transparency expressed in bytes should be converted to RGBA images\n",
            "  \"Palette images with Transparency expressed in bytes should be \"\n"
          ],
          "name": "stderr"
        },
        {
          "output_type": "stream",
          "text": [
            "113/265 [===========>..................] - ETA: 43s - loss: 0.9959 - acc: 0.7326"
          ],
          "name": "stdout"
        },
        {
          "output_type": "stream",
          "text": [
            "/usr/local/lib/python3.6/dist-packages/PIL/Image.py:989: UserWarning: Palette images with Transparency expressed in bytes should be converted to RGBA images\n",
            "  \"Palette images with Transparency expressed in bytes should be \"\n"
          ],
          "name": "stderr"
        },
        {
          "output_type": "stream",
          "text": [
            "265/265 [==============================] - 74s 279ms/step - loss: 0.9778 - acc: 0.7311 - val_loss: 4.1102 - val_acc: 0.3438\n",
            "\n",
            "Epoch 00040: saving model to /content/gdrive/My Drive/pokemon_weights/original2/model-40.hdf5\n",
            "Epoch 41/100\n",
            " 61/265 [=====>........................] - ETA: 1:03 - loss: 0.9920 - acc: 0.7218"
          ],
          "name": "stdout"
        },
        {
          "output_type": "stream",
          "text": [
            "/usr/local/lib/python3.6/dist-packages/PIL/Image.py:989: UserWarning: Palette images with Transparency expressed in bytes should be converted to RGBA images\n",
            "  \"Palette images with Transparency expressed in bytes should be \"\n"
          ],
          "name": "stderr"
        },
        {
          "output_type": "stream",
          "text": [
            "125/265 [=============>................] - ETA: 42s - loss: 0.9710 - acc: 0.7335"
          ],
          "name": "stdout"
        },
        {
          "output_type": "stream",
          "text": [
            "/usr/local/lib/python3.6/dist-packages/PIL/Image.py:989: UserWarning: Palette images with Transparency expressed in bytes should be converted to RGBA images\n",
            "  \"Palette images with Transparency expressed in bytes should be \"\n"
          ],
          "name": "stderr"
        },
        {
          "output_type": "stream",
          "text": [
            "265/265 [==============================] - 76s 285ms/step - loss: 0.9981 - acc: 0.7299 - val_loss: 4.4857 - val_acc: 0.4062\n",
            "\n",
            "Epoch 00041: saving model to /content/gdrive/My Drive/pokemon_weights/original2/model-41.hdf5\n",
            "Epoch 42/100\n",
            "171/265 [==================>...........] - ETA: 26s - loss: 0.9330 - acc: 0.7438"
          ],
          "name": "stdout"
        },
        {
          "output_type": "stream",
          "text": [
            "/usr/local/lib/python3.6/dist-packages/PIL/Image.py:989: UserWarning: Palette images with Transparency expressed in bytes should be converted to RGBA images\n",
            "  \"Palette images with Transparency expressed in bytes should be \"\n"
          ],
          "name": "stderr"
        },
        {
          "output_type": "stream",
          "text": [
            "183/265 [===================>..........] - ETA: 23s - loss: 0.9346 - acc: 0.7415"
          ],
          "name": "stdout"
        },
        {
          "output_type": "stream",
          "text": [
            "/usr/local/lib/python3.6/dist-packages/PIL/Image.py:989: UserWarning: Palette images with Transparency expressed in bytes should be converted to RGBA images\n",
            "  \"Palette images with Transparency expressed in bytes should be \"\n"
          ],
          "name": "stderr"
        },
        {
          "output_type": "stream",
          "text": [
            "265/265 [==============================] - 74s 280ms/step - loss: 0.9425 - acc: 0.7401 - val_loss: 3.3736 - val_acc: 0.3125\n",
            "\n",
            "Epoch 00042: saving model to /content/gdrive/My Drive/pokemon_weights/original2/model-42.hdf5\n",
            "Epoch 43/100\n",
            " 31/265 [==>...........................] - ETA: 1:16 - loss: 0.9687 - acc: 0.7581"
          ],
          "name": "stdout"
        },
        {
          "output_type": "stream",
          "text": [
            "/usr/local/lib/python3.6/dist-packages/PIL/Image.py:989: UserWarning: Palette images with Transparency expressed in bytes should be converted to RGBA images\n",
            "  \"Palette images with Transparency expressed in bytes should be \"\n"
          ],
          "name": "stderr"
        },
        {
          "output_type": "stream",
          "text": [
            "172/265 [==================>...........] - ETA: 26s - loss: 0.8950 - acc: 0.7574"
          ],
          "name": "stdout"
        },
        {
          "output_type": "stream",
          "text": [
            "/usr/local/lib/python3.6/dist-packages/PIL/Image.py:989: UserWarning: Palette images with Transparency expressed in bytes should be converted to RGBA images\n",
            "  \"Palette images with Transparency expressed in bytes should be \"\n"
          ],
          "name": "stderr"
        },
        {
          "output_type": "stream",
          "text": [
            "265/265 [==============================] - 75s 285ms/step - loss: 0.9208 - acc: 0.7541 - val_loss: 2.6641 - val_acc: 0.4062\n",
            "\n",
            "Epoch 00043: saving model to /content/gdrive/My Drive/pokemon_weights/original2/model-43.hdf5\n",
            "Epoch 44/100\n",
            "104/265 [==========>...................] - ETA: 48s - loss: 0.9298 - acc: 0.7436"
          ],
          "name": "stdout"
        },
        {
          "output_type": "stream",
          "text": [
            "/usr/local/lib/python3.6/dist-packages/PIL/Image.py:989: UserWarning: Palette images with Transparency expressed in bytes should be converted to RGBA images\n",
            "  \"Palette images with Transparency expressed in bytes should be \"\n"
          ],
          "name": "stderr"
        },
        {
          "output_type": "stream",
          "text": [
            "178/265 [===================>..........] - ETA: 25s - loss: 0.9281 - acc: 0.7503"
          ],
          "name": "stdout"
        },
        {
          "output_type": "stream",
          "text": [
            "/usr/local/lib/python3.6/dist-packages/PIL/Image.py:989: UserWarning: Palette images with Transparency expressed in bytes should be converted to RGBA images\n",
            "  \"Palette images with Transparency expressed in bytes should be \"\n"
          ],
          "name": "stderr"
        },
        {
          "output_type": "stream",
          "text": [
            "265/265 [==============================] - 75s 283ms/step - loss: 0.9371 - acc: 0.7485 - val_loss: 3.2210 - val_acc: 0.3750\n",
            "\n",
            "Epoch 00044: saving model to /content/gdrive/My Drive/pokemon_weights/original2/model-44.hdf5\n",
            "Epoch 45/100\n",
            "146/265 [===============>..............] - ETA: 35s - loss: 0.8254 - acc: 0.7743"
          ],
          "name": "stdout"
        },
        {
          "output_type": "stream",
          "text": [
            "/usr/local/lib/python3.6/dist-packages/PIL/Image.py:989: UserWarning: Palette images with Transparency expressed in bytes should be converted to RGBA images\n",
            "  \"Palette images with Transparency expressed in bytes should be \"\n"
          ],
          "name": "stderr"
        },
        {
          "output_type": "stream",
          "text": [
            "228/265 [========================>.....] - ETA: 10s - loss: 0.8545 - acc: 0.7641"
          ],
          "name": "stdout"
        },
        {
          "output_type": "stream",
          "text": [
            "/usr/local/lib/python3.6/dist-packages/PIL/Image.py:989: UserWarning: Palette images with Transparency expressed in bytes should be converted to RGBA images\n",
            "  \"Palette images with Transparency expressed in bytes should be \"\n"
          ],
          "name": "stderr"
        },
        {
          "output_type": "stream",
          "text": [
            "264/265 [============================>.] - ETA: 0s - loss: 0.8675 - acc: 0.7607\n",
            "Epoch 00044: saving model to /content/gdrive/My Drive/pokemon_weights/original2/model-44.hdf5\n",
            "265/265 [==============================] - 76s 286ms/step - loss: 0.8681 - acc: 0.7609 - val_loss: 3.4004 - val_acc: 0.3750\n",
            "\n",
            "Epoch 00045: saving model to /content/gdrive/My Drive/pokemon_weights/original2/model-45.hdf5\n",
            "Epoch 46/100\n",
            "109/265 [===========>..................] - ETA: 45s - loss: 0.9127 - acc: 0.7453"
          ],
          "name": "stdout"
        },
        {
          "output_type": "stream",
          "text": [
            "/usr/local/lib/python3.6/dist-packages/PIL/Image.py:989: UserWarning: Palette images with Transparency expressed in bytes should be converted to RGBA images\n",
            "  \"Palette images with Transparency expressed in bytes should be \"\n"
          ],
          "name": "stderr"
        },
        {
          "output_type": "stream",
          "text": [
            "243/265 [==========================>...] - ETA: 6s - loss: 0.9035 - acc: 0.7484"
          ],
          "name": "stdout"
        },
        {
          "output_type": "stream",
          "text": [
            "/usr/local/lib/python3.6/dist-packages/PIL/Image.py:989: UserWarning: Palette images with Transparency expressed in bytes should be converted to RGBA images\n",
            "  \"Palette images with Transparency expressed in bytes should be \"\n"
          ],
          "name": "stderr"
        },
        {
          "output_type": "stream",
          "text": [
            "264/265 [============================>.] - ETA: 0s - loss: 0.9008 - acc: 0.7504\n",
            "265/265 [==============================] - 75s 284ms/step - loss: 0.9013 - acc: 0.7503 - val_loss: 3.2204 - val_acc: 0.3750\n",
            "\n",
            "Epoch 00046: saving model to /content/gdrive/My Drive/pokemon_weights/original2/model-46.hdf5\n",
            "Epoch 47/100\n",
            " 16/265 [>.............................] - ETA: 1:47 - loss: 0.8730 - acc: 0.7500"
          ],
          "name": "stdout"
        },
        {
          "output_type": "stream",
          "text": [
            "/usr/local/lib/python3.6/dist-packages/PIL/Image.py:989: UserWarning: Palette images with Transparency expressed in bytes should be converted to RGBA images\n",
            "  \"Palette images with Transparency expressed in bytes should be \"\n"
          ],
          "name": "stderr"
        },
        {
          "output_type": "stream",
          "text": [
            "264/265 [============================>.] - ETA: 0s - loss: 0.8281 - acc: 0.7741Epoch 47/100\n",
            "265/265 [==============================] - 76s 285ms/step - loss: 0.8306 - acc: 0.7736 - val_loss: 3.3324 - val_acc: 0.3750\n",
            "\n",
            "Epoch 00047: saving model to /content/gdrive/My Drive/pokemon_weights/original2/model-47.hdf5\n",
            "Epoch 48/100\n",
            "  5/265 [..............................] - ETA: 3:10 - loss: 0.8183 - acc: 0.7812"
          ],
          "name": "stdout"
        },
        {
          "output_type": "stream",
          "text": [
            "/usr/local/lib/python3.6/dist-packages/PIL/Image.py:989: UserWarning: Palette images with Transparency expressed in bytes should be converted to RGBA images\n",
            "  \"Palette images with Transparency expressed in bytes should be \"\n"
          ],
          "name": "stderr"
        },
        {
          "output_type": "stream",
          "text": [
            " 96/265 [=========>....................] - ETA: 49s - loss: 0.8296 - acc: 0.7669"
          ],
          "name": "stdout"
        },
        {
          "output_type": "stream",
          "text": [
            "/usr/local/lib/python3.6/dist-packages/PIL/Image.py:989: UserWarning: Palette images with Transparency expressed in bytes should be converted to RGBA images\n",
            "  \"Palette images with Transparency expressed in bytes should be \"\n"
          ],
          "name": "stderr"
        },
        {
          "output_type": "stream",
          "text": [
            "264/265 [============================>.] - ETA: 0s - loss: 0.8528 - acc: 0.7645\n",
            "265/265 [==============================] - 75s 284ms/step - loss: 0.8520 - acc: 0.7646 - val_loss: 3.2297 - val_acc: 0.4062\n",
            "\n",
            "Epoch 00048: saving model to /content/gdrive/My Drive/pokemon_weights/original2/model-48.hdf5\n",
            "Epoch 49/100\n",
            " 95/265 [=========>....................] - ETA: 49s - loss: 0.8524 - acc: 0.7663"
          ],
          "name": "stdout"
        },
        {
          "output_type": "stream",
          "text": [
            "/usr/local/lib/python3.6/dist-packages/PIL/Image.py:989: UserWarning: Palette images with Transparency expressed in bytes should be converted to RGBA images\n",
            "  \"Palette images with Transparency expressed in bytes should be \"\n"
          ],
          "name": "stderr"
        },
        {
          "output_type": "stream",
          "text": [
            "264/265 [============================>.] - ETA: 0s - loss: 0.8410 - acc: 0.7708\n",
            "Epoch 00048: saving model to /content/gdrive/My Drive/pokemon_weights/original2/model-48.hdf5\n",
            "265/265 [==============================] - 75s 283ms/step - loss: 0.8416 - acc: 0.7705 - val_loss: 4.1242 - val_acc: 0.3750\n",
            "\n",
            "Epoch 00049: saving model to /content/gdrive/My Drive/pokemon_weights/original2/model-49.hdf5\n",
            "Epoch 50/100\n",
            " 42/265 [===>..........................] - ETA: 1:18 - loss: 0.7844 - acc: 0.7850"
          ],
          "name": "stdout"
        },
        {
          "output_type": "stream",
          "text": [
            "/usr/local/lib/python3.6/dist-packages/PIL/Image.py:989: UserWarning: Palette images with Transparency expressed in bytes should be converted to RGBA images\n",
            "  \"Palette images with Transparency expressed in bytes should be \"\n"
          ],
          "name": "stderr"
        },
        {
          "output_type": "stream",
          "text": [
            " 57/265 [=====>........................] - ETA: 1:06 - loss: 0.7735 - acc: 0.7911"
          ],
          "name": "stdout"
        },
        {
          "output_type": "stream",
          "text": [
            "/usr/local/lib/python3.6/dist-packages/PIL/Image.py:989: UserWarning: Palette images with Transparency expressed in bytes should be converted to RGBA images\n",
            "  \"Palette images with Transparency expressed in bytes should be \"\n"
          ],
          "name": "stderr"
        },
        {
          "output_type": "stream",
          "text": [
            "265/265 [==============================] - 75s 283ms/step - loss: 0.8168 - acc: 0.7773 - val_loss: 2.6324 - val_acc: 0.5625\n",
            "\n",
            "Epoch 00050: saving model to /content/gdrive/My Drive/pokemon_weights/original2/model-50.hdf5\n",
            "\n",
            "Epoch 51/100\n",
            "132/265 [=============>................] - ETA: 39s - loss: 0.7889 - acc: 0.7810"
          ],
          "name": "stdout"
        },
        {
          "output_type": "stream",
          "text": [
            "/usr/local/lib/python3.6/dist-packages/PIL/Image.py:989: UserWarning: Palette images with Transparency expressed in bytes should be converted to RGBA images\n",
            "  \"Palette images with Transparency expressed in bytes should be \"\n"
          ],
          "name": "stderr"
        },
        {
          "output_type": "stream",
          "text": [
            "223/265 [========================>.....] - ETA: 12s - loss: 0.7830 - acc: 0.7809"
          ],
          "name": "stdout"
        },
        {
          "output_type": "stream",
          "text": [
            "/usr/local/lib/python3.6/dist-packages/PIL/Image.py:989: UserWarning: Palette images with Transparency expressed in bytes should be converted to RGBA images\n",
            "  \"Palette images with Transparency expressed in bytes should be \"\n"
          ],
          "name": "stderr"
        },
        {
          "output_type": "stream",
          "text": [
            "265/265 [==============================] - 76s 286ms/step - loss: 0.7994 - acc: 0.7776 - val_loss: 3.9767 - val_acc: 0.3438\n",
            "\n",
            "Epoch 00051: saving model to /content/gdrive/My Drive/pokemon_weights/original2/model-51.hdf5\n",
            "Epoch 52/100\n",
            "132/265 [=============>................] - ETA: 39s - loss: 0.7894 - acc: 0.7801"
          ],
          "name": "stdout"
        },
        {
          "output_type": "stream",
          "text": [
            "/usr/local/lib/python3.6/dist-packages/PIL/Image.py:989: UserWarning: Palette images with Transparency expressed in bytes should be converted to RGBA images\n",
            "  \"Palette images with Transparency expressed in bytes should be \"\n"
          ],
          "name": "stderr"
        },
        {
          "output_type": "stream",
          "text": [
            "149/265 [===============>..............] - ETA: 34s - loss: 0.7930 - acc: 0.7800"
          ],
          "name": "stdout"
        },
        {
          "output_type": "stream",
          "text": [
            "/usr/local/lib/python3.6/dist-packages/PIL/Image.py:989: UserWarning: Palette images with Transparency expressed in bytes should be converted to RGBA images\n",
            "  \"Palette images with Transparency expressed in bytes should be \"\n"
          ],
          "name": "stderr"
        },
        {
          "output_type": "stream",
          "text": [
            "265/265 [==============================] - 75s 283ms/step - loss: 0.8042 - acc: 0.7769 - val_loss: 4.2772 - val_acc: 0.3750\n",
            "\n",
            "Epoch 00052: saving model to /content/gdrive/My Drive/pokemon_weights/original2/model-52.hdf5\n",
            "Epoch 53/100\n",
            "128/265 [=============>................] - ETA: 41s - loss: 0.7867 - acc: 0.7836"
          ],
          "name": "stdout"
        },
        {
          "output_type": "stream",
          "text": [
            "/usr/local/lib/python3.6/dist-packages/PIL/Image.py:989: UserWarning: Palette images with Transparency expressed in bytes should be converted to RGBA images\n",
            "  \"Palette images with Transparency expressed in bytes should be \"\n"
          ],
          "name": "stderr"
        },
        {
          "output_type": "stream",
          "text": [
            "178/265 [===================>..........] - ETA: 25s - loss: 0.7843 - acc: 0.7826"
          ],
          "name": "stdout"
        },
        {
          "output_type": "stream",
          "text": [
            "/usr/local/lib/python3.6/dist-packages/PIL/Image.py:989: UserWarning: Palette images with Transparency expressed in bytes should be converted to RGBA images\n",
            "  \"Palette images with Transparency expressed in bytes should be \"\n"
          ],
          "name": "stderr"
        },
        {
          "output_type": "stream",
          "text": [
            "265/265 [==============================] - 76s 286ms/step - loss: 0.8088 - acc: 0.7767 - val_loss: 4.0255 - val_acc: 0.3438\n",
            "\n",
            "Epoch 00053: saving model to /content/gdrive/My Drive/pokemon_weights/original2/model-53.hdf5\n",
            "Epoch 54/100\n",
            " 49/265 [====>.........................] - ETA: 1:04 - loss: 0.6871 - acc: 0.8112"
          ],
          "name": "stdout"
        },
        {
          "output_type": "stream",
          "text": [
            "/usr/local/lib/python3.6/dist-packages/PIL/Image.py:989: UserWarning: Palette images with Transparency expressed in bytes should be converted to RGBA images\n",
            "  \"Palette images with Transparency expressed in bytes should be \"\n"
          ],
          "name": "stderr"
        },
        {
          "output_type": "stream",
          "text": [
            "265/265 [==============================] - 74s 279ms/step - loss: 0.7957 - acc: 0.7810 - val_loss: 3.9598 - val_acc: 0.4375\n",
            "\n",
            "Epoch 00054: saving model to /content/gdrive/My Drive/pokemon_weights/original2/model-54.hdf5\n",
            "Epoch 55/100\n",
            "109/265 [===========>..................] - ETA: 47s - loss: 0.7066 - acc: 0.8050"
          ],
          "name": "stdout"
        },
        {
          "output_type": "stream",
          "text": [
            "/usr/local/lib/python3.6/dist-packages/PIL/Image.py:989: UserWarning: Palette images with Transparency expressed in bytes should be converted to RGBA images\n",
            "  \"Palette images with Transparency expressed in bytes should be \"\n"
          ],
          "name": "stderr"
        },
        {
          "output_type": "stream",
          "text": [
            "141/265 [==============>...............] - ETA: 36s - loss: 0.7252 - acc: 0.7983"
          ],
          "name": "stdout"
        },
        {
          "output_type": "stream",
          "text": [
            "/usr/local/lib/python3.6/dist-packages/PIL/Image.py:989: UserWarning: Palette images with Transparency expressed in bytes should be converted to RGBA images\n",
            "  \"Palette images with Transparency expressed in bytes should be \"\n"
          ],
          "name": "stderr"
        },
        {
          "output_type": "stream",
          "text": [
            "264/265 [============================>.] - ETA: 0s - loss: 0.7670 - acc: 0.7903\n",
            "Epoch 00054: saving model to /content/gdrive/My Drive/pokemon_weights/original2/model-54.hdf5\n",
            "265/265 [==============================] - 76s 286ms/step - loss: 0.7672 - acc: 0.7904 - val_loss: 3.3607 - val_acc: 0.5000\n",
            "Epoch 55/100\n",
            "\n",
            "Epoch 00055: saving model to /content/gdrive/My Drive/pokemon_weights/original2/model-55.hdf5\n",
            "Epoch 56/100\n",
            " 67/265 [======>.......................] - ETA: 1:03 - loss: 0.7166 - acc: 0.8050"
          ],
          "name": "stdout"
        },
        {
          "output_type": "stream",
          "text": [
            "/usr/local/lib/python3.6/dist-packages/PIL/Image.py:989: UserWarning: Palette images with Transparency expressed in bytes should be converted to RGBA images\n",
            "  \"Palette images with Transparency expressed in bytes should be \"\n"
          ],
          "name": "stderr"
        },
        {
          "output_type": "stream",
          "text": [
            "177/265 [===================>..........] - ETA: 25s - loss: 0.7502 - acc: 0.7978"
          ],
          "name": "stdout"
        },
        {
          "output_type": "stream",
          "text": [
            "/usr/local/lib/python3.6/dist-packages/PIL/Image.py:989: UserWarning: Palette images with Transparency expressed in bytes should be converted to RGBA images\n",
            "  \"Palette images with Transparency expressed in bytes should be \"\n"
          ],
          "name": "stderr"
        },
        {
          "output_type": "stream",
          "text": [
            "264/265 [============================>.] - ETA: 0s - loss: 0.7755 - acc: 0.7914Epoch 56/100\n",
            "\n",
            "Epoch 00055: saving model to /content/gdrive/My Drive/pokemon_weights/original2/model-55.hdf5\n",
            "265/265 [==============================] - 76s 287ms/step - loss: 0.7751 - acc: 0.7916 - val_loss: 3.3026 - val_acc: 0.4375\n",
            "\n",
            "Epoch 00056: saving model to /content/gdrive/My Drive/pokemon_weights/original2/model-56.hdf5\n",
            "Epoch 57/100\n",
            " 74/265 [=======>......................] - ETA: 59s - loss: 0.7285 - acc: 0.7990 "
          ],
          "name": "stdout"
        },
        {
          "output_type": "stream",
          "text": [
            "/usr/local/lib/python3.6/dist-packages/PIL/Image.py:989: UserWarning: Palette images with Transparency expressed in bytes should be converted to RGBA images\n",
            "  \"Palette images with Transparency expressed in bytes should be \"\n"
          ],
          "name": "stderr"
        },
        {
          "output_type": "stream",
          "text": [
            "249/265 [===========================>..] - ETA: 4s - loss: 0.7346 - acc: 0.7964"
          ],
          "name": "stdout"
        },
        {
          "output_type": "stream",
          "text": [
            "/usr/local/lib/python3.6/dist-packages/PIL/Image.py:989: UserWarning: Palette images with Transparency expressed in bytes should be converted to RGBA images\n",
            "  \"Palette images with Transparency expressed in bytes should be \"\n"
          ],
          "name": "stderr"
        },
        {
          "output_type": "stream",
          "text": [
            "264/265 [============================>.] - ETA: 0s - loss: 0.7297 - acc: 0.7973\n",
            "265/265 [==============================] - 76s 287ms/step - loss: 0.7751 - acc: 0.7916 - val_loss: 3.3026 - val_acc: 0.4375\n",
            "265/265 [==============================] - 76s 288ms/step - loss: 0.7304 - acc: 0.7970 - val_loss: 3.2295 - val_acc: 0.4375\n",
            "\n",
            "Epoch 00057: saving model to /content/gdrive/My Drive/pokemon_weights/original2/model-57.hdf5\n",
            "Epoch 58/100\n",
            " 62/265 [======>.......................] - ETA: 1:03 - loss: 0.7087 - acc: 0.8115"
          ],
          "name": "stdout"
        },
        {
          "output_type": "stream",
          "text": [
            "/usr/local/lib/python3.6/dist-packages/PIL/Image.py:989: UserWarning: Palette images with Transparency expressed in bytes should be converted to RGBA images\n",
            "  \"Palette images with Transparency expressed in bytes should be \"\n"
          ],
          "name": "stderr"
        },
        {
          "output_type": "stream",
          "text": [
            "209/265 [======================>.......] - ETA: 16s - loss: 0.7268 - acc: 0.8011"
          ],
          "name": "stdout"
        },
        {
          "output_type": "stream",
          "text": [
            "/usr/local/lib/python3.6/dist-packages/PIL/Image.py:989: UserWarning: Palette images with Transparency expressed in bytes should be converted to RGBA images\n",
            "  \"Palette images with Transparency expressed in bytes should be \"\n"
          ],
          "name": "stderr"
        },
        {
          "output_type": "stream",
          "text": [
            "264/265 [============================>.] - ETA: 0s - loss: 0.7434 - acc: 0.7949\n",
            "Epoch 00057: saving model to /content/gdrive/My Drive/pokemon_weights/original2/model-57.hdf5\n",
            "265/265 [==============================] - 76s 285ms/step - loss: 0.7439 - acc: 0.7948 - val_loss: 3.4232 - val_acc: 0.5312\n",
            "\n",
            "Epoch 00058: saving model to /content/gdrive/My Drive/pokemon_weights/original2/model-58.hdf5\n",
            "Epoch 59/100\n",
            " 70/265 [======>.......................] - ETA: 1:01 - loss: 0.7831 - acc: 0.7790"
          ],
          "name": "stdout"
        },
        {
          "output_type": "stream",
          "text": [
            "/usr/local/lib/python3.6/dist-packages/PIL/Image.py:989: UserWarning: Palette images with Transparency expressed in bytes should be converted to RGBA images\n",
            "  \"Palette images with Transparency expressed in bytes should be \"\n"
          ],
          "name": "stderr"
        },
        {
          "output_type": "stream",
          "text": [
            "173/265 [==================>...........] - ETA: 27s - loss: 0.7259 - acc: 0.7959"
          ],
          "name": "stdout"
        },
        {
          "output_type": "stream",
          "text": [
            "/usr/local/lib/python3.6/dist-packages/PIL/Image.py:989: UserWarning: Palette images with Transparency expressed in bytes should be converted to RGBA images\n",
            "  \"Palette images with Transparency expressed in bytes should be \"\n"
          ],
          "name": "stderr"
        },
        {
          "output_type": "stream",
          "text": [
            "264/265 [============================>.] - ETA: 0s - loss: 0.7076 - acc: 0.8019\n",
            "Epoch 00058: saving model to /content/gdrive/My Drive/pokemon_weights/original2/model-58.hdf5\n",
            "265/265 [==============================] - 75s 285ms/step - loss: 0.7088 - acc: 0.8016 - val_loss: 3.3978 - val_acc: 0.4062\n",
            "\n",
            "Epoch 00059: saving model to /content/gdrive/My Drive/pokemon_weights/original2/model-59.hdf5\n",
            "Epoch 60/100\n",
            " 85/265 [========>.....................] - ETA: 52s - loss: 0.7299 - acc: 0.7971"
          ],
          "name": "stdout"
        },
        {
          "output_type": "stream",
          "text": [
            "/usr/local/lib/python3.6/dist-packages/PIL/Image.py:989: UserWarning: Palette images with Transparency expressed in bytes should be converted to RGBA images\n",
            "  \"Palette images with Transparency expressed in bytes should be \"\n"
          ],
          "name": "stderr"
        },
        {
          "output_type": "stream",
          "text": [
            "253/265 [===========================>..] - ETA: 3s - loss: 0.7250 - acc: 0.7969"
          ],
          "name": "stdout"
        },
        {
          "output_type": "stream",
          "text": [
            "/usr/local/lib/python3.6/dist-packages/PIL/Image.py:989: UserWarning: Palette images with Transparency expressed in bytes should be converted to RGBA images\n",
            "  \"Palette images with Transparency expressed in bytes should be \"\n"
          ],
          "name": "stderr"
        },
        {
          "output_type": "stream",
          "text": [
            "265/265 [==============================] - 74s 278ms/step - loss: 0.7267 - acc: 0.7967 - val_loss: 4.8140 - val_acc: 0.3438\n",
            "\n",
            "Epoch 00059: saving model to /content/gdrive/My Drive/pokemon_weights/original2/model-59.hdf5\n",
            "\n",
            "Epoch 00060: saving model to /content/gdrive/My Drive/pokemon_weights/original2/model-60.hdf5\n",
            "Epoch 61/100\n",
            "204/265 [======================>.......] - ETA: 17s - loss: 0.6899 - acc: 0.8073"
          ],
          "name": "stdout"
        },
        {
          "output_type": "stream",
          "text": [
            "/usr/local/lib/python3.6/dist-packages/PIL/Image.py:989: UserWarning: Palette images with Transparency expressed in bytes should be converted to RGBA images\n",
            "  \"Palette images with Transparency expressed in bytes should be \"\n"
          ],
          "name": "stderr"
        },
        {
          "output_type": "stream",
          "text": [
            "243/265 [==========================>...] - ETA: 6s - loss: 0.7037 - acc: 0.8032"
          ],
          "name": "stdout"
        },
        {
          "output_type": "stream",
          "text": [
            "/usr/local/lib/python3.6/dist-packages/PIL/Image.py:989: UserWarning: Palette images with Transparency expressed in bytes should be converted to RGBA images\n",
            "  \"Palette images with Transparency expressed in bytes should be \"\n"
          ],
          "name": "stderr"
        },
        {
          "output_type": "stream",
          "text": [
            "265/265 [==============================] - 75s 284ms/step - loss: 0.6989 - acc: 0.8044 - val_loss: 2.2121 - val_acc: 0.4375\n",
            "\n",
            "Epoch 00061: saving model to /content/gdrive/My Drive/pokemon_weights/original2/model-61.hdf5\n",
            "Epoch 62/100\n"
          ],
          "name": "stdout"
        },
        {
          "output_type": "stream",
          "text": [
            "/usr/local/lib/python3.6/dist-packages/PIL/Image.py:989: UserWarning: Palette images with Transparency expressed in bytes should be converted to RGBA images\n",
            "  \"Palette images with Transparency expressed in bytes should be \"\n"
          ],
          "name": "stderr"
        },
        {
          "output_type": "stream",
          "text": [
            " 53/265 [=====>........................] - ETA: 1:07 - loss: 0.6722 - acc: 0.8196"
          ],
          "name": "stdout"
        },
        {
          "output_type": "stream",
          "text": [
            "/usr/local/lib/python3.6/dist-packages/PIL/Image.py:989: UserWarning: Palette images with Transparency expressed in bytes should be converted to RGBA images\n",
            "  \"Palette images with Transparency expressed in bytes should be \"\n"
          ],
          "name": "stderr"
        },
        {
          "output_type": "stream",
          "text": [
            "264/265 [============================>.] - ETA: 0s - loss: 0.6703 - acc: 0.8164\n",
            "Epoch 00061: saving model to /content/gdrive/My Drive/pokemon_weights/original2/model-61.hdf5\n",
            "265/265 [==============================] - 75s 283ms/step - loss: 0.6691 - acc: 0.8168 - val_loss: 2.5807 - val_acc: 0.4688\n",
            "\n",
            "Epoch 00062: saving model to /content/gdrive/My Drive/pokemon_weights/original2/model-62.hdf5\n",
            "Epoch 63/100\n",
            " 64/265 [======>.......................] - ETA: 1:00 - loss: 0.6829 - acc: 0.8179"
          ],
          "name": "stdout"
        },
        {
          "output_type": "stream",
          "text": [
            "/usr/local/lib/python3.6/dist-packages/PIL/Image.py:989: UserWarning: Palette images with Transparency expressed in bytes should be converted to RGBA images\n",
            "  \"Palette images with Transparency expressed in bytes should be \"\n",
            "/usr/local/lib/python3.6/dist-packages/PIL/Image.py:989: UserWarning: Palette images with Transparency expressed in bytes should be converted to RGBA images\n",
            "  \"Palette images with Transparency expressed in bytes should be \"\n"
          ],
          "name": "stderr"
        },
        {
          "output_type": "stream",
          "text": [
            "265/265 [==============================] - 75s 285ms/step - loss: 0.6614 - acc: 0.8187 - val_loss: 2.9804 - val_acc: 0.3750\n",
            "\n",
            "Epoch 00063: saving model to /content/gdrive/My Drive/pokemon_weights/original2/model-63.hdf5\n",
            "Epoch 64/100\n",
            "165/265 [=================>............] - ETA: 29s - loss: 0.6540 - acc: 0.8157"
          ],
          "name": "stdout"
        },
        {
          "output_type": "stream",
          "text": [
            "/usr/local/lib/python3.6/dist-packages/PIL/Image.py:989: UserWarning: Palette images with Transparency expressed in bytes should be converted to RGBA images\n",
            "  \"Palette images with Transparency expressed in bytes should be \"\n"
          ],
          "name": "stderr"
        },
        {
          "output_type": "stream",
          "text": [
            "227/265 [========================>.....] - ETA: 11s - loss: 0.6785 - acc: 0.8136"
          ],
          "name": "stdout"
        },
        {
          "output_type": "stream",
          "text": [
            "/usr/local/lib/python3.6/dist-packages/PIL/Image.py:989: UserWarning: Palette images with Transparency expressed in bytes should be converted to RGBA images\n",
            "  \"Palette images with Transparency expressed in bytes should be \"\n"
          ],
          "name": "stderr"
        },
        {
          "output_type": "stream",
          "text": [
            "264/265 [============================>.] - ETA: 0s - loss: 0.6725 - acc: 0.8137\n",
            "Epoch 00063: saving model to /content/gdrive/My Drive/pokemon_weights/original2/model-63.hdf5\n",
            "265/265 [==============================] - 75s 284ms/step - loss: 0.6720 - acc: 0.8138 - val_loss: 4.0077 - val_acc: 0.3750\n",
            "\n",
            "Epoch 00064: saving model to /content/gdrive/My Drive/pokemon_weights/original2/model-64.hdf5\n",
            "Epoch 65/100\n",
            "166/265 [=================>............] - ETA: 29s - loss: 0.6471 - acc: 0.8194"
          ],
          "name": "stdout"
        },
        {
          "output_type": "stream",
          "text": [
            "/usr/local/lib/python3.6/dist-packages/PIL/Image.py:989: UserWarning: Palette images with Transparency expressed in bytes should be converted to RGBA images\n",
            "  \"Palette images with Transparency expressed in bytes should be \"\n"
          ],
          "name": "stderr"
        },
        {
          "output_type": "stream",
          "text": [
            "175/265 [==================>...........] - ETA: 26s - loss: 0.6542 - acc: 0.8188"
          ],
          "name": "stdout"
        },
        {
          "output_type": "stream",
          "text": [
            "/usr/local/lib/python3.6/dist-packages/PIL/Image.py:989: UserWarning: Palette images with Transparency expressed in bytes should be converted to RGBA images\n",
            "  \"Palette images with Transparency expressed in bytes should be \"\n"
          ],
          "name": "stderr"
        },
        {
          "output_type": "stream",
          "text": [
            "264/265 [============================>.] - ETA: 0s - loss: 0.6806 - acc: 0.8134Epoch 65/100\n",
            "265/265 [==============================] - 76s 286ms/step - loss: 0.6807 - acc: 0.8135 - val_loss: 5.2143 - val_acc: 0.2188\n",
            "\n",
            "Epoch 00064: saving model to /content/gdrive/My Drive/pokemon_weights/original2/model-64.hdf5\n",
            "\n",
            "Epoch 00065: saving model to /content/gdrive/My Drive/pokemon_weights/original2/model-65.hdf5\n",
            "Epoch 66/100\n",
            "118/265 [============>.................] - ETA: 43s - loss: 0.6673 - acc: 0.8104"
          ],
          "name": "stdout"
        },
        {
          "output_type": "stream",
          "text": [
            "/usr/local/lib/python3.6/dist-packages/PIL/Image.py:989: UserWarning: Palette images with Transparency expressed in bytes should be converted to RGBA images\n",
            "  \"Palette images with Transparency expressed in bytes should be \"\n"
          ],
          "name": "stderr"
        },
        {
          "output_type": "stream",
          "text": [
            "217/265 [=======================>......] - ETA: 13s - loss: 0.6648 - acc: 0.8142"
          ],
          "name": "stdout"
        },
        {
          "output_type": "stream",
          "text": [
            "/usr/local/lib/python3.6/dist-packages/PIL/Image.py:989: UserWarning: Palette images with Transparency expressed in bytes should be converted to RGBA images\n",
            "  \"Palette images with Transparency expressed in bytes should be \"\n"
          ],
          "name": "stderr"
        },
        {
          "output_type": "stream",
          "text": [
            "264/265 [============================>.] - ETA: 0s - loss: 0.6631 - acc: 0.8161Epoch 66/100\n",
            "\n",
            "Epoch 00065: saving model to /content/gdrive/My Drive/pokemon_weights/original2/model-65.hdf5\n",
            "265/265 [==============================] - 75s 284ms/step - loss: 0.6618 - acc: 0.8166 - val_loss: 3.8378 - val_acc: 0.4062\n",
            "\n",
            "Epoch 00066: saving model to /content/gdrive/My Drive/pokemon_weights/original2/model-66.hdf5\n",
            "Epoch 67/100\n",
            " 25/265 [=>............................] - ETA: 1:08 - loss: 0.6485 - acc: 0.8187"
          ],
          "name": "stdout"
        },
        {
          "output_type": "stream",
          "text": [
            "/usr/local/lib/python3.6/dist-packages/PIL/Image.py:989: UserWarning: Palette images with Transparency expressed in bytes should be converted to RGBA images\n",
            "  \"Palette images with Transparency expressed in bytes should be \"\n"
          ],
          "name": "stderr"
        },
        {
          "output_type": "stream",
          "text": [
            "213/265 [=======================>......] - ETA: 14s - loss: 0.6710 - acc: 0.8135"
          ],
          "name": "stdout"
        },
        {
          "output_type": "stream",
          "text": [
            "/usr/local/lib/python3.6/dist-packages/PIL/Image.py:989: UserWarning: Palette images with Transparency expressed in bytes should be converted to RGBA images\n",
            "  \"Palette images with Transparency expressed in bytes should be \"\n"
          ],
          "name": "stderr"
        },
        {
          "output_type": "stream",
          "text": [
            "264/265 [============================>.] - ETA: 0s - loss: 0.6756 - acc: 0.8114\n",
            "265/265 [==============================] - 74s 280ms/step - loss: 0.6760 - acc: 0.8113 - val_loss: 4.6863 - val_acc: 0.2188\n",
            "\n",
            "Epoch 00067: saving model to /content/gdrive/My Drive/pokemon_weights/original2/model-67.hdf5\n",
            "Epoch 68/100\n",
            " 71/265 [=======>......................] - ETA: 57s - loss: 0.6089 - acc: 0.8371"
          ],
          "name": "stdout"
        },
        {
          "output_type": "stream",
          "text": [
            "/usr/local/lib/python3.6/dist-packages/PIL/Image.py:989: UserWarning: Palette images with Transparency expressed in bytes should be converted to RGBA images\n",
            "  \"Palette images with Transparency expressed in bytes should be \"\n"
          ],
          "name": "stderr"
        },
        {
          "output_type": "stream",
          "text": [
            "102/265 [==========>...................] - ETA: 47s - loss: 0.6020 - acc: 0.8444"
          ],
          "name": "stdout"
        },
        {
          "output_type": "stream",
          "text": [
            "/usr/local/lib/python3.6/dist-packages/PIL/Image.py:989: UserWarning: Palette images with Transparency expressed in bytes should be converted to RGBA images\n",
            "  \"Palette images with Transparency expressed in bytes should be \"\n"
          ],
          "name": "stderr"
        },
        {
          "output_type": "stream",
          "text": [
            "264/265 [============================>.] - ETA: 0s - loss: 0.6540 - acc: 0.8248\n",
            "Epoch 00067: saving model to /content/gdrive/My Drive/pokemon_weights/original2/model-67.hdf5\n",
            "265/265 [==============================] - 75s 284ms/step - loss: 0.6545 - acc: 0.8245 - val_loss: 3.6902 - val_acc: 0.2812\n",
            "\n",
            "Epoch 00068: saving model to /content/gdrive/My Drive/pokemon_weights/original2/model-68.hdf5\n",
            "Epoch 69/100\n",
            " 51/265 [====>.........................] - ETA: 1:09 - loss: 0.6033 - acc: 0.8252"
          ],
          "name": "stdout"
        },
        {
          "output_type": "stream",
          "text": [
            "/usr/local/lib/python3.6/dist-packages/PIL/Image.py:989: UserWarning: Palette images with Transparency expressed in bytes should be converted to RGBA images\n",
            "  \"Palette images with Transparency expressed in bytes should be \"\n"
          ],
          "name": "stderr"
        },
        {
          "output_type": "stream",
          "text": [
            " 86/265 [========>.....................] - ETA: 53s - loss: 0.6250 - acc: 0.8244"
          ],
          "name": "stdout"
        },
        {
          "output_type": "stream",
          "text": [
            "/usr/local/lib/python3.6/dist-packages/PIL/Image.py:989: UserWarning: Palette images with Transparency expressed in bytes should be converted to RGBA images\n",
            "  \"Palette images with Transparency expressed in bytes should be \"\n"
          ],
          "name": "stderr"
        },
        {
          "output_type": "stream",
          "text": [
            "264/265 [============================>.] - ETA: 0s - loss: 0.6442 - acc: 0.8225\n",
            "\n",
            "Epoch 00068: saving model to /content/gdrive/My Drive/pokemon_weights/original2/model-68.hdf5\n",
            "265/265 [==============================] - 76s 289ms/step - loss: 0.6446 - acc: 0.8225 - val_loss: 3.7757 - val_acc: 0.6154\n",
            "\n",
            "Epoch 00069: saving model to /content/gdrive/My Drive/pokemon_weights/original2/model-69.hdf5\n",
            "Epoch 70/100\n",
            "212/265 [=======================>......] - ETA: 15s - loss: 0.6148 - acc: 0.8344"
          ],
          "name": "stdout"
        },
        {
          "output_type": "stream",
          "text": [
            "/usr/local/lib/python3.6/dist-packages/PIL/Image.py:989: UserWarning: Palette images with Transparency expressed in bytes should be converted to RGBA images\n",
            "  \"Palette images with Transparency expressed in bytes should be \"\n"
          ],
          "name": "stderr"
        },
        {
          "output_type": "stream",
          "text": [
            "217/265 [=======================>......] - ETA: 13s - loss: 0.6115 - acc: 0.8349"
          ],
          "name": "stdout"
        },
        {
          "output_type": "stream",
          "text": [
            "/usr/local/lib/python3.6/dist-packages/PIL/Image.py:989: UserWarning: Palette images with Transparency expressed in bytes should be converted to RGBA images\n",
            "  \"Palette images with Transparency expressed in bytes should be \"\n"
          ],
          "name": "stderr"
        },
        {
          "output_type": "stream",
          "text": [
            "265/265 [==============================] - 77s 289ms/step - loss: 0.6133 - acc: 0.8351 - val_loss: 3.5216 - val_acc: 0.3750\n",
            "\n",
            "Epoch 00070: saving model to /content/gdrive/My Drive/pokemon_weights/original2/model-70.hdf5\n",
            "Epoch 71/100\n",
            "  3/265 [..............................] - ETA: 4:51 - loss: 0.7759 - acc: 0.8229"
          ],
          "name": "stdout"
        },
        {
          "output_type": "stream",
          "text": [
            "/usr/local/lib/python3.6/dist-packages/PIL/Image.py:989: UserWarning: Palette images with Transparency expressed in bytes should be converted to RGBA images\n",
            "  \"Palette images with Transparency expressed in bytes should be \"\n"
          ],
          "name": "stderr"
        },
        {
          "output_type": "stream",
          "text": [
            "207/265 [======================>.......] - ETA: 16s - loss: 0.6578 - acc: 0.8244"
          ],
          "name": "stdout"
        },
        {
          "output_type": "stream",
          "text": [
            "/usr/local/lib/python3.6/dist-packages/PIL/Image.py:989: UserWarning: Palette images with Transparency expressed in bytes should be converted to RGBA images\n",
            "  \"Palette images with Transparency expressed in bytes should be \"\n"
          ],
          "name": "stderr"
        },
        {
          "output_type": "stream",
          "text": [
            "264/265 [============================>.] - ETA: 0s - loss: 0.6665 - acc: 0.8173\n",
            "Epoch 00070: saving model to /content/gdrive/My Drive/pokemon_weights/original2/model-70.hdf5\n",
            "265/265 [==============================] - 75s 285ms/step - loss: 0.6664 - acc: 0.8171 - val_loss: 2.9513 - val_acc: 0.4688\n",
            "\n",
            "Epoch 00071: saving model to /content/gdrive/My Drive/pokemon_weights/original2/model-71.hdf5\n",
            "Epoch 72/100\n",
            " 89/265 [=========>....................] - ETA: 54s - loss: 0.6511 - acc: 0.8143"
          ],
          "name": "stdout"
        },
        {
          "output_type": "stream",
          "text": [
            "/usr/local/lib/python3.6/dist-packages/PIL/Image.py:989: UserWarning: Palette images with Transparency expressed in bytes should be converted to RGBA images\n",
            "  \"Palette images with Transparency expressed in bytes should be \"\n"
          ],
          "name": "stderr"
        },
        {
          "output_type": "stream",
          "text": [
            "167/265 [=================>............] - ETA: 28s - loss: 0.6340 - acc: 0.8192"
          ],
          "name": "stdout"
        },
        {
          "output_type": "stream",
          "text": [
            "/usr/local/lib/python3.6/dist-packages/PIL/Image.py:989: UserWarning: Palette images with Transparency expressed in bytes should be converted to RGBA images\n",
            "  \"Palette images with Transparency expressed in bytes should be \"\n"
          ],
          "name": "stderr"
        },
        {
          "output_type": "stream",
          "text": [
            "265/265 [==============================] - 76s 285ms/step - loss: 0.6387 - acc: 0.8197 - val_loss: 4.2297 - val_acc: 0.4062\n",
            "\n",
            "Epoch 00072: saving model to /content/gdrive/My Drive/pokemon_weights/original2/model-72.hdf5\n",
            "Epoch 73/100\n",
            " 11/265 [>.............................] - ETA: 1:06 - loss: 0.6323 - acc: 0.8466"
          ],
          "name": "stdout"
        },
        {
          "output_type": "stream",
          "text": [
            "/usr/local/lib/python3.6/dist-packages/PIL/Image.py:989: UserWarning: Palette images with Transparency expressed in bytes should be converted to RGBA images\n",
            "  \"Palette images with Transparency expressed in bytes should be \"\n"
          ],
          "name": "stderr"
        },
        {
          "output_type": "stream",
          "text": [
            "152/265 [================>.............] - ETA: 31s - loss: 0.6071 - acc: 0.8340"
          ],
          "name": "stdout"
        },
        {
          "output_type": "stream",
          "text": [
            "/usr/local/lib/python3.6/dist-packages/PIL/Image.py:989: UserWarning: Palette images with Transparency expressed in bytes should be converted to RGBA images\n",
            "  \"Palette images with Transparency expressed in bytes should be \"\n"
          ],
          "name": "stderr"
        },
        {
          "output_type": "stream",
          "text": [
            "265/265 [==============================] - 74s 280ms/step - loss: 0.6218 - acc: 0.8272 - val_loss: 3.9195 - val_acc: 0.4688\n",
            "\n",
            "Epoch 00073: saving model to /content/gdrive/My Drive/pokemon_weights/original2/model-73.hdf5\n",
            "Epoch 74/100\n",
            "189/265 [====================>.........] - ETA: 22s - loss: 0.6322 - acc: 0.8236"
          ],
          "name": "stdout"
        },
        {
          "output_type": "stream",
          "text": [
            "/usr/local/lib/python3.6/dist-packages/PIL/Image.py:989: UserWarning: Palette images with Transparency expressed in bytes should be converted to RGBA images\n",
            "  \"Palette images with Transparency expressed in bytes should be \"\n"
          ],
          "name": "stderr"
        },
        {
          "output_type": "stream",
          "text": [
            "211/265 [======================>.......] - ETA: 15s - loss: 0.6359 - acc: 0.8218"
          ],
          "name": "stdout"
        },
        {
          "output_type": "stream",
          "text": [
            "/usr/local/lib/python3.6/dist-packages/PIL/Image.py:989: UserWarning: Palette images with Transparency expressed in bytes should be converted to RGBA images\n",
            "  \"Palette images with Transparency expressed in bytes should be \"\n"
          ],
          "name": "stderr"
        },
        {
          "output_type": "stream",
          "text": [
            "264/265 [============================>.] - ETA: 0s - loss: 0.6238 - acc: 0.8257\n",
            "Epoch 00073: saving model to /content/gdrive/My Drive/pokemon_weights/original2/model-73.hdf5\n",
            "265/265 [==============================] - 76s 286ms/step - loss: 0.6244 - acc: 0.8254 - val_loss: 4.3178 - val_acc: 0.3750\n",
            "\n",
            "Epoch 00074: saving model to /content/gdrive/My Drive/pokemon_weights/original2/model-74.hdf5\n",
            "Epoch 75/100\n",
            "111/265 [===========>..................] - ETA: 46s - loss: 0.5594 - acc: 0.8457"
          ],
          "name": "stdout"
        },
        {
          "output_type": "stream",
          "text": [
            "/usr/local/lib/python3.6/dist-packages/PIL/Image.py:989: UserWarning: Palette images with Transparency expressed in bytes should be converted to RGBA images\n",
            "  \"Palette images with Transparency expressed in bytes should be \"\n"
          ],
          "name": "stderr"
        },
        {
          "output_type": "stream",
          "text": [
            "144/265 [===============>..............] - ETA: 35s - loss: 0.5527 - acc: 0.8465"
          ],
          "name": "stdout"
        },
        {
          "output_type": "stream",
          "text": [
            "/usr/local/lib/python3.6/dist-packages/PIL/Image.py:989: UserWarning: Palette images with Transparency expressed in bytes should be converted to RGBA images\n",
            "  \"Palette images with Transparency expressed in bytes should be \"\n"
          ],
          "name": "stderr"
        },
        {
          "output_type": "stream",
          "text": [
            "265/265 [==============================] - 76s 286ms/step - loss: 0.5775 - acc: 0.8407 - val_loss: 3.2801 - val_acc: 0.3125\n",
            "\n",
            "Epoch 00075: saving model to /content/gdrive/My Drive/pokemon_weights/original2/model-75.hdf5\n",
            "Epoch 76/100\n",
            "172/265 [==================>...........] - ETA: 27s - loss: 0.5817 - acc: 0.8395"
          ],
          "name": "stdout"
        },
        {
          "output_type": "stream",
          "text": [
            "/usr/local/lib/python3.6/dist-packages/PIL/Image.py:989: UserWarning: Palette images with Transparency expressed in bytes should be converted to RGBA images\n",
            "  \"Palette images with Transparency expressed in bytes should be \"\n"
          ],
          "name": "stderr"
        },
        {
          "output_type": "stream",
          "text": [
            "175/265 [==================>...........] - ETA: 26s - loss: 0.5794 - acc: 0.8401"
          ],
          "name": "stdout"
        },
        {
          "output_type": "stream",
          "text": [
            "/usr/local/lib/python3.6/dist-packages/PIL/Image.py:989: UserWarning: Palette images with Transparency expressed in bytes should be converted to RGBA images\n",
            "  \"Palette images with Transparency expressed in bytes should be \"\n"
          ],
          "name": "stderr"
        },
        {
          "output_type": "stream",
          "text": [
            "265/265 [==============================] - 76s 287ms/step - loss: 0.5819 - acc: 0.8388 - val_loss: 2.1459 - val_acc: 0.5625\n",
            "\n",
            "Epoch 00076: saving model to /content/gdrive/My Drive/pokemon_weights/original2/model-76.hdf5\n",
            "Epoch 77/100\n",
            " 36/265 [===>..........................] - ETA: 1:06 - loss: 0.6265 - acc: 0.8220"
          ],
          "name": "stdout"
        },
        {
          "output_type": "stream",
          "text": [
            "/usr/local/lib/python3.6/dist-packages/PIL/Image.py:989: UserWarning: Palette images with Transparency expressed in bytes should be converted to RGBA images\n",
            "  \"Palette images with Transparency expressed in bytes should be \"\n"
          ],
          "name": "stderr"
        },
        {
          "output_type": "stream",
          "text": [
            " 62/265 [======>.......................] - ETA: 1:01 - loss: 0.5978 - acc: 0.8261"
          ],
          "name": "stdout"
        },
        {
          "output_type": "stream",
          "text": [
            "/usr/local/lib/python3.6/dist-packages/PIL/Image.py:989: UserWarning: Palette images with Transparency expressed in bytes should be converted to RGBA images\n",
            "  \"Palette images with Transparency expressed in bytes should be \"\n"
          ],
          "name": "stderr"
        },
        {
          "output_type": "stream",
          "text": [
            "265/265 [==============================] - 75s 281ms/step - loss: 0.5829 - acc: 0.8361 - val_loss: 3.4445 - val_acc: 0.3438\n",
            "\n",
            "Epoch 00077: saving model to /content/gdrive/My Drive/pokemon_weights/original2/model-77.hdf5\n",
            "Epoch 78/100\n",
            " 63/265 [======>.......................] - ETA: 58s - loss: 0.5748 - acc: 0.8482"
          ],
          "name": "stdout"
        },
        {
          "output_type": "stream",
          "text": [
            "/usr/local/lib/python3.6/dist-packages/PIL/Image.py:989: UserWarning: Palette images with Transparency expressed in bytes should be converted to RGBA images\n",
            "  \"Palette images with Transparency expressed in bytes should be \"\n"
          ],
          "name": "stderr"
        },
        {
          "output_type": "stream",
          "text": [
            "171/265 [==================>...........] - ETA: 27s - loss: 0.5976 - acc: 0.8376"
          ],
          "name": "stdout"
        },
        {
          "output_type": "stream",
          "text": [
            "/usr/local/lib/python3.6/dist-packages/PIL/Image.py:989: UserWarning: Palette images with Transparency expressed in bytes should be converted to RGBA images\n",
            "  \"Palette images with Transparency expressed in bytes should be \"\n"
          ],
          "name": "stderr"
        },
        {
          "output_type": "stream",
          "text": [
            "264/265 [============================>.] - ETA: 0s - loss: 0.6075 - acc: 0.8341\n",
            "Epoch 00077: saving model to /content/gdrive/My Drive/pokemon_weights/original2/model-77.hdf5\n",
            "265/265 [==============================] - 75s 281ms/step - loss: 0.6070 - acc: 0.8344 - val_loss: 4.2104 - val_acc: 0.3438\n",
            "\n",
            "Epoch 00078: saving model to /content/gdrive/My Drive/pokemon_weights/original2/model-78.hdf5\n",
            "Epoch 79/100\n",
            "168/265 [==================>...........] - ETA: 28s - loss: 0.5749 - acc: 0.8431"
          ],
          "name": "stdout"
        },
        {
          "output_type": "stream",
          "text": [
            "/usr/local/lib/python3.6/dist-packages/PIL/Image.py:989: UserWarning: Palette images with Transparency expressed in bytes should be converted to RGBA images\n",
            "  \"Palette images with Transparency expressed in bytes should be \"\n"
          ],
          "name": "stderr"
        },
        {
          "output_type": "stream",
          "text": [
            "228/265 [========================>.....] - ETA: 10s - loss: 0.5778 - acc: 0.8407"
          ],
          "name": "stdout"
        },
        {
          "output_type": "stream",
          "text": [
            "/usr/local/lib/python3.6/dist-packages/PIL/Image.py:989: UserWarning: Palette images with Transparency expressed in bytes should be converted to RGBA images\n",
            "  \"Palette images with Transparency expressed in bytes should be \"\n"
          ],
          "name": "stderr"
        },
        {
          "output_type": "stream",
          "text": [
            "265/265 [==============================] - 76s 288ms/step - loss: 0.5788 - acc: 0.8417 - val_loss: 3.5487 - val_acc: 0.3750\n",
            "\n",
            "Epoch 00079: saving model to /content/gdrive/My Drive/pokemon_weights/original2/model-79.hdf5\n",
            "Epoch 80/100\n",
            "200/265 [=====================>........] - ETA: 19s - loss: 0.5673 - acc: 0.8418"
          ],
          "name": "stdout"
        },
        {
          "output_type": "stream",
          "text": [
            "/usr/local/lib/python3.6/dist-packages/PIL/Image.py:989: UserWarning: Palette images with Transparency expressed in bytes should be converted to RGBA images\n",
            "  \"Palette images with Transparency expressed in bytes should be \"\n"
          ],
          "name": "stderr"
        },
        {
          "output_type": "stream",
          "text": [
            "248/265 [===========================>..] - ETA: 4s - loss: 0.5784 - acc: 0.8403"
          ],
          "name": "stdout"
        },
        {
          "output_type": "stream",
          "text": [
            "/usr/local/lib/python3.6/dist-packages/PIL/Image.py:989: UserWarning: Palette images with Transparency expressed in bytes should be converted to RGBA images\n",
            "  \"Palette images with Transparency expressed in bytes should be \"\n"
          ],
          "name": "stderr"
        },
        {
          "output_type": "stream",
          "text": [
            "265/265 [==============================] - 76s 286ms/step - loss: 0.5756 - acc: 0.8416 - val_loss: 3.2836 - val_acc: 0.5938\n",
            "\n",
            "Epoch 00080: saving model to /content/gdrive/My Drive/pokemon_weights/original2/model-80.hdf5\n",
            "Epoch 81/100\n",
            "213/265 [=======================>......] - ETA: 14s - loss: 0.5535 - acc: 0.8471"
          ],
          "name": "stdout"
        },
        {
          "output_type": "stream",
          "text": [
            "/usr/local/lib/python3.6/dist-packages/PIL/Image.py:989: UserWarning: Palette images with Transparency expressed in bytes should be converted to RGBA images\n",
            "  \"Palette images with Transparency expressed in bytes should be \"\n"
          ],
          "name": "stderr"
        },
        {
          "output_type": "stream",
          "text": [
            "220/265 [=======================>......] - ETA: 13s - loss: 0.5562 - acc: 0.8466"
          ],
          "name": "stdout"
        },
        {
          "output_type": "stream",
          "text": [
            "/usr/local/lib/python3.6/dist-packages/PIL/Image.py:989: UserWarning: Palette images with Transparency expressed in bytes should be converted to RGBA images\n",
            "  \"Palette images with Transparency expressed in bytes should be \"\n"
          ],
          "name": "stderr"
        },
        {
          "output_type": "stream",
          "text": [
            "264/265 [============================>.] - ETA: 0s - loss: 0.5640 - acc: 0.8448\n",
            "265/265 [==============================] - 76s 286ms/step - loss: 0.5653 - acc: 0.8447 - val_loss: 3.8546 - val_acc: 0.4062\n",
            "\n",
            "Epoch 00081: saving model to /content/gdrive/My Drive/pokemon_weights/original2/model-81.hdf5\n",
            "Epoch 82/100\n"
          ],
          "name": "stdout"
        },
        {
          "output_type": "stream",
          "text": [
            "/usr/local/lib/python3.6/dist-packages/PIL/Image.py:989: UserWarning: Palette images with Transparency expressed in bytes should be converted to RGBA images\n",
            "  \"Palette images with Transparency expressed in bytes should be \"\n"
          ],
          "name": "stderr"
        },
        {
          "output_type": "stream",
          "text": [
            "154/265 [================>.............] - ETA: 32s - loss: 0.5775 - acc: 0.8342"
          ],
          "name": "stdout"
        },
        {
          "output_type": "stream",
          "text": [
            "/usr/local/lib/python3.6/dist-packages/PIL/Image.py:989: UserWarning: Palette images with Transparency expressed in bytes should be converted to RGBA images\n",
            "  \"Palette images with Transparency expressed in bytes should be \"\n"
          ],
          "name": "stderr"
        },
        {
          "output_type": "stream",
          "text": [
            "264/265 [============================>.] - ETA: 0s - loss: 0.5759 - acc: 0.8370\n",
            "Epoch 00081: saving model to /content/gdrive/My Drive/pokemon_weights/original2/model-81.hdf5\n",
            "265/265 [==============================] - 76s 287ms/step - loss: 0.5763 - acc: 0.8369 - val_loss: 3.1948 - val_acc: 0.4375\n",
            "\n",
            "Epoch 00082: saving model to /content/gdrive/My Drive/pokemon_weights/original2/model-82.hdf5\n",
            "Epoch 83/100\n",
            " 24/265 [=>............................] - ETA: 1:13 - loss: 0.5582 - acc: 0.8341"
          ],
          "name": "stdout"
        },
        {
          "output_type": "stream",
          "text": [
            "/usr/local/lib/python3.6/dist-packages/PIL/Image.py:989: UserWarning: Palette images with Transparency expressed in bytes should be converted to RGBA images\n",
            "  \"Palette images with Transparency expressed in bytes should be \"\n"
          ],
          "name": "stderr"
        },
        {
          "output_type": "stream",
          "text": [
            "202/265 [=====================>........] - ETA: 18s - loss: 0.5669 - acc: 0.8415"
          ],
          "name": "stdout"
        },
        {
          "output_type": "stream",
          "text": [
            "/usr/local/lib/python3.6/dist-packages/PIL/Image.py:989: UserWarning: Palette images with Transparency expressed in bytes should be converted to RGBA images\n",
            "  \"Palette images with Transparency expressed in bytes should be \"\n"
          ],
          "name": "stderr"
        },
        {
          "output_type": "stream",
          "text": [
            "264/265 [============================>.] - ETA: 0s - loss: 0.5845 - acc: 0.8367\n",
            "265/265 [==============================] - 75s 283ms/step - loss: 0.5844 - acc: 0.8366 - val_loss: 4.0622 - val_acc: 0.4688\n",
            "\n",
            "Epoch 00083: saving model to /content/gdrive/My Drive/pokemon_weights/original2/model-83.hdf5\n",
            "Epoch 84/100\n",
            "113/265 [===========>..................] - ETA: 46s - loss: 0.5590 - acc: 0.8526"
          ],
          "name": "stdout"
        },
        {
          "output_type": "stream",
          "text": [
            "/usr/local/lib/python3.6/dist-packages/PIL/Image.py:989: UserWarning: Palette images with Transparency expressed in bytes should be converted to RGBA images\n",
            "  \"Palette images with Transparency expressed in bytes should be \"\n"
          ],
          "name": "stderr"
        },
        {
          "output_type": "stream",
          "text": [
            "133/265 [==============>...............] - ETA: 39s - loss: 0.5447 - acc: 0.8571"
          ],
          "name": "stdout"
        },
        {
          "output_type": "stream",
          "text": [
            "/usr/local/lib/python3.6/dist-packages/PIL/Image.py:989: UserWarning: Palette images with Transparency expressed in bytes should be converted to RGBA images\n",
            "  \"Palette images with Transparency expressed in bytes should be \"\n"
          ],
          "name": "stderr"
        },
        {
          "output_type": "stream",
          "text": [
            "264/265 [============================>.] - ETA: 0s - loss: 0.5736 - acc: 0.8421\n",
            "265/265 [==============================] - 76s 287ms/step - loss: 0.5732 - acc: 0.8418 - val_loss: 4.4293 - val_acc: 0.2188\n",
            "\n",
            "Epoch 00084: saving model to /content/gdrive/My Drive/pokemon_weights/original2/model-84.hdf5\n",
            "Epoch 85/100\n",
            "113/265 [===========>..................] - ETA: 44s - loss: 0.5169 - acc: 0.8479"
          ],
          "name": "stdout"
        },
        {
          "output_type": "stream",
          "text": [
            "/usr/local/lib/python3.6/dist-packages/PIL/Image.py:989: UserWarning: Palette images with Transparency expressed in bytes should be converted to RGBA images\n",
            "  \"Palette images with Transparency expressed in bytes should be \"\n"
          ],
          "name": "stderr"
        },
        {
          "output_type": "stream",
          "text": [
            "202/265 [=====================>........] - ETA: 17s - loss: 0.5445 - acc: 0.8420"
          ],
          "name": "stdout"
        },
        {
          "output_type": "stream",
          "text": [
            "/usr/local/lib/python3.6/dist-packages/PIL/Image.py:989: UserWarning: Palette images with Transparency expressed in bytes should be converted to RGBA images\n",
            "  \"Palette images with Transparency expressed in bytes should be \"\n"
          ],
          "name": "stderr"
        },
        {
          "output_type": "stream",
          "text": [
            "264/265 [============================>.] - ETA: 0s - loss: 0.5455 - acc: 0.8460\n",
            "Epoch 00084: saving model to /content/gdrive/My Drive/pokemon_weights/original2/model-84.hdf5\n",
            "265/265 [==============================] - 75s 283ms/step - loss: 0.5445 - acc: 0.8462 - val_loss: 2.7226 - val_acc: 0.5000\n",
            "\n",
            "Epoch 00085: saving model to /content/gdrive/My Drive/pokemon_weights/original2/model-85.hdf5\n",
            "Epoch 86/100\n",
            "  2/265 [..............................] - ETA: 4:04 - loss: 0.2753 - acc: 0.9375"
          ],
          "name": "stdout"
        },
        {
          "output_type": "stream",
          "text": [
            "/usr/local/lib/python3.6/dist-packages/PIL/Image.py:989: UserWarning: Palette images with Transparency expressed in bytes should be converted to RGBA images\n",
            "  \"Palette images with Transparency expressed in bytes should be \"\n"
          ],
          "name": "stderr"
        },
        {
          "output_type": "stream",
          "text": [
            " 97/265 [=========>....................] - ETA: 47s - loss: 0.5466 - acc: 0.8470"
          ],
          "name": "stdout"
        },
        {
          "output_type": "stream",
          "text": [
            "/usr/local/lib/python3.6/dist-packages/PIL/Image.py:989: UserWarning: Palette images with Transparency expressed in bytes should be converted to RGBA images\n",
            "  \"Palette images with Transparency expressed in bytes should be \"\n"
          ],
          "name": "stderr"
        },
        {
          "output_type": "stream",
          "text": [
            "265/265 [==============================] - 75s 283ms/step - loss: 0.5445 - acc: 0.8462 - val_loss: 2.7226 - val_acc: 0.5000\n",
            "265/265 [==============================] - 74s 278ms/step - loss: 0.5871 - acc: 0.8373 - val_loss: 4.2021 - val_acc: 0.3750\n",
            "\n",
            "Epoch 00085: saving model to /content/gdrive/My Drive/pokemon_weights/original2/model-85.hdf5\n",
            "\n",
            "Epoch 00086: saving model to /content/gdrive/My Drive/pokemon_weights/original2/model-86.hdf5\n",
            "Epoch 87/100\n",
            "184/265 [===================>..........] - ETA: 23s - loss: 0.5369 - acc: 0.8483"
          ],
          "name": "stdout"
        },
        {
          "output_type": "stream",
          "text": [
            "/usr/local/lib/python3.6/dist-packages/PIL/Image.py:989: UserWarning: Palette images with Transparency expressed in bytes should be converted to RGBA images\n",
            "  \"Palette images with Transparency expressed in bytes should be \"\n"
          ],
          "name": "stderr"
        },
        {
          "output_type": "stream",
          "text": [
            "265/265 [==============================] - 76s 285ms/step - loss: 0.5436 - acc: 0.8468 - val_loss: 5.5867 - val_acc: 0.2812\n",
            "\n",
            "Epoch 00087: saving model to /content/gdrive/My Drive/pokemon_weights/original2/model-87.hdf5\n",
            "Epoch 88/100\n",
            "159/265 [=================>............] - ETA: 30s - loss: 0.5245 - acc: 0.8561"
          ],
          "name": "stdout"
        },
        {
          "output_type": "stream",
          "text": [
            "/usr/local/lib/python3.6/dist-packages/PIL/Image.py:989: UserWarning: Palette images with Transparency expressed in bytes should be converted to RGBA images\n",
            "  \"Palette images with Transparency expressed in bytes should be \"\n"
          ],
          "name": "stderr"
        },
        {
          "output_type": "stream",
          "text": [
            "220/265 [=======================>......] - ETA: 13s - loss: 0.5353 - acc: 0.8521"
          ],
          "name": "stdout"
        },
        {
          "output_type": "stream",
          "text": [
            "/usr/local/lib/python3.6/dist-packages/PIL/Image.py:989: UserWarning: Palette images with Transparency expressed in bytes should be converted to RGBA images\n",
            "  \"Palette images with Transparency expressed in bytes should be \"\n"
          ],
          "name": "stderr"
        },
        {
          "output_type": "stream",
          "text": [
            "265/265 [==============================] - 76s 286ms/step - loss: 0.5384 - acc: 0.8504 - val_loss: 4.0869 - val_acc: 0.3750\n",
            "\n",
            "Epoch 00088: saving model to /content/gdrive/My Drive/pokemon_weights/original2/model-88.hdf5\n",
            "Epoch 89/100\n",
            " 63/265 [======>.......................] - ETA: 1:02 - loss: 0.5584 - acc: 0.8532"
          ],
          "name": "stdout"
        },
        {
          "output_type": "stream",
          "text": [
            "/usr/local/lib/python3.6/dist-packages/PIL/Image.py:989: UserWarning: Palette images with Transparency expressed in bytes should be converted to RGBA images\n",
            "  \"Palette images with Transparency expressed in bytes should be \"\n"
          ],
          "name": "stderr"
        },
        {
          "output_type": "stream",
          "text": [
            "126/265 [=============>................] - ETA: 41s - loss: 0.5213 - acc: 0.8591"
          ],
          "name": "stdout"
        },
        {
          "output_type": "stream",
          "text": [
            "/usr/local/lib/python3.6/dist-packages/PIL/Image.py:989: UserWarning: Palette images with Transparency expressed in bytes should be converted to RGBA images\n",
            "  \"Palette images with Transparency expressed in bytes should be \"\n"
          ],
          "name": "stderr"
        },
        {
          "output_type": "stream",
          "text": [
            "265/265 [==============================] - 75s 284ms/step - loss: 0.5285 - acc: 0.8561 - val_loss: 4.7708 - val_acc: 0.4375\n",
            "Epoch 89/100\n",
            "\n",
            "Epoch 00089: saving model to /content/gdrive/My Drive/pokemon_weights/original2/model-89.hdf5\n",
            "Epoch 90/100\n",
            "132/265 [=============>................] - ETA: 39s - loss: 0.5357 - acc: 0.8504"
          ],
          "name": "stdout"
        },
        {
          "output_type": "stream",
          "text": [
            "/usr/local/lib/python3.6/dist-packages/PIL/Image.py:989: UserWarning: Palette images with Transparency expressed in bytes should be converted to RGBA images\n",
            "  \"Palette images with Transparency expressed in bytes should be \"\n"
          ],
          "name": "stderr"
        },
        {
          "output_type": "stream",
          "text": [
            "239/265 [==========================>...] - ETA: 7s - loss: 0.5524 - acc: 0.8448"
          ],
          "name": "stdout"
        },
        {
          "output_type": "stream",
          "text": [
            "/usr/local/lib/python3.6/dist-packages/PIL/Image.py:989: UserWarning: Palette images with Transparency expressed in bytes should be converted to RGBA images\n",
            "  \"Palette images with Transparency expressed in bytes should be \"\n"
          ],
          "name": "stderr"
        },
        {
          "output_type": "stream",
          "text": [
            "265/265 [==============================] - 75s 285ms/step - loss: 0.5466 - acc: 0.8469 - val_loss: 4.4414 - val_acc: 0.3438\n",
            "\n",
            "Epoch 00090: saving model to /content/gdrive/My Drive/pokemon_weights/original2/model-90.hdf5\n",
            "Epoch 91/100\n",
            " 87/265 [========>.....................] - ETA: 50s - loss: 0.5079 - acc: 0.8560"
          ],
          "name": "stdout"
        },
        {
          "output_type": "stream",
          "text": [
            "/usr/local/lib/python3.6/dist-packages/PIL/Image.py:989: UserWarning: Palette images with Transparency expressed in bytes should be converted to RGBA images\n",
            "  \"Palette images with Transparency expressed in bytes should be \"\n"
          ],
          "name": "stderr"
        },
        {
          "output_type": "stream",
          "text": [
            "239/265 [==========================>...] - ETA: 7s - loss: 0.5326 - acc: 0.8518"
          ],
          "name": "stdout"
        },
        {
          "output_type": "stream",
          "text": [
            "/usr/local/lib/python3.6/dist-packages/PIL/Image.py:989: UserWarning: Palette images with Transparency expressed in bytes should be converted to RGBA images\n",
            "  \"Palette images with Transparency expressed in bytes should be \"\n"
          ],
          "name": "stderr"
        },
        {
          "output_type": "stream",
          "text": [
            "265/265 [==============================] - 74s 280ms/step - loss: 0.5412 - acc: 0.8503 - val_loss: 5.8329 - val_acc: 0.2500\n",
            "\n",
            "Epoch 00091: saving model to /content/gdrive/My Drive/pokemon_weights/original2/model-91.hdf5\n",
            "Epoch 92/100\n",
            "100/265 [==========>...................] - ETA: 48s - loss: 0.5468 - acc: 0.8440"
          ],
          "name": "stdout"
        },
        {
          "output_type": "stream",
          "text": [
            "/usr/local/lib/python3.6/dist-packages/PIL/Image.py:989: UserWarning: Palette images with Transparency expressed in bytes should be converted to RGBA images\n",
            "  \"Palette images with Transparency expressed in bytes should be \"\n"
          ],
          "name": "stderr"
        },
        {
          "output_type": "stream",
          "text": [
            "129/265 [=============>................] - ETA: 40s - loss: 0.5258 - acc: 0.8490"
          ],
          "name": "stdout"
        },
        {
          "output_type": "stream",
          "text": [
            "/usr/local/lib/python3.6/dist-packages/PIL/Image.py:989: UserWarning: Palette images with Transparency expressed in bytes should be converted to RGBA images\n",
            "  \"Palette images with Transparency expressed in bytes should be \"\n"
          ],
          "name": "stderr"
        },
        {
          "output_type": "stream",
          "text": [
            "264/265 [============================>.] - ETA: 0s - loss: 0.5105 - acc: 0.8558\n",
            "265/265 [==============================] - 76s 285ms/step - loss: 0.5104 - acc: 0.8558 - val_loss: 6.1239 - val_acc: 0.1562\n",
            "\n",
            "Epoch 00092: saving model to /content/gdrive/My Drive/pokemon_weights/original2/model-92.hdf5\n",
            "Epoch 93/100\n",
            " 55/265 [=====>........................] - ETA: 1:06 - loss: 0.5510 - acc: 0.8409"
          ],
          "name": "stdout"
        },
        {
          "output_type": "stream",
          "text": [
            "/usr/local/lib/python3.6/dist-packages/PIL/Image.py:989: UserWarning: Palette images with Transparency expressed in bytes should be converted to RGBA images\n",
            "  \"Palette images with Transparency expressed in bytes should be \"\n"
          ],
          "name": "stderr"
        },
        {
          "output_type": "stream",
          "text": [
            "219/265 [=======================>......] - ETA: 13s - loss: 0.5244 - acc: 0.8516"
          ],
          "name": "stdout"
        },
        {
          "output_type": "stream",
          "text": [
            "/usr/local/lib/python3.6/dist-packages/PIL/Image.py:989: UserWarning: Palette images with Transparency expressed in bytes should be converted to RGBA images\n",
            "  \"Palette images with Transparency expressed in bytes should be \"\n"
          ],
          "name": "stderr"
        },
        {
          "output_type": "stream",
          "text": [
            "265/265 [==============================] - 76s 286ms/step - loss: 0.5349 - acc: 0.8487 - val_loss: 5.0424 - val_acc: 0.1875\n",
            "\n",
            "Epoch 00093: saving model to /content/gdrive/My Drive/pokemon_weights/original2/model-93.hdf5\n",
            "Epoch 94/100\n",
            " 74/265 [=======>......................] - ETA: 57s - loss: 0.5103 - acc: 0.8615"
          ],
          "name": "stdout"
        },
        {
          "output_type": "stream",
          "text": [
            "/usr/local/lib/python3.6/dist-packages/PIL/Image.py:989: UserWarning: Palette images with Transparency expressed in bytes should be converted to RGBA images\n",
            "  \"Palette images with Transparency expressed in bytes should be \"\n"
          ],
          "name": "stderr"
        },
        {
          "output_type": "stream",
          "text": [
            "154/265 [================>.............] - ETA: 32s - loss: 0.5692 - acc: 0.8492"
          ],
          "name": "stdout"
        },
        {
          "output_type": "stream",
          "text": [
            "/usr/local/lib/python3.6/dist-packages/PIL/Image.py:989: UserWarning: Palette images with Transparency expressed in bytes should be converted to RGBA images\n",
            "  \"Palette images with Transparency expressed in bytes should be \"\n"
          ],
          "name": "stderr"
        },
        {
          "output_type": "stream",
          "text": [
            "265/265 [==============================] - 75s 282ms/step - loss: 0.5669 - acc: 0.8461 - val_loss: 3.4883 - val_acc: 0.5312\n",
            "\n",
            "Epoch 00094: saving model to /content/gdrive/My Drive/pokemon_weights/original2/model-94.hdf5\n",
            "Epoch 95/100\n",
            "129/265 [=============>................] - ETA: 39s - loss: 0.5242 - acc: 0.8583"
          ],
          "name": "stdout"
        },
        {
          "output_type": "stream",
          "text": [
            "/usr/local/lib/python3.6/dist-packages/PIL/Image.py:989: UserWarning: Palette images with Transparency expressed in bytes should be converted to RGBA images\n",
            "  \"Palette images with Transparency expressed in bytes should be \"\n"
          ],
          "name": "stderr"
        },
        {
          "output_type": "stream",
          "text": [
            "215/265 [=======================>......] - ETA: 14s - loss: 0.5147 - acc: 0.8599"
          ],
          "name": "stdout"
        },
        {
          "output_type": "stream",
          "text": [
            "/usr/local/lib/python3.6/dist-packages/PIL/Image.py:989: UserWarning: Palette images with Transparency expressed in bytes should be converted to RGBA images\n",
            "  \"Palette images with Transparency expressed in bytes should be \"\n"
          ],
          "name": "stderr"
        },
        {
          "output_type": "stream",
          "text": [
            "265/265 [==============================] - 75s 282ms/step - loss: 0.5669 - acc: 0.8461 - val_loss: 3.4883 - val_acc: 0.5312\n",
            "265/265 [==============================] - 74s 280ms/step - loss: 0.5198 - acc: 0.8579 - val_loss: 5.6468 - val_acc: 0.4062\n",
            "\n",
            "Epoch 00095: saving model to /content/gdrive/My Drive/pokemon_weights/original2/model-95.hdf5\n",
            "Epoch 96/100\n",
            " 50/265 [====>.........................] - ETA: 1:02 - loss: 0.4932 - acc: 0.8681"
          ],
          "name": "stdout"
        },
        {
          "output_type": "stream",
          "text": [
            "/usr/local/lib/python3.6/dist-packages/PIL/Image.py:989: UserWarning: Palette images with Transparency expressed in bytes should be converted to RGBA images\n",
            "  \"Palette images with Transparency expressed in bytes should be \"\n"
          ],
          "name": "stderr"
        },
        {
          "output_type": "stream",
          "text": [
            "191/265 [====================>.........] - ETA: 21s - loss: 0.5117 - acc: 0.8578"
          ],
          "name": "stdout"
        },
        {
          "output_type": "stream",
          "text": [
            "/usr/local/lib/python3.6/dist-packages/PIL/Image.py:989: UserWarning: Palette images with Transparency expressed in bytes should be converted to RGBA images\n",
            "  \"Palette images with Transparency expressed in bytes should be \"\n"
          ],
          "name": "stderr"
        },
        {
          "output_type": "stream",
          "text": [
            "264/265 [============================>.] - ETA: 0s - loss: 0.5148 - acc: 0.8576\n",
            "Epoch 00095: saving model to /content/gdrive/My Drive/pokemon_weights/original2/model-95.hdf5\n",
            "265/265 [==============================] - 74s 281ms/step - loss: 0.5171 - acc: 0.8570 - val_loss: 3.8811 - val_acc: 0.5312\n",
            "\n",
            "Epoch 00096: saving model to /content/gdrive/My Drive/pokemon_weights/original2/model-96.hdf5\n",
            "Epoch 97/100\n",
            "219/265 [=======================>......] - ETA: 13s - loss: 0.5028 - acc: 0.8570"
          ],
          "name": "stdout"
        },
        {
          "output_type": "stream",
          "text": [
            "/usr/local/lib/python3.6/dist-packages/PIL/Image.py:989: UserWarning: Palette images with Transparency expressed in bytes should be converted to RGBA images\n",
            "  \"Palette images with Transparency expressed in bytes should be \"\n"
          ],
          "name": "stderr"
        },
        {
          "output_type": "stream",
          "text": [
            "236/265 [=========================>....] - ETA: 8s - loss: 0.5026 - acc: 0.8563"
          ],
          "name": "stdout"
        },
        {
          "output_type": "stream",
          "text": [
            "/usr/local/lib/python3.6/dist-packages/PIL/Image.py:989: UserWarning: Palette images with Transparency expressed in bytes should be converted to RGBA images\n",
            "  \"Palette images with Transparency expressed in bytes should be \"\n"
          ],
          "name": "stderr"
        },
        {
          "output_type": "stream",
          "text": [
            "264/265 [============================>.] - ETA: 0s - loss: 0.5031 - acc: 0.8568\n",
            "Epoch 00096: saving model to /content/gdrive/My Drive/pokemon_weights/original2/model-96.hdf5\n",
            "265/265 [==============================] - 77s 289ms/step - loss: 0.5034 - acc: 0.8569 - val_loss: 3.5733 - val_acc: 0.4375\n",
            "\n",
            "Epoch 00097: saving model to /content/gdrive/My Drive/pokemon_weights/original2/model-97.hdf5\n",
            "Epoch 98/100\n",
            "111/265 [===========>..................] - ETA: 46s - loss: 0.5312 - acc: 0.8395"
          ],
          "name": "stdout"
        },
        {
          "output_type": "stream",
          "text": [
            "/usr/local/lib/python3.6/dist-packages/PIL/Image.py:989: UserWarning: Palette images with Transparency expressed in bytes should be converted to RGBA images\n",
            "  \"Palette images with Transparency expressed in bytes should be \"\n"
          ],
          "name": "stderr"
        },
        {
          "output_type": "stream",
          "text": [
            "205/265 [======================>.......] - ETA: 17s - loss: 0.5321 - acc: 0.8443"
          ],
          "name": "stdout"
        },
        {
          "output_type": "stream",
          "text": [
            "/usr/local/lib/python3.6/dist-packages/PIL/Image.py:989: UserWarning: Palette images with Transparency expressed in bytes should be converted to RGBA images\n",
            "  \"Palette images with Transparency expressed in bytes should be \"\n"
          ],
          "name": "stderr"
        },
        {
          "output_type": "stream",
          "text": [
            "265/265 [==============================] - 76s 286ms/step - loss: 0.5230 - acc: 0.8477 - val_loss: 2.6759 - val_acc: 0.5938\n",
            "\n",
            "Epoch 00098: saving model to /content/gdrive/My Drive/pokemon_weights/original2/model-98.hdf5\n",
            "Epoch 99/100\n",
            " 51/265 [====>.........................] - ETA: 1:09 - loss: 0.4999 - acc: 0.8572"
          ],
          "name": "stdout"
        },
        {
          "output_type": "stream",
          "text": [
            "/usr/local/lib/python3.6/dist-packages/PIL/Image.py:989: UserWarning: Palette images with Transparency expressed in bytes should be converted to RGBA images\n",
            "  \"Palette images with Transparency expressed in bytes should be \"\n"
          ],
          "name": "stderr"
        },
        {
          "output_type": "stream",
          "text": [
            " 80/265 [========>.....................] - ETA: 56s - loss: 0.5091 - acc: 0.8574"
          ],
          "name": "stdout"
        },
        {
          "output_type": "stream",
          "text": [
            "/usr/local/lib/python3.6/dist-packages/PIL/Image.py:989: UserWarning: Palette images with Transparency expressed in bytes should be converted to RGBA images\n",
            "  \"Palette images with Transparency expressed in bytes should be \"\n"
          ],
          "name": "stderr"
        },
        {
          "output_type": "stream",
          "text": [
            "265/265 [==============================] - 76s 285ms/step - loss: 0.5017 - acc: 0.8612 - val_loss: 4.4746 - val_acc: 0.3438\n",
            "\n",
            "Epoch 00099: saving model to /content/gdrive/My Drive/pokemon_weights/original2/model-99.hdf5\n",
            "Epoch 100/100\n",
            " 58/265 [=====>........................] - ETA: 1:03 - loss: 0.4861 - acc: 0.8680"
          ],
          "name": "stdout"
        },
        {
          "output_type": "stream",
          "text": [
            "/usr/local/lib/python3.6/dist-packages/PIL/Image.py:989: UserWarning: Palette images with Transparency expressed in bytes should be converted to RGBA images\n",
            "  \"Palette images with Transparency expressed in bytes should be \"\n"
          ],
          "name": "stderr"
        },
        {
          "output_type": "stream",
          "text": [
            "154/265 [================>.............] - ETA: 32s - loss: 0.5164 - acc: 0.8597"
          ],
          "name": "stdout"
        },
        {
          "output_type": "stream",
          "text": [
            "/usr/local/lib/python3.6/dist-packages/PIL/Image.py:989: UserWarning: Palette images with Transparency expressed in bytes should be converted to RGBA images\n",
            "  \"Palette images with Transparency expressed in bytes should be \"\n"
          ],
          "name": "stderr"
        },
        {
          "output_type": "stream",
          "text": [
            "264/265 [============================>.] - ETA: 0s - loss: 0.5202 - acc: 0.8578\n",
            "Epoch 00099: saving model to /content/gdrive/My Drive/pokemon_weights/original2/model-99.hdf5\n",
            "265/265 [==============================] - 76s 285ms/step - loss: 0.5200 - acc: 0.8578 - val_loss: 3.3939 - val_acc: 0.3438\n",
            "\n",
            "Epoch 00100: saving model to /content/gdrive/My Drive/pokemon_weights/original2/model-100.hdf5\n"
          ],
          "name": "stdout"
        }
      ]
    },
    {
      "cell_type": "code",
      "metadata": {
        "id": "KLFWMcxhGXtY",
        "colab_type": "code",
        "outputId": "3f4b1292-aa86-47f8-b392-4ab516720a1c",
        "colab": {
          "base_uri": "https://localhost:8080/",
          "height": 34
        }
      },
      "source": [
        "np.argmax(history.history['val_acc'])\n",
        "np.max(history.history['val_acc'])"
      ],
      "execution_count": 0,
      "outputs": [
        {
          "output_type": "execute_result",
          "data": {
            "text/plain": [
              "0.6153846383094788"
            ]
          },
          "metadata": {
            "tags": []
          },
          "execution_count": 141
        }
      ]
    },
    {
      "cell_type": "code",
      "metadata": {
        "id": "1wLlnvQYJiQI",
        "colab_type": "code",
        "outputId": "d583a8d5-a9a9-47f9-9330-57bcca636f4d",
        "colab": {
          "base_uri": "https://localhost:8080/",
          "height": 312
        }
      },
      "source": [
        "import matplotlib.pyplot as plt\n",
        "plt.plot(history.history['acc'], label=\"Training\")\n",
        "plt.plot(history.history['val_acc'], label=\"Validation\", c='purple')\n",
        "plt.ylim((0, 1))\n",
        "plt.ylabel(\"Accuracy (percentage)\")\n",
        "plt.xlabel(\"Epoch\")\n",
        "plt.title(\"Classifier Accuracy for Original Dataset\")\n",
        "plt.legend()\n"
      ],
      "execution_count": 0,
      "outputs": [
        {
          "output_type": "execute_result",
          "data": {
            "text/plain": [
              "<matplotlib.legend.Legend at 0x7f709e47b048>"
            ]
          },
          "metadata": {
            "tags": []
          },
          "execution_count": 40
        },
        {
          "output_type": "display_data",
          "data": {
            "image/png": "[encoded data removed]",
            "text/plain": [
              "<Figure size 432x288 with 1 Axes>"
            ]
          },
          "metadata": {
            "tags": []
          }
        }
      ]
    },
    {
      "cell_type": "code",
      "metadata": {
        "id": "KRNy1C_Ir_kb",
        "colab_type": "code",
        "outputId": "f15fa54f-8af4-4fd6-d76b-c43aa100793c",
        "colab": {
          "base_uri": "https://localhost:8080/",
          "height": 312
        }
      },
      "source": [
        "import matplotlib.pyplot as plt\n",
        "plt.plot(history.history['loss'], label=\"Training\")\n",
        "plt.plot(history.history['val_loss'], label=\"Validation\", c='purple')\n",
        "plt.ylabel(\"Loss (Cross-Entropy)\")\n",
        "plt.xlabel(\"Epoch\")\n",
        "plt.title(\"Classifier Loss for Original Dataset\")\n",
        "plt.legend()"
      ],
      "execution_count": 0,
      "outputs": [
        {
          "output_type": "execute_result",
          "data": {
            "text/plain": [
              "<matplotlib.legend.Legend at 0x7f709e339dd8>"
            ]
          },
          "metadata": {
            "tags": []
          },
          "execution_count": 43
        },
        {
          "output_type": "display_data",
          "data": {
            "image/png": "[encoded data removed]",
            "text/plain": [
              "<Figure size 432x288 with 1 Axes>"
            ]
          },
          "metadata": {
            "tags": []
          }
        }
      ]
    },
    {
      "cell_type": "code",
      "metadata": {
        "id": "AaR7MgIQsimR",
        "colab_type": "code",
        "outputId": "a742343c-0e68-4e59-9064-fcd9290c9c23",
        "colab": {
          "base_uri": "https://localhost:8080/",
          "height": 54
        }
      },
      "source": [
        "print(history.history)"
      ],
      "execution_count": 0,
      "outputs": [
        {
          "output_type": "stream",
          "text": [
            "{'val_loss': [3.8122141361236572, 3.860191822052002, 3.3222291469573975, 3.5263752937316895, 3.7408523559570312, 3.2110774517059326, 3.2849197387695312, 3.3840787410736084, 3.2399888038635254, 2.7523226737976074, 3.9328255653381348, 3.3875255584716797, 3.7173752784729004, 2.3088693618774414, 2.9514031410217285, 2.965082883834839, 3.218356132507324, 3.2856030464172363, 2.5234341621398926, 2.8770627975463867, 2.6191389560699463, 3.125389814376831, 3.543398380279541, 2.8423361778259277, 2.0446979999542236, 2.702136516571045, 3.4541993141174316, 2.947829246520996, 3.3966031074523926, 2.7653698921203613, 3.795637607574463, 3.3281092643737793, 3.7443575859069824, 2.878854513168335, 3.820699691772461, 2.878758430480957, 3.2802932262420654, 4.285663604736328, 2.563904285430908, 4.110161781311035, 4.485726356506348, 3.3735647201538086, 2.6641268730163574, 3.220952033996582, 3.400418758392334, 3.22044038772583, 3.3324215412139893, 3.229726791381836, 4.124174118041992, 2.6323513984680176, 3.976719379425049, 4.277213096618652, 4.025479793548584, 3.959846258163452, 3.3607027530670166, 3.3026084899902344, 3.229508399963379, 3.423197031021118, 3.3978018760681152, 4.81397819519043, 2.2121152877807617, 2.5806827545166016, 2.980447292327881, 4.007701873779297, 5.214282989501953, 3.837810516357422, 4.686253547668457, 3.690242290496826, 3.7757272720336914, 3.5215654373168945, 2.951328992843628, 4.229669570922852, 3.9195210933685303, 4.317777633666992, 3.2801284790039062, 2.1458511352539062, 3.4444565773010254, 4.210400104522705, 3.548710346221924, 3.283576488494873, 3.8546106815338135, 3.1948041915893555, 4.062207221984863, 4.429303169250488, 2.7225871086120605, 4.202062606811523, 5.5866594314575195, 4.0868754386901855, 4.770808219909668, 4.441376686096191, 5.832900047302246, 6.123888969421387, 5.042385101318359, 3.4883439540863037, 5.646781921386719, 3.881054162979126, 3.5732789039611816, 2.675900936126709, 4.474611282348633, 3.393949270248413], 'val_acc': [0.1875, 0.1875, 0.3125, 0.25, 0.1875, 0.4375, 0.21875, 0.34375, 0.25, 0.375, 0.25, 0.3125, 0.21875, 0.53125, 0.40625, 0.5, 0.4375, 0.3125, 0.4375, 0.375, 0.4375, 0.3125, 0.3125, 0.46875, 0.46875, 0.4375, 0.34375, 0.28125, 0.34375, 0.375, 0.25, 0.4375, 0.40625, 0.40625, 0.25, 0.59375, 0.4375, 0.375, 0.4375, 0.34375, 0.40625, 0.3125, 0.40625, 0.375, 0.375, 0.375, 0.375, 0.40625, 0.375, 0.5625, 0.34375, 0.375, 0.34375, 0.4375, 0.5, 0.4375, 0.4375, 0.53125, 0.40625, 0.34375, 0.4375, 0.46875, 0.375, 0.375, 0.21875, 0.40625, 0.21875, 0.28125, 0.6153846383094788, 0.375, 0.46875, 0.40625, 0.46875, 0.375, 0.3125, 0.5625, 0.34375, 0.34375, 0.375, 0.59375, 0.40625, 0.4375, 0.46875, 0.21875, 0.5, 0.375, 0.28125, 0.375, 0.4375, 0.34375, 0.25, 0.15625, 0.1875, 0.53125, 0.40625, 0.53125, 0.4375, 0.59375, 0.34375, 0.34375], 'loss': [4.043189524704343, 3.904949864229804, 3.728587940296606, 3.585475546370477, 3.3961831896224655, 3.1846000522227467, 3.0087670270888753, 2.829178373271999, 2.6724904582983595, 2.551819732206614, 2.416864870628902, 2.3232247698951034, 2.179589454338612, 2.144047665410403, 2.020427248449251, 1.9292288083292228, 1.8571064441264251, 1.7760577147567742, 1.7049942009852275, 1.6805645768781348, 1.6096283525024615, 1.5292109889954884, 1.518817827087946, 1.4426144723988952, 1.4136361089847256, 1.381827161035945, 1.3467683070784162, 1.2834543052161744, 1.2432164687766138, 1.2431322029947982, 1.2385965192843844, 1.1894650732354473, 1.1338859984097995, 1.1040223708521733, 1.102327008943677, 1.064406594315574, 1.0719712957173875, 1.0586057386889889, 1.0019630416436813, 0.9775675097904444, 0.997928144881736, 0.9423311316874208, 0.9206998820123765, 0.9370765673942683, 0.8680855691447014, 0.9013137496510438, 0.8306775537125484, 0.8520551498106669, 0.841640803717757, 0.8168713435808368, 0.7994242843014644, 0.8042006565028976, 0.8086708903622025, 0.795676726810098, 0.7670031299172608, 0.7751499540008838, 0.7304322067986515, 0.7438420846963384, 0.7086906430293266, 0.7267062669375168, 0.6989375321081602, 0.669125519951269, 0.6614433903968624, 0.6721076307768641, 0.6807035537760447, 0.6618476880836892, 0.6759665742829375, 0.6544587264985626, 0.6446653783293259, 0.6132978363879645, 0.6664776462348854, 0.6388033609270459, 0.6218370443302721, 0.6244635203166456, 0.5775490741834912, 0.5818770272351008, 0.5829437677380498, 0.6068892578494861, 0.5787711765552979, 0.575637280434813, 0.565372576597418, 0.5763417080934106, 0.5843262563732666, 0.573249950340599, 0.544568855168685, 0.5870598361834684, 0.5436081021187524, 0.5385011408893701, 0.5285024402571276, 0.5465881076166162, 0.5412527061656107, 0.5104807784820846, 0.5349528586268284, 0.5669763877049289, 0.5198862692479621, 0.5170029906288411, 0.5033786970999872, 0.5230075817789832, 0.5016691014153071, 0.5199945199163378], 'acc': [0.14012738855260812, 0.1547534796188507, 0.188016041529772, 0.20842179759728738, 0.24593064406902954, 0.28155225293904607, 0.30702995991026294, 0.3438310922668576, 0.3730832743852817, 0.39384288757188785, 0.41873083277872414, 0.4457419202923353, 0.4721632460696879, 0.47617362587624606, 0.5054258079806092, 0.5224109459637639, 0.5359754659117717, 0.5450577967204584, 0.5714791223923534, 0.5764331211034743, 0.5881104033689055, 0.6039160178865738, 0.6108752063884857, 0.6246756310169358, 0.6322245812691673, 0.6455531966070376, 0.6468506723986844, 0.66489738144383, 0.677518282599763, 0.6736258552388836, 0.6769285209197485, 0.6837697570744087, 0.6915546119086555, 0.7029959895780103, 0.7062986553854244, 0.7147912243453645, 0.7172682235954674, 0.7179759377774048, 0.72965322009908, 0.7311866005992912, 0.7298891248779494, 0.7401509789904211, 0.754069355938001, 0.7485255957015367, 0.7609105920645391, 0.7502948809243734, 0.7735314933048383, 0.7645671148293421, 0.7704647322903548, 0.7773059683184659, 0.777659825388343, 0.7768341590278861, 0.7767162066946954, 0.7809624910973298, 0.7903986790040158, 0.7915782024624719, 0.7970040104219897, 0.794762915711719, 0.8016041519788674, 0.7966501533802345, 0.8044350082847863, 0.8168200046477888, 0.8187072422038162, 0.8137532437176714, 0.8135173389528629, 0.8165840999392244, 0.8112762443269584, 0.8244869073316381, 0.8224817173158709, 0.835102618570231, 0.8170559093282312, 0.8196508609677688, 0.8271998113184275, 0.8254305261096518, 0.8406463787785733, 0.838759141349095, 0.8360462373341837, 0.8343949045148428, 0.8417079499319607, 0.841589997570648, 0.8446567586976196, 0.8368719036665185, 0.8366359990985642, 0.8418259023635785, 0.8461901391978308, 0.8373437131820746, 0.8467799009340893, 0.8504364237129534, 0.8560981363810355, 0.8468978531829139, 0.8503184712532135, 0.8557442793252193, 0.8486671384901167, 0.8460721867521519, 0.857867421463262, 0.8570417550606221, 0.8569238027977364, 0.847723519726164, 0.8611700872144319, 0.8577494692425593]}\n"
          ],
          "name": "stdout"
        }
      ]
    },
    {
      "cell_type": "markdown",
      "metadata": {
        "id": "4O-Tr7zwz_9a",
        "colab_type": "text"
      },
      "source": [
        "### Visualizing Class-Wise Accuracy"
      ]
    },
    {
      "cell_type": "code",
      "metadata": {
        "id": "kb3WFgKczO1y",
        "colab_type": "code",
        "colab": {}
      },
      "source": [
        "# getting the class labels for the model\n",
        "classes = train_gen.class_indices"
      ],
      "execution_count": 0,
      "outputs": []
    },
    {
      "cell_type": "code",
      "metadata": {
        "id": "1DIvGliF4qts",
        "colab_type": "code",
        "colab": {}
      },
      "source": [
        "# making wrapper folders in order to evaluate class-wise accuracy\n",
        "# for each pokemon in the dataset\n",
        "path = 'original_data_clean/validation'\n",
        "for pokemon in os.listdir(path):\n",
        "  if pokemon[0] != '.':\n",
        "\n",
        "    # creating a wrapper folder in the directory\n",
        "    wrapper_dir = os.path.join(path, \"wrapper_{}\".format(pokemon))\n",
        "    os.mkdir(wrapper_dir)\n",
        "\n",
        "    # moving the current folder to inside the wrapper folder\n",
        "    cur_dir = os.path.join(path, pokemon)\n",
        "    new_dir = os.path.join(wrapper_dir, pokemon)\n",
        "    os.rename(cur_dir, new_dir)"
      ],
      "execution_count": 0,
      "outputs": []
    },
    {
      "cell_type": "code",
      "metadata": {
        "id": "SsVUz3n1tHPB",
        "colab_type": "code",
        "outputId": "a7ee3883-ecca-4292-dcd6-e87aaef26255",
        "colab": {
          "base_uri": "https://localhost:8080/",
          "height": 1000
        }
      },
      "source": [
        "# evaluating class-wise accuracy\n",
        "accuracy = {}\n",
        "\n",
        "# for each pokemon in the directory\n",
        "for pokemon in os.listdir(path):\n",
        "  if pokemon[0] != '.':\n",
        "\n",
        "    # creating a data generator for just that class\n",
        "    test_gen = test_datagen.flow_from_directory(path + '/{}'.format(pokemon),\n",
        "                                            target_size=(224, 224),\n",
        "                                            color_mode = \"rgb\",\n",
        "                                            batch_size=32,\n",
        "                                            class_mode='categorical', \n",
        "                                            shuffle=True, seed=333)\n",
        "    \n",
        "    # getting the output of the model on that class\n",
        "    output = model.predict_generator(test_gen, workers=4, \n",
        "                                     use_multiprocessing=True, verbose=1)\n",
        "    \n",
        "    # getting prediction from class outputs\n",
        "    preds = np.argmax(output, axis=1)\n",
        "\n",
        "    # computing number of correct predictions\n",
        "    pokemon_name = pokemon.replace(\"wrapper_\", \"\")\n",
        "    correct = np.count_nonzero(preds == classes[pokemon_name])\n",
        "\n",
        "    # calculating accuracy as number of correct predictions/ total predictions\n",
        "    acc = correct / np.size(preds)\n",
        "\n",
        "    # saving accuracy in the dictionary\n",
        "    accuracy[pokemon] = acc\n",
        "\n",
        "    # printing results\n",
        "    print(\"{}: {}. Correct = {}, Total = {}\".format(pokemon, acc, correct, \n",
        "                                                    np.size(preds)))\n",
        "\n",
        "    \n",
        "\n"
      ],
      "execution_count": 0,
      "outputs": [
        {
          "output_type": "stream",
          "text": [
            "Found 13 images belonging to 1 classes.\n",
            "1/1 [==============================] - 0s 283ms/step\n",
            "wrapper_Nidorino: 0.38461538461538464. Correct = 5, Total = 13\n",
            "Found 13 images belonging to 1 classes.\n",
            "1/1 [==============================] - 1s 720ms/step\n",
            "wrapper_Poliwhirl: 0.23076923076923078. Correct = 3, Total = 13\n",
            "Found 11 images belonging to 1 classes.\n",
            "1/1 [==============================] - 0s 280ms/step\n",
            "wrapper_Charizard: 0.36363636363636365. Correct = 4, Total = 11\n",
            "Found 14 images belonging to 1 classes.\n",
            "1/1 [==============================] - 0s 320ms/step\n",
            "wrapper_Nidoqueen: 0.14285714285714285. Correct = 2, Total = 14\n",
            "Found 12 images belonging to 1 classes.\n",
            "1/1 [==============================] - 0s 318ms/step\n",
            "wrapper_Rhydon: 0.4166666666666667. Correct = 5, Total = 12\n",
            "Found 14 images belonging to 1 classes.\n",
            "1/1 [==============================] - 0s 345ms/step\n",
            "wrapper_Lickitung: 0.5714285714285714. Correct = 8, Total = 14\n",
            "Found 12 images belonging to 1 classes.\n",
            "1/1 [==============================] - 0s 316ms/step\n",
            "wrapper_Nidorina: 0.4166666666666667. Correct = 5, Total = 12\n",
            "Found 13 images belonging to 1 classes.\n",
            "1/1 [==============================] - 0s 369ms/step\n",
            "wrapper_Dragonite: 0.23076923076923078. Correct = 3, Total = 13\n",
            "Found 13 images belonging to 1 classes.\n",
            "1/1 [==============================] - 0s 415ms/step\n",
            "wrapper_Farfetchd: 0.46153846153846156. Correct = 6, Total = 13\n",
            "Found 13 images belonging to 1 classes.\n",
            "1/1 [==============================] - 0s 335ms/step\n",
            "wrapper_Venomoth: 0.46153846153846156. Correct = 6, Total = 13\n",
            "Found 11 images belonging to 1 classes.\n",
            "1/1 [==============================] - 0s 235ms/step\n",
            "wrapper_Paras: 0.2727272727272727. Correct = 3, Total = 11\n",
            "Found 13 images belonging to 1 classes.\n",
            "1/1 [==============================] - 0s 313ms/step\n",
            "wrapper_Arbok: 0.46153846153846156. Correct = 6, Total = 13\n",
            "Found 22 images belonging to 1 classes.\n",
            "1/1 [==============================] - 1s 518ms/step\n",
            "wrapper_Dratini: 0.5454545454545454. Correct = 12, Total = 22\n",
            "Found 13 images belonging to 1 classes.\n",
            "1/1 [==============================] - 0s 292ms/step\n",
            "wrapper_Hitmonlee: 0.46153846153846156. Correct = 6, Total = 13\n",
            "Found 12 images belonging to 1 classes.\n",
            "1/1 [==============================] - 0s 301ms/step\n",
            "wrapper_Exeggcute: 0.25. Correct = 3, Total = 12\n",
            "Found 14 images belonging to 1 classes.\n",
            "1/1 [==============================] - 0s 394ms/step\n",
            "wrapper_Mew: 0.35714285714285715. Correct = 5, Total = 14\n",
            "Found 12 images belonging to 1 classes.\n",
            "1/1 [==============================] - 0s 349ms/step\n",
            "wrapper_Cubone: 0.0. Correct = 0, Total = 12\n",
            "Found 12 images belonging to 1 classes.\n",
            "1/1 [==============================] - 0s 378ms/step\n",
            "wrapper_Jynx: 0.5. Correct = 6, Total = 12\n",
            "Found 12 images belonging to 1 classes.\n",
            "1/1 [==============================] - 0s 433ms/step\n",
            "wrapper_MrMime: 0.4166666666666667. Correct = 5, Total = 12\n",
            "Found 13 images belonging to 1 classes.\n",
            "1/1 [==============================] - 0s 316ms/step\n",
            "wrapper_Slowbro: 0.07692307692307693. Correct = 1, Total = 13\n",
            "Found 14 images belonging to 1 classes.\n",
            "1/1 [==============================] - 0s 304ms/step\n",
            "wrapper_Dewgong: 0.14285714285714285. Correct = 2, Total = 14\n",
            "Found 13 images belonging to 1 classes.\n",
            "1/1 [==============================] - 0s 294ms/step\n",
            "wrapper_Golem: 0.46153846153846156. Correct = 6, Total = 13\n",
            "Found 11 images belonging to 1 classes.\n",
            "1/1 [==============================] - 0s 268ms/step\n",
            "wrapper_Ekans: 0.2727272727272727. Correct = 3, Total = 11\n",
            "Found 10 images belonging to 1 classes.\n",
            "1/1 [==============================] - 0s 267ms/step\n",
            "wrapper_Caterpie: 0.3. Correct = 3, Total = 10\n",
            "Found 13 images belonging to 1 classes.\n",
            "1/1 [==============================] - 1s 530ms/step\n",
            "wrapper_Grimer: 0.0. Correct = 0, Total = 13\n",
            "Found 13 images belonging to 1 classes.\n",
            "1/1 [==============================] - 0s 307ms/step\n",
            "wrapper_Tangela: 0.38461538461538464. Correct = 5, Total = 13\n",
            "Found 14 images belonging to 1 classes.\n",
            "1/1 [==============================] - 0s 388ms/step\n",
            "wrapper_Nidoking: 0.14285714285714285. Correct = 2, Total = 14\n",
            "Found 14 images belonging to 1 classes.\n",
            "1/1 [==============================] - 2s 2s/step\n",
            "wrapper_Kakuna: 0.5. Correct = 7, Total = 14\n",
            "Found 13 images belonging to 1 classes.\n",
            "1/1 [==============================] - 3s 3s/step\n",
            "wrapper_Wartortle: 0.5384615384615384. Correct = 7, Total = 13\n",
            "Found 11 images belonging to 1 classes.\n",
            "1/1 [==============================] - 5s 5s/step\n",
            "wrapper_Electabuzz: 0.7272727272727273. Correct = 8, Total = 11\n",
            "Found 15 images belonging to 1 classes.\n",
            "1/1 [==============================] - 8s 8s/step\n",
            "wrapper_Pidgey: 0.26666666666666666. Correct = 4, Total = 15\n",
            "Found 14 images belonging to 1 classes.\n",
            "1/1 [==============================] - 7s 7s/step\n",
            "wrapper_Tauros: 0.6428571428571429. Correct = 9, Total = 14\n",
            "Found 32 images belonging to 1 classes.\n",
            "1/1 [==============================] - 10s 10s/step\n",
            "wrapper_Psyduck: 0.59375. Correct = 19, Total = 32\n",
            "Found 13 images belonging to 1 classes.\n",
            "1/1 [==============================] - 6s 6s/step\n",
            "wrapper_Dodrio: 0.38461538461538464. Correct = 5, Total = 13\n",
            "Found 58 images belonging to 1 classes.\n",
            "2/2 [==============================] - 14s 7s/step\n",
            "wrapper_Bulbasaur: 0.7758620689655172. Correct = 45, Total = 58\n",
            "Found 14 images belonging to 1 classes.\n",
            "1/1 [==============================] - 7s 7s/step\n",
            "wrapper_Exeggutor: 0.5714285714285714. Correct = 8, Total = 14\n",
            "Found 11 images belonging to 1 classes.\n",
            "1/1 [==============================] - 4s 4s/step\n",
            "wrapper_Parasect: 0.5454545454545454. Correct = 6, Total = 11\n",
            "Found 14 images belonging to 1 classes.\n",
            "1/1 [==============================] - 6s 6s/step\n",
            "wrapper_Ponyta: 0.2857142857142857. Correct = 4, Total = 14\n",
            "Found 12 images belonging to 1 classes.\n",
            "1/1 [==============================] - 5s 5s/step\n",
            "wrapper_Persian: 0.16666666666666666. Correct = 2, Total = 12\n",
            "Found 12 images belonging to 1 classes.\n",
            "1/1 [==============================] - 6s 6s/step\n",
            "wrapper_Slowpoke: 0.08333333333333333. Correct = 1, Total = 12\n",
            "Found 14 images belonging to 1 classes.\n",
            "1/1 [==============================] - 5s 5s/step\n",
            "wrapper_Meowth: 0.35714285714285715. Correct = 5, Total = 14\n",
            "Found 14 images belonging to 1 classes.\n",
            "1/1 [==============================] - 6s 6s/step\n",
            "wrapper_Growlithe: 0.35714285714285715. Correct = 5, Total = 14\n",
            "Found 11 images belonging to 1 classes.\n",
            "1/1 [==============================] - 4s 4s/step\n",
            "wrapper_Omastar: 0.45454545454545453. Correct = 5, Total = 11\n",
            "Found 13 images belonging to 1 classes.\n",
            "1/1 [==============================] - 6s 6s/step\n",
            "wrapper_Poliwrath: 0.23076923076923078. Correct = 3, Total = 13\n",
            "Found 15 images belonging to 1 classes.\n",
            "1/1 [==============================] - 6s 6s/step\n",
            "wrapper_Lapras: 0.4. Correct = 6, Total = 15\n",
            "Found 14 images belonging to 1 classes.\n",
            "1/1 [==============================] - 6s 6s/step\n",
            "wrapper_Oddish: 0.35714285714285715. Correct = 5, Total = 14\n",
            "Found 14 images belonging to 1 classes.\n",
            "1/1 [==============================] - 6s 6s/step\n",
            "wrapper_Vulpix: 0.21428571428571427. Correct = 3, Total = 14\n",
            "Found 12 images belonging to 1 classes.\n",
            "1/1 [==============================] - 4s 4s/step\n",
            "wrapper_Geodude: 0.25. Correct = 3, Total = 12\n",
            "Found 10 images belonging to 1 classes.\n",
            "1/1 [==============================] - 5s 5s/step\n",
            "wrapper_Ditto: 0.2. Correct = 2, Total = 10\n",
            "Found 11 images belonging to 1 classes.\n",
            "1/1 [==============================] - 6s 6s/step\n",
            "wrapper_Machoke: 0.09090909090909091. Correct = 1, Total = 11\n",
            "Found 14 images belonging to 1 classes.\n",
            "1/1 [==============================] - 6s 6s/step\n",
            "wrapper_Raticate: 0.21428571428571427. Correct = 3, Total = 14\n",
            "Found 13 images belonging to 1 classes.\n",
            "1/1 [==============================] - 3s 3s/step\n",
            "wrapper_Dugtrio: 0.3076923076923077. Correct = 4, Total = 13\n",
            "Found 12 images belonging to 1 classes.\n",
            "1/1 [==============================] - 4s 4s/step\n",
            "wrapper_Tentacool: 0.4166666666666667. Correct = 5, Total = 12\n",
            "Found 13 images belonging to 1 classes.\n",
            "1/1 [==============================] - 7s 7s/step\n",
            "wrapper_Horsea: 0.07692307692307693. Correct = 1, Total = 13\n",
            "Found 11 images belonging to 1 classes.\n",
            "1/1 [==============================] - 5s 5s/step\n",
            "wrapper_Porygon: 0.36363636363636365. Correct = 4, Total = 11\n",
            "Found 20 images belonging to 1 classes.\n",
            "1/1 [==============================] - 8s 8s/step\n",
            "wrapper_Aerodactyl: 0.4. Correct = 8, Total = 20\n",
            "Found 14 images belonging to 1 classes.\n",
            "1/1 [==============================] - 5s 5s/step\n",
            "wrapper_Pidgeot: 0.14285714285714285. Correct = 2, Total = 14\n",
            "Found 13 images belonging to 1 classes.\n",
            "1/1 [==============================] - 5s 5s/step\n",
            "wrapper_Haunter: 0.38461538461538464. Correct = 5, Total = 13\n",
            "Found 13 images belonging to 1 classes.\n",
            "1/1 [==============================] - 5s 5s/step\n",
            "wrapper_Golduck: 0.38461538461538464. Correct = 5, Total = 13\n",
            "Found 14 images belonging to 1 classes.\n",
            "1/1 [==============================] - 5s 5s/step\n",
            "wrapper_Wigglytuff: 0.5. Correct = 7, Total = 14\n",
            "Found 14 images belonging to 1 classes.\n",
            "1/1 [==============================] - 5s 5s/step\n",
            "wrapper_Kabutops: 0.35714285714285715. Correct = 5, Total = 14\n",
            "Found 13 images belonging to 1 classes.\n",
            "1/1 [==============================] - 4s 4s/step\n",
            "wrapper_Koffing: 0.38461538461538464. Correct = 5, Total = 13\n",
            "Found 11 images belonging to 1 classes.\n",
            "1/1 [==============================] - 4s 4s/step\n",
            "wrapper_Machop: 0.18181818181818182. Correct = 2, Total = 11\n",
            "Found 13 images belonging to 1 classes.\n",
            "1/1 [==============================] - 6s 6s/step\n",
            "wrapper_Moltres: 0.23076923076923078. Correct = 3, Total = 13\n",
            "Found 14 images belonging to 1 classes.\n",
            "1/1 [==============================] - 4s 4s/step\n",
            "wrapper_Rhyhorn: 0.21428571428571427. Correct = 3, Total = 14\n",
            "Found 14 images belonging to 1 classes.\n",
            "1/1 [==============================] - 4s 4s/step\n",
            "wrapper_Seadra: 0.2857142857142857. Correct = 4, Total = 14\n",
            "Found 13 images belonging to 1 classes.\n",
            "1/1 [==============================] - 5s 5s/step\n",
            "wrapper_Weezing: 0.23076923076923078. Correct = 3, Total = 13\n",
            "Found 24 images belonging to 1 classes.\n",
            "1/1 [==============================] - 8s 8s/step\n",
            "wrapper_Fearow: 0.9166666666666666. Correct = 22, Total = 24\n",
            "Found 13 images belonging to 1 classes.\n",
            "1/1 [==============================] - 5s 5s/step\n",
            "wrapper_Blastoise: 0.46153846153846156. Correct = 6, Total = 13\n",
            "Found 13 images belonging to 1 classes.\n",
            "1/1 [==============================] - 6s 6s/step\n",
            "wrapper_Pidgeotto: 0.3076923076923077. Correct = 4, Total = 13\n",
            "Found 62 images belonging to 1 classes.\n"
          ],
          "name": "stdout"
        },
        {
          "output_type": "stream",
          "text": [
            "/usr/local/lib/python3.6/dist-packages/PIL/Image.py:989: UserWarning: Palette images with Transparency expressed in bytes should be converted to RGBA images\n",
            "  \"Palette images with Transparency expressed in bytes should be \"\n"
          ],
          "name": "stderr"
        },
        {
          "output_type": "stream",
          "text": [
            "2/2 [==============================] - 12s 6s/step\n",
            "wrapper_Mewtwo: 0.8387096774193549. Correct = 52, Total = 62\n",
            "Found 14 images belonging to 1 classes.\n",
            "1/1 [==============================] - 5s 5s/step\n",
            "wrapper_Golbat: 0.42857142857142855. Correct = 6, Total = 14\n",
            "Found 15 images belonging to 1 classes.\n",
            "1/1 [==============================] - 6s 6s/step\n",
            "wrapper_Raichu: 0.3333333333333333. Correct = 5, Total = 15\n",
            "Found 12 images belonging to 1 classes.\n",
            "1/1 [==============================] - 5s 5s/step\n",
            "wrapper_Kabuto: 0.4166666666666667. Correct = 5, Total = 12\n",
            "Found 13 images belonging to 1 classes.\n",
            "1/1 [==============================] - 4s 4s/step\n",
            "wrapper_Hitmonchan: 0.23076923076923078. Correct = 3, Total = 13\n",
            "Found 14 images belonging to 1 classes.\n",
            "1/1 [==============================] - 6s 6s/step\n",
            "wrapper_Electrode: 0.2857142857142857. Correct = 4, Total = 14\n",
            "Found 13 images belonging to 1 classes.\n",
            "1/1 [==============================] - 6s 6s/step\n",
            "wrapper_Metapod: 0.46153846153846156. Correct = 6, Total = 13\n",
            "Found 12 images belonging to 1 classes.\n",
            "1/1 [==============================] - 6s 6s/step\n",
            "wrapper_Magmar: 0.16666666666666666. Correct = 2, Total = 12\n",
            "Found 12 images belonging to 1 classes.\n",
            "1/1 [==============================] - 5s 5s/step\n",
            "wrapper_Starmie: 0.3333333333333333. Correct = 4, Total = 12\n",
            "Found 14 images belonging to 1 classes.\n",
            "1/1 [==============================] - 4s 4s/step\n",
            "wrapper_Butterfree: 0.2857142857142857. Correct = 4, Total = 14\n",
            "Found 11 images belonging to 1 classes.\n",
            "1/1 [==============================] - 3s 3s/step\n",
            "wrapper_Beedrill: 0.36363636363636365. Correct = 4, Total = 11\n",
            "Found 12 images belonging to 1 classes.\n",
            "1/1 [==============================] - 5s 5s/step\n",
            "wrapper_Magnemite: 0.3333333333333333. Correct = 4, Total = 12\n",
            "Found 12 images belonging to 1 classes.\n",
            "1/1 [==============================] - 6s 6s/step\n",
            "wrapper_Chansey: 0.75. Correct = 9, Total = 12\n",
            "Found 15 images belonging to 1 classes.\n",
            "1/1 [==============================] - 6s 6s/step\n",
            "wrapper_Sandslash: 0.13333333333333333. Correct = 2, Total = 15\n",
            "Found 15 images belonging to 1 classes.\n",
            "1/1 [==============================] - 7s 7s/step\n",
            "wrapper_Ninetales: 0.13333333333333333. Correct = 2, Total = 15\n",
            "Found 13 images belonging to 1 classes.\n",
            "1/1 [==============================] - 5s 5s/step\n",
            "wrapper_Kangaskhan: 0.23076923076923078. Correct = 3, Total = 13\n",
            "Found 12 images belonging to 1 classes.\n",
            "1/1 [==============================] - 5s 5s/step\n",
            "wrapper_Drowzee: 0.4166666666666667. Correct = 5, Total = 12\n",
            "Found 60 images belonging to 1 classes.\n",
            "2/2 [==============================] - 14s 7s/step\n",
            "wrapper_Charmander: 0.7333333333333333. Correct = 44, Total = 60\n",
            "Found 60 images belonging to 1 classes.\n",
            "2/2 [==============================] - 12s 6s/step\n",
            "wrapper_Pikachu: 0.8. Correct = 48, Total = 60\n",
            "Found 12 images belonging to 1 classes.\n",
            "1/1 [==============================] - 4s 4s/step\n",
            "wrapper_Venonat: 0.25. Correct = 3, Total = 12\n",
            "Found 14 images belonging to 1 classes.\n",
            "1/1 [==============================] - 6s 6s/step\n",
            "wrapper_Vaporeon: 0.5714285714285714. Correct = 8, Total = 14\n",
            "Found 12 images belonging to 1 classes.\n",
            "1/1 [==============================] - 5s 5s/step\n",
            "wrapper_Staryu: 0.3333333333333333. Correct = 4, Total = 12\n",
            "Found 56 images belonging to 1 classes.\n",
            "2/2 [==============================] - 1s 575ms/step\n",
            "wrapper_Squirtle: 0.6964285714285714. Correct = 39, Total = 56\n",
            "Found 11 images belonging to 1 classes.\n",
            "1/1 [==============================] - 3s 3s/step\n",
            "wrapper_Ivysaur: 0.5454545454545454. Correct = 6, Total = 11\n",
            "Found 13 images belonging to 1 classes.\n",
            "1/1 [==============================] - 4s 4s/step\n",
            "wrapper_Krabby: 0.23076923076923078. Correct = 3, Total = 13\n",
            "Found 11 images belonging to 1 classes.\n",
            "1/1 [==============================] - 5s 5s/step\n",
            "wrapper_Victreebel: 0.18181818181818182. Correct = 2, Total = 11\n",
            "Found 13 images belonging to 1 classes.\n",
            "1/1 [==============================] - 5s 5s/step\n",
            "wrapper_Dragonair: 0.46153846153846156. Correct = 6, Total = 13\n",
            "Found 12 images belonging to 1 classes.\n",
            "1/1 [==============================] - 6s 6s/step\n",
            "wrapper_Gengar: 0.4166666666666667. Correct = 5, Total = 12\n",
            "Found 13 images belonging to 1 classes.\n",
            "1/1 [==============================] - 5s 5s/step\n",
            "wrapper_Voltorb: 0.3076923076923077. Correct = 4, Total = 13\n",
            "Found 12 images belonging to 1 classes.\n",
            "1/1 [==============================] - 5s 5s/step\n",
            "wrapper_Cloyster: 0.4166666666666667. Correct = 5, Total = 12\n",
            "Found 13 images belonging to 1 classes.\n",
            "1/1 [==============================] - 4s 4s/step\n",
            "wrapper_Onix: 0.07692307692307693. Correct = 1, Total = 13\n",
            "Found 11 images belonging to 1 classes.\n",
            "1/1 [==============================] - 3s 3s/step\n",
            "wrapper_Weepinbell: 0.0. Correct = 0, Total = 11\n",
            "Found 10 images belonging to 1 classes.\n",
            "1/1 [==============================] - 3s 3s/step\n",
            "wrapper_Gastly: 0.7. Correct = 7, Total = 10\n",
            "Found 15 images belonging to 1 classes.\n",
            "1/1 [==============================] - 5s 5s/step\n",
            "wrapper_Mankey: 0.3333333333333333. Correct = 5, Total = 15\n",
            "Found 14 images belonging to 1 classes.\n",
            "1/1 [==============================] - 5s 5s/step\n",
            "wrapper_Rattata: 0.5714285714285714. Correct = 8, Total = 14\n",
            "Found 11 images belonging to 1 classes.\n",
            "1/1 [==============================] - 6s 6s/step\n",
            "wrapper_Diglett: 0.09090909090909091. Correct = 1, Total = 11\n",
            "Found 14 images belonging to 1 classes.\n",
            "1/1 [==============================] - 4s 4s/step\n",
            "wrapper_Primeape: 0.14285714285714285. Correct = 2, Total = 14\n",
            "Found 14 images belonging to 1 classes.\n",
            "1/1 [==============================] - 6s 6s/step\n",
            "wrapper_Scyther: 0.2857142857142857. Correct = 4, Total = 14\n",
            "Found 14 images belonging to 1 classes.\n",
            "1/1 [==============================] - 5s 5s/step\n",
            "wrapper_Snorlax: 0.5714285714285714. Correct = 8, Total = 14\n",
            "Found 14 images belonging to 1 classes.\n",
            "1/1 [==============================] - 6s 6s/step\n",
            "wrapper_Sandshrew: 0.2857142857142857. Correct = 4, Total = 14\n",
            "Found 14 images belonging to 1 classes.\n",
            "1/1 [==============================] - 6s 6s/step\n",
            "wrapper_Marowak: 0.07142857142857142. Correct = 1, Total = 14\n",
            "Found 12 images belonging to 1 classes.\n",
            "1/1 [==============================] - 6s 6s/step\n",
            "wrapper_Articuno: 0.25. Correct = 3, Total = 12\n",
            "Found 12 images belonging to 1 classes.\n",
            "1/1 [==============================] - 5s 5s/step\n",
            "wrapper_Gloom: 0.4166666666666667. Correct = 5, Total = 12\n",
            "Found 26 images belonging to 1 classes.\n",
            "1/1 [==============================] - 9s 9s/step\n",
            "wrapper_Spearow: 0.8846153846153846. Correct = 23, Total = 26\n",
            "Found 12 images belonging to 1 classes.\n",
            "1/1 [==============================] - 5s 5s/step\n",
            "wrapper_Clefairy: 0.5. Correct = 6, Total = 12\n",
            "Found 13 images belonging to 1 classes.\n",
            "1/1 [==============================] - 6s 6s/step\n",
            "wrapper_Charmeleon: 0.3076923076923077. Correct = 4, Total = 13\n",
            "Found 13 images belonging to 1 classes.\n",
            "1/1 [==============================] - 6s 6s/step\n",
            "wrapper_Arcanine: 0.46153846153846156. Correct = 6, Total = 13\n",
            "Found 11 images belonging to 1 classes.\n",
            "1/1 [==============================] - 3s 3s/step\n",
            "wrapper_Tentacruel: 0.0. Correct = 0, Total = 11\n",
            "Found 14 images belonging to 1 classes.\n",
            "1/1 [==============================] - 6s 6s/step\n",
            "wrapper_Vileplume: 0.35714285714285715. Correct = 5, Total = 14\n",
            "Found 12 images belonging to 1 classes.\n",
            "1/1 [==============================] - 6s 6s/step\n",
            "wrapper_Weedle: 0.16666666666666666. Correct = 2, Total = 12\n",
            "Found 14 images belonging to 1 classes.\n",
            "1/1 [==============================] - 5s 5s/step\n",
            "wrapper_Venusaur: 0.5. Correct = 7, Total = 14\n",
            "Found 12 images belonging to 1 classes.\n",
            "1/1 [==============================] - 4s 4s/step\n",
            "wrapper_Goldeen: 0.16666666666666666. Correct = 2, Total = 12\n",
            "Found 15 images belonging to 1 classes.\n",
            "1/1 [==============================] - 6s 6s/step\n",
            "wrapper_Muk: 0.06666666666666667. Correct = 1, Total = 15\n",
            "Found 13 images belonging to 1 classes.\n",
            "1/1 [==============================] - 5s 5s/step\n",
            "wrapper_Pinsir: 0.38461538461538464. Correct = 5, Total = 13\n",
            "Found 10 images belonging to 1 classes.\n",
            "1/1 [==============================] - 4s 4s/step\n",
            "wrapper_Doduo: 0.4. Correct = 4, Total = 10\n",
            "Found 12 images belonging to 1 classes.\n",
            "1/1 [==============================] - 4s 4s/step\n",
            "wrapper_Magikarp: 0.08333333333333333. Correct = 1, Total = 12\n",
            "Found 13 images belonging to 1 classes.\n",
            "1/1 [==============================] - 6s 6s/step\n",
            "wrapper_Seaking: 0.46153846153846156. Correct = 6, Total = 13\n",
            "Found 13 images belonging to 1 classes.\n",
            "1/1 [==============================] - 6s 6s/step\n",
            "wrapper_Jigglypuff: 0.15384615384615385. Correct = 2, Total = 13\n",
            "Found 12 images belonging to 1 classes.\n",
            "1/1 [==============================] - 3s 3s/step\n",
            "wrapper_Flareon: 0.25. Correct = 3, Total = 12\n",
            "Found 14 images belonging to 1 classes.\n",
            "1/1 [==============================] - 4s 4s/step\n",
            "wrapper_Machamp: 0.2857142857142857. Correct = 4, Total = 14\n",
            "Found 17 images belonging to 1 classes.\n",
            "1/1 [==============================] - 8s 8s/step\n",
            "wrapper_Rapidash: 0.23529411764705882. Correct = 4, Total = 17\n",
            "Found 13 images belonging to 1 classes.\n",
            "1/1 [==============================] - 4s 4s/step\n",
            "wrapper_Poliwag: 0.23076923076923078. Correct = 3, Total = 13\n",
            "Found 14 images belonging to 1 classes.\n",
            "1/1 [==============================] - 5s 5s/step\n",
            "wrapper_Gyarados: 0.5. Correct = 7, Total = 14\n",
            "Found 10 images belonging to 1 classes.\n",
            "1/1 [==============================] - 3s 3s/step\n",
            "wrapper_Zubat: 0.2. Correct = 2, Total = 10\n",
            "Found 11 images belonging to 1 classes.\n",
            "1/1 [==============================] - 5s 5s/step\n",
            "wrapper_Graveler: 0.2727272727272727. Correct = 3, Total = 11\n",
            "Found 14 images belonging to 1 classes.\n",
            "1/1 [==============================] - 6s 6s/step\n",
            "wrapper_Kingler: 0.5. Correct = 7, Total = 14\n",
            "Found 12 images belonging to 1 classes.\n",
            "1/1 [==============================] - 5s 5s/step\n",
            "wrapper_Magneton: 0.3333333333333333. Correct = 4, Total = 12\n",
            "Found 10 images belonging to 1 classes.\n",
            "1/1 [==============================] - 3s 3s/step\n",
            "wrapper_Alakazam: 0.2. Correct = 2, Total = 10\n",
            "Found 10 images belonging to 1 classes.\n",
            "1/1 [==============================] - 4s 4s/step\n",
            "wrapper_Clefable: 0.6. Correct = 6, Total = 10\n",
            "Found 13 images belonging to 1 classes.\n",
            "1/1 [==============================] - 5s 5s/step\n",
            "wrapper_Seel: 0.38461538461538464. Correct = 5, Total = 13\n",
            "Found 13 images belonging to 1 classes.\n",
            "1/1 [==============================] - 5s 5s/step\n",
            "wrapper_Hypno: 0.3076923076923077. Correct = 4, Total = 13\n",
            "Found 9 images belonging to 1 classes.\n",
            "1/1 [==============================] - 3s 3s/step\n",
            "wrapper_Eevee: 0.3333333333333333. Correct = 3, Total = 9\n",
            "Found 11 images belonging to 1 classes.\n",
            "1/1 [==============================] - 5s 5s/step\n",
            "wrapper_Bellsprout: 0.45454545454545453. Correct = 5, Total = 11\n",
            "Found 13 images belonging to 1 classes.\n",
            "1/1 [==============================] - 7s 7s/step\n",
            "wrapper_Kadabra: 0.38461538461538464. Correct = 5, Total = 13\n",
            "Found 11 images belonging to 1 classes.\n",
            "1/1 [==============================] - 3s 3s/step\n",
            "wrapper_Omanyte: 0.18181818181818182. Correct = 2, Total = 11\n",
            "Found 13 images belonging to 1 classes.\n",
            "1/1 [==============================] - 5s 5s/step\n",
            "wrapper_Jolteon: 0.38461538461538464. Correct = 5, Total = 13\n",
            "Found 17 images belonging to 1 classes.\n",
            "1/1 [==============================] - 6s 6s/step\n",
            "wrapper_Shellder: 0.6470588235294118. Correct = 11, Total = 17\n",
            "Found 12 images belonging to 1 classes.\n",
            "1/1 [==============================] - 7s 7s/step\n",
            "wrapper_Zapdos: 0.0. Correct = 0, Total = 12\n",
            "Found 9 images belonging to 1 classes.\n",
            "1/1 [==============================] - 0s 369ms/step\n",
            "wrapper_Abra: 0.2222222222222222. Correct = 2, Total = 9\n"
          ],
          "name": "stdout"
        }
      ]
    },
    {
      "cell_type": "code",
      "metadata": {
        "id": "7aplv16mIOxk",
        "colab_type": "code",
        "outputId": "43cd5634-a0d2-49da-fa02-0d572b7709a1",
        "colab": {
          "base_uri": "https://localhost:8080/",
          "height": 54
        }
      },
      "source": [
        "print(accuracy.items())"
      ],
      "execution_count": 0,
      "outputs": [
        {
          "output_type": "stream",
          "text": [
            "dict_items([('wrapper_Nidorino', 0.38461538461538464), ('wrapper_Poliwhirl', 0.23076923076923078), ('wrapper_Charizard', 0.36363636363636365), ('wrapper_Nidoqueen', 0.14285714285714285), ('wrapper_Rhydon', 0.4166666666666667), ('wrapper_Lickitung', 0.5714285714285714), ('wrapper_Nidorina', 0.4166666666666667), ('wrapper_Dragonite', 0.23076923076923078), ('wrapper_Farfetchd', 0.46153846153846156), ('wrapper_Venomoth', 0.46153846153846156), ('wrapper_Paras', 0.2727272727272727), ('wrapper_Arbok', 0.46153846153846156), ('wrapper_Dratini', 0.5454545454545454), ('wrapper_Hitmonlee', 0.46153846153846156), ('wrapper_Exeggcute', 0.25), ('wrapper_Mew', 0.35714285714285715), ('wrapper_Cubone', 0.0), ('wrapper_Jynx', 0.5), ('wrapper_MrMime', 0.4166666666666667), ('wrapper_Slowbro', 0.07692307692307693), ('wrapper_Dewgong', 0.14285714285714285), ('wrapper_Golem', 0.46153846153846156), ('wrapper_Ekans', 0.2727272727272727), ('wrapper_Caterpie', 0.3), ('wrapper_Grimer', 0.0), ('wrapper_Tangela', 0.38461538461538464), ('wrapper_Nidoking', 0.14285714285714285), ('wrapper_Kakuna', 0.5), ('wrapper_Wartortle', 0.5384615384615384), ('wrapper_Electabuzz', 0.7272727272727273), ('wrapper_Pidgey', 0.26666666666666666), ('wrapper_Tauros', 0.6428571428571429), ('wrapper_Psyduck', 0.59375), ('wrapper_Dodrio', 0.38461538461538464), ('wrapper_Bulbasaur', 0.7758620689655172), ('wrapper_Exeggutor', 0.5714285714285714), ('wrapper_Parasect', 0.5454545454545454), ('wrapper_Ponyta', 0.2857142857142857), ('wrapper_Persian', 0.16666666666666666), ('wrapper_Slowpoke', 0.08333333333333333), ('wrapper_Meowth', 0.35714285714285715), ('wrapper_Growlithe', 0.35714285714285715), ('wrapper_Omastar', 0.45454545454545453), ('wrapper_Poliwrath', 0.23076923076923078), ('wrapper_Lapras', 0.4), ('wrapper_Oddish', 0.35714285714285715), ('wrapper_Vulpix', 0.21428571428571427), ('wrapper_Geodude', 0.25), ('wrapper_Ditto', 0.2), ('wrapper_Machoke', 0.09090909090909091), ('wrapper_Raticate', 0.21428571428571427), ('wrapper_Dugtrio', 0.3076923076923077), ('wrapper_Tentacool', 0.4166666666666667), ('wrapper_Horsea', 0.07692307692307693), ('wrapper_Porygon', 0.36363636363636365), ('wrapper_Aerodactyl', 0.4), ('wrapper_Pidgeot', 0.14285714285714285), ('wrapper_Haunter', 0.38461538461538464), ('wrapper_Golduck', 0.38461538461538464), ('wrapper_Wigglytuff', 0.5), ('wrapper_Kabutops', 0.35714285714285715), ('wrapper_Koffing', 0.38461538461538464), ('wrapper_Machop', 0.18181818181818182), ('wrapper_Moltres', 0.23076923076923078), ('wrapper_Rhyhorn', 0.21428571428571427), ('wrapper_Seadra', 0.2857142857142857), ('wrapper_Weezing', 0.23076923076923078), ('wrapper_Fearow', 0.9166666666666666), ('wrapper_Blastoise', 0.46153846153846156), ('wrapper_Pidgeotto', 0.3076923076923077), ('wrapper_Mewtwo', 0.8387096774193549), ('wrapper_Golbat', 0.42857142857142855), ('wrapper_Raichu', 0.3333333333333333), ('wrapper_Kabuto', 0.4166666666666667), ('wrapper_Hitmonchan', 0.23076923076923078), ('wrapper_Electrode', 0.2857142857142857), ('wrapper_Metapod', 0.46153846153846156), ('wrapper_Magmar', 0.16666666666666666), ('wrapper_Starmie', 0.3333333333333333), ('wrapper_Butterfree', 0.2857142857142857), ('wrapper_Beedrill', 0.36363636363636365), ('wrapper_Magnemite', 0.3333333333333333), ('wrapper_Chansey', 0.75), ('wrapper_Sandslash', 0.13333333333333333), ('wrapper_Ninetales', 0.13333333333333333), ('wrapper_Kangaskhan', 0.23076923076923078), ('wrapper_Drowzee', 0.4166666666666667), ('wrapper_Charmander', 0.7333333333333333), ('wrapper_Pikachu', 0.8), ('wrapper_Venonat', 0.25), ('wrapper_Vaporeon', 0.5714285714285714), ('wrapper_Staryu', 0.3333333333333333), ('wrapper_Squirtle', 0.6964285714285714), ('wrapper_Ivysaur', 0.5454545454545454), ('wrapper_Krabby', 0.23076923076923078), ('wrapper_Victreebel', 0.18181818181818182), ('wrapper_Dragonair', 0.46153846153846156), ('wrapper_Gengar', 0.4166666666666667), ('wrapper_Voltorb', 0.3076923076923077), ('wrapper_Cloyster', 0.4166666666666667), ('wrapper_Onix', 0.07692307692307693), ('wrapper_Weepinbell', 0.0), ('wrapper_Gastly', 0.7), ('wrapper_Mankey', 0.3333333333333333), ('wrapper_Rattata', 0.5714285714285714), ('wrapper_Diglett', 0.09090909090909091), ('wrapper_Primeape', 0.14285714285714285), ('wrapper_Scyther', 0.2857142857142857), ('wrapper_Snorlax', 0.5714285714285714), ('wrapper_Sandshrew', 0.2857142857142857), ('wrapper_Marowak', 0.07142857142857142), ('wrapper_Articuno', 0.25), ('wrapper_Gloom', 0.4166666666666667), ('wrapper_Spearow', 0.8846153846153846), ('wrapper_Clefairy', 0.5), ('wrapper_Charmeleon', 0.3076923076923077), ('wrapper_Arcanine', 0.46153846153846156), ('wrapper_Tentacruel', 0.0), ('wrapper_Vileplume', 0.35714285714285715), ('wrapper_Weedle', 0.16666666666666666), ('wrapper_Venusaur', 0.5), ('wrapper_Goldeen', 0.16666666666666666), ('wrapper_Muk', 0.06666666666666667), ('wrapper_Pinsir', 0.38461538461538464), ('wrapper_Doduo', 0.4), ('wrapper_Magikarp', 0.08333333333333333), ('wrapper_Seaking', 0.46153846153846156), ('wrapper_Jigglypuff', 0.15384615384615385), ('wrapper_Flareon', 0.25), ('wrapper_Machamp', 0.2857142857142857), ('wrapper_Rapidash', 0.23529411764705882), ('wrapper_Poliwag', 0.23076923076923078), ('wrapper_Gyarados', 0.5), ('wrapper_Zubat', 0.2), ('wrapper_Graveler', 0.2727272727272727), ('wrapper_Kingler', 0.5), ('wrapper_Magneton', 0.3333333333333333), ('wrapper_Alakazam', 0.2), ('wrapper_Clefable', 0.6), ('wrapper_Seel', 0.38461538461538464), ('wrapper_Hypno', 0.3076923076923077), ('wrapper_Eevee', 0.3333333333333333), ('wrapper_Bellsprout', 0.45454545454545453), ('wrapper_Kadabra', 0.38461538461538464), ('wrapper_Omanyte', 0.18181818181818182), ('wrapper_Jolteon', 0.38461538461538464), ('wrapper_Shellder', 0.6470588235294118), ('wrapper_Zapdos', 0.0), ('wrapper_Abra', 0.2222222222222222)])\n"
          ],
          "name": "stdout"
        }
      ]
    },
    {
      "cell_type": "code",
      "metadata": {
        "id": "ALuRqfDkvHPN",
        "colab_type": "code",
        "outputId": "4f49f5e9-e8a9-4d58-a67a-c4adbf2a16eb",
        "colab": {
          "base_uri": "https://localhost:8080/",
          "height": 85
        }
      },
      "source": [
        "np.histogram(list(accuracy.values()))"
      ],
      "execution_count": 0,
      "outputs": [
        {
          "output_type": "execute_result",
          "data": {
            "text/plain": [
              "(array([14, 15, 26, 29, 25, 21,  7,  5,  4,  3]),\n",
              " array([0.        , 0.09166667, 0.18333333, 0.275     , 0.36666667,\n",
              "        0.45833333, 0.55      , 0.64166667, 0.73333333, 0.825     ,\n",
              "        0.91666667]))"
            ]
          },
          "metadata": {
            "tags": []
          },
          "execution_count": 99
        }
      ]
    },
    {
      "cell_type": "code",
      "metadata": {
        "id": "8BnLGpZSv-Qd",
        "colab_type": "code",
        "outputId": "89d76f0e-bbab-4fed-dbe4-94b870342b5c",
        "colab": {
          "base_uri": "https://localhost:8080/",
          "height": 312
        }
      },
      "source": [
        "plt.hist(list(accuracy.values()), bins=10, histtype='bar')\n",
        "plt.xlabel(\"Class-Wise Test Accuracy Ranges\")\n",
        "plt.ylabel(\"Number of Pokemon\")\n",
        "plt.title(\"Distribution of Class-Wise Test Accuracy\")"
      ],
      "execution_count": 0,
      "outputs": [
        {
          "output_type": "execute_result",
          "data": {
            "text/plain": [
              "Text(0.5, 1.0, 'Distribution of Class-Wise Test Accuracy')"
            ]
          },
          "metadata": {
            "tags": []
          },
          "execution_count": 150
        },
        {
          "output_type": "display_data",
          "data": {
            "image/png": "[encoded data removed]",
            "text/plain": [
              "<Figure size 432x288 with 1 Axes>"
            ]
          },
          "metadata": {
            "tags": []
          }
        }
      ]
    },
    {
      "cell_type": "markdown",
      "metadata": {
        "id": "mMIY5teEH1uv",
        "colab_type": "text"
      },
      "source": [
        "### Exploring link Between Number of Training Image and Test Accuracy"
      ]
    },
    {
      "cell_type": "code",
      "metadata": {
        "id": "lvoKVYKjC4sx",
        "colab_type": "code",
        "colab": {}
      },
      "source": [
        "# creating a dictionary with number of training examples per pokemon\n",
        "counts = {}\n",
        "for pokemon in os.listdir('original_data_clean/train'):\n",
        "    if pokemon[0] != '.':\n",
        "      name = pokemon.replace(\"wrapper_\", \"\")\n",
        "      counts[name] = len(os.listdir('original_data_clean/train/{}'.format(pokemon)))"
      ],
      "execution_count": 0,
      "outputs": []
    },
    {
      "cell_type": "code",
      "metadata": {
        "id": "qUrYNSmODmeA",
        "colab_type": "code",
        "outputId": "4826bedd-1b2b-46d8-b6b8-46c934df8fc2",
        "colab": {
          "base_uri": "https://localhost:8080/",
          "height": 54
        }
      },
      "source": [
        "print(counts.items())"
      ],
      "execution_count": 0,
      "outputs": [
        {
          "output_type": "stream",
          "text": [
            "dict_items([('Nidoqueen', 51), ('Farfetchd', 51), ('Poliwhirl', 51), ('Charizard', 41), ('Nidorina', 47), ('Lickitung', 53), ('Nidorino', 50), ('Arbok', 50), ('Venomoth', 52), ('Exeggcute', 45), ('Cubone', 47), ('Dratini', 87), ('Dragonite', 49), ('Rhydon', 47), ('Hitmonlee', 52), ('Paras', 44), ('Mew', 53), ('Kakuna', 53), ('Golem', 51), ('Caterpie', 39), ('MrMime', 47), ('Grimer', 51), ('Jynx', 47), ('Slowbro', 50), ('Tangela', 50), ('Ekans', 41), ('Nidoking', 54), ('Wartortle', 48), ('Dewgong', 52), ('Parasect', 42), ('Electabuzz', 42), ('Exeggutor', 54), ('Pidgey', 59), ('Persian', 45), ('Tauros', 53), ('Dodrio', 52), ('Meowth', 56), ('Psyduck', 127), ('Ponyta', 52), ('Omastar', 45), ('Bulbasaur', 231), ('Horsea', 50), ('Slowpoke', 48), ('Oddish', 52), ('Machoke', 40), ('Poliwrath', 50), ('Growlithe', 54), ('Lapras', 56), ('Tentacool', 45), ('Geodude', 44), ('Vulpix', 54), ('Pidgeot', 52), ('Porygon', 44), ('Ditto', 39), ('Koffing', 52), ('Wigglytuff', 53), ('Dugtrio', 51), ('Machop', 42), ('Raticate', 56), ('Haunter', 50), ('Aerodactyl', 77), ('Golbat', 53), ('Moltres', 49), ('Rhyhorn', 55), ('Hitmonchan', 48), ('Blastoise', 49), ('Seadra', 53), ('Golduck', 47), ('Weezing', 50), ('Kabutops', 51), ('Pidgeotto', 50), ('Kabuto', 44), ('Magmar', 47), ('Electrode', 53), ('Fearow', 98), ('Beedrill', 42), ('Magnemite', 48), ('Metapod', 52), ('Raichu', 56), ('Mewtwo', 244), ('Ninetales', 59), ('Starmie', 47), ('Butterfree', 52), ('Staryu', 48), ('Vaporeon', 54), ('Chansey', 46), ('Kangaskhan', 50), ('Sandslash', 56), ('Ivysaur', 42), ('Venonat', 45), ('Krabby', 51), ('Drowzee', 48), ('Charmander', 236), ('Victreebel', 44), ('Pikachu', 238), ('Dragonair', 52), ('Rattata', 53), ('Gengar', 48), ('Mankey', 57), ('Cloyster', 47), ('Gastly', 40), ('Weepinbell', 40), ('Voltorb', 52), ('Squirtle', 224), ('Onix', 51), ('Diglett', 40), ('Primeape', 56), ('Charmeleon', 52), ('Spearow', 104), ('Sandshrew', 52), ('Snorlax', 55), ('Clefairy', 48), ('Articuno', 44), ('Scyther', 53), ('Marowak', 56), ('Gloom', 46), ('Tentacruel', 45), ('Goldeen', 46), ('Doduo', 38), ('Weedle', 47), ('Venusaur', 52), ('Jigglypuff', 52), ('Vileplume', 53), ('Magikarp', 47), ('Arcanine', 48), ('Flareon', 47), ('Seaking', 52), ('Muk', 56), ('Pinsir', 50), ('Machamp', 57), ('Poliwag', 51), ('Kingler', 54), ('Magneton', 46), ('Rapidash', 66), ('Abra', 33), ('Gyarados', 53), ('Clefable', 39), ('Alakazam', 39), ('Graveler', 46), ('Zubat', 39), ('Seel', 48), ('Hypno', 49), ('Omanyte', 44), ('Shellder', 64), ('Jolteon', 51), ('Kadabra', 48), ('Zapdos', 47), ('Eevee', 32), ('Bellsprout', 44)])\n"
          ],
          "name": "stdout"
        }
      ]
    },
    {
      "cell_type": "code",
      "metadata": {
        "id": "O3bPiFKfszwL",
        "colab_type": "code",
        "outputId": "00e90231-336f-4d36-9c41-471e2d1faa72",
        "colab": {
          "base_uri": "https://localhost:8080/",
          "height": 312
        }
      },
      "source": [
        "# plotting number of training examples vs accuracy\n",
        "acc, freq = [], []\n",
        "\n",
        "for pokemon in os.listdir('original_data_clean/validation'):\n",
        "  if pokemon[0] != '.':\n",
        "    name = pokemon.replace(\"wrapper_\", \"\")\n",
        "    freq.append(counts[name])\n",
        "    acc.append(accuracy[pokemon] * 100)\n",
        "\n",
        "plt.scatter(freq, acc, c='purple')\n",
        "plt.xlabel(\"Number of Training Examples\")\n",
        "plt.ylabel(\"Test Accuracy (percentage)\")\n",
        "plt.title(\"Number of Training Examples vs. Test Accuracy\")"
      ],
      "execution_count": 0,
      "outputs": [
        {
          "output_type": "execute_result",
          "data": {
            "text/plain": [
              "Text(0.5, 1.0, 'Number of Training Examples vs. Test Accuracy')"
            ]
          },
          "metadata": {
            "tags": []
          },
          "execution_count": 143
        },
        {
          "output_type": "display_data",
          "data": {
            "image/png": "[encoded data removed]",
            "text/plain": [
              "<Figure size 432x288 with 1 Axes>"
            ]
          },
          "metadata": {
            "tags": []
          }
        }
      ]
    },
    {
      "cell_type": "code",
      "metadata": {
        "id": "L7tCA7svFVkx",
        "colab_type": "code",
        "colab": {}
      },
      "source": [
        "# calculating the pearson correlation\n",
        "from scipy.stats import pearsonr"
      ],
      "execution_count": 0,
      "outputs": []
    },
    {
      "cell_type": "code",
      "metadata": {
        "id": "APGghwMyFZh2",
        "colab_type": "code",
        "outputId": "883ff254-ca01-4851-cca2-8f9ea8ef590a",
        "colab": {
          "base_uri": "https://localhost:8080/",
          "height": 34
        }
      },
      "source": [
        "pearsonr(freq, acc)"
      ],
      "execution_count": 0,
      "outputs": [
        {
          "output_type": "execute_result",
          "data": {
            "text/plain": [
              "(0.4915997596931797, 1.935458418232572e-10)"
            ]
          },
          "metadata": {
            "tags": []
          },
          "execution_count": 131
        }
      ]
    }
  ]
}